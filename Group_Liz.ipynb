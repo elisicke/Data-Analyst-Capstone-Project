{
 "cells": [
  {
   "cell_type": "code",
   "execution_count": 2,
   "metadata": {},
   "outputs": [],
   "source": [
    "import pandas as pd\n",
    "import numpy as np\n"
   ]
  },
  {
   "cell_type": "markdown",
   "metadata": {},
   "source": [
    "# Kanton"
   ]
  },
  {
   "cell_type": "code",
   "execution_count": null,
   "metadata": {},
   "outputs": [],
   "source": [
    "\n",
    "kanton = './data/plz_verzeichnis.csv'\n",
    "df_kanton = pd.read_csv(kanton, sep=';')\n",
    "#df_kanton.columns = df_cntrycd.columns.str.lower()\n",
    "display(df_kanton.shape)\n",
    "display(df_kanton.head())"
   ]
  },
  {
   "cell_type": "markdown",
   "metadata": {},
   "source": [
    "# SUBSCRIPTIONS"
   ]
  },
  {
   "cell_type": "code",
   "execution_count": 3,
   "metadata": {},
   "outputs": [],
   "source": [
    "# define the name of the csv file you want to read in\n",
    "accounts = './data/accounts.csv'\n",
    "playbacks = './data/playbacks.csv'\n",
    "subscriptions = './data/subscriptions.csv'"
   ]
  },
  {
   "cell_type": "code",
   "execution_count": 4,
   "metadata": {},
   "outputs": [
    {
     "data": {
      "text/plain": [
       "(12115, 9)"
      ]
     },
     "metadata": {},
     "output_type": "display_data"
    },
    {
     "data": {
      "text/html": [
       "<div>\n",
       "<style scoped>\n",
       "    .dataframe tbody tr th:only-of-type {\n",
       "        vertical-align: middle;\n",
       "    }\n",
       "\n",
       "    .dataframe tbody tr th {\n",
       "        vertical-align: top;\n",
       "    }\n",
       "\n",
       "    .dataframe thead th {\n",
       "        text-align: right;\n",
       "    }\n",
       "</style>\n",
       "<table border=\"1\" class=\"dataframe\">\n",
       "  <thead>\n",
       "    <tr style=\"text-align: right;\">\n",
       "      <th></th>\n",
       "      <th>subscription_key</th>\n",
       "      <th>account_key</th>\n",
       "      <th>currency</th>\n",
       "      <th>price</th>\n",
       "      <th>subscription_type</th>\n",
       "      <th>subscription_monthly</th>\n",
       "      <th>subscription_start</th>\n",
       "      <th>subscription_end</th>\n",
       "      <th>gift_subscription</th>\n",
       "    </tr>\n",
       "  </thead>\n",
       "  <tbody>\n",
       "    <tr>\n",
       "      <th>0</th>\n",
       "      <td>1b82b2308dcae546ad0194d03b9d23edd5d2781109de28...</td>\n",
       "      <td>ab1bcf2c1b8d4eb422079becc0c59b1c7db2fd009235d2...</td>\n",
       "      <td>chf</td>\n",
       "      <td>90.0</td>\n",
       "      <td>BASIC</td>\n",
       "      <td>0</td>\n",
       "      <td>2017-02-24</td>\n",
       "      <td>2021-02-23</td>\n",
       "      <td>False</td>\n",
       "    </tr>\n",
       "    <tr>\n",
       "      <th>1</th>\n",
       "      <td>4cb9f67d44d60eca0485270d73b3028143021296081847...</td>\n",
       "      <td>ee1a45a439dc6968f1cfc2b9840264deeada4c0d93f389...</td>\n",
       "      <td>chf</td>\n",
       "      <td>90.0</td>\n",
       "      <td>BASIC</td>\n",
       "      <td>0</td>\n",
       "      <td>2017-08-21</td>\n",
       "      <td>2023-08-20</td>\n",
       "      <td>False</td>\n",
       "    </tr>\n",
       "    <tr>\n",
       "      <th>2</th>\n",
       "      <td>40f9e218b70a6f482ecfcde0011305d93fa6059f624a50...</td>\n",
       "      <td>8bf8f58e615549df5f05b717b6e914da80e213edab3dba...</td>\n",
       "      <td>chf</td>\n",
       "      <td>9.0</td>\n",
       "      <td>BASIC</td>\n",
       "      <td>1</td>\n",
       "      <td>2017-09-26</td>\n",
       "      <td>2022-10-08</td>\n",
       "      <td>False</td>\n",
       "    </tr>\n",
       "    <tr>\n",
       "      <th>3</th>\n",
       "      <td>69d21e601612cc97fc7df9bd17a281879f785358d1c681...</td>\n",
       "      <td>cf914aa939499e8e18fdd9494fce5297b9dce2e1f909ea...</td>\n",
       "      <td>chf</td>\n",
       "      <td>90.0</td>\n",
       "      <td>BASIC</td>\n",
       "      <td>0</td>\n",
       "      <td>2017-09-28</td>\n",
       "      <td>2021-09-27</td>\n",
       "      <td>False</td>\n",
       "    </tr>\n",
       "    <tr>\n",
       "      <th>4</th>\n",
       "      <td>29f98a3154a679f2fe953b1f3b148ddffcb28e60fff719...</td>\n",
       "      <td>8759ab0e44c1cf688770220cf1b87efac2726baca6bfcb...</td>\n",
       "      <td>eur</td>\n",
       "      <td>11.0</td>\n",
       "      <td>STANDARD</td>\n",
       "      <td>1</td>\n",
       "      <td>2017-10-13</td>\n",
       "      <td>2021-10-12</td>\n",
       "      <td>False</td>\n",
       "    </tr>\n",
       "    <tr>\n",
       "      <th>5</th>\n",
       "      <td>f5627e4ef66f219cfbcfb507a056bf1a0629f085a46e92...</td>\n",
       "      <td>c5511d59d31159ecb87ca1d7cfb3e44a6c4a4b96e5632a...</td>\n",
       "      <td>chf</td>\n",
       "      <td>240.0</td>\n",
       "      <td>PATRON</td>\n",
       "      <td>0</td>\n",
       "      <td>2017-11-18</td>\n",
       "      <td>2020-11-17</td>\n",
       "      <td>False</td>\n",
       "    </tr>\n",
       "    <tr>\n",
       "      <th>6</th>\n",
       "      <td>8e42bc7151b4b0dd29e362b95fec4aa3b8e53c532d40ba...</td>\n",
       "      <td>7f1182ed60acb48e4a55eb54b91bca7f20c55c066d8848...</td>\n",
       "      <td>chf</td>\n",
       "      <td>150.0</td>\n",
       "      <td>STANDARD</td>\n",
       "      <td>0</td>\n",
       "      <td>2017-12-20</td>\n",
       "      <td>2021-12-19</td>\n",
       "      <td>False</td>\n",
       "    </tr>\n",
       "    <tr>\n",
       "      <th>7</th>\n",
       "      <td>9f22270608209a507f93f3a74448a78a82f9741bc36ea3...</td>\n",
       "      <td>2c2621bf34f1cc419c0868f27ffece66dc1fb4f5ec665c...</td>\n",
       "      <td>chf</td>\n",
       "      <td>9.0</td>\n",
       "      <td>BASIC</td>\n",
       "      <td>1</td>\n",
       "      <td>2017-12-21</td>\n",
       "      <td>2020-11-08</td>\n",
       "      <td>False</td>\n",
       "    </tr>\n",
       "    <tr>\n",
       "      <th>8</th>\n",
       "      <td>03411f3ad7d86f2e1df3db5a337c3025ba35159eb9b41e...</td>\n",
       "      <td>163db260041d30a58540a19312d416c9fc7cc696754108...</td>\n",
       "      <td>chf</td>\n",
       "      <td>9.0</td>\n",
       "      <td>BASIC</td>\n",
       "      <td>1</td>\n",
       "      <td>2017-12-22</td>\n",
       "      <td>2020-10-08</td>\n",
       "      <td>False</td>\n",
       "    </tr>\n",
       "    <tr>\n",
       "      <th>9</th>\n",
       "      <td>c254cee83dfc67c794b843a0ad622456cb36fdfe5143c4...</td>\n",
       "      <td>47e795383bff3d37a251be1d911ffc0a7ca6f0da8b70a4...</td>\n",
       "      <td>chf</td>\n",
       "      <td>240.0</td>\n",
       "      <td>PATRON</td>\n",
       "      <td>0</td>\n",
       "      <td>2017-12-31</td>\n",
       "      <td>2022-12-30</td>\n",
       "      <td>False</td>\n",
       "    </tr>\n",
       "  </tbody>\n",
       "</table>\n",
       "</div>"
      ],
      "text/plain": [
       "                                    subscription_key  \\\n",
       "0  1b82b2308dcae546ad0194d03b9d23edd5d2781109de28...   \n",
       "1  4cb9f67d44d60eca0485270d73b3028143021296081847...   \n",
       "2  40f9e218b70a6f482ecfcde0011305d93fa6059f624a50...   \n",
       "3  69d21e601612cc97fc7df9bd17a281879f785358d1c681...   \n",
       "4  29f98a3154a679f2fe953b1f3b148ddffcb28e60fff719...   \n",
       "5  f5627e4ef66f219cfbcfb507a056bf1a0629f085a46e92...   \n",
       "6  8e42bc7151b4b0dd29e362b95fec4aa3b8e53c532d40ba...   \n",
       "7  9f22270608209a507f93f3a74448a78a82f9741bc36ea3...   \n",
       "8  03411f3ad7d86f2e1df3db5a337c3025ba35159eb9b41e...   \n",
       "9  c254cee83dfc67c794b843a0ad622456cb36fdfe5143c4...   \n",
       "\n",
       "                                         account_key currency  price  \\\n",
       "0  ab1bcf2c1b8d4eb422079becc0c59b1c7db2fd009235d2...      chf   90.0   \n",
       "1  ee1a45a439dc6968f1cfc2b9840264deeada4c0d93f389...      chf   90.0   \n",
       "2  8bf8f58e615549df5f05b717b6e914da80e213edab3dba...      chf    9.0   \n",
       "3  cf914aa939499e8e18fdd9494fce5297b9dce2e1f909ea...      chf   90.0   \n",
       "4  8759ab0e44c1cf688770220cf1b87efac2726baca6bfcb...      eur   11.0   \n",
       "5  c5511d59d31159ecb87ca1d7cfb3e44a6c4a4b96e5632a...      chf  240.0   \n",
       "6  7f1182ed60acb48e4a55eb54b91bca7f20c55c066d8848...      chf  150.0   \n",
       "7  2c2621bf34f1cc419c0868f27ffece66dc1fb4f5ec665c...      chf    9.0   \n",
       "8  163db260041d30a58540a19312d416c9fc7cc696754108...      chf    9.0   \n",
       "9  47e795383bff3d37a251be1d911ffc0a7ca6f0da8b70a4...      chf  240.0   \n",
       "\n",
       "  subscription_type  subscription_monthly subscription_start subscription_end  \\\n",
       "0             BASIC                     0         2017-02-24       2021-02-23   \n",
       "1             BASIC                     0         2017-08-21       2023-08-20   \n",
       "2             BASIC                     1         2017-09-26       2022-10-08   \n",
       "3             BASIC                     0         2017-09-28       2021-09-27   \n",
       "4          STANDARD                     1         2017-10-13       2021-10-12   \n",
       "5            PATRON                     0         2017-11-18       2020-11-17   \n",
       "6          STANDARD                     0         2017-12-20       2021-12-19   \n",
       "7             BASIC                     1         2017-12-21       2020-11-08   \n",
       "8             BASIC                     1         2017-12-22       2020-10-08   \n",
       "9            PATRON                     0         2017-12-31       2022-12-30   \n",
       "\n",
       "   gift_subscription  \n",
       "0              False  \n",
       "1              False  \n",
       "2              False  \n",
       "3              False  \n",
       "4              False  \n",
       "5              False  \n",
       "6              False  \n",
       "7              False  \n",
       "8              False  \n",
       "9              False  "
      ]
     },
     "metadata": {},
     "output_type": "display_data"
    }
   ],
   "source": [
    "# Read subscriptions\n",
    "df_subscriptions = pd.read_csv(subscriptions)\n",
    "df_subscriptions.columns = df_subscriptions.columns.str.lower()\n",
    "\n",
    "display(df_subscriptions.shape)\n",
    "display(df_subscriptions.head(10))"
   ]
  },
  {
   "cell_type": "code",
   "execution_count": 5,
   "metadata": {},
   "outputs": [
    {
     "data": {
      "text/plain": [
       "currency  price  subscription_type\n",
       "chf       0.0    PATRON                  7\n",
       "                 BASIC                   6\n",
       "                 STANDARD                5\n",
       "          9.0    BASIC                2917\n",
       "          15.0   STANDARD             2118\n",
       "          27.0   BASIC                   1\n",
       "          67.5   STANDARD                1\n",
       "          75.0   STANDARD                2\n",
       "          82.0   BASIC                   1\n",
       "          90.0   BASIC                2533\n",
       "                 FULLACCESS              1\n",
       "                 STANDARD                1\n",
       "          102.5  PATRON                  2\n",
       "          150.0  STANDARD             1146\n",
       "          172.5  PATRON                  1\n",
       "          192.0  PATRON                  1\n",
       "          195.0  PATRON                  1\n",
       "          210.0  PATRON                  1\n",
       "          220.0  PATRON                  1\n",
       "          240.0  PATRON               1052\n",
       "eur       6.0    BASIC                   1\n",
       "          7.5    BASIC                 272\n",
       "          11.0   STANDARD                2\n",
       "          12.5   STANDARD              166\n",
       "          60.0   BASIC                   3\n",
       "          75.0   BASIC                 139\n",
       "          110.0  STANDARD                2\n",
       "          125.0  STANDARD               46\n",
       "          200.0  PATRON                 50\n",
       "Name: subscription_type, dtype: int64"
      ]
     },
     "execution_count": 5,
     "metadata": {},
     "output_type": "execute_result"
    }
   ],
   "source": [
    "df_subscriptions.groupby(['currency','price']).subscription_type.value_counts()"
   ]
  },
  {
   "cell_type": "code",
   "execution_count": 10,
   "metadata": {},
   "outputs": [],
   "source": [
    "#set data types for subscription dates to datetime\n",
    "df_subscriptions['subscription_start'] = pd.to_datetime(df_subscriptions['subscription_start'])\n",
    "df_subscriptions['subscription_end'] = pd.to_datetime(df_subscriptions['subscription_end'])"
   ]
  },
  {
   "cell_type": "code",
   "execution_count": 12,
   "metadata": {},
   "outputs": [],
   "source": [
    "# Create new 'clean' DataFrame \n",
    "df_subscriptions_clean = df_subscriptions"
   ]
  },
  {
   "cell_type": "code",
   "execution_count": 13,
   "metadata": {},
   "outputs": [],
   "source": [
    "# drop \"wrong\" subscription type line (FULLACCESS - unknown type to us - only one line therefore decided to drop)\n",
    "df_subscriptions_clean.drop(df_subscriptions_clean[(df_subscriptions['subscription_type'] == 'FULLACCESS')].index, inplace = True)"
   ]
  },
  {
   "cell_type": "code",
   "execution_count": 14,
   "metadata": {},
   "outputs": [],
   "source": [
    "#create new column and calculate subscription duration for calculating actual price per subscription\n",
    "df_subscriptions_clean['subscription_months_raw'] = ((df_subscriptions_clean.subscription_end) - df_subscriptions_clean.subscription_start)/np.timedelta64(1, 'M')"
   ]
  },
  {
   "cell_type": "code",
   "execution_count": 15,
   "metadata": {},
   "outputs": [],
   "source": [
    "#create new column with rounded subscription months\n",
    "#generally round up from 0.1 to be able to allow some discrepancies due to day to day calculation of subscription duration\n",
    "df_subscriptions_clean['subscription_months'] = df_subscriptions_clean['subscription_months_raw'] - 0.1\n",
    "df_subscriptions_clean['subscription_months'] = df_subscriptions_clean['subscription_months'].apply(np.ceil)"
   ]
  },
  {
   "cell_type": "code",
   "execution_count": null,
   "metadata": {},
   "outputs": [],
   "source": [
    "# Create two columns for chf and eur based on the subscription_type and prices from the filmingo website\n",
    "\n",
    "# create a list of our conditions\n",
    "conditions = [\n",
    "    ((df_subscriptions_clean['subscription_type'] == 'BASIC') & (df_subscriptions_clean['subscription_monthly'] == 0)),\n",
    "    ((df_subscriptions_clean['subscription_type'] == 'BASIC') & (df_subscriptions_clean['subscription_monthly'] == 1)),\n",
    "    ((df_subscriptions_clean['subscription_type'] == 'STANDARD') & (df_subscriptions_clean['subscription_monthly'] == 0)),\n",
    "    ((df_subscriptions_clean['subscription_type'] == 'STANDARD') & (df_subscriptions_clean['subscription_monthly'] == 1)),\n",
    "    ((df_subscriptions_clean['subscription_type'] == 'PATRON') & (df_subscriptions_clean['subscription_monthly'] == 0))\n",
    "\n",
    "]\n",
    "\n",
    "# create a list of the values we want to assign for each condition\n",
    "values_chf = ['90.0', '9.0', '150.0', '15.0', '240.0']\n",
    "values_eur = ['75.0', '7.5', '125.0', '12.5', '200.0']\n",
    "\n",
    "# create a new column and use np.select to assign values to it using our lists as arguments\n",
    "df_subscriptions_clean['price_chf'] = np.select(conditions, values_chf)\n",
    "df_subscriptions_clean['price_eur'] = np.select(conditions, values_eur)\n",
    "\n",
    "# decided to use these prices for all subscriptions regardless if they might have a different prices in the list (possibly due to discounts, total lines of abnormal prices: 39) or are gifted subscription (price: NaN, total lines 1.636)\n"
   ]
  },
  {
   "cell_type": "code",
   "execution_count": null,
   "metadata": {},
   "outputs": [],
   "source": [
    "# if gifted & 6 monate then 41€ else price /12 * sub_months\n",
    "def price_calc (x):\n",
    "    if gift_subscription ="
   ]
  },
  {
   "cell_type": "code",
   "execution_count": 16,
   "metadata": {},
   "outputs": [
    {
     "data": {
      "text/html": [
       "<div>\n",
       "<style scoped>\n",
       "    .dataframe tbody tr th:only-of-type {\n",
       "        vertical-align: middle;\n",
       "    }\n",
       "\n",
       "    .dataframe tbody tr th {\n",
       "        vertical-align: top;\n",
       "    }\n",
       "\n",
       "    .dataframe thead th {\n",
       "        text-align: right;\n",
       "    }\n",
       "</style>\n",
       "<table border=\"1\" class=\"dataframe\">\n",
       "  <thead>\n",
       "    <tr style=\"text-align: right;\">\n",
       "      <th></th>\n",
       "      <th>subscription_key</th>\n",
       "      <th>account_key</th>\n",
       "      <th>currency</th>\n",
       "      <th>price</th>\n",
       "      <th>subscription_type</th>\n",
       "      <th>subscription_monthly</th>\n",
       "      <th>subscription_start</th>\n",
       "      <th>subscription_end</th>\n",
       "      <th>gift_subscription</th>\n",
       "      <th>subscription_months_raw</th>\n",
       "      <th>subscription_months</th>\n",
       "    </tr>\n",
       "  </thead>\n",
       "  <tbody>\n",
       "    <tr>\n",
       "      <th>0</th>\n",
       "      <td>1b82b2308dcae546ad0194d03b9d23edd5d2781109de28...</td>\n",
       "      <td>ab1bcf2c1b8d4eb422079becc0c59b1c7db2fd009235d2...</td>\n",
       "      <td>chf</td>\n",
       "      <td>90.0</td>\n",
       "      <td>BASIC</td>\n",
       "      <td>0</td>\n",
       "      <td>2017-02-24</td>\n",
       "      <td>2021-02-23</td>\n",
       "      <td>False</td>\n",
       "      <td>47.968131</td>\n",
       "      <td>48.0</td>\n",
       "    </tr>\n",
       "    <tr>\n",
       "      <th>1</th>\n",
       "      <td>4cb9f67d44d60eca0485270d73b3028143021296081847...</td>\n",
       "      <td>ee1a45a439dc6968f1cfc2b9840264deeada4c0d93f389...</td>\n",
       "      <td>chf</td>\n",
       "      <td>90.0</td>\n",
       "      <td>BASIC</td>\n",
       "      <td>0</td>\n",
       "      <td>2017-08-21</td>\n",
       "      <td>2023-08-20</td>\n",
       "      <td>False</td>\n",
       "      <td>71.952196</td>\n",
       "      <td>72.0</td>\n",
       "    </tr>\n",
       "    <tr>\n",
       "      <th>2</th>\n",
       "      <td>40f9e218b70a6f482ecfcde0011305d93fa6059f624a50...</td>\n",
       "      <td>8bf8f58e615549df5f05b717b6e914da80e213edab3dba...</td>\n",
       "      <td>chf</td>\n",
       "      <td>9.0</td>\n",
       "      <td>BASIC</td>\n",
       "      <td>1</td>\n",
       "      <td>2017-09-26</td>\n",
       "      <td>2022-10-08</td>\n",
       "      <td>False</td>\n",
       "      <td>60.387277</td>\n",
       "      <td>61.0</td>\n",
       "    </tr>\n",
       "    <tr>\n",
       "      <th>3</th>\n",
       "      <td>69d21e601612cc97fc7df9bd17a281879f785358d1c681...</td>\n",
       "      <td>cf914aa939499e8e18fdd9494fce5297b9dce2e1f909ea...</td>\n",
       "      <td>chf</td>\n",
       "      <td>90.0</td>\n",
       "      <td>BASIC</td>\n",
       "      <td>0</td>\n",
       "      <td>2017-09-28</td>\n",
       "      <td>2021-09-27</td>\n",
       "      <td>False</td>\n",
       "      <td>47.968131</td>\n",
       "      <td>48.0</td>\n",
       "    </tr>\n",
       "    <tr>\n",
       "      <th>4</th>\n",
       "      <td>29f98a3154a679f2fe953b1f3b148ddffcb28e60fff719...</td>\n",
       "      <td>8759ab0e44c1cf688770220cf1b87efac2726baca6bfcb...</td>\n",
       "      <td>eur</td>\n",
       "      <td>11.0</td>\n",
       "      <td>STANDARD</td>\n",
       "      <td>1</td>\n",
       "      <td>2017-10-13</td>\n",
       "      <td>2021-10-12</td>\n",
       "      <td>False</td>\n",
       "      <td>47.968131</td>\n",
       "      <td>48.0</td>\n",
       "    </tr>\n",
       "  </tbody>\n",
       "</table>\n",
       "</div>"
      ],
      "text/plain": [
       "                                    subscription_key  \\\n",
       "0  1b82b2308dcae546ad0194d03b9d23edd5d2781109de28...   \n",
       "1  4cb9f67d44d60eca0485270d73b3028143021296081847...   \n",
       "2  40f9e218b70a6f482ecfcde0011305d93fa6059f624a50...   \n",
       "3  69d21e601612cc97fc7df9bd17a281879f785358d1c681...   \n",
       "4  29f98a3154a679f2fe953b1f3b148ddffcb28e60fff719...   \n",
       "\n",
       "                                         account_key currency  price  \\\n",
       "0  ab1bcf2c1b8d4eb422079becc0c59b1c7db2fd009235d2...      chf   90.0   \n",
       "1  ee1a45a439dc6968f1cfc2b9840264deeada4c0d93f389...      chf   90.0   \n",
       "2  8bf8f58e615549df5f05b717b6e914da80e213edab3dba...      chf    9.0   \n",
       "3  cf914aa939499e8e18fdd9494fce5297b9dce2e1f909ea...      chf   90.0   \n",
       "4  8759ab0e44c1cf688770220cf1b87efac2726baca6bfcb...      eur   11.0   \n",
       "\n",
       "  subscription_type  subscription_monthly subscription_start subscription_end  \\\n",
       "0             BASIC                     0         2017-02-24       2021-02-23   \n",
       "1             BASIC                     0         2017-08-21       2023-08-20   \n",
       "2             BASIC                     1         2017-09-26       2022-10-08   \n",
       "3             BASIC                     0         2017-09-28       2021-09-27   \n",
       "4          STANDARD                     1         2017-10-13       2021-10-12   \n",
       "\n",
       "   gift_subscription  subscription_months_raw  subscription_months  \n",
       "0              False                47.968131                 48.0  \n",
       "1              False                71.952196                 72.0  \n",
       "2              False                60.387277                 61.0  \n",
       "3              False                47.968131                 48.0  \n",
       "4              False                47.968131                 48.0  "
      ]
     },
     "execution_count": 16,
     "metadata": {},
     "output_type": "execute_result"
    }
   ],
   "source": [
    "df_subscriptions_clean.head()"
   ]
  },
  {
   "cell_type": "code",
   "execution_count": null,
   "metadata": {},
   "outputs": [],
   "source": [
    "#display(gifted_df.groupby('subscription_months').max())\n",
    "print(df_subscriptions_clean.groupby(['months','subscription_monthly']).sum())"
   ]
  },
  {
   "cell_type": "code",
   "execution_count": null,
   "metadata": {},
   "outputs": [],
   "source": [
    "df_subscriptions_clean.to_csv('./data/subcriptions_clean.csv')"
   ]
  },
  {
   "cell_type": "code",
   "execution_count": null,
   "metadata": {},
   "outputs": [],
   "source": [
    "gifted_df= df_subscriptions_clean.loc[df_subscriptions_clean['gift_subscription']==True]\n",
    "gifted_df['months'] = gifted_df['subscription_months'].round()\n",
    "gifted_df.tail(15)\n",
    "#display(gifted_df.groupby('subscription_months').max())\n",
    "gifted_df.groupby('months').sum()\n",
    "\n"
   ]
  },
  {
   "cell_type": "code",
   "execution_count": null,
   "metadata": {},
   "outputs": [],
   "source": [
    "nongifted_df= df_subscriptions_clean.loc[df_subscriptions_clean['gift_subscription']==False]\n",
    "\n",
    "nongifted_df.groupby(['months', 'subscription_monthly']).sum()"
   ]
  },
  {
   "cell_type": "code",
   "execution_count": null,
   "metadata": {},
   "outputs": [],
   "source": [
    "#nongifted_df.query('account_key == b43a87d35bf285afdbb1c931b68ea2e6dad1f9dcc62947')\n",
    "\n",
    "nongifted_df[nongifted_df['account_key'].str.contains('d8aa9f6793e94bc168a65808c9fe5809d4516448eae392a33edec16391c71d1e', na=False)]\n",
    "\n",
    "#due to update rule ab 0.1 aufrunden"
   ]
  },
  {
   "cell_type": "code",
   "execution_count": null,
   "metadata": {},
   "outputs": [],
   "source": [
    "b43a87d35bf285afdbb1c931b68ea2e6dad1f9dcc62947...\tAccount Key\tGift Subscription\tMonths\tPrice Eur\tSubscription Monthly\tSubscription Months\tSubscription Type\n",
    "d8aa9f6793e94bc168a65808c9fe5809d4516448eae392a33edec16391c71d1e\tFalse\t36\t75\t0\t36,206082260\tBASIC\n"
   ]
  },
  {
   "cell_type": "code",
   "execution_count": null,
   "metadata": {},
   "outputs": [],
   "source": [
    "\n",
    "nongifted_df['months_rounded'] = nongifted_df['subscription_months'] - 0.1\n",
    "nongifted_df['months_ceil'] = nongifted_df['months_rounded'].apply(np.ceil)"
   ]
  },
  {
   "cell_type": "code",
   "execution_count": null,
   "metadata": {},
   "outputs": [],
   "source": [
    "#df_subscriptions_clean = df_subscriptions_clean.drop('months_rounded_ceil', axis=1)"
   ]
  }
 ],
 "metadata": {
  "kernelspec": {
   "display_name": "Python 3.9.13 ('nf_base')",
   "language": "python",
   "name": "python3"
  },
  "language_info": {
   "codemirror_mode": {
    "name": "ipython",
    "version": 3
   },
   "file_extension": ".py",
   "mimetype": "text/x-python",
   "name": "python",
   "nbconvert_exporter": "python",
   "pygments_lexer": "ipython3",
   "version": "3.9.13"
  },
  "orig_nbformat": 4,
  "vscode": {
   "interpreter": {
    "hash": "ab3d85a18739f6fff6a9c8c504adc2ff9340867b576dede986e2ee74c099e4e5"
   }
  }
 },
 "nbformat": 4,
 "nbformat_minor": 2
}
