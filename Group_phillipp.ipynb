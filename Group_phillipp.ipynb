{
 "cells": [
  {
   "cell_type": "code",
   "execution_count": 2,
   "metadata": {},
   "outputs": [],
   "source": [
    "import pandas as pd\n",
    "import numpy as np\n",
    "\n",
    "# define the name of the csv file you want to read in\n",
    "accounts = './data/accounts.csv'\n",
    "playbacks = './data/playbacks.csv'\n",
    "subscriptions = './data/subscriptions.csv'"
   ]
  },
  {
   "cell_type": "markdown",
   "metadata": {},
   "source": [
    "# ACCOUNTS"
   ]
  },
  {
   "cell_type": "code",
   "execution_count": 46,
   "metadata": {},
   "outputs": [],
   "source": []
  },
  {
   "cell_type": "code",
   "execution_count": 47,
   "metadata": {},
   "outputs": [
    {
     "data": {
      "text/plain": [
       "(17079, 7)"
      ]
     },
     "metadata": {},
     "output_type": "display_data"
    },
    {
     "data": {
      "text/html": [
       "<div>\n",
       "<style scoped>\n",
       "    .dataframe tbody tr th:only-of-type {\n",
       "        vertical-align: middle;\n",
       "    }\n",
       "\n",
       "    .dataframe tbody tr th {\n",
       "        vertical-align: top;\n",
       "    }\n",
       "\n",
       "    .dataframe thead th {\n",
       "        text-align: right;\n",
       "    }\n",
       "</style>\n",
       "<table border=\"1\" class=\"dataframe\">\n",
       "  <thead>\n",
       "    <tr style=\"text-align: right;\">\n",
       "      <th></th>\n",
       "      <th>account_key</th>\n",
       "      <th>postal_code</th>\n",
       "      <th>city</th>\n",
       "      <th>language</th>\n",
       "      <th>country_code</th>\n",
       "      <th>onetime_rental_count</th>\n",
       "      <th>subscription_count</th>\n",
       "    </tr>\n",
       "  </thead>\n",
       "  <tbody>\n",
       "    <tr>\n",
       "      <th>0</th>\n",
       "      <td>60a90104f44414d9036aed7d96d1468a5a9e1d104b6791...</td>\n",
       "      <td>5430</td>\n",
       "      <td>Wettingen</td>\n",
       "      <td>de</td>\n",
       "      <td>CH</td>\n",
       "      <td>0</td>\n",
       "      <td>1</td>\n",
       "    </tr>\n",
       "    <tr>\n",
       "      <th>1</th>\n",
       "      <td>a48b28809457e680de54b4b560e00117308431c574aab2...</td>\n",
       "      <td>8706</td>\n",
       "      <td>Meilen</td>\n",
       "      <td>de</td>\n",
       "      <td>CH</td>\n",
       "      <td>0</td>\n",
       "      <td>1</td>\n",
       "    </tr>\n",
       "    <tr>\n",
       "      <th>2</th>\n",
       "      <td>7a280859423057ac5f1e0bfc15af602edd23900f3cf7cb...</td>\n",
       "      <td>1005</td>\n",
       "      <td>Lausanne</td>\n",
       "      <td>fr</td>\n",
       "      <td>CH</td>\n",
       "      <td>1</td>\n",
       "      <td>0</td>\n",
       "    </tr>\n",
       "    <tr>\n",
       "      <th>3</th>\n",
       "      <td>23e7ac18b391549e95a98d85a3adae1f3f90c4fcc09732...</td>\n",
       "      <td>4436</td>\n",
       "      <td>Oberdorf</td>\n",
       "      <td>de</td>\n",
       "      <td>CH</td>\n",
       "      <td>0</td>\n",
       "      <td>2</td>\n",
       "    </tr>\n",
       "    <tr>\n",
       "      <th>4</th>\n",
       "      <td>a39dbaa7972fb67c15db79d4a66cf5d1b94855ae530774...</td>\n",
       "      <td>6005</td>\n",
       "      <td>Luzern</td>\n",
       "      <td>de</td>\n",
       "      <td>CH</td>\n",
       "      <td>8</td>\n",
       "      <td>2</td>\n",
       "    </tr>\n",
       "  </tbody>\n",
       "</table>\n",
       "</div>"
      ],
      "text/plain": [
       "                                         account_key postal_code       city  \\\n",
       "0  60a90104f44414d9036aed7d96d1468a5a9e1d104b6791...        5430  Wettingen   \n",
       "1  a48b28809457e680de54b4b560e00117308431c574aab2...        8706     Meilen   \n",
       "2  7a280859423057ac5f1e0bfc15af602edd23900f3cf7cb...        1005   Lausanne   \n",
       "3  23e7ac18b391549e95a98d85a3adae1f3f90c4fcc09732...        4436   Oberdorf   \n",
       "4  a39dbaa7972fb67c15db79d4a66cf5d1b94855ae530774...        6005     Luzern   \n",
       "\n",
       "  language country_code  onetime_rental_count  subscription_count  \n",
       "0       de           CH                     0                   1  \n",
       "1       de           CH                     0                   1  \n",
       "2       fr           CH                     1                   0  \n",
       "3       de           CH                     0                   2  \n",
       "4       de           CH                     8                   2  "
      ]
     },
     "metadata": {},
     "output_type": "display_data"
    }
   ],
   "source": [
    "# Read accounts (01.10.2020 - 01.10.2022)\n",
    "df_accounts = pd.read_csv(accounts)\n",
    "df_accounts.columns = df_accounts.columns.str.lower()\n",
    "display(df_accounts.shape)\n",
    "display(df_accounts.head())"
   ]
  },
  {
   "cell_type": "code",
   "execution_count": 48,
   "metadata": {},
   "outputs": [
    {
     "data": {
      "text/plain": [
       "account_key             object\n",
       "postal_code             object\n",
       "city                    object\n",
       "language                object\n",
       "country_code            object\n",
       "onetime_rental_count     int64\n",
       "subscription_count       int64\n",
       "dtype: object"
      ]
     },
     "execution_count": 48,
     "metadata": {},
     "output_type": "execute_result"
    }
   ],
   "source": [
    "df_accounts.dtypes"
   ]
  },
  {
   "cell_type": "code",
   "execution_count": 49,
   "metadata": {},
   "outputs": [
    {
     "data": {
      "text/plain": [
       "56"
      ]
     },
     "metadata": {},
     "output_type": "display_data"
    },
    {
     "data": {
      "text/plain": [
       "array(['CH', 'DE', 'GR', 'LI', 'US', 'AT', 'TH', 'FR', 'GB', 'BE', 'RU',\n",
       "       'EG', 'HK', 'PT', 'IT', 'SA', 'NZ', 'MX', 'PE', 'CO', 'PL', 'CA',\n",
       "       'ID', 'ES', 'HU', 'IL', 'NO', 'AU', 'CL', 'NL', 'ZA', 'JO', 'RS',\n",
       "       'RO', 'IE', 'KR', 'SK', 'AE', 'GH', 'BR', 'MY', 'SE', 'CZ', 'DK',\n",
       "       'IN', 'JP', 'TR', 'CI', 'EE', 'GA', 'SM', 'WF', 'FI', 'UA', 'SG',\n",
       "       'IR'], dtype=object)"
      ]
     },
     "execution_count": 49,
     "metadata": {},
     "output_type": "execute_result"
    }
   ],
   "source": [
    "display(df_accounts.country_code.nunique())\n",
    "df_accounts.country_code.unique()"
   ]
  },
  {
   "cell_type": "code",
   "execution_count": 50,
   "metadata": {},
   "outputs": [
    {
     "data": {
      "text/plain": [
       "CH    15200\n",
       "DE     1272\n",
       "AT      190\n",
       "FR      112\n",
       "US       71\n",
       "GB       46\n",
       "LI       39\n",
       "CA       17\n",
       "IT       13\n",
       "BE       11\n",
       "SE        9\n",
       "AU        8\n",
       "NO        8\n",
       "IN        6\n",
       "NL        6\n",
       "DK        5\n",
       "PL        4\n",
       "PT        4\n",
       "CO        3\n",
       "NZ        3\n",
       "CZ        3\n",
       "HU        3\n",
       "IL        3\n",
       "SK        2\n",
       "AE        2\n",
       "EE        2\n",
       "CL        2\n",
       "ES        2\n",
       "RU        2\n",
       "GR        2\n",
       "MX        2\n",
       "ID        2\n",
       "EG        2\n",
       "SG        1\n",
       "UA        1\n",
       "FI        1\n",
       "WF        1\n",
       "SM        1\n",
       "GA        1\n",
       "CI        1\n",
       "TR        1\n",
       "JP        1\n",
       "TH        1\n",
       "HK        1\n",
       "MY        1\n",
       "BR        1\n",
       "GH        1\n",
       "SA        1\n",
       "KR        1\n",
       "IE        1\n",
       "RO        1\n",
       "RS        1\n",
       "JO        1\n",
       "ZA        1\n",
       "PE        1\n",
       "IR        1\n",
       "Name: country_code, dtype: int64"
      ]
     },
     "execution_count": 50,
     "metadata": {},
     "output_type": "execute_result"
    }
   ],
   "source": [
    "df_accounts.country_code.value_counts()\n",
    "#16.5k DACH / 17k in total"
   ]
  },
  {
   "cell_type": "code",
   "execution_count": 51,
   "metadata": {},
   "outputs": [
    {
     "data": {
      "image/png": "[encoded data removed]",
      "text/plain": [
       "<Figure size 640x480 with 1 Axes>"
      ]
     },
     "metadata": {},
     "output_type": "display_data"
    }
   ],
   "source": [
    "df_accounts.country_code.value_counts().plot(kind='pie');"
   ]
  },
  {
   "cell_type": "code",
   "execution_count": 52,
   "metadata": {},
   "outputs": [
    {
     "data": {
      "text/plain": [
       "4"
      ]
     },
     "metadata": {},
     "output_type": "display_data"
    },
    {
     "data": {
      "text/plain": [
       "array(['de', 'fr', 'en', nan, 'nl'], dtype=object)"
      ]
     },
     "metadata": {},
     "output_type": "display_data"
    },
    {
     "data": {
      "text/plain": [
       "de    10942\n",
       "fr     4286\n",
       "en     1794\n",
       "nl        1\n",
       "Name: language, dtype: int64"
      ]
     },
     "metadata": {},
     "output_type": "display_data"
    }
   ],
   "source": [
    "display(df_accounts.language.nunique())\n",
    "display(df_accounts.language.unique())\n",
    "display(df_accounts.language.value_counts())"
   ]
  },
  {
   "cell_type": "code",
   "execution_count": 53,
   "metadata": {},
   "outputs": [
    {
     "data": {
      "text/plain": [
       "array([  0,   1,   8,   2,  10,   3,  12,  23,   4,   6,  15,   5,  14,\n",
       "         7,  11,  29,  16,   9,  22,  17,  39,  26,  19,  13,  27,  47,\n",
       "        18,  37,  20,  24,  32,  53,  21,  28,  25,  31, 106,  52,  48,\n",
       "        44,  51,  35,  30,  65,  45,  38,  61,  57,  79])"
      ]
     },
     "execution_count": 53,
     "metadata": {},
     "output_type": "execute_result"
    }
   ],
   "source": [
    "df_accounts.onetime_rental_count.unique()"
   ]
  },
  {
   "cell_type": "code",
   "execution_count": 54,
   "metadata": {},
   "outputs": [
    {
     "data": {
      "text/plain": [
       "array([ 1,  0,  2,  3,  6,  4,  5,  7, 11,  8, 12,  9, 13])"
      ]
     },
     "metadata": {},
     "output_type": "display_data"
    },
    {
     "data": {
      "text/plain": [
       "0     8103\n",
       "1     6776\n",
       "2     1613\n",
       "3      412\n",
       "4       96\n",
       "5       36\n",
       "7       19\n",
       "6       13\n",
       "8        7\n",
       "11       1\n",
       "12       1\n",
       "9        1\n",
       "13       1\n",
       "Name: subscription_count, dtype: int64"
      ]
     },
     "metadata": {},
     "output_type": "display_data"
    }
   ],
   "source": [
    "display(df_accounts.subscription_count.unique())\n",
    "display(df_accounts.subscription_count.value_counts())\n",
    "#most have no subscription (assumption: onetime-viewer and gifted movie?)"
   ]
  },
  {
   "cell_type": "code",
   "execution_count": 55,
   "metadata": {},
   "outputs": [
    {
     "data": {
      "text/plain": [
       "False    8976\n",
       "True     8103\n",
       "Name: subscription_count, dtype: int64"
      ]
     },
     "execution_count": 55,
     "metadata": {},
     "output_type": "execute_result"
    }
   ],
   "source": [
    "#Check for accounts with no subscription\n",
    "#display(df_accounts.subscription_count.unique())\n",
    "df_accounts['subscription_count'].apply(lambda x: True if x == 0 else False).value_counts()"
   ]
  },
  {
   "cell_type": "markdown",
   "metadata": {},
   "source": [
    "# PLAYBACKS"
   ]
  },
  {
   "cell_type": "code",
   "execution_count": 4,
   "metadata": {},
   "outputs": [
    {
     "data": {
      "text/plain": [
       "(139569, 7)"
      ]
     },
     "metadata": {},
     "output_type": "display_data"
    },
    {
     "data": {
      "text/html": [
       "<div>\n",
       "<style scoped>\n",
       "    .dataframe tbody tr th:only-of-type {\n",
       "        vertical-align: middle;\n",
       "    }\n",
       "\n",
       "    .dataframe tbody tr th {\n",
       "        vertical-align: top;\n",
       "    }\n",
       "\n",
       "    .dataframe thead th {\n",
       "        text-align: right;\n",
       "    }\n",
       "</style>\n",
       "<table border=\"1\" class=\"dataframe\">\n",
       "  <thead>\n",
       "    <tr style=\"text-align: right;\">\n",
       "      <th></th>\n",
       "      <th>subscription_key</th>\n",
       "      <th>account_key</th>\n",
       "      <th>movie_id</th>\n",
       "      <th>date_start</th>\n",
       "      <th>playback_time</th>\n",
       "      <th>user_agent</th>\n",
       "      <th>ip_hash</th>\n",
       "    </tr>\n",
       "  </thead>\n",
       "  <tbody>\n",
       "    <tr>\n",
       "      <th>0</th>\n",
       "      <td>9679626b6cc1765f8bc8da98fda2d8e8f28f40736fd777...</td>\n",
       "      <td>024ebde74e23ca924cff0a3989e7f87efe2b2cbcd7ad2c...</td>\n",
       "      <td>1189</td>\n",
       "      <td>2022-09-30 23:55:31</td>\n",
       "      <td>12420</td>\n",
       "      <td>Mozilla/5.0 (Macintosh; Intel Mac OS X 10_15_7...</td>\n",
       "      <td>0b14aa31d5635ee899be928089fd810c655a7ec7785911...</td>\n",
       "    </tr>\n",
       "    <tr>\n",
       "      <th>1</th>\n",
       "      <td>513d006472c99ef047c64bafad57a39906ad5c618505b1...</td>\n",
       "      <td>8968e3851322a89c265a0ec4c81341361e3b0953502d65...</td>\n",
       "      <td>1327</td>\n",
       "      <td>2022-09-30 23:48:36</td>\n",
       "      <td>1440</td>\n",
       "      <td>Mozilla/5.0 (Macintosh; Intel Mac OS X 10_13_4...</td>\n",
       "      <td>c65100e7d48b9e06ca6d89ffe594066553ea63ddc70ee1...</td>\n",
       "    </tr>\n",
       "    <tr>\n",
       "      <th>2</th>\n",
       "      <td>cac0c77d3aedc55303b8dfea314052eba5dcf4817e4962...</td>\n",
       "      <td>8a2d7ac64595778ed5fe7edb2dd43f843f9879d773df1a...</td>\n",
       "      <td>212</td>\n",
       "      <td>2022-09-30 23:47:33</td>\n",
       "      <td>1080</td>\n",
       "      <td>Mozilla/5.0 (Windows NT 10.0; Win64; x64; rv:1...</td>\n",
       "      <td>db17d38bf724c377dcd463f7ad8df8279b6122c8890773...</td>\n",
       "    </tr>\n",
       "    <tr>\n",
       "      <th>3</th>\n",
       "      <td>a35503448084642ac8651a0f482db410ccdd7c7716df1d...</td>\n",
       "      <td>7f654ed491a8d1c5b6eb54ea98f6b30b0f9d9515aaad22...</td>\n",
       "      <td>108</td>\n",
       "      <td>2022-09-30 23:46:52</td>\n",
       "      <td>5400</td>\n",
       "      <td>Mozilla/5.0 (Windows NT 10.0; Win64; x64; rv:1...</td>\n",
       "      <td>69839531a94bf2468744c083a7bf4b78f39c8b1b299c34...</td>\n",
       "    </tr>\n",
       "    <tr>\n",
       "      <th>4</th>\n",
       "      <td>ff97a5e4ea0bb411f72e2e1750fb94b248ec2026406a3f...</td>\n",
       "      <td>6efdbec56858f25686797c974bfa67809a718408bd3631...</td>\n",
       "      <td>1314</td>\n",
       "      <td>2022-09-30 23:16:49</td>\n",
       "      <td>10380</td>\n",
       "      <td>filmingo v2.1 (83); iOS 15.6.1; iPad8,11</td>\n",
       "      <td>652d233c8526ebefb7a8e939ca546fe1a76498775b682a...</td>\n",
       "    </tr>\n",
       "  </tbody>\n",
       "</table>\n",
       "</div>"
      ],
      "text/plain": [
       "                                    subscription_key  \\\n",
       "0  9679626b6cc1765f8bc8da98fda2d8e8f28f40736fd777...   \n",
       "1  513d006472c99ef047c64bafad57a39906ad5c618505b1...   \n",
       "2  cac0c77d3aedc55303b8dfea314052eba5dcf4817e4962...   \n",
       "3  a35503448084642ac8651a0f482db410ccdd7c7716df1d...   \n",
       "4  ff97a5e4ea0bb411f72e2e1750fb94b248ec2026406a3f...   \n",
       "\n",
       "                                         account_key  movie_id  \\\n",
       "0  024ebde74e23ca924cff0a3989e7f87efe2b2cbcd7ad2c...      1189   \n",
       "1  8968e3851322a89c265a0ec4c81341361e3b0953502d65...      1327   \n",
       "2  8a2d7ac64595778ed5fe7edb2dd43f843f9879d773df1a...       212   \n",
       "3  7f654ed491a8d1c5b6eb54ea98f6b30b0f9d9515aaad22...       108   \n",
       "4  6efdbec56858f25686797c974bfa67809a718408bd3631...      1314   \n",
       "\n",
       "            date_start  playback_time  \\\n",
       "0  2022-09-30 23:55:31          12420   \n",
       "1  2022-09-30 23:48:36           1440   \n",
       "2  2022-09-30 23:47:33           1080   \n",
       "3  2022-09-30 23:46:52           5400   \n",
       "4  2022-09-30 23:16:49          10380   \n",
       "\n",
       "                                          user_agent  \\\n",
       "0  Mozilla/5.0 (Macintosh; Intel Mac OS X 10_15_7...   \n",
       "1  Mozilla/5.0 (Macintosh; Intel Mac OS X 10_13_4...   \n",
       "2  Mozilla/5.0 (Windows NT 10.0; Win64; x64; rv:1...   \n",
       "3  Mozilla/5.0 (Windows NT 10.0; Win64; x64; rv:1...   \n",
       "4           filmingo v2.1 (83); iOS 15.6.1; iPad8,11   \n",
       "\n",
       "                                             ip_hash  \n",
       "0  0b14aa31d5635ee899be928089fd810c655a7ec7785911...  \n",
       "1  c65100e7d48b9e06ca6d89ffe594066553ea63ddc70ee1...  \n",
       "2  db17d38bf724c377dcd463f7ad8df8279b6122c8890773...  \n",
       "3  69839531a94bf2468744c083a7bf4b78f39c8b1b299c34...  \n",
       "4  652d233c8526ebefb7a8e939ca546fe1a76498775b682a...  "
      ]
     },
     "metadata": {},
     "output_type": "display_data"
    }
   ],
   "source": [
    "# Read playbacks\n",
    "df_playbacks = pd.read_csv(playbacks)\n",
    "df_playbacks.columns = df_playbacks.columns.str.lower()\n",
    "display(df_playbacks.shape)\n",
    "display(df_playbacks.head())\n",
    "# one account can have multiple subscriptions\n",
    "# what about pausing the movie\n",
    "# IP + User_Agent-> check for multiple persons per subscriptions\n",
    "    # IP/Account\n",
    "# average playback duration\n",
    "# cancelled session?"
   ]
  },
  {
   "cell_type": "code",
   "execution_count": 78,
   "metadata": {},
   "outputs": [
    {
     "data": {
      "text/plain": [
       "subscription_key    0\n",
       "account_key         0\n",
       "movie_id            0\n",
       "date_start          0\n",
       "playback_time       0\n",
       "user_agent          0\n",
       "ip_hash             0\n",
       "dtype: int64"
      ]
     },
     "execution_count": 78,
     "metadata": {},
     "output_type": "execute_result"
    }
   ],
   "source": [
    "df_playbacks.isna().sum()"
   ]
  },
  {
   "cell_type": "code",
   "execution_count": 23,
   "metadata": {},
   "outputs": [
    {
     "data": {
      "text/html": [
       "<div>\n",
       "<style scoped>\n",
       "    .dataframe tbody tr th:only-of-type {\n",
       "        vertical-align: middle;\n",
       "    }\n",
       "\n",
       "    .dataframe tbody tr th {\n",
       "        vertical-align: top;\n",
       "    }\n",
       "\n",
       "    .dataframe thead th {\n",
       "        text-align: right;\n",
       "    }\n",
       "</style>\n",
       "<table border=\"1\" class=\"dataframe\">\n",
       "  <thead>\n",
       "    <tr style=\"text-align: right;\">\n",
       "      <th></th>\n",
       "      <th>movie_id</th>\n",
       "      <th>playback_time</th>\n",
       "    </tr>\n",
       "  </thead>\n",
       "  <tbody>\n",
       "    <tr>\n",
       "      <th>count</th>\n",
       "      <td>139569.000000</td>\n",
       "      <td>139569.00000</td>\n",
       "    </tr>\n",
       "    <tr>\n",
       "      <th>mean</th>\n",
       "      <td>712.801589</td>\n",
       "      <td>6442.57679</td>\n",
       "    </tr>\n",
       "    <tr>\n",
       "      <th>std</th>\n",
       "      <td>346.698325</td>\n",
       "      <td>8191.70516</td>\n",
       "    </tr>\n",
       "    <tr>\n",
       "      <th>min</th>\n",
       "      <td>8.000000</td>\n",
       "      <td>960.00000</td>\n",
       "    </tr>\n",
       "    <tr>\n",
       "      <th>25%</th>\n",
       "      <td>453.000000</td>\n",
       "      <td>4680.00000</td>\n",
       "    </tr>\n",
       "    <tr>\n",
       "      <th>50%</th>\n",
       "      <td>745.000000</td>\n",
       "      <td>5760.00000</td>\n",
       "    </tr>\n",
       "    <tr>\n",
       "      <th>75%</th>\n",
       "      <td>977.000000</td>\n",
       "      <td>6660.00000</td>\n",
       "    </tr>\n",
       "    <tr>\n",
       "      <th>max</th>\n",
       "      <td>1344.000000</td>\n",
       "      <td>472920.00000</td>\n",
       "    </tr>\n",
       "  </tbody>\n",
       "</table>\n",
       "</div>"
      ],
      "text/plain": [
       "            movie_id  playback_time\n",
       "count  139569.000000   139569.00000\n",
       "mean      712.801589     6442.57679\n",
       "std       346.698325     8191.70516\n",
       "min         8.000000      960.00000\n",
       "25%       453.000000     4680.00000\n",
       "50%       745.000000     5760.00000\n",
       "75%       977.000000     6660.00000\n",
       "max      1344.000000   472920.00000"
      ]
     },
     "execution_count": 23,
     "metadata": {},
     "output_type": "execute_result"
    }
   ],
   "source": [
    "df_playbacks.describe()\n",
    "# have a closer look at max playback times"
   ]
  },
  {
   "cell_type": "code",
   "execution_count": 58,
   "metadata": {},
   "outputs": [
    {
     "data": {
      "text/plain": [
       "1202"
      ]
     },
     "execution_count": 58,
     "metadata": {},
     "output_type": "execute_result"
    }
   ],
   "source": [
    "df_playbacks.movie_id.nunique()"
   ]
  },
  {
   "cell_type": "code",
   "execution_count": 78,
   "metadata": {},
   "outputs": [
    {
     "data": {
      "text/plain": [
       "117081"
      ]
     },
     "execution_count": 78,
     "metadata": {},
     "output_type": "execute_result"
    }
   ],
   "source": [
    "#DIFFERENTIATION BETWEEN DESKTOP/MOBILE\n",
    "#TODO Create 'DESKTOP vs. MOBILE' column\n",
    "#TODO filmingo app users dedicated column?!\n",
    "\n",
    "#df_playbacks.user_agent.count()\n",
    "#5387 unique values\n",
    "#139.569 count\n",
    "\n",
    "#SEARCH FOR 'Macintosh'\n",
    "#df_playbacks[df_playbacks.user_agent.str.contains('Macintosh', na=False)].user_agent.count()\n",
    "#64.401 count ~50%\n",
    "\n",
    "#SEARCH FOR 'Windows'\n",
    "#df_playbacks[df_playbacks.user_agent.str.contains('Windows', na=False)].user_agent.count()\n",
    "#41.475\n",
    "\n",
    "#DESKTOP Views\n",
    "df_playbacks[df_playbacks.user_agent.str.contains(('Windows|Macintosh|TV|Linux'), na=False)].user_agent.count()\n",
    "#117.081 Desktop playbacks\n",
    "\n",
    "# Mobile Views\n",
    "#df_playbacks[df_playbacks.user_agent.str.contains(('Android|iOS|iPhone|iPad'), na=False)].user_agent.count()\n",
    "# 22.800 Mobile views\n",
    "\n",
    "\n",
    "#HOW MANY PEOPLE ARE USING THE APP\n",
    "#df_playbacks[df_playbacks.user_agent.str.contains('filmingo', na=False)].user_agent.count()\n",
    "#13.173 playbacks via the app\n",
    "\n"
   ]
  },
  {
   "cell_type": "code",
   "execution_count": 84,
   "metadata": {},
   "outputs": [
    {
     "data": {
      "text/plain": [
       "desktop    109852\n",
       "mobile      22800\n",
       "Name: device, dtype: int64"
      ]
     },
     "execution_count": 84,
     "metadata": {},
     "output_type": "execute_result"
    }
   ],
   "source": [
    "#Let's create the new columns\n",
    "df_playbacks.loc[df_playbacks['user_agent'].str.contains('Windows|Macintosh|TV|Linux'), 'device'] = 'desktop'\n",
    "df_playbacks.loc[df_playbacks['user_agent'].str.contains('Android|iOS|iPhone|iPad'), 'device'] = 'mobile'\n",
    "df_playbacks.device.value_counts()\n",
    "#df_playbacks[~df_playbacks.device.str.contains(('Android|iOS|iPhone|iPad|Windows|Macintosh|TV|Linux'), na=False)].count()\n",
    "\n"
   ]
  },
  {
   "cell_type": "markdown",
   "metadata": {},
   "source": [
    "# SUBSCRIPTIONS"
   ]
  },
  {
   "cell_type": "code",
   "execution_count": 60,
   "metadata": {},
   "outputs": [
    {
     "data": {
      "text/plain": [
       "(12115, 9)"
      ]
     },
     "metadata": {},
     "output_type": "display_data"
    },
    {
     "data": {
      "text/html": [
       "<div>\n",
       "<style scoped>\n",
       "    .dataframe tbody tr th:only-of-type {\n",
       "        vertical-align: middle;\n",
       "    }\n",
       "\n",
       "    .dataframe tbody tr th {\n",
       "        vertical-align: top;\n",
       "    }\n",
       "\n",
       "    .dataframe thead th {\n",
       "        text-align: right;\n",
       "    }\n",
       "</style>\n",
       "<table border=\"1\" class=\"dataframe\">\n",
       "  <thead>\n",
       "    <tr style=\"text-align: right;\">\n",
       "      <th></th>\n",
       "      <th>subscription_key</th>\n",
       "      <th>account_key</th>\n",
       "      <th>currency</th>\n",
       "      <th>price</th>\n",
       "      <th>subscription_type</th>\n",
       "      <th>subscription_monthly</th>\n",
       "      <th>subscription_start</th>\n",
       "      <th>subscription_end</th>\n",
       "      <th>gift_subscription</th>\n",
       "    </tr>\n",
       "  </thead>\n",
       "  <tbody>\n",
       "    <tr>\n",
       "      <th>0</th>\n",
       "      <td>1b82b2308dcae546ad0194d03b9d23edd5d2781109de28...</td>\n",
       "      <td>ab1bcf2c1b8d4eb422079becc0c59b1c7db2fd009235d2...</td>\n",
       "      <td>chf</td>\n",
       "      <td>90.0</td>\n",
       "      <td>BASIC</td>\n",
       "      <td>0</td>\n",
       "      <td>2017-02-24</td>\n",
       "      <td>2021-02-23</td>\n",
       "      <td>False</td>\n",
       "    </tr>\n",
       "    <tr>\n",
       "      <th>1</th>\n",
       "      <td>4cb9f67d44d60eca0485270d73b3028143021296081847...</td>\n",
       "      <td>ee1a45a439dc6968f1cfc2b9840264deeada4c0d93f389...</td>\n",
       "      <td>chf</td>\n",
       "      <td>90.0</td>\n",
       "      <td>BASIC</td>\n",
       "      <td>0</td>\n",
       "      <td>2017-08-21</td>\n",
       "      <td>2023-08-20</td>\n",
       "      <td>False</td>\n",
       "    </tr>\n",
       "    <tr>\n",
       "      <th>2</th>\n",
       "      <td>40f9e218b70a6f482ecfcde0011305d93fa6059f624a50...</td>\n",
       "      <td>8bf8f58e615549df5f05b717b6e914da80e213edab3dba...</td>\n",
       "      <td>chf</td>\n",
       "      <td>9.0</td>\n",
       "      <td>BASIC</td>\n",
       "      <td>1</td>\n",
       "      <td>2017-09-26</td>\n",
       "      <td>2022-10-08</td>\n",
       "      <td>False</td>\n",
       "    </tr>\n",
       "    <tr>\n",
       "      <th>3</th>\n",
       "      <td>69d21e601612cc97fc7df9bd17a281879f785358d1c681...</td>\n",
       "      <td>cf914aa939499e8e18fdd9494fce5297b9dce2e1f909ea...</td>\n",
       "      <td>chf</td>\n",
       "      <td>90.0</td>\n",
       "      <td>BASIC</td>\n",
       "      <td>0</td>\n",
       "      <td>2017-09-28</td>\n",
       "      <td>2021-09-27</td>\n",
       "      <td>False</td>\n",
       "    </tr>\n",
       "    <tr>\n",
       "      <th>4</th>\n",
       "      <td>29f98a3154a679f2fe953b1f3b148ddffcb28e60fff719...</td>\n",
       "      <td>8759ab0e44c1cf688770220cf1b87efac2726baca6bfcb...</td>\n",
       "      <td>eur</td>\n",
       "      <td>11.0</td>\n",
       "      <td>STANDARD</td>\n",
       "      <td>1</td>\n",
       "      <td>2017-10-13</td>\n",
       "      <td>2021-10-12</td>\n",
       "      <td>False</td>\n",
       "    </tr>\n",
       "    <tr>\n",
       "      <th>5</th>\n",
       "      <td>f5627e4ef66f219cfbcfb507a056bf1a0629f085a46e92...</td>\n",
       "      <td>c5511d59d31159ecb87ca1d7cfb3e44a6c4a4b96e5632a...</td>\n",
       "      <td>chf</td>\n",
       "      <td>240.0</td>\n",
       "      <td>PATRON</td>\n",
       "      <td>0</td>\n",
       "      <td>2017-11-18</td>\n",
       "      <td>2020-11-17</td>\n",
       "      <td>False</td>\n",
       "    </tr>\n",
       "    <tr>\n",
       "      <th>6</th>\n",
       "      <td>8e42bc7151b4b0dd29e362b95fec4aa3b8e53c532d40ba...</td>\n",
       "      <td>7f1182ed60acb48e4a55eb54b91bca7f20c55c066d8848...</td>\n",
       "      <td>chf</td>\n",
       "      <td>150.0</td>\n",
       "      <td>STANDARD</td>\n",
       "      <td>0</td>\n",
       "      <td>2017-12-20</td>\n",
       "      <td>2021-12-19</td>\n",
       "      <td>False</td>\n",
       "    </tr>\n",
       "    <tr>\n",
       "      <th>7</th>\n",
       "      <td>9f22270608209a507f93f3a74448a78a82f9741bc36ea3...</td>\n",
       "      <td>2c2621bf34f1cc419c0868f27ffece66dc1fb4f5ec665c...</td>\n",
       "      <td>chf</td>\n",
       "      <td>9.0</td>\n",
       "      <td>BASIC</td>\n",
       "      <td>1</td>\n",
       "      <td>2017-12-21</td>\n",
       "      <td>2020-11-08</td>\n",
       "      <td>False</td>\n",
       "    </tr>\n",
       "    <tr>\n",
       "      <th>8</th>\n",
       "      <td>03411f3ad7d86f2e1df3db5a337c3025ba35159eb9b41e...</td>\n",
       "      <td>163db260041d30a58540a19312d416c9fc7cc696754108...</td>\n",
       "      <td>chf</td>\n",
       "      <td>9.0</td>\n",
       "      <td>BASIC</td>\n",
       "      <td>1</td>\n",
       "      <td>2017-12-22</td>\n",
       "      <td>2020-10-08</td>\n",
       "      <td>False</td>\n",
       "    </tr>\n",
       "    <tr>\n",
       "      <th>9</th>\n",
       "      <td>c254cee83dfc67c794b843a0ad622456cb36fdfe5143c4...</td>\n",
       "      <td>47e795383bff3d37a251be1d911ffc0a7ca6f0da8b70a4...</td>\n",
       "      <td>chf</td>\n",
       "      <td>240.0</td>\n",
       "      <td>PATRON</td>\n",
       "      <td>0</td>\n",
       "      <td>2017-12-31</td>\n",
       "      <td>2022-12-30</td>\n",
       "      <td>False</td>\n",
       "    </tr>\n",
       "  </tbody>\n",
       "</table>\n",
       "</div>"
      ],
      "text/plain": [
       "                                    subscription_key  \\\n",
       "0  1b82b2308dcae546ad0194d03b9d23edd5d2781109de28...   \n",
       "1  4cb9f67d44d60eca0485270d73b3028143021296081847...   \n",
       "2  40f9e218b70a6f482ecfcde0011305d93fa6059f624a50...   \n",
       "3  69d21e601612cc97fc7df9bd17a281879f785358d1c681...   \n",
       "4  29f98a3154a679f2fe953b1f3b148ddffcb28e60fff719...   \n",
       "5  f5627e4ef66f219cfbcfb507a056bf1a0629f085a46e92...   \n",
       "6  8e42bc7151b4b0dd29e362b95fec4aa3b8e53c532d40ba...   \n",
       "7  9f22270608209a507f93f3a74448a78a82f9741bc36ea3...   \n",
       "8  03411f3ad7d86f2e1df3db5a337c3025ba35159eb9b41e...   \n",
       "9  c254cee83dfc67c794b843a0ad622456cb36fdfe5143c4...   \n",
       "\n",
       "                                         account_key currency  price  \\\n",
       "0  ab1bcf2c1b8d4eb422079becc0c59b1c7db2fd009235d2...      chf   90.0   \n",
       "1  ee1a45a439dc6968f1cfc2b9840264deeada4c0d93f389...      chf   90.0   \n",
       "2  8bf8f58e615549df5f05b717b6e914da80e213edab3dba...      chf    9.0   \n",
       "3  cf914aa939499e8e18fdd9494fce5297b9dce2e1f909ea...      chf   90.0   \n",
       "4  8759ab0e44c1cf688770220cf1b87efac2726baca6bfcb...      eur   11.0   \n",
       "5  c5511d59d31159ecb87ca1d7cfb3e44a6c4a4b96e5632a...      chf  240.0   \n",
       "6  7f1182ed60acb48e4a55eb54b91bca7f20c55c066d8848...      chf  150.0   \n",
       "7  2c2621bf34f1cc419c0868f27ffece66dc1fb4f5ec665c...      chf    9.0   \n",
       "8  163db260041d30a58540a19312d416c9fc7cc696754108...      chf    9.0   \n",
       "9  47e795383bff3d37a251be1d911ffc0a7ca6f0da8b70a4...      chf  240.0   \n",
       "\n",
       "  subscription_type  subscription_monthly subscription_start subscription_end  \\\n",
       "0             BASIC                     0         2017-02-24       2021-02-23   \n",
       "1             BASIC                     0         2017-08-21       2023-08-20   \n",
       "2             BASIC                     1         2017-09-26       2022-10-08   \n",
       "3             BASIC                     0         2017-09-28       2021-09-27   \n",
       "4          STANDARD                     1         2017-10-13       2021-10-12   \n",
       "5            PATRON                     0         2017-11-18       2020-11-17   \n",
       "6          STANDARD                     0         2017-12-20       2021-12-19   \n",
       "7             BASIC                     1         2017-12-21       2020-11-08   \n",
       "8             BASIC                     1         2017-12-22       2020-10-08   \n",
       "9            PATRON                     0         2017-12-31       2022-12-30   \n",
       "\n",
       "   gift_subscription  \n",
       "0              False  \n",
       "1              False  \n",
       "2              False  \n",
       "3              False  \n",
       "4              False  \n",
       "5              False  \n",
       "6              False  \n",
       "7              False  \n",
       "8              False  \n",
       "9              False  "
      ]
     },
     "metadata": {},
     "output_type": "display_data"
    }
   ],
   "source": [
    "# Read subscriptions\n",
    "df_subscriptions = pd.read_csv(subscriptions)\n",
    "df_subscriptions.columns = df_subscriptions.columns.str.lower()\n",
    "\n",
    "display(df_subscriptions.shape)\n",
    "display(df_subscriptions.head(10))"
   ]
  },
  {
   "cell_type": "code",
   "execution_count": 77,
   "metadata": {},
   "outputs": [
    {
     "data": {
      "text/plain": [
       "subscription_key           0\n",
       "account_key                0\n",
       "currency                   0\n",
       "price                   1636\n",
       "subscription_type          0\n",
       "subscription_monthly       0\n",
       "subscription_start         0\n",
       "subscription_end           0\n",
       "gift_subscription          0\n",
       "dtype: int64"
      ]
     },
     "execution_count": 77,
     "metadata": {},
     "output_type": "execute_result"
    }
   ],
   "source": [
    "df_subscriptions.isna().sum()"
   ]
  },
  {
   "cell_type": "code",
   "execution_count": 61,
   "metadata": {},
   "outputs": [
    {
     "data": {
      "text/plain": [
       "array(['BASIC', 'STANDARD', 'PATRON', 'FULLACCESS'], dtype=object)"
      ]
     },
     "execution_count": 61,
     "metadata": {},
     "output_type": "execute_result"
    }
   ],
   "source": [
    "df_subscriptions.subscription_type.unique()"
   ]
  },
  {
   "cell_type": "code",
   "execution_count": 62,
   "metadata": {},
   "outputs": [
    {
     "data": {
      "text/plain": [
       "subscription_key         object\n",
       "account_key              object\n",
       "currency                 object\n",
       "price                   float64\n",
       "subscription_type        object\n",
       "subscription_monthly      int64\n",
       "subscription_start       object\n",
       "subscription_end         object\n",
       "gift_subscription          bool\n",
       "dtype: object"
      ]
     },
     "execution_count": 62,
     "metadata": {},
     "output_type": "execute_result"
    }
   ],
   "source": [
    "df_subscriptions.dtypes"
   ]
  },
  {
   "cell_type": "code",
   "execution_count": 63,
   "metadata": {},
   "outputs": [
    {
     "data": {
      "text/plain": [
       "array([ 90. ,   9. ,  11. , 240. , 150. , 110. ,  15. ,   6. ,  60. ,\n",
       "        12.5,   7.5,   nan, 125. ,  75. , 200. ,  82. , 220. , 210. ,\n",
       "         0. , 172.5,  67.5, 102.5, 192. ,  27. , 195. ])"
      ]
     },
     "metadata": {},
     "output_type": "display_data"
    },
    {
     "data": {
      "text/plain": [
       "9.0      2917\n",
       "90.0     2535\n",
       "15.0     2118\n",
       "150.0    1146\n",
       "240.0    1052\n",
       "7.5       272\n",
       "12.5      166\n",
       "75.0      141\n",
       "200.0      50\n",
       "125.0      46\n",
       "0.0        18\n",
       "60.0        3\n",
       "110.0       2\n",
       "11.0        2\n",
       "102.5       2\n",
       "6.0         1\n",
       "82.0        1\n",
       "220.0       1\n",
       "210.0       1\n",
       "172.5       1\n",
       "67.5        1\n",
       "192.0       1\n",
       "27.0        1\n",
       "195.0       1\n",
       "Name: price, dtype: int64"
      ]
     },
     "metadata": {},
     "output_type": "display_data"
    }
   ],
   "source": [
    "display(df_subscriptions.price.unique())\n",
    "display(df_subscriptions.price.value_counts())"
   ]
  },
  {
   "cell_type": "code",
   "execution_count": 64,
   "metadata": {},
   "outputs": [
    {
     "data": {
      "text/html": [
       "<div>\n",
       "<style scoped>\n",
       "    .dataframe tbody tr th:only-of-type {\n",
       "        vertical-align: middle;\n",
       "    }\n",
       "\n",
       "    .dataframe tbody tr th {\n",
       "        vertical-align: top;\n",
       "    }\n",
       "\n",
       "    .dataframe thead th {\n",
       "        text-align: right;\n",
       "    }\n",
       "</style>\n",
       "<table border=\"1\" class=\"dataframe\">\n",
       "  <thead>\n",
       "    <tr style=\"text-align: right;\">\n",
       "      <th></th>\n",
       "      <th>subscription_key</th>\n",
       "      <th>account_key</th>\n",
       "      <th>currency</th>\n",
       "      <th>price</th>\n",
       "      <th>subscription_type</th>\n",
       "      <th>subscription_monthly</th>\n",
       "      <th>subscription_start</th>\n",
       "      <th>subscription_end</th>\n",
       "      <th>gift_subscription</th>\n",
       "    </tr>\n",
       "  </thead>\n",
       "  <tbody>\n",
       "    <tr>\n",
       "      <th>0</th>\n",
       "      <td>1b82b2308dcae546ad0194d03b9d23edd5d2781109de28...</td>\n",
       "      <td>ab1bcf2c1b8d4eb422079becc0c59b1c7db2fd009235d2...</td>\n",
       "      <td>chf</td>\n",
       "      <td>90.0</td>\n",
       "      <td>BASIC</td>\n",
       "      <td>0</td>\n",
       "      <td>2017-02-24</td>\n",
       "      <td>2021-02-23</td>\n",
       "      <td>False</td>\n",
       "    </tr>\n",
       "    <tr>\n",
       "      <th>1</th>\n",
       "      <td>4cb9f67d44d60eca0485270d73b3028143021296081847...</td>\n",
       "      <td>ee1a45a439dc6968f1cfc2b9840264deeada4c0d93f389...</td>\n",
       "      <td>chf</td>\n",
       "      <td>90.0</td>\n",
       "      <td>BASIC</td>\n",
       "      <td>0</td>\n",
       "      <td>2017-08-21</td>\n",
       "      <td>2023-08-20</td>\n",
       "      <td>False</td>\n",
       "    </tr>\n",
       "    <tr>\n",
       "      <th>2</th>\n",
       "      <td>40f9e218b70a6f482ecfcde0011305d93fa6059f624a50...</td>\n",
       "      <td>8bf8f58e615549df5f05b717b6e914da80e213edab3dba...</td>\n",
       "      <td>chf</td>\n",
       "      <td>9.0</td>\n",
       "      <td>BASIC</td>\n",
       "      <td>1</td>\n",
       "      <td>2017-09-26</td>\n",
       "      <td>2022-10-08</td>\n",
       "      <td>False</td>\n",
       "    </tr>\n",
       "    <tr>\n",
       "      <th>3</th>\n",
       "      <td>69d21e601612cc97fc7df9bd17a281879f785358d1c681...</td>\n",
       "      <td>cf914aa939499e8e18fdd9494fce5297b9dce2e1f909ea...</td>\n",
       "      <td>chf</td>\n",
       "      <td>90.0</td>\n",
       "      <td>BASIC</td>\n",
       "      <td>0</td>\n",
       "      <td>2017-09-28</td>\n",
       "      <td>2021-09-27</td>\n",
       "      <td>False</td>\n",
       "    </tr>\n",
       "    <tr>\n",
       "      <th>5</th>\n",
       "      <td>f5627e4ef66f219cfbcfb507a056bf1a0629f085a46e92...</td>\n",
       "      <td>c5511d59d31159ecb87ca1d7cfb3e44a6c4a4b96e5632a...</td>\n",
       "      <td>chf</td>\n",
       "      <td>240.0</td>\n",
       "      <td>PATRON</td>\n",
       "      <td>0</td>\n",
       "      <td>2017-11-18</td>\n",
       "      <td>2020-11-17</td>\n",
       "      <td>False</td>\n",
       "    </tr>\n",
       "  </tbody>\n",
       "</table>\n",
       "</div>"
      ],
      "text/plain": [
       "                                    subscription_key  \\\n",
       "0  1b82b2308dcae546ad0194d03b9d23edd5d2781109de28...   \n",
       "1  4cb9f67d44d60eca0485270d73b3028143021296081847...   \n",
       "2  40f9e218b70a6f482ecfcde0011305d93fa6059f624a50...   \n",
       "3  69d21e601612cc97fc7df9bd17a281879f785358d1c681...   \n",
       "5  f5627e4ef66f219cfbcfb507a056bf1a0629f085a46e92...   \n",
       "\n",
       "                                         account_key currency  price  \\\n",
       "0  ab1bcf2c1b8d4eb422079becc0c59b1c7db2fd009235d2...      chf   90.0   \n",
       "1  ee1a45a439dc6968f1cfc2b9840264deeada4c0d93f389...      chf   90.0   \n",
       "2  8bf8f58e615549df5f05b717b6e914da80e213edab3dba...      chf    9.0   \n",
       "3  cf914aa939499e8e18fdd9494fce5297b9dce2e1f909ea...      chf   90.0   \n",
       "5  c5511d59d31159ecb87ca1d7cfb3e44a6c4a4b96e5632a...      chf  240.0   \n",
       "\n",
       "  subscription_type  subscription_monthly subscription_start subscription_end  \\\n",
       "0             BASIC                     0         2017-02-24       2021-02-23   \n",
       "1             BASIC                     0         2017-08-21       2023-08-20   \n",
       "2             BASIC                     1         2017-09-26       2022-10-08   \n",
       "3             BASIC                     0         2017-09-28       2021-09-27   \n",
       "5            PATRON                     0         2017-11-18       2020-11-17   \n",
       "\n",
       "   gift_subscription  \n",
       "0              False  \n",
       "1              False  \n",
       "2              False  \n",
       "3              False  \n",
       "5              False  "
      ]
     },
     "execution_count": 64,
     "metadata": {},
     "output_type": "execute_result"
    }
   ],
   "source": [
    "#df_subscriptions.price.isin(['60.0']).nunique()\n",
    "df_subscriptions_new = df_subscriptions[df_subscriptions['price'].isin([9.0, 90.0, 15.0, 150.0, 240.0, 7.5, 12.5, 75.0, 200.0, 125.0])]\n",
    "df_subscriptions_new.head()\n",
    "\n"
   ]
  },
  {
   "cell_type": "code",
   "execution_count": 65,
   "metadata": {},
   "outputs": [
    {
     "data": {
      "text/plain": [
       "9.0     2917\n",
       "90.0    2533\n",
       "7.5      272\n",
       "75.0     139\n",
       "Name: price, dtype: int64"
      ]
     },
     "execution_count": 65,
     "metadata": {},
     "output_type": "execute_result"
    }
   ],
   "source": [
    "#Check is Standard and Basic is the same\n",
    "df_subscriptions_new[df_subscriptions_new.subscription_type.isin(['BASIC'])].price.value_counts()"
   ]
  },
  {
   "cell_type": "code",
   "execution_count": 66,
   "metadata": {},
   "outputs": [
    {
     "data": {
      "text/plain": [
       "15.0     2118\n",
       "150.0    1146\n",
       "12.5      166\n",
       "125.0      46\n",
       "75.0        2\n",
       "90.0        1\n",
       "Name: price, dtype: int64"
      ]
     },
     "execution_count": 66,
     "metadata": {},
     "output_type": "execute_result"
    }
   ],
   "source": [
    "#Check is Standard and Basic is the same\n",
    "df_subscriptions_new[df_subscriptions_new.subscription_type.isin(['STANDARD'])].price.value_counts()"
   ]
  },
  {
   "cell_type": "code",
   "execution_count": 67,
   "metadata": {},
   "outputs": [],
   "source": [
    "# drop currency and old price column"
   ]
  },
  {
   "cell_type": "code",
   "execution_count": 68,
   "metadata": {},
   "outputs": [
    {
     "name": "stderr",
     "output_type": "stream",
     "text": [
      "/var/folders/r7/q9jl0fh51t9g8_18f84fg8rr0000gp/T/ipykernel_43901/751530836.py:2: SettingWithCopyWarning: \n",
      "A value is trying to be set on a copy of a slice from a DataFrame\n",
      "\n",
      "See the caveats in the documentation: https://pandas.pydata.org/pandas-docs/stable/user_guide/indexing.html#returning-a-view-versus-a-copy\n",
      "  df_subscriptions_new.drop(df_subscriptions_new[(df_subscriptions_new['subscription_type'] == 'STANDARD') & (df_subscriptions_new['currency'] == 'chf') & (df_subscriptions_new['price'] == 90)].index, inplace = True)\n"
     ]
    }
   ],
   "source": [
    "# drop \"wrong\" price columns\n",
    "df_subscriptions_new.drop(df_subscriptions_new[(df_subscriptions_new['subscription_type'] == 'STANDARD') & (df_subscriptions_new['currency'] == 'chf') & (df_subscriptions_new['price'] == 90)].index, inplace = True)"
   ]
  },
  {
   "cell_type": "code",
   "execution_count": 69,
   "metadata": {},
   "outputs": [
    {
     "name": "stderr",
     "output_type": "stream",
     "text": [
      "/var/folders/r7/q9jl0fh51t9g8_18f84fg8rr0000gp/T/ipykernel_43901/2348414299.py:1: SettingWithCopyWarning: \n",
      "A value is trying to be set on a copy of a slice from a DataFrame\n",
      "\n",
      "See the caveats in the documentation: https://pandas.pydata.org/pandas-docs/stable/user_guide/indexing.html#returning-a-view-versus-a-copy\n",
      "  df_subscriptions_new.drop(df_subscriptions_new[(df_subscriptions_new['subscription_type'] == 'FULLACCESS') & (df_subscriptions_new['currency'] == 'chf') & (df_subscriptions_new['price'] == 90)].index, inplace = True)\n"
     ]
    }
   ],
   "source": [
    "df_subscriptions_new.drop(df_subscriptions_new[(df_subscriptions_new['subscription_type'] == 'FULLACCESS') & (df_subscriptions_new['currency'] == 'chf') & (df_subscriptions_new['price'] == 90)].index, inplace = True)"
   ]
  },
  {
   "cell_type": "code",
   "execution_count": 70,
   "metadata": {},
   "outputs": [
    {
     "name": "stderr",
     "output_type": "stream",
     "text": [
      "/var/folders/r7/q9jl0fh51t9g8_18f84fg8rr0000gp/T/ipykernel_43901/2852595276.py:1: SettingWithCopyWarning: \n",
      "A value is trying to be set on a copy of a slice from a DataFrame\n",
      "\n",
      "See the caveats in the documentation: https://pandas.pydata.org/pandas-docs/stable/user_guide/indexing.html#returning-a-view-versus-a-copy\n",
      "  df_subscriptions_new.drop(df_subscriptions_new[(df_subscriptions_new['subscription_type'] == 'STANDARD') & (df_subscriptions_new['currency'] == 'chf') & (df_subscriptions_new['price'] == 75)].index, inplace = True)\n"
     ]
    }
   ],
   "source": [
    "df_subscriptions_new.drop(df_subscriptions_new[(df_subscriptions_new['subscription_type'] == 'STANDARD') & (df_subscriptions_new['currency'] == 'chf') & (df_subscriptions_new['price'] == 75)].index, inplace = True)"
   ]
  },
  {
   "cell_type": "code",
   "execution_count": 71,
   "metadata": {},
   "outputs": [
    {
     "name": "stderr",
     "output_type": "stream",
     "text": [
      "/var/folders/r7/q9jl0fh51t9g8_18f84fg8rr0000gp/T/ipykernel_43901/4257649344.py:2: SettingWithCopyWarning: \n",
      "A value is trying to be set on a copy of a slice from a DataFrame\n",
      "\n",
      "See the caveats in the documentation: https://pandas.pydata.org/pandas-docs/stable/user_guide/indexing.html#returning-a-view-versus-a-copy\n",
      "  df_subscriptions_new.drop(df_subscriptions_new[(df_subscriptions_new['subscription_type'] == 'STANDARD') & (df_subscriptions_new['currency'] == 'chf') & (df_subscriptions_new['price'] == 15) & (df_subscriptions_new['subscription_monthly'] == 0)].index, inplace = True)\n"
     ]
    }
   ],
   "source": [
    "# drop \"wrong\" subscription_monthly column\n",
    "df_subscriptions_new.drop(df_subscriptions_new[(df_subscriptions_new['subscription_type'] == 'STANDARD') & (df_subscriptions_new['currency'] == 'chf') & (df_subscriptions_new['price'] == 15) & (df_subscriptions_new['subscription_monthly'] == 0)].index, inplace = True)"
   ]
  },
  {
   "cell_type": "code",
   "execution_count": 72,
   "metadata": {},
   "outputs": [
    {
     "data": {
      "text/plain": [
       "currency  price  subscription_type\n",
       "chf       9.0    BASIC                2917\n",
       "          15.0   STANDARD             2117\n",
       "          90.0   BASIC                2533\n",
       "          150.0  STANDARD             1146\n",
       "          240.0  PATRON               1052\n",
       "eur       7.5    BASIC                 272\n",
       "          12.5   STANDARD              166\n",
       "          75.0   BASIC                 139\n",
       "          125.0  STANDARD               46\n",
       "          200.0  PATRON                 50\n",
       "Name: subscription_type, dtype: int64"
      ]
     },
     "execution_count": 72,
     "metadata": {},
     "output_type": "execute_result"
    }
   ],
   "source": [
    "df_subscriptions_new.groupby(['currency','price']).subscription_type.value_counts()"
   ]
  },
  {
   "cell_type": "code",
   "execution_count": 73,
   "metadata": {},
   "outputs": [
    {
     "data": {
      "text/plain": [
       "currency  price  subscription_monthly  subscription_type\n",
       "chf       9.0    1                     BASIC                2917\n",
       "          15.0   1                     STANDARD             2117\n",
       "          90.0   0                     BASIC                2533\n",
       "          150.0  0                     STANDARD             1146\n",
       "          240.0  0                     PATRON               1052\n",
       "eur       7.5    1                     BASIC                 272\n",
       "          12.5   1                     STANDARD              166\n",
       "          75.0   0                     BASIC                 139\n",
       "          125.0  0                     STANDARD               46\n",
       "          200.0  0                     PATRON                 50\n",
       "Name: subscription_type, dtype: int64"
      ]
     },
     "execution_count": 73,
     "metadata": {},
     "output_type": "execute_result"
    }
   ],
   "source": [
    "df_subscriptions_new.groupby(['currency','price', 'subscription_monthly']).subscription_type.value_counts()"
   ]
  },
  {
   "cell_type": "code",
   "execution_count": 74,
   "metadata": {},
   "outputs": [
    {
     "data": {
      "text/html": [
       "<div>\n",
       "<style scoped>\n",
       "    .dataframe tbody tr th:only-of-type {\n",
       "        vertical-align: middle;\n",
       "    }\n",
       "\n",
       "    .dataframe tbody tr th {\n",
       "        vertical-align: top;\n",
       "    }\n",
       "\n",
       "    .dataframe thead th {\n",
       "        text-align: right;\n",
       "    }\n",
       "</style>\n",
       "<table border=\"1\" class=\"dataframe\">\n",
       "  <thead>\n",
       "    <tr style=\"text-align: right;\">\n",
       "      <th></th>\n",
       "      <th>subscription_key</th>\n",
       "      <th>account_key</th>\n",
       "      <th>currency</th>\n",
       "      <th>price</th>\n",
       "      <th>subscription_type</th>\n",
       "      <th>subscription_monthly</th>\n",
       "      <th>subscription_start</th>\n",
       "      <th>subscription_end</th>\n",
       "      <th>gift_subscription</th>\n",
       "    </tr>\n",
       "  </thead>\n",
       "  <tbody>\n",
       "    <tr>\n",
       "      <th>0</th>\n",
       "      <td>1b82b2308dcae546ad0194d03b9d23edd5d2781109de28...</td>\n",
       "      <td>ab1bcf2c1b8d4eb422079becc0c59b1c7db2fd009235d2...</td>\n",
       "      <td>chf</td>\n",
       "      <td>90.0</td>\n",
       "      <td>BASIC</td>\n",
       "      <td>0</td>\n",
       "      <td>2017-02-24</td>\n",
       "      <td>2021-02-23</td>\n",
       "      <td>False</td>\n",
       "    </tr>\n",
       "    <tr>\n",
       "      <th>1</th>\n",
       "      <td>4cb9f67d44d60eca0485270d73b3028143021296081847...</td>\n",
       "      <td>ee1a45a439dc6968f1cfc2b9840264deeada4c0d93f389...</td>\n",
       "      <td>chf</td>\n",
       "      <td>90.0</td>\n",
       "      <td>BASIC</td>\n",
       "      <td>0</td>\n",
       "      <td>2017-08-21</td>\n",
       "      <td>2023-08-20</td>\n",
       "      <td>False</td>\n",
       "    </tr>\n",
       "    <tr>\n",
       "      <th>2</th>\n",
       "      <td>40f9e218b70a6f482ecfcde0011305d93fa6059f624a50...</td>\n",
       "      <td>8bf8f58e615549df5f05b717b6e914da80e213edab3dba...</td>\n",
       "      <td>chf</td>\n",
       "      <td>9.0</td>\n",
       "      <td>BASIC</td>\n",
       "      <td>1</td>\n",
       "      <td>2017-09-26</td>\n",
       "      <td>2022-10-08</td>\n",
       "      <td>False</td>\n",
       "    </tr>\n",
       "    <tr>\n",
       "      <th>3</th>\n",
       "      <td>69d21e601612cc97fc7df9bd17a281879f785358d1c681...</td>\n",
       "      <td>cf914aa939499e8e18fdd9494fce5297b9dce2e1f909ea...</td>\n",
       "      <td>chf</td>\n",
       "      <td>90.0</td>\n",
       "      <td>BASIC</td>\n",
       "      <td>0</td>\n",
       "      <td>2017-09-28</td>\n",
       "      <td>2021-09-27</td>\n",
       "      <td>False</td>\n",
       "    </tr>\n",
       "    <tr>\n",
       "      <th>5</th>\n",
       "      <td>f5627e4ef66f219cfbcfb507a056bf1a0629f085a46e92...</td>\n",
       "      <td>c5511d59d31159ecb87ca1d7cfb3e44a6c4a4b96e5632a...</td>\n",
       "      <td>chf</td>\n",
       "      <td>240.0</td>\n",
       "      <td>PATRON</td>\n",
       "      <td>0</td>\n",
       "      <td>2017-11-18</td>\n",
       "      <td>2020-11-17</td>\n",
       "      <td>False</td>\n",
       "    </tr>\n",
       "    <tr>\n",
       "      <th>6</th>\n",
       "      <td>8e42bc7151b4b0dd29e362b95fec4aa3b8e53c532d40ba...</td>\n",
       "      <td>7f1182ed60acb48e4a55eb54b91bca7f20c55c066d8848...</td>\n",
       "      <td>chf</td>\n",
       "      <td>150.0</td>\n",
       "      <td>STANDARD</td>\n",
       "      <td>0</td>\n",
       "      <td>2017-12-20</td>\n",
       "      <td>2021-12-19</td>\n",
       "      <td>False</td>\n",
       "    </tr>\n",
       "    <tr>\n",
       "      <th>7</th>\n",
       "      <td>9f22270608209a507f93f3a74448a78a82f9741bc36ea3...</td>\n",
       "      <td>2c2621bf34f1cc419c0868f27ffece66dc1fb4f5ec665c...</td>\n",
       "      <td>chf</td>\n",
       "      <td>9.0</td>\n",
       "      <td>BASIC</td>\n",
       "      <td>1</td>\n",
       "      <td>2017-12-21</td>\n",
       "      <td>2020-11-08</td>\n",
       "      <td>False</td>\n",
       "    </tr>\n",
       "    <tr>\n",
       "      <th>8</th>\n",
       "      <td>03411f3ad7d86f2e1df3db5a337c3025ba35159eb9b41e...</td>\n",
       "      <td>163db260041d30a58540a19312d416c9fc7cc696754108...</td>\n",
       "      <td>chf</td>\n",
       "      <td>9.0</td>\n",
       "      <td>BASIC</td>\n",
       "      <td>1</td>\n",
       "      <td>2017-12-22</td>\n",
       "      <td>2020-10-08</td>\n",
       "      <td>False</td>\n",
       "    </tr>\n",
       "    <tr>\n",
       "      <th>9</th>\n",
       "      <td>c254cee83dfc67c794b843a0ad622456cb36fdfe5143c4...</td>\n",
       "      <td>47e795383bff3d37a251be1d911ffc0a7ca6f0da8b70a4...</td>\n",
       "      <td>chf</td>\n",
       "      <td>240.0</td>\n",
       "      <td>PATRON</td>\n",
       "      <td>0</td>\n",
       "      <td>2017-12-31</td>\n",
       "      <td>2022-12-30</td>\n",
       "      <td>False</td>\n",
       "    </tr>\n",
       "    <tr>\n",
       "      <th>10</th>\n",
       "      <td>612235c848d8c41d317be6e63d5d05799defa916a5c3fd...</td>\n",
       "      <td>ea12fb65247707f6d50eca5a0ecff7553cab9947b788bf...</td>\n",
       "      <td>chf</td>\n",
       "      <td>90.0</td>\n",
       "      <td>BASIC</td>\n",
       "      <td>0</td>\n",
       "      <td>2018-01-12</td>\n",
       "      <td>2021-01-12</td>\n",
       "      <td>False</td>\n",
       "    </tr>\n",
       "    <tr>\n",
       "      <th>11</th>\n",
       "      <td>b0c0ca31d915c1670f97e4f347fb8d6955be093cd3a337...</td>\n",
       "      <td>81b3bd2f64281f2560ebfa7be18a45b608687a0d146692...</td>\n",
       "      <td>chf</td>\n",
       "      <td>90.0</td>\n",
       "      <td>BASIC</td>\n",
       "      <td>0</td>\n",
       "      <td>2018-01-20</td>\n",
       "      <td>2021-02-08</td>\n",
       "      <td>False</td>\n",
       "    </tr>\n",
       "    <tr>\n",
       "      <th>12</th>\n",
       "      <td>3ad77a78e43113361666ec1a4b06540fc2ddd84ae7cbab...</td>\n",
       "      <td>3c84a8fb5508a115e73dc7d863452c4eb4e5ce7033adf6...</td>\n",
       "      <td>chf</td>\n",
       "      <td>9.0</td>\n",
       "      <td>BASIC</td>\n",
       "      <td>1</td>\n",
       "      <td>2018-02-08</td>\n",
       "      <td>2020-11-12</td>\n",
       "      <td>False</td>\n",
       "    </tr>\n",
       "    <tr>\n",
       "      <th>13</th>\n",
       "      <td>51bb7060d49abfb24919ab8b25593749a5a47334a31df2...</td>\n",
       "      <td>a307028539cad88dfcd863f8ff7fbd87e4bfe9fec01ace...</td>\n",
       "      <td>chf</td>\n",
       "      <td>90.0</td>\n",
       "      <td>BASIC</td>\n",
       "      <td>0</td>\n",
       "      <td>2018-03-10</td>\n",
       "      <td>2022-03-09</td>\n",
       "      <td>False</td>\n",
       "    </tr>\n",
       "    <tr>\n",
       "      <th>14</th>\n",
       "      <td>1fa7121b01c506442dfca1527c3958770c03a33c6f5e15...</td>\n",
       "      <td>28f76e3baebc94d855c22a25765b66dd0167b3ac4e0881...</td>\n",
       "      <td>chf</td>\n",
       "      <td>90.0</td>\n",
       "      <td>BASIC</td>\n",
       "      <td>0</td>\n",
       "      <td>2018-03-28</td>\n",
       "      <td>2021-03-27</td>\n",
       "      <td>False</td>\n",
       "    </tr>\n",
       "    <tr>\n",
       "      <th>15</th>\n",
       "      <td>415827a3e128415aa6d8e2405ef3f14de46a1691cf1c9e...</td>\n",
       "      <td>4b12cb168ff4ed6ae8d31c607eb9291a9365bb5840cc7d...</td>\n",
       "      <td>chf</td>\n",
       "      <td>90.0</td>\n",
       "      <td>BASIC</td>\n",
       "      <td>0</td>\n",
       "      <td>2018-04-06</td>\n",
       "      <td>2023-04-05</td>\n",
       "      <td>False</td>\n",
       "    </tr>\n",
       "    <tr>\n",
       "      <th>16</th>\n",
       "      <td>6458d5cac4ccd47c26183b34ef4f5028249ac2658c46fe...</td>\n",
       "      <td>a39dbaa7972fb67c15db79d4a66cf5d1b94855ae530774...</td>\n",
       "      <td>chf</td>\n",
       "      <td>9.0</td>\n",
       "      <td>BASIC</td>\n",
       "      <td>1</td>\n",
       "      <td>2018-04-13</td>\n",
       "      <td>2021-08-30</td>\n",
       "      <td>False</td>\n",
       "    </tr>\n",
       "    <tr>\n",
       "      <th>17</th>\n",
       "      <td>b9cfc9fe9b1b7433ec21e860afd1a973b4473e9b1fa364...</td>\n",
       "      <td>cb2c98e1b36d703d51b0fd1491b44b67d60a642639a3bd...</td>\n",
       "      <td>chf</td>\n",
       "      <td>90.0</td>\n",
       "      <td>BASIC</td>\n",
       "      <td>0</td>\n",
       "      <td>2018-04-23</td>\n",
       "      <td>2021-04-22</td>\n",
       "      <td>False</td>\n",
       "    </tr>\n",
       "    <tr>\n",
       "      <th>18</th>\n",
       "      <td>fd92950831f7d26e4a5c8c4f859319ea55e1dca43c7588...</td>\n",
       "      <td>c8c2047b65a7a540715cd61c9a440023465811a25101d0...</td>\n",
       "      <td>chf</td>\n",
       "      <td>90.0</td>\n",
       "      <td>BASIC</td>\n",
       "      <td>0</td>\n",
       "      <td>2018-04-28</td>\n",
       "      <td>2021-04-27</td>\n",
       "      <td>False</td>\n",
       "    </tr>\n",
       "    <tr>\n",
       "      <th>20</th>\n",
       "      <td>195c3c63f870fdb72878aeea689711a50c614d645a2a8c...</td>\n",
       "      <td>c33fa35ee18214d82c0221ae7b6d056171cdd4a831ee8b...</td>\n",
       "      <td>chf</td>\n",
       "      <td>90.0</td>\n",
       "      <td>BASIC</td>\n",
       "      <td>0</td>\n",
       "      <td>2018-05-20</td>\n",
       "      <td>2021-05-19</td>\n",
       "      <td>False</td>\n",
       "    </tr>\n",
       "    <tr>\n",
       "      <th>21</th>\n",
       "      <td>b63ef4ab4f169311fb22929d8754a9e63452d935d269a3...</td>\n",
       "      <td>7561bfb186e50282d1e7030569dacc1cbbe750279b4f73...</td>\n",
       "      <td>chf</td>\n",
       "      <td>240.0</td>\n",
       "      <td>PATRON</td>\n",
       "      <td>0</td>\n",
       "      <td>2018-05-22</td>\n",
       "      <td>2022-05-21</td>\n",
       "      <td>False</td>\n",
       "    </tr>\n",
       "  </tbody>\n",
       "</table>\n",
       "</div>"
      ],
      "text/plain": [
       "                                     subscription_key  \\\n",
       "0   1b82b2308dcae546ad0194d03b9d23edd5d2781109de28...   \n",
       "1   4cb9f67d44d60eca0485270d73b3028143021296081847...   \n",
       "2   40f9e218b70a6f482ecfcde0011305d93fa6059f624a50...   \n",
       "3   69d21e601612cc97fc7df9bd17a281879f785358d1c681...   \n",
       "5   f5627e4ef66f219cfbcfb507a056bf1a0629f085a46e92...   \n",
       "6   8e42bc7151b4b0dd29e362b95fec4aa3b8e53c532d40ba...   \n",
       "7   9f22270608209a507f93f3a74448a78a82f9741bc36ea3...   \n",
       "8   03411f3ad7d86f2e1df3db5a337c3025ba35159eb9b41e...   \n",
       "9   c254cee83dfc67c794b843a0ad622456cb36fdfe5143c4...   \n",
       "10  612235c848d8c41d317be6e63d5d05799defa916a5c3fd...   \n",
       "11  b0c0ca31d915c1670f97e4f347fb8d6955be093cd3a337...   \n",
       "12  3ad77a78e43113361666ec1a4b06540fc2ddd84ae7cbab...   \n",
       "13  51bb7060d49abfb24919ab8b25593749a5a47334a31df2...   \n",
       "14  1fa7121b01c506442dfca1527c3958770c03a33c6f5e15...   \n",
       "15  415827a3e128415aa6d8e2405ef3f14de46a1691cf1c9e...   \n",
       "16  6458d5cac4ccd47c26183b34ef4f5028249ac2658c46fe...   \n",
       "17  b9cfc9fe9b1b7433ec21e860afd1a973b4473e9b1fa364...   \n",
       "18  fd92950831f7d26e4a5c8c4f859319ea55e1dca43c7588...   \n",
       "20  195c3c63f870fdb72878aeea689711a50c614d645a2a8c...   \n",
       "21  b63ef4ab4f169311fb22929d8754a9e63452d935d269a3...   \n",
       "\n",
       "                                          account_key currency  price  \\\n",
       "0   ab1bcf2c1b8d4eb422079becc0c59b1c7db2fd009235d2...      chf   90.0   \n",
       "1   ee1a45a439dc6968f1cfc2b9840264deeada4c0d93f389...      chf   90.0   \n",
       "2   8bf8f58e615549df5f05b717b6e914da80e213edab3dba...      chf    9.0   \n",
       "3   cf914aa939499e8e18fdd9494fce5297b9dce2e1f909ea...      chf   90.0   \n",
       "5   c5511d59d31159ecb87ca1d7cfb3e44a6c4a4b96e5632a...      chf  240.0   \n",
       "6   7f1182ed60acb48e4a55eb54b91bca7f20c55c066d8848...      chf  150.0   \n",
       "7   2c2621bf34f1cc419c0868f27ffece66dc1fb4f5ec665c...      chf    9.0   \n",
       "8   163db260041d30a58540a19312d416c9fc7cc696754108...      chf    9.0   \n",
       "9   47e795383bff3d37a251be1d911ffc0a7ca6f0da8b70a4...      chf  240.0   \n",
       "10  ea12fb65247707f6d50eca5a0ecff7553cab9947b788bf...      chf   90.0   \n",
       "11  81b3bd2f64281f2560ebfa7be18a45b608687a0d146692...      chf   90.0   \n",
       "12  3c84a8fb5508a115e73dc7d863452c4eb4e5ce7033adf6...      chf    9.0   \n",
       "13  a307028539cad88dfcd863f8ff7fbd87e4bfe9fec01ace...      chf   90.0   \n",
       "14  28f76e3baebc94d855c22a25765b66dd0167b3ac4e0881...      chf   90.0   \n",
       "15  4b12cb168ff4ed6ae8d31c607eb9291a9365bb5840cc7d...      chf   90.0   \n",
       "16  a39dbaa7972fb67c15db79d4a66cf5d1b94855ae530774...      chf    9.0   \n",
       "17  cb2c98e1b36d703d51b0fd1491b44b67d60a642639a3bd...      chf   90.0   \n",
       "18  c8c2047b65a7a540715cd61c9a440023465811a25101d0...      chf   90.0   \n",
       "20  c33fa35ee18214d82c0221ae7b6d056171cdd4a831ee8b...      chf   90.0   \n",
       "21  7561bfb186e50282d1e7030569dacc1cbbe750279b4f73...      chf  240.0   \n",
       "\n",
       "   subscription_type  subscription_monthly subscription_start  \\\n",
       "0              BASIC                     0         2017-02-24   \n",
       "1              BASIC                     0         2017-08-21   \n",
       "2              BASIC                     1         2017-09-26   \n",
       "3              BASIC                     0         2017-09-28   \n",
       "5             PATRON                     0         2017-11-18   \n",
       "6           STANDARD                     0         2017-12-20   \n",
       "7              BASIC                     1         2017-12-21   \n",
       "8              BASIC                     1         2017-12-22   \n",
       "9             PATRON                     0         2017-12-31   \n",
       "10             BASIC                     0         2018-01-12   \n",
       "11             BASIC                     0         2018-01-20   \n",
       "12             BASIC                     1         2018-02-08   \n",
       "13             BASIC                     0         2018-03-10   \n",
       "14             BASIC                     0         2018-03-28   \n",
       "15             BASIC                     0         2018-04-06   \n",
       "16             BASIC                     1         2018-04-13   \n",
       "17             BASIC                     0         2018-04-23   \n",
       "18             BASIC                     0         2018-04-28   \n",
       "20             BASIC                     0         2018-05-20   \n",
       "21            PATRON                     0         2018-05-22   \n",
       "\n",
       "   subscription_end  gift_subscription  \n",
       "0        2021-02-23              False  \n",
       "1        2023-08-20              False  \n",
       "2        2022-10-08              False  \n",
       "3        2021-09-27              False  \n",
       "5        2020-11-17              False  \n",
       "6        2021-12-19              False  \n",
       "7        2020-11-08              False  \n",
       "8        2020-10-08              False  \n",
       "9        2022-12-30              False  \n",
       "10       2021-01-12              False  \n",
       "11       2021-02-08              False  \n",
       "12       2020-11-12              False  \n",
       "13       2022-03-09              False  \n",
       "14       2021-03-27              False  \n",
       "15       2023-04-05              False  \n",
       "16       2021-08-30              False  \n",
       "17       2021-04-22              False  \n",
       "18       2021-04-27              False  \n",
       "20       2021-05-19              False  \n",
       "21       2022-05-21              False  "
      ]
     },
     "execution_count": 74,
     "metadata": {},
     "output_type": "execute_result"
    }
   ],
   "source": [
    "df_subscriptions_new.head(20)"
   ]
  },
  {
   "cell_type": "code",
   "execution_count": null,
   "metadata": {},
   "outputs": [],
   "source": []
  },
  {
   "cell_type": "code",
   "execution_count": 75,
   "metadata": {},
   "outputs": [
    {
     "name": "stderr",
     "output_type": "stream",
     "text": [
      "/var/folders/r7/q9jl0fh51t9g8_18f84fg8rr0000gp/T/ipykernel_43901/2398592691.py:18: SettingWithCopyWarning: \n",
      "A value is trying to be set on a copy of a slice from a DataFrame.\n",
      "Try using .loc[row_indexer,col_indexer] = value instead\n",
      "\n",
      "See the caveats in the documentation: https://pandas.pydata.org/pandas-docs/stable/user_guide/indexing.html#returning-a-view-versus-a-copy\n",
      "  df_subscriptions_new['price_chf'] = np.select(conditions, values_chf)\n",
      "/var/folders/r7/q9jl0fh51t9g8_18f84fg8rr0000gp/T/ipykernel_43901/2398592691.py:19: SettingWithCopyWarning: \n",
      "A value is trying to be set on a copy of a slice from a DataFrame.\n",
      "Try using .loc[row_indexer,col_indexer] = value instead\n",
      "\n",
      "See the caveats in the documentation: https://pandas.pydata.org/pandas-docs/stable/user_guide/indexing.html#returning-a-view-versus-a-copy\n",
      "  df_subscriptions_new['price_eur'] = np.select(conditions, values_eur)\n"
     ]
    },
    {
     "data": {
      "text/html": [
       "<div>\n",
       "<style scoped>\n",
       "    .dataframe tbody tr th:only-of-type {\n",
       "        vertical-align: middle;\n",
       "    }\n",
       "\n",
       "    .dataframe tbody tr th {\n",
       "        vertical-align: top;\n",
       "    }\n",
       "\n",
       "    .dataframe thead th {\n",
       "        text-align: right;\n",
       "    }\n",
       "</style>\n",
       "<table border=\"1\" class=\"dataframe\">\n",
       "  <thead>\n",
       "    <tr style=\"text-align: right;\">\n",
       "      <th></th>\n",
       "      <th>subscription_key</th>\n",
       "      <th>account_key</th>\n",
       "      <th>currency</th>\n",
       "      <th>price</th>\n",
       "      <th>subscription_type</th>\n",
       "      <th>subscription_monthly</th>\n",
       "      <th>subscription_start</th>\n",
       "      <th>subscription_end</th>\n",
       "      <th>gift_subscription</th>\n",
       "      <th>price_chf</th>\n",
       "      <th>price_eur</th>\n",
       "    </tr>\n",
       "  </thead>\n",
       "  <tbody>\n",
       "    <tr>\n",
       "      <th>0</th>\n",
       "      <td>1b82b2308dcae546ad0194d03b9d23edd5d2781109de28...</td>\n",
       "      <td>ab1bcf2c1b8d4eb422079becc0c59b1c7db2fd009235d2...</td>\n",
       "      <td>chf</td>\n",
       "      <td>90.0</td>\n",
       "      <td>BASIC</td>\n",
       "      <td>0</td>\n",
       "      <td>2017-02-24</td>\n",
       "      <td>2021-02-23</td>\n",
       "      <td>False</td>\n",
       "      <td>90.0</td>\n",
       "      <td>75.0</td>\n",
       "    </tr>\n",
       "    <tr>\n",
       "      <th>1</th>\n",
       "      <td>4cb9f67d44d60eca0485270d73b3028143021296081847...</td>\n",
       "      <td>ee1a45a439dc6968f1cfc2b9840264deeada4c0d93f389...</td>\n",
       "      <td>chf</td>\n",
       "      <td>90.0</td>\n",
       "      <td>BASIC</td>\n",
       "      <td>0</td>\n",
       "      <td>2017-08-21</td>\n",
       "      <td>2023-08-20</td>\n",
       "      <td>False</td>\n",
       "      <td>90.0</td>\n",
       "      <td>75.0</td>\n",
       "    </tr>\n",
       "    <tr>\n",
       "      <th>2</th>\n",
       "      <td>40f9e218b70a6f482ecfcde0011305d93fa6059f624a50...</td>\n",
       "      <td>8bf8f58e615549df5f05b717b6e914da80e213edab3dba...</td>\n",
       "      <td>chf</td>\n",
       "      <td>9.0</td>\n",
       "      <td>BASIC</td>\n",
       "      <td>1</td>\n",
       "      <td>2017-09-26</td>\n",
       "      <td>2022-10-08</td>\n",
       "      <td>False</td>\n",
       "      <td>9.0</td>\n",
       "      <td>7.5</td>\n",
       "    </tr>\n",
       "    <tr>\n",
       "      <th>3</th>\n",
       "      <td>69d21e601612cc97fc7df9bd17a281879f785358d1c681...</td>\n",
       "      <td>cf914aa939499e8e18fdd9494fce5297b9dce2e1f909ea...</td>\n",
       "      <td>chf</td>\n",
       "      <td>90.0</td>\n",
       "      <td>BASIC</td>\n",
       "      <td>0</td>\n",
       "      <td>2017-09-28</td>\n",
       "      <td>2021-09-27</td>\n",
       "      <td>False</td>\n",
       "      <td>90.0</td>\n",
       "      <td>75.0</td>\n",
       "    </tr>\n",
       "    <tr>\n",
       "      <th>5</th>\n",
       "      <td>f5627e4ef66f219cfbcfb507a056bf1a0629f085a46e92...</td>\n",
       "      <td>c5511d59d31159ecb87ca1d7cfb3e44a6c4a4b96e5632a...</td>\n",
       "      <td>chf</td>\n",
       "      <td>240.0</td>\n",
       "      <td>PATRON</td>\n",
       "      <td>0</td>\n",
       "      <td>2017-11-18</td>\n",
       "      <td>2020-11-17</td>\n",
       "      <td>False</td>\n",
       "      <td>240.0</td>\n",
       "      <td>200.0</td>\n",
       "    </tr>\n",
       "  </tbody>\n",
       "</table>\n",
       "</div>"
      ],
      "text/plain": [
       "                                    subscription_key  \\\n",
       "0  1b82b2308dcae546ad0194d03b9d23edd5d2781109de28...   \n",
       "1  4cb9f67d44d60eca0485270d73b3028143021296081847...   \n",
       "2  40f9e218b70a6f482ecfcde0011305d93fa6059f624a50...   \n",
       "3  69d21e601612cc97fc7df9bd17a281879f785358d1c681...   \n",
       "5  f5627e4ef66f219cfbcfb507a056bf1a0629f085a46e92...   \n",
       "\n",
       "                                         account_key currency  price  \\\n",
       "0  ab1bcf2c1b8d4eb422079becc0c59b1c7db2fd009235d2...      chf   90.0   \n",
       "1  ee1a45a439dc6968f1cfc2b9840264deeada4c0d93f389...      chf   90.0   \n",
       "2  8bf8f58e615549df5f05b717b6e914da80e213edab3dba...      chf    9.0   \n",
       "3  cf914aa939499e8e18fdd9494fce5297b9dce2e1f909ea...      chf   90.0   \n",
       "5  c5511d59d31159ecb87ca1d7cfb3e44a6c4a4b96e5632a...      chf  240.0   \n",
       "\n",
       "  subscription_type  subscription_monthly subscription_start subscription_end  \\\n",
       "0             BASIC                     0         2017-02-24       2021-02-23   \n",
       "1             BASIC                     0         2017-08-21       2023-08-20   \n",
       "2             BASIC                     1         2017-09-26       2022-10-08   \n",
       "3             BASIC                     0         2017-09-28       2021-09-27   \n",
       "5            PATRON                     0         2017-11-18       2020-11-17   \n",
       "\n",
       "   gift_subscription price_chf price_eur  \n",
       "0              False      90.0      75.0  \n",
       "1              False      90.0      75.0  \n",
       "2              False       9.0       7.5  \n",
       "3              False      90.0      75.0  \n",
       "5              False     240.0     200.0  "
      ]
     },
     "execution_count": 75,
     "metadata": {},
     "output_type": "execute_result"
    }
   ],
   "source": [
    "# Create two columns for chf and eur based on the subscription_type and prices from the filmingo website\n",
    "\n",
    "# create a list of our conditions\n",
    "conditions = [\n",
    "    ((df_subscriptions_new['subscription_type'] == 'BASIC') & (df_subscriptions_new['subscription_monthly'] == 0)),\n",
    "    ((df_subscriptions_new['subscription_type'] == 'BASIC') & (df_subscriptions_new['subscription_monthly'] == 1)),\n",
    "    ((df_subscriptions_new['subscription_type'] == 'STANDARD') & (df_subscriptions_new['subscription_monthly'] == 0)),\n",
    "    ((df_subscriptions_new['subscription_type'] == 'STANDARD') & (df_subscriptions_new['subscription_monthly'] == 1)),\n",
    "    ((df_subscriptions_new['subscription_type'] == 'PATRON') & (df_subscriptions_new['subscription_monthly'] == 0))\n",
    "\n",
    "]\n",
    "\n",
    "# create a list of the values we want to assign for each condition\n",
    "values_chf = ['90.0', '9.0', '150.0', '15.0', '240.0']\n",
    "values_eur = ['75.0', '7.5', '125.0', '12.5', '200.0']\n",
    "\n",
    "# create a new column and use np.select to assign values to it using our lists as arguments\n",
    "df_subscriptions_new['price_chf'] = np.select(conditions, values_chf)\n",
    "df_subscriptions_new['price_eur'] = np.select(conditions, values_eur)\n",
    "\n",
    "\n"
   ]
  },
  {
   "cell_type": "code",
   "execution_count": 76,
   "metadata": {},
   "outputs": [
    {
     "data": {
      "text/html": [
       "<div>\n",
       "<style scoped>\n",
       "    .dataframe tbody tr th:only-of-type {\n",
       "        vertical-align: middle;\n",
       "    }\n",
       "\n",
       "    .dataframe tbody tr th {\n",
       "        vertical-align: top;\n",
       "    }\n",
       "\n",
       "    .dataframe thead th {\n",
       "        text-align: right;\n",
       "    }\n",
       "</style>\n",
       "<table border=\"1\" class=\"dataframe\">\n",
       "  <thead>\n",
       "    <tr style=\"text-align: right;\">\n",
       "      <th></th>\n",
       "      <th>subscription_key</th>\n",
       "      <th>account_key</th>\n",
       "      <th>currency</th>\n",
       "      <th>price</th>\n",
       "      <th>subscription_type</th>\n",
       "      <th>subscription_monthly</th>\n",
       "      <th>subscription_start</th>\n",
       "      <th>subscription_end</th>\n",
       "      <th>gift_subscription</th>\n",
       "      <th>price_chf</th>\n",
       "      <th>price_eur</th>\n",
       "    </tr>\n",
       "  </thead>\n",
       "  <tbody>\n",
       "    <tr>\n",
       "      <th>0</th>\n",
       "      <td>1b82b2308dcae546ad0194d03b9d23edd5d2781109de28...</td>\n",
       "      <td>ab1bcf2c1b8d4eb422079becc0c59b1c7db2fd009235d2...</td>\n",
       "      <td>chf</td>\n",
       "      <td>90.0</td>\n",
       "      <td>BASIC</td>\n",
       "      <td>0</td>\n",
       "      <td>2017-02-24</td>\n",
       "      <td>2021-02-23</td>\n",
       "      <td>False</td>\n",
       "      <td>90.0</td>\n",
       "      <td>75.0</td>\n",
       "    </tr>\n",
       "    <tr>\n",
       "      <th>1</th>\n",
       "      <td>4cb9f67d44d60eca0485270d73b3028143021296081847...</td>\n",
       "      <td>ee1a45a439dc6968f1cfc2b9840264deeada4c0d93f389...</td>\n",
       "      <td>chf</td>\n",
       "      <td>90.0</td>\n",
       "      <td>BASIC</td>\n",
       "      <td>0</td>\n",
       "      <td>2017-08-21</td>\n",
       "      <td>2023-08-20</td>\n",
       "      <td>False</td>\n",
       "      <td>90.0</td>\n",
       "      <td>75.0</td>\n",
       "    </tr>\n",
       "    <tr>\n",
       "      <th>2</th>\n",
       "      <td>40f9e218b70a6f482ecfcde0011305d93fa6059f624a50...</td>\n",
       "      <td>8bf8f58e615549df5f05b717b6e914da80e213edab3dba...</td>\n",
       "      <td>chf</td>\n",
       "      <td>9.0</td>\n",
       "      <td>BASIC</td>\n",
       "      <td>1</td>\n",
       "      <td>2017-09-26</td>\n",
       "      <td>2022-10-08</td>\n",
       "      <td>False</td>\n",
       "      <td>9.0</td>\n",
       "      <td>7.5</td>\n",
       "    </tr>\n",
       "    <tr>\n",
       "      <th>3</th>\n",
       "      <td>69d21e601612cc97fc7df9bd17a281879f785358d1c681...</td>\n",
       "      <td>cf914aa939499e8e18fdd9494fce5297b9dce2e1f909ea...</td>\n",
       "      <td>chf</td>\n",
       "      <td>90.0</td>\n",
       "      <td>BASIC</td>\n",
       "      <td>0</td>\n",
       "      <td>2017-09-28</td>\n",
       "      <td>2021-09-27</td>\n",
       "      <td>False</td>\n",
       "      <td>90.0</td>\n",
       "      <td>75.0</td>\n",
       "    </tr>\n",
       "    <tr>\n",
       "      <th>5</th>\n",
       "      <td>f5627e4ef66f219cfbcfb507a056bf1a0629f085a46e92...</td>\n",
       "      <td>c5511d59d31159ecb87ca1d7cfb3e44a6c4a4b96e5632a...</td>\n",
       "      <td>chf</td>\n",
       "      <td>240.0</td>\n",
       "      <td>PATRON</td>\n",
       "      <td>0</td>\n",
       "      <td>2017-11-18</td>\n",
       "      <td>2020-11-17</td>\n",
       "      <td>False</td>\n",
       "      <td>240.0</td>\n",
       "      <td>200.0</td>\n",
       "    </tr>\n",
       "  </tbody>\n",
       "</table>\n",
       "</div>"
      ],
      "text/plain": [
       "                                    subscription_key  \\\n",
       "0  1b82b2308dcae546ad0194d03b9d23edd5d2781109de28...   \n",
       "1  4cb9f67d44d60eca0485270d73b3028143021296081847...   \n",
       "2  40f9e218b70a6f482ecfcde0011305d93fa6059f624a50...   \n",
       "3  69d21e601612cc97fc7df9bd17a281879f785358d1c681...   \n",
       "5  f5627e4ef66f219cfbcfb507a056bf1a0629f085a46e92...   \n",
       "\n",
       "                                         account_key currency  price  \\\n",
       "0  ab1bcf2c1b8d4eb422079becc0c59b1c7db2fd009235d2...      chf   90.0   \n",
       "1  ee1a45a439dc6968f1cfc2b9840264deeada4c0d93f389...      chf   90.0   \n",
       "2  8bf8f58e615549df5f05b717b6e914da80e213edab3dba...      chf    9.0   \n",
       "3  cf914aa939499e8e18fdd9494fce5297b9dce2e1f909ea...      chf   90.0   \n",
       "5  c5511d59d31159ecb87ca1d7cfb3e44a6c4a4b96e5632a...      chf  240.0   \n",
       "\n",
       "  subscription_type  subscription_monthly subscription_start subscription_end  \\\n",
       "0             BASIC                     0         2017-02-24       2021-02-23   \n",
       "1             BASIC                     0         2017-08-21       2023-08-20   \n",
       "2             BASIC                     1         2017-09-26       2022-10-08   \n",
       "3             BASIC                     0         2017-09-28       2021-09-27   \n",
       "5            PATRON                     0         2017-11-18       2020-11-17   \n",
       "\n",
       "   gift_subscription price_chf price_eur  \n",
       "0              False      90.0      75.0  \n",
       "1              False      90.0      75.0  \n",
       "2              False       9.0       7.5  \n",
       "3              False      90.0      75.0  \n",
       "5              False     240.0     200.0  "
      ]
     },
     "execution_count": 76,
     "metadata": {},
     "output_type": "execute_result"
    }
   ],
   "source": [
    "# display updated DataFrame\n",
    "df_subscriptions_new.head()"
   ]
  }
 ],
 "metadata": {
  "kernelspec": {
   "display_name": "Python 3.9.13 ('nf_base')",
   "language": "python",
   "name": "python3"
  },
  "language_info": {
   "codemirror_mode": {
    "name": "ipython",
    "version": 3
   },
   "file_extension": ".py",
   "mimetype": "text/x-python",
   "name": "python",
   "nbconvert_exporter": "python",
   "pygments_lexer": "ipython3",
   "version": "3.9.13"
  },
  "orig_nbformat": 4,
  "vscode": {
   "interpreter": {
    "hash": "ab3d85a18739f6fff6a9c8c504adc2ff9340867b576dede986e2ee74c099e4e5"
   }
  }
 },
 "nbformat": 4,
 "nbformat_minor": 2
}
