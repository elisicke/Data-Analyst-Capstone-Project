{
 "cells": [
  {
   "cell_type": "markdown",
   "metadata": {},
   "source": [
    "# SETUP"
   ]
  },
  {
   "cell_type": "code",
   "execution_count": 59,
   "metadata": {},
   "outputs": [],
   "source": [
    "import pandas as pd\n",
    "import numpy as np"
   ]
  },
  {
   "cell_type": "code",
   "execution_count": 60,
   "metadata": {},
   "outputs": [],
   "source": [
    "# define the name of the csv file you want to read in\n",
    "accounts = './data/accounts.csv'\n",
    "playbacks = './data/playbacks.csv'\n",
    "subscriptions = './data/subscriptions.csv'"
   ]
  },
  {
   "cell_type": "markdown",
   "metadata": {},
   "source": [
    "# ACCOUNTS"
   ]
  },
  {
   "cell_type": "code",
   "execution_count": 5,
   "metadata": {},
   "outputs": [
    {
     "data": {
      "text/plain": [
       "(17079, 7)"
      ]
     },
     "metadata": {},
     "output_type": "display_data"
    },
    {
     "data": {
      "text/html": [
       "<div>\n",
       "<style scoped>\n",
       "    .dataframe tbody tr th:only-of-type {\n",
       "        vertical-align: middle;\n",
       "    }\n",
       "\n",
       "    .dataframe tbody tr th {\n",
       "        vertical-align: top;\n",
       "    }\n",
       "\n",
       "    .dataframe thead th {\n",
       "        text-align: right;\n",
       "    }\n",
       "</style>\n",
       "<table border=\"1\" class=\"dataframe\">\n",
       "  <thead>\n",
       "    <tr style=\"text-align: right;\">\n",
       "      <th></th>\n",
       "      <th>account_key</th>\n",
       "      <th>postal_code</th>\n",
       "      <th>city</th>\n",
       "      <th>language</th>\n",
       "      <th>country_code</th>\n",
       "      <th>onetime_rental_count</th>\n",
       "      <th>subscription_count</th>\n",
       "    </tr>\n",
       "  </thead>\n",
       "  <tbody>\n",
       "    <tr>\n",
       "      <th>0</th>\n",
       "      <td>60a90104f44414d9036aed7d96d1468a5a9e1d104b6791...</td>\n",
       "      <td>5430</td>\n",
       "      <td>Wettingen</td>\n",
       "      <td>de</td>\n",
       "      <td>CH</td>\n",
       "      <td>0</td>\n",
       "      <td>1</td>\n",
       "    </tr>\n",
       "    <tr>\n",
       "      <th>1</th>\n",
       "      <td>a48b28809457e680de54b4b560e00117308431c574aab2...</td>\n",
       "      <td>8706</td>\n",
       "      <td>Meilen</td>\n",
       "      <td>de</td>\n",
       "      <td>CH</td>\n",
       "      <td>0</td>\n",
       "      <td>1</td>\n",
       "    </tr>\n",
       "    <tr>\n",
       "      <th>2</th>\n",
       "      <td>7a280859423057ac5f1e0bfc15af602edd23900f3cf7cb...</td>\n",
       "      <td>1005</td>\n",
       "      <td>Lausanne</td>\n",
       "      <td>fr</td>\n",
       "      <td>CH</td>\n",
       "      <td>1</td>\n",
       "      <td>0</td>\n",
       "    </tr>\n",
       "    <tr>\n",
       "      <th>3</th>\n",
       "      <td>23e7ac18b391549e95a98d85a3adae1f3f90c4fcc09732...</td>\n",
       "      <td>4436</td>\n",
       "      <td>Oberdorf</td>\n",
       "      <td>de</td>\n",
       "      <td>CH</td>\n",
       "      <td>0</td>\n",
       "      <td>2</td>\n",
       "    </tr>\n",
       "    <tr>\n",
       "      <th>4</th>\n",
       "      <td>a39dbaa7972fb67c15db79d4a66cf5d1b94855ae530774...</td>\n",
       "      <td>6005</td>\n",
       "      <td>Luzern</td>\n",
       "      <td>de</td>\n",
       "      <td>CH</td>\n",
       "      <td>8</td>\n",
       "      <td>2</td>\n",
       "    </tr>\n",
       "  </tbody>\n",
       "</table>\n",
       "</div>"
      ],
      "text/plain": [
       "                                         account_key postal_code       city  \\\n",
       "0  60a90104f44414d9036aed7d96d1468a5a9e1d104b6791...        5430  Wettingen   \n",
       "1  a48b28809457e680de54b4b560e00117308431c574aab2...        8706     Meilen   \n",
       "2  7a280859423057ac5f1e0bfc15af602edd23900f3cf7cb...        1005   Lausanne   \n",
       "3  23e7ac18b391549e95a98d85a3adae1f3f90c4fcc09732...        4436   Oberdorf   \n",
       "4  a39dbaa7972fb67c15db79d4a66cf5d1b94855ae530774...        6005     Luzern   \n",
       "\n",
       "  language country_code  onetime_rental_count  subscription_count  \n",
       "0       de           CH                     0                   1  \n",
       "1       de           CH                     0                   1  \n",
       "2       fr           CH                     1                   0  \n",
       "3       de           CH                     0                   2  \n",
       "4       de           CH                     8                   2  "
      ]
     },
     "metadata": {},
     "output_type": "display_data"
    }
   ],
   "source": [
    "# Read accounts (01.10.2020 - 01.10.2022)\n",
    "df_accounts = pd.read_csv(accounts)\n",
    "df_accounts.columns = df_accounts.columns.str.lower()\n",
    "display(df_accounts.shape)\n",
    "display(df_accounts.head())"
   ]
  },
  {
   "cell_type": "code",
   "execution_count": null,
   "metadata": {},
   "outputs": [
    {
     "data": {
      "text/plain": [
       "account_key             object\n",
       "postal_code             object\n",
       "city                    object\n",
       "language                object\n",
       "country_code            object\n",
       "onetime_rental_count     int64\n",
       "subscription_count       int64\n",
       "dtype: object"
      ]
     },
     "metadata": {},
     "output_type": "display_data"
    }
   ],
   "source": [
    "df_accounts.dtypes"
   ]
  },
  {
   "cell_type": "code",
   "execution_count": null,
   "metadata": {},
   "outputs": [
    {
     "data": {
      "text/plain": [
       "56"
      ]
     },
     "metadata": {},
     "output_type": "display_data"
    },
    {
     "data": {
      "text/plain": [
       "array(['CH', 'DE', 'GR', 'LI', 'US', 'AT', 'TH', 'FR', 'GB', 'BE', 'RU',\n",
       "       'EG', 'HK', 'PT', 'IT', 'SA', 'NZ', 'MX', 'PE', 'CO', 'PL', 'CA',\n",
       "       'ID', 'ES', 'HU', 'IL', 'NO', 'AU', 'CL', 'NL', 'ZA', 'JO', 'RS',\n",
       "       'RO', 'IE', 'KR', 'SK', 'AE', 'GH', 'BR', 'MY', 'SE', 'CZ', 'DK',\n",
       "       'IN', 'JP', 'TR', 'CI', 'EE', 'GA', 'SM', 'WF', 'FI', 'UA', 'SG',\n",
       "       'IR'], dtype=object)"
      ]
     },
     "metadata": {},
     "output_type": "display_data"
    }
   ],
   "source": [
    "display(df_accounts.country_code.nunique())\n",
    "df_accounts.country_code.unique()"
   ]
  },
  {
   "cell_type": "code",
   "execution_count": null,
   "metadata": {},
   "outputs": [
    {
     "data": {
      "text/plain": [
       "CH    15200\n",
       "DE     1272\n",
       "AT      190\n",
       "FR      112\n",
       "US       71\n",
       "GB       46\n",
       "LI       39\n",
       "CA       17\n",
       "IT       13\n",
       "BE       11\n",
       "SE        9\n",
       "AU        8\n",
       "NO        8\n",
       "IN        6\n",
       "NL        6\n",
       "DK        5\n",
       "PL        4\n",
       "PT        4\n",
       "CO        3\n",
       "NZ        3\n",
       "CZ        3\n",
       "HU        3\n",
       "IL        3\n",
       "SK        2\n",
       "AE        2\n",
       "EE        2\n",
       "CL        2\n",
       "ES        2\n",
       "RU        2\n",
       "GR        2\n",
       "MX        2\n",
       "ID        2\n",
       "EG        2\n",
       "SG        1\n",
       "UA        1\n",
       "FI        1\n",
       "WF        1\n",
       "SM        1\n",
       "GA        1\n",
       "CI        1\n",
       "TR        1\n",
       "JP        1\n",
       "TH        1\n",
       "HK        1\n",
       "MY        1\n",
       "BR        1\n",
       "GH        1\n",
       "SA        1\n",
       "KR        1\n",
       "IE        1\n",
       "RO        1\n",
       "RS        1\n",
       "JO        1\n",
       "ZA        1\n",
       "PE        1\n",
       "IR        1\n",
       "Name: country_code, dtype: int64"
      ]
     },
     "metadata": {},
     "output_type": "display_data"
    }
   ],
   "source": [
    "df_accounts.country_code.value_counts()\n",
    "#16.5k DACH / 17k in total"
   ]
  },
  {
   "cell_type": "code",
   "execution_count": null,
   "metadata": {},
   "outputs": [
    {
     "data": {
      "image/png": "[encoded data removed]",
      "text/plain": [
       "<Figure size 640x480 with 1 Axes>"
      ]
     },
     "metadata": {},
     "output_type": "display_data"
    }
   ],
   "source": [
    "df_accounts.country_code.value_counts().plot(kind='pie');"
   ]
  },
  {
   "cell_type": "code",
   "execution_count": null,
   "metadata": {},
   "outputs": [
    {
     "data": {
      "text/plain": [
       "4"
      ]
     },
     "metadata": {},
     "output_type": "display_data"
    },
    {
     "data": {
      "text/plain": [
       "array(['de', 'fr', 'en', nan, 'nl'], dtype=object)"
      ]
     },
     "metadata": {},
     "output_type": "display_data"
    },
    {
     "data": {
      "text/plain": [
       "de    10942\n",
       "fr     4286\n",
       "en     1794\n",
       "nl        1\n",
       "Name: language, dtype: int64"
      ]
     },
     "metadata": {},
     "output_type": "display_data"
    }
   ],
   "source": [
    "display(df_accounts.language.nunique())\n",
    "display(df_accounts.language.unique())\n",
    "display(df_accounts.language.value_counts())"
   ]
  },
  {
   "cell_type": "code",
   "execution_count": null,
   "metadata": {},
   "outputs": [
    {
     "data": {
      "text/plain": [
       "array([  0,   1,   8,   2,  10,   3,  12,  23,   4,   6,  15,   5,  14,\n",
       "         7,  11,  29,  16,   9,  22,  17,  39,  26,  19,  13,  27,  47,\n",
       "        18,  37,  20,  24,  32,  53,  21,  28,  25,  31, 106,  52,  48,\n",
       "        44,  51,  35,  30,  65,  45,  38,  61,  57,  79])"
      ]
     },
     "metadata": {},
     "output_type": "display_data"
    }
   ],
   "source": [
    "df_accounts.onetime_rental_count.unique()"
   ]
  },
  {
   "cell_type": "code",
   "execution_count": null,
   "metadata": {},
   "outputs": [
    {
     "data": {
      "text/plain": [
       "array([ 1,  0,  2,  3,  6,  4,  5,  7, 11,  8, 12,  9, 13])"
      ]
     },
     "metadata": {},
     "output_type": "display_data"
    },
    {
     "data": {
      "text/plain": [
       "0     8103\n",
       "1     6776\n",
       "2     1613\n",
       "3      412\n",
       "4       96\n",
       "5       36\n",
       "7       19\n",
       "6       13\n",
       "8        7\n",
       "11       1\n",
       "12       1\n",
       "9        1\n",
       "13       1\n",
       "Name: subscription_count, dtype: int64"
      ]
     },
     "metadata": {},
     "output_type": "display_data"
    }
   ],
   "source": [
    "display(df_accounts.subscription_count.unique())\n",
    "display(df_accounts.subscription_count.value_counts())\n",
    "#most have no subscription (assumption: onetime-viewer and gifted movie?)"
   ]
  },
  {
   "cell_type": "code",
   "execution_count": 13,
   "metadata": {},
   "outputs": [
    {
     "data": {
      "text/plain": [
       "False    8976\n",
       "True     8103\n",
       "Name: subscription_count, dtype: int64"
      ]
     },
     "execution_count": 13,
     "metadata": {},
     "output_type": "execute_result"
    }
   ],
   "source": [
    "#Check for accounts with no subscription\n",
    "#display(df_accounts.subscription_count.unique())\n",
    "df_accounts['subscription_count'].apply(lambda x: True if x == 0 else False).value_counts()"
   ]
  }
 ],
 "metadata": {
  "kernelspec": {
   "display_name": "Python 3.9.13 ('nf_base')",
   "language": "python",
   "name": "python3"
  },
  "language_info": {
   "codemirror_mode": {
    "name": "ipython",
    "version": 3
   },
   "file_extension": ".py",
   "mimetype": "text/x-python",
   "name": "python",
   "nbconvert_exporter": "python",
   "pygments_lexer": "ipython3",
   "version": "3.9.13"
  },
  "orig_nbformat": 4,
  "vscode": {
   "interpreter": {
    "hash": "ab3d85a18739f6fff6a9c8c504adc2ff9340867b576dede986e2ee74c099e4e5"
   }
  }
 },
 "nbformat": 4,
 "nbformat_minor": 2
}
