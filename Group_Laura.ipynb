{
 "cells": [
  {
   "cell_type": "markdown",
   "metadata": {},
   "source": [
    "# SETUP"
   ]
  },
  {
   "cell_type": "code",
   "execution_count": 41,
   "metadata": {},
   "outputs": [],
   "source": [
    "import pandas as pd\n",
    "import numpy as np"
   ]
  },
  {
   "cell_type": "code",
   "execution_count": 42,
   "metadata": {},
   "outputs": [],
   "source": [
    "# define the name of the csv file you want to read in\n",
    "accounts = './data/accounts.csv'\n",
    "#playbacks = './data/playbacks.csv'\n",
    "#subscriptions = './data/subscriptions.csv'"
   ]
  },
  {
   "cell_type": "markdown",
   "metadata": {},
   "source": [
    "# ACCOUNTS"
   ]
  },
  {
   "cell_type": "code",
   "execution_count": 43,
   "metadata": {},
   "outputs": [
    {
     "data": {
      "text/html": [
       "<div>\n",
       "<style scoped>\n",
       "    .dataframe tbody tr th:only-of-type {\n",
       "        vertical-align: middle;\n",
       "    }\n",
       "\n",
       "    .dataframe tbody tr th {\n",
       "        vertical-align: top;\n",
       "    }\n",
       "\n",
       "    .dataframe thead th {\n",
       "        text-align: right;\n",
       "    }\n",
       "</style>\n",
       "<table border=\"1\" class=\"dataframe\">\n",
       "  <thead>\n",
       "    <tr style=\"text-align: right;\">\n",
       "      <th></th>\n",
       "      <th>account_key</th>\n",
       "      <th>postal_code</th>\n",
       "      <th>city</th>\n",
       "      <th>language</th>\n",
       "      <th>country_code</th>\n",
       "      <th>onetime_rental_count</th>\n",
       "      <th>subscription_count</th>\n",
       "    </tr>\n",
       "  </thead>\n",
       "  <tbody>\n",
       "    <tr>\n",
       "      <th>0</th>\n",
       "      <td>60a90104f44414d9036aed7d96d1468a5a9e1d104b6791...</td>\n",
       "      <td>5430</td>\n",
       "      <td>Wettingen</td>\n",
       "      <td>de</td>\n",
       "      <td>CH</td>\n",
       "      <td>0</td>\n",
       "      <td>1</td>\n",
       "    </tr>\n",
       "    <tr>\n",
       "      <th>1</th>\n",
       "      <td>a48b28809457e680de54b4b560e00117308431c574aab2...</td>\n",
       "      <td>8706</td>\n",
       "      <td>Meilen</td>\n",
       "      <td>de</td>\n",
       "      <td>CH</td>\n",
       "      <td>0</td>\n",
       "      <td>1</td>\n",
       "    </tr>\n",
       "    <tr>\n",
       "      <th>2</th>\n",
       "      <td>7a280859423057ac5f1e0bfc15af602edd23900f3cf7cb...</td>\n",
       "      <td>1005</td>\n",
       "      <td>Lausanne</td>\n",
       "      <td>fr</td>\n",
       "      <td>CH</td>\n",
       "      <td>1</td>\n",
       "      <td>0</td>\n",
       "    </tr>\n",
       "    <tr>\n",
       "      <th>3</th>\n",
       "      <td>23e7ac18b391549e95a98d85a3adae1f3f90c4fcc09732...</td>\n",
       "      <td>4436</td>\n",
       "      <td>Oberdorf</td>\n",
       "      <td>de</td>\n",
       "      <td>CH</td>\n",
       "      <td>0</td>\n",
       "      <td>2</td>\n",
       "    </tr>\n",
       "    <tr>\n",
       "      <th>4</th>\n",
       "      <td>a39dbaa7972fb67c15db79d4a66cf5d1b94855ae530774...</td>\n",
       "      <td>6005</td>\n",
       "      <td>Luzern</td>\n",
       "      <td>de</td>\n",
       "      <td>CH</td>\n",
       "      <td>8</td>\n",
       "      <td>2</td>\n",
       "    </tr>\n",
       "  </tbody>\n",
       "</table>\n",
       "</div>"
      ],
      "text/plain": [
       "                                         account_key postal_code       city  \\\n",
       "0  60a90104f44414d9036aed7d96d1468a5a9e1d104b6791...        5430  Wettingen   \n",
       "1  a48b28809457e680de54b4b560e00117308431c574aab2...        8706     Meilen   \n",
       "2  7a280859423057ac5f1e0bfc15af602edd23900f3cf7cb...        1005   Lausanne   \n",
       "3  23e7ac18b391549e95a98d85a3adae1f3f90c4fcc09732...        4436   Oberdorf   \n",
       "4  a39dbaa7972fb67c15db79d4a66cf5d1b94855ae530774...        6005     Luzern   \n",
       "\n",
       "  language country_code  onetime_rental_count  subscription_count  \n",
       "0       de           CH                     0                   1  \n",
       "1       de           CH                     0                   1  \n",
       "2       fr           CH                     1                   0  \n",
       "3       de           CH                     0                   2  \n",
       "4       de           CH                     8                   2  "
      ]
     },
     "metadata": {},
     "output_type": "display_data"
    }
   ],
   "source": [
    "# Read accounts (01.10.2020 - 01.10.2022)\n",
    "df_accounts = pd.read_csv(accounts)\n",
    "# set column names to lowercase\n",
    "df_accounts.columns = df_accounts.columns.str.lower()\n",
    "# show first rows\n",
    "display(df_accounts.head())"
   ]
  },
  {
   "cell_type": "code",
   "execution_count": 78,
   "metadata": {},
   "outputs": [
    {
     "data": {
      "text/plain": [
       "(17079, 8)"
      ]
     },
     "metadata": {},
     "output_type": "display_data"
    },
    {
     "data": {
      "text/plain": [
       "account_key             object\n",
       "postal_code             object\n",
       "city                    object\n",
       "language                object\n",
       "country_code            object\n",
       "onetime_rental_count     int64\n",
       "subscription_count       int64\n",
       "postal_code_clean        int64\n",
       "dtype: object"
      ]
     },
     "metadata": {},
     "output_type": "display_data"
    },
    {
     "data": {
      "text/html": [
       "<div>\n",
       "<style scoped>\n",
       "    .dataframe tbody tr th:only-of-type {\n",
       "        vertical-align: middle;\n",
       "    }\n",
       "\n",
       "    .dataframe tbody tr th {\n",
       "        vertical-align: top;\n",
       "    }\n",
       "\n",
       "    .dataframe thead th {\n",
       "        text-align: right;\n",
       "    }\n",
       "</style>\n",
       "<table border=\"1\" class=\"dataframe\">\n",
       "  <thead>\n",
       "    <tr style=\"text-align: right;\">\n",
       "      <th></th>\n",
       "      <th>onetime_rental_count</th>\n",
       "      <th>subscription_count</th>\n",
       "      <th>postal_code_clean</th>\n",
       "    </tr>\n",
       "  </thead>\n",
       "  <tbody>\n",
       "    <tr>\n",
       "      <th>count</th>\n",
       "      <td>17079.000000</td>\n",
       "      <td>17079.000000</td>\n",
       "      <td>1.707900e+04</td>\n",
       "    </tr>\n",
       "    <tr>\n",
       "      <th>mean</th>\n",
       "      <td>1.686867</td>\n",
       "      <td>0.709292</td>\n",
       "      <td>2.951639e+04</td>\n",
       "    </tr>\n",
       "    <tr>\n",
       "      <th>std</th>\n",
       "      <td>3.592025</td>\n",
       "      <td>0.877215</td>\n",
       "      <td>1.357043e+06</td>\n",
       "    </tr>\n",
       "    <tr>\n",
       "      <th>min</th>\n",
       "      <td>0.000000</td>\n",
       "      <td>0.000000</td>\n",
       "      <td>0.000000e+00</td>\n",
       "    </tr>\n",
       "    <tr>\n",
       "      <th>25%</th>\n",
       "      <td>0.000000</td>\n",
       "      <td>0.000000</td>\n",
       "      <td>1.985000e+03</td>\n",
       "    </tr>\n",
       "    <tr>\n",
       "      <th>50%</th>\n",
       "      <td>1.000000</td>\n",
       "      <td>1.000000</td>\n",
       "      <td>4.600000e+03</td>\n",
       "    </tr>\n",
       "    <tr>\n",
       "      <th>75%</th>\n",
       "      <td>2.000000</td>\n",
       "      <td>1.000000</td>\n",
       "      <td>8.049000e+03</td>\n",
       "    </tr>\n",
       "    <tr>\n",
       "      <th>max</th>\n",
       "      <td>106.000000</td>\n",
       "      <td>13.000000</td>\n",
       "      <td>1.045221e+08</td>\n",
       "    </tr>\n",
       "  </tbody>\n",
       "</table>\n",
       "</div>"
      ],
      "text/plain": [
       "       onetime_rental_count  subscription_count  postal_code_clean\n",
       "count          17079.000000        17079.000000       1.707900e+04\n",
       "mean               1.686867            0.709292       2.951639e+04\n",
       "std                3.592025            0.877215       1.357043e+06\n",
       "min                0.000000            0.000000       0.000000e+00\n",
       "25%                0.000000            0.000000       1.985000e+03\n",
       "50%                1.000000            1.000000       4.600000e+03\n",
       "75%                2.000000            1.000000       8.049000e+03\n",
       "max              106.000000           13.000000       1.045221e+08"
      ]
     },
     "metadata": {},
     "output_type": "display_data"
    },
    {
     "data": {
      "text/plain": [
       "account_key              0\n",
       "postal_code             13\n",
       "city                    10\n",
       "language                 0\n",
       "country_code             0\n",
       "onetime_rental_count     0\n",
       "subscription_count       0\n",
       "postal_code_clean        0\n",
       "dtype: int64"
      ]
     },
     "metadata": {},
     "output_type": "display_data"
    }
   ],
   "source": [
    "#check basic information and null values\n",
    "display(df_accounts.shape)\n",
    "display(df_accounts.dtypes)\n",
    "display(df_accounts.describe())\n",
    "display(df_accounts.isna().sum())"
   ]
  },
  {
   "cell_type": "markdown",
   "metadata": {},
   "source": [
    "## Postal Code\n"
   ]
  },
  {
   "cell_type": "markdown",
   "metadata": {},
   "source": [
    "### Cleaning postal code column"
   ]
  },
  {
   "cell_type": "code",
   "execution_count": 46,
   "metadata": {},
   "outputs": [],
   "source": [
    "# df_accounts.groupby('postal_code').sum()"
   ]
  },
  {
   "cell_type": "code",
   "execution_count": 47,
   "metadata": {},
   "outputs": [
    {
     "data": {
      "text/html": [
       "<div>\n",
       "<style scoped>\n",
       "    .dataframe tbody tr th:only-of-type {\n",
       "        vertical-align: middle;\n",
       "    }\n",
       "\n",
       "    .dataframe tbody tr th {\n",
       "        vertical-align: top;\n",
       "    }\n",
       "\n",
       "    .dataframe thead th {\n",
       "        text-align: right;\n",
       "    }\n",
       "</style>\n",
       "<table border=\"1\" class=\"dataframe\">\n",
       "  <thead>\n",
       "    <tr style=\"text-align: right;\">\n",
       "      <th></th>\n",
       "      <th></th>\n",
       "      <th>onetime_rental_count</th>\n",
       "      <th>subscription_count</th>\n",
       "    </tr>\n",
       "    <tr>\n",
       "      <th>postal_code_clean</th>\n",
       "      <th>postal_code</th>\n",
       "      <th></th>\n",
       "      <th></th>\n",
       "    </tr>\n",
       "  </thead>\n",
       "  <tbody>\n",
       "    <tr>\n",
       "      <th rowspan=\"11\" valign=\"top\">0</th>\n",
       "      <th>-</th>\n",
       "      <td>0</td>\n",
       "      <td>2</td>\n",
       "    </tr>\n",
       "    <tr>\n",
       "      <th>Bern</th>\n",
       "      <td>3</td>\n",
       "      <td>3</td>\n",
       "    </tr>\n",
       "    <tr>\n",
       "      <th>Biel</th>\n",
       "      <td>27</td>\n",
       "      <td>0</td>\n",
       "    </tr>\n",
       "    <tr>\n",
       "      <th>Fribourg</th>\n",
       "      <td>3</td>\n",
       "      <td>1</td>\n",
       "    </tr>\n",
       "    <tr>\n",
       "      <th>Genève</th>\n",
       "      <td>0</td>\n",
       "      <td>4</td>\n",
       "    </tr>\n",
       "    <tr>\n",
       "      <th>Rudolfstette</th>\n",
       "      <td>0</td>\n",
       "      <td>2</td>\n",
       "    </tr>\n",
       "    <tr>\n",
       "      <th>Sierre</th>\n",
       "      <td>1</td>\n",
       "      <td>0</td>\n",
       "    </tr>\n",
       "    <tr>\n",
       "      <th>XXXX</th>\n",
       "      <td>8</td>\n",
       "      <td>1</td>\n",
       "    </tr>\n",
       "    <tr>\n",
       "      <th>asdf</th>\n",
       "      <td>0</td>\n",
       "      <td>1</td>\n",
       "    </tr>\n",
       "    <tr>\n",
       "      <th>rossens</th>\n",
       "      <td>1</td>\n",
       "      <td>0</td>\n",
       "    </tr>\n",
       "    <tr>\n",
       "      <th>K0M1N0</th>\n",
       "      <td>1</td>\n",
       "      <td>0</td>\n",
       "    </tr>\n",
       "    <tr>\n",
       "      <th>0000</th>\n",
       "      <th>0000</th>\n",
       "      <td>32</td>\n",
       "      <td>2</td>\n",
       "    </tr>\n",
       "    <tr>\n",
       "      <th>00000</th>\n",
       "      <th>00000</th>\n",
       "      <td>2</td>\n",
       "      <td>2</td>\n",
       "    </tr>\n",
       "    <tr>\n",
       "      <th>00132</th>\n",
       "      <th>00-132</th>\n",
       "      <td>1</td>\n",
       "      <td>0</td>\n",
       "    </tr>\n",
       "    <tr>\n",
       "      <th>00168</th>\n",
       "      <th>00168</th>\n",
       "      <td>1</td>\n",
       "      <td>0</td>\n",
       "    </tr>\n",
       "    <tr>\n",
       "      <th>00185</th>\n",
       "      <th>00185</th>\n",
       "      <td>0</td>\n",
       "      <td>1</td>\n",
       "    </tr>\n",
       "    <tr>\n",
       "      <th>00500</th>\n",
       "      <th>00500</th>\n",
       "      <td>1</td>\n",
       "      <td>0</td>\n",
       "    </tr>\n",
       "    <tr>\n",
       "      <th>00834</th>\n",
       "      <th>00-834</th>\n",
       "      <td>1</td>\n",
       "      <td>0</td>\n",
       "    </tr>\n",
       "    <tr>\n",
       "      <th>01</th>\n",
       "      <th>01</th>\n",
       "      <td>5</td>\n",
       "      <td>0</td>\n",
       "    </tr>\n",
       "    <tr>\n",
       "      <th>01010000</th>\n",
       "      <th>01010000</th>\n",
       "      <td>0</td>\n",
       "      <td>1</td>\n",
       "    </tr>\n",
       "  </tbody>\n",
       "</table>\n",
       "</div>"
      ],
      "text/plain": [
       "                                onetime_rental_count  subscription_count\n",
       "postal_code_clean postal_code                                           \n",
       "0                 -                                0                   2\n",
       "                  Bern                             3                   3\n",
       "                  Biel                            27                   0\n",
       "                  Fribourg                         3                   1\n",
       "                  Genève                           0                   4\n",
       "                  Rudolfstette                     0                   2\n",
       "                  Sierre                           1                   0\n",
       "                  XXXX                             8                   1\n",
       "                  asdf                             0                   1\n",
       "                  rossens                          1                   0\n",
       "                  K0M1N0                           1                   0\n",
       "0000              0000                            32                   2\n",
       "00000             00000                            2                   2\n",
       "00132             00-132                           1                   0\n",
       "00168             00168                            1                   0\n",
       "00185             00185                            0                   1\n",
       "00500             00500                            1                   0\n",
       "00834             00-834                           1                   0\n",
       "01                01                               5                   0\n",
       "01010000          01010000                         0                   1"
      ]
     },
     "execution_count": 47,
     "metadata": {},
     "output_type": "execute_result"
    }
   ],
   "source": [
    "# remove non numeric characters\n",
    "df_accounts['postal_code_clean'] = df_accounts['postal_code'].str.replace('-', '')\n",
    "df_accounts['postal_code_clean'] = df_accounts['postal_code_clean'].str.extract('(\\d+)')\n",
    "# fill null-values with 0\n",
    "df_accounts['postal_code_clean'].fillna(0, inplace=True)\n",
    "df_accounts.groupby(['postal_code_clean', 'postal_code']).sum().head(20)"
   ]
  },
  {
   "cell_type": "code",
   "execution_count": 48,
   "metadata": {},
   "outputs": [
    {
     "data": {
      "text/plain": [
       "account_key             object\n",
       "postal_code             object\n",
       "city                    object\n",
       "language                object\n",
       "country_code            object\n",
       "onetime_rental_count     int64\n",
       "subscription_count       int64\n",
       "postal_code_clean        int64\n",
       "dtype: object"
      ]
     },
     "execution_count": 48,
     "metadata": {},
     "output_type": "execute_result"
    }
   ],
   "source": [
    "# change data type to integer\n",
    "df_accounts['postal_code_clean'] = df_accounts['postal_code_clean'].astype(int)\n",
    "df_accounts.dtypes"
   ]
  },
  {
   "cell_type": "markdown",
   "metadata": {},
   "source": [
    "## City"
   ]
  },
  {
   "cell_type": "markdown",
   "metadata": {},
   "source": [
    "### manual cleaning"
   ]
  },
  {
   "cell_type": "code",
   "execution_count": 49,
   "metadata": {},
   "outputs": [
    {
     "data": {
      "text/plain": [
       "'\\n# remove numbers\\ndf_accounts[\\'city_clean\\'] = df_accounts[\\'city\\'].str.replace(\\'\\\\d+\\', \\'\\')\\n# fill null values and postal_code 0 with \\'na\\'\\ndf_accounts[\\'city_clean\\'].fillna(\\'na\\', inplace=True)\\ndf_accounts.loc[df_accounts[\"postal_code_clean\"] == 0, \"city_clean\"] = \\'na\\'\\n# remove and replace special characters\\ndf_accounts[\\'city_clean\\'] = df_accounts[\\'city_clean\\'].str.replace(\\'-\\', \\' \\')\\ndf_accounts[\\'city_clean\\'] = df_accounts[\\'city_clean\\'].str.replace(\\'\\\\.|<\\', \\'\\')\\n# remove leading and trailing whitespace\\ndf_accounts[\\'city_clean\\'] = df_accounts[\\'city_clean\\'].str.strip()\\n# set city to lowercase for easier comparison\\ndf_accounts[\\'city_clean\\'] = df_accounts[\\'city_clean\\'].str.lower()\\n# zürich cleanup\\ndf_accounts[\\'city_clean\\'] = df_accounts[\\'city_clean\\'].str.replace(\\'z..?r.ch.*\\', \\'zürich\\')\\n# geneva cleanup\\ndf_accounts[\\'city_clean\\'] = df_accounts[\\'city_clean\\'].str.replace(\\'gen.v.*|genf\\', \\'genève\\')\\n# biel cleanup\\ndf_accounts[\\'city_clean\\'] = df_accounts[\\'city_clean\\'].str.replace(\\'biel..?bienne|bienne.*\\', \\'biel\\')\\n'"
      ]
     },
     "execution_count": 49,
     "metadata": {},
     "output_type": "execute_result"
    }
   ],
   "source": [
    "'''\n",
    "# remove numbers\n",
    "df_accounts['city_clean'] = df_accounts['city'].str.replace('\\d+', '')\n",
    "# fill null values and postal_code 0 with 'na'\n",
    "df_accounts['city_clean'].fillna('na', inplace=True)\n",
    "df_accounts.loc[df_accounts[\"postal_code_clean\"] == 0, \"city_clean\"] = 'na'\n",
    "# remove and replace special characters\n",
    "df_accounts['city_clean'] = df_accounts['city_clean'].str.replace('-', ' ')\n",
    "df_accounts['city_clean'] = df_accounts['city_clean'].str.replace('\\.|<', '')\n",
    "# remove leading and trailing whitespace\n",
    "df_accounts['city_clean'] = df_accounts['city_clean'].str.strip()\n",
    "# set city to lowercase for easier comparison\n",
    "df_accounts['city_clean'] = df_accounts['city_clean'].str.lower()\n",
    "# zürich cleanup\n",
    "df_accounts['city_clean'] = df_accounts['city_clean'].str.replace('z..?r.ch.*', 'zürich')\n",
    "# geneva cleanup\n",
    "df_accounts['city_clean'] = df_accounts['city_clean'].str.replace('gen.v.*|genf', 'genève')\n",
    "# biel cleanup\n",
    "df_accounts['city_clean'] = df_accounts['city_clean'].str.replace('biel..?bienne|bienne.*', 'biel')\n",
    "'''"
   ]
  },
  {
   "cell_type": "markdown",
   "metadata": {},
   "source": [
    "### mapping plz_files"
   ]
  },
  {
   "cell_type": "code",
   "execution_count": 50,
   "metadata": {},
   "outputs": [
    {
     "data": {
      "text/plain": [
       "'\\ndisplay(df_plz_ch.head())\\ndisplay(df_plz_kanton.head())\\ndisplay(df_plz_de.head())\\ndisplay(df_plz_at.head())\\n'"
      ]
     },
     "execution_count": 50,
     "metadata": {},
     "output_type": "execute_result"
    }
   ],
   "source": [
    "# set file paths\n",
    "plz_ch = './data/plz_verzeichnis_ch.csv'\n",
    "plz_kanton = './data/plz_kantone_ch.csv'\n",
    "plz_de = './data/plz_verzeichnis_de.csv'\n",
    "plz_at = './data/plz_verzeichnis_at.csv'\n",
    "# read csv files\n",
    "df_plz_ch = pd.read_csv(plz_ch, sep=';')\n",
    "df_plz_kanton = pd.read_csv(plz_kanton, sep=';')\n",
    "df_plz_de = pd.read_csv(plz_de, sep=',')\n",
    "df_plz_at = pd.read_csv(plz_at, sep=';')\n",
    "# set column names to lowercase\n",
    "df_plz_ch.columns = df_plz_ch.columns.str.lower()\n",
    "df_plz_kanton.columns = df_plz_kanton.columns.str.lower()\n",
    "df_plz_de.columns = df_plz_de.columns.str.lower()\n",
    "df_plz_at.columns = df_plz_at.columns.str.lower()\n",
    "# show first rows\n",
    "'''\n",
    "display(df_plz_ch.head())\n",
    "display(df_plz_kanton.head())\n",
    "display(df_plz_de.head())\n",
    "display(df_plz_at.head())\n",
    "'''\n"
   ]
  },
  {
   "cell_type": "code",
   "execution_count": 51,
   "metadata": {},
   "outputs": [],
   "source": [
    "# clean plz_kanton\n",
    "# only keep relevant columns, rename\n",
    "df_plz_kanton = df_plz_kanton[['postleitzahl / code postal / codice postale', 'ort / ville / città', 'kanton']]\n",
    "df_plz_kanton.rename(columns = {'postleitzahl / code postal / codice postale':'postal_code', 'ort / ville / città':'city', 'kanton':'state'}, inplace = True)\n",
    "df_plz_kanton.drop_duplicates(inplace = True)\n",
    "# add country_code for differentiation\n",
    "df_plz_kanton['country_code'] = 'CH'"
   ]
  },
  {
   "cell_type": "code",
   "execution_count": 52,
   "metadata": {},
   "outputs": [],
   "source": [
    "# clean plz_de\n",
    "# only keep relevant columns, rename, drop duplicates\n",
    "df_plz_de = df_plz_de[['plz', 'ort', 'bundesland']]\n",
    "df_plz_de.rename(columns = {'plz':'postal_code', 'ort':'city', 'bundesland':'state'}, inplace = True)\n",
    "df_plz_de.drop_duplicates(inplace = True)\n",
    "# add country_code for differentiation\n",
    "df_plz_de['country_code'] = 'DE'"
   ]
  },
  {
   "cell_type": "code",
   "execution_count": 53,
   "metadata": {},
   "outputs": [],
   "source": [
    "# clean plz_at\n",
    "# only keep relevant columns, rename, drop duplicates\n",
    "df_plz_at = df_plz_at[['plz', 'ort', 'bundesland']]\n",
    "df_plz_at.rename(columns = {'plz':'postal_code', 'ort':'city', 'bundesland':'state'}, inplace = True)\n",
    "df_plz_at.drop_duplicates(inplace = True)\n",
    "# add country_code for differentiation\n",
    "df_plz_at['country_code'] = 'AT'"
   ]
  },
  {
   "cell_type": "code",
   "execution_count": 54,
   "metadata": {},
   "outputs": [
    {
     "data": {
      "text/html": [
       "<div>\n",
       "<style scoped>\n",
       "    .dataframe tbody tr th:only-of-type {\n",
       "        vertical-align: middle;\n",
       "    }\n",
       "\n",
       "    .dataframe tbody tr th {\n",
       "        vertical-align: top;\n",
       "    }\n",
       "\n",
       "    .dataframe thead th {\n",
       "        text-align: right;\n",
       "    }\n",
       "</style>\n",
       "<table border=\"1\" class=\"dataframe\">\n",
       "  <thead>\n",
       "    <tr style=\"text-align: right;\">\n",
       "      <th></th>\n",
       "      <th>postal_code</th>\n",
       "      <th>city</th>\n",
       "      <th>state</th>\n",
       "      <th>country_code</th>\n",
       "    </tr>\n",
       "  </thead>\n",
       "  <tbody>\n",
       "    <tr>\n",
       "      <th>0</th>\n",
       "      <td>1000</td>\n",
       "      <td>Lausanne</td>\n",
       "      <td>Waadt</td>\n",
       "      <td>CH</td>\n",
       "    </tr>\n",
       "    <tr>\n",
       "      <th>1</th>\n",
       "      <td>1003</td>\n",
       "      <td>Lausanne</td>\n",
       "      <td>Waadt</td>\n",
       "      <td>CH</td>\n",
       "    </tr>\n",
       "    <tr>\n",
       "      <th>2</th>\n",
       "      <td>1004</td>\n",
       "      <td>Lausanne</td>\n",
       "      <td>Waadt</td>\n",
       "      <td>CH</td>\n",
       "    </tr>\n",
       "    <tr>\n",
       "      <th>3</th>\n",
       "      <td>1005</td>\n",
       "      <td>Lausanne</td>\n",
       "      <td>Waadt</td>\n",
       "      <td>CH</td>\n",
       "    </tr>\n",
       "    <tr>\n",
       "      <th>4</th>\n",
       "      <td>1006</td>\n",
       "      <td>Lausanne</td>\n",
       "      <td>Waadt</td>\n",
       "      <td>CH</td>\n",
       "    </tr>\n",
       "  </tbody>\n",
       "</table>\n",
       "</div>"
      ],
      "text/plain": [
       "   postal_code      city  state country_code\n",
       "0         1000  Lausanne  Waadt           CH\n",
       "1         1003  Lausanne  Waadt           CH\n",
       "2         1004  Lausanne  Waadt           CH\n",
       "3         1005  Lausanne  Waadt           CH\n",
       "4         1006  Lausanne  Waadt           CH"
      ]
     },
     "metadata": {},
     "output_type": "display_data"
    },
    {
     "data": {
      "text/plain": [
       "(4120, 4)"
      ]
     },
     "metadata": {},
     "output_type": "display_data"
    },
    {
     "data": {
      "text/html": [
       "<div>\n",
       "<style scoped>\n",
       "    .dataframe tbody tr th:only-of-type {\n",
       "        vertical-align: middle;\n",
       "    }\n",
       "\n",
       "    .dataframe tbody tr th {\n",
       "        vertical-align: top;\n",
       "    }\n",
       "\n",
       "    .dataframe thead th {\n",
       "        text-align: right;\n",
       "    }\n",
       "</style>\n",
       "<table border=\"1\" class=\"dataframe\">\n",
       "  <thead>\n",
       "    <tr style=\"text-align: right;\">\n",
       "      <th></th>\n",
       "      <th>postal_code</th>\n",
       "      <th>city</th>\n",
       "      <th>state</th>\n",
       "      <th>country_code</th>\n",
       "    </tr>\n",
       "  </thead>\n",
       "  <tbody>\n",
       "    <tr>\n",
       "      <th>0</th>\n",
       "      <td>78267</td>\n",
       "      <td>Aach</td>\n",
       "      <td>Baden-Württemberg</td>\n",
       "      <td>DE</td>\n",
       "    </tr>\n",
       "    <tr>\n",
       "      <th>1</th>\n",
       "      <td>54298</td>\n",
       "      <td>Aach</td>\n",
       "      <td>Rheinland-Pfalz</td>\n",
       "      <td>DE</td>\n",
       "    </tr>\n",
       "    <tr>\n",
       "      <th>2</th>\n",
       "      <td>52062</td>\n",
       "      <td>Aachen</td>\n",
       "      <td>Nordrhein-Westfalen</td>\n",
       "      <td>DE</td>\n",
       "    </tr>\n",
       "    <tr>\n",
       "      <th>3</th>\n",
       "      <td>52064</td>\n",
       "      <td>Aachen</td>\n",
       "      <td>Nordrhein-Westfalen</td>\n",
       "      <td>DE</td>\n",
       "    </tr>\n",
       "    <tr>\n",
       "      <th>4</th>\n",
       "      <td>52066</td>\n",
       "      <td>Aachen</td>\n",
       "      <td>Nordrhein-Westfalen</td>\n",
       "      <td>DE</td>\n",
       "    </tr>\n",
       "  </tbody>\n",
       "</table>\n",
       "</div>"
      ],
      "text/plain": [
       "   postal_code    city                state country_code\n",
       "0        78267    Aach    Baden-Württemberg           DE\n",
       "1        54298    Aach      Rheinland-Pfalz           DE\n",
       "2        52062  Aachen  Nordrhein-Westfalen           DE\n",
       "3        52064  Aachen  Nordrhein-Westfalen           DE\n",
       "4        52066  Aachen  Nordrhein-Westfalen           DE"
      ]
     },
     "metadata": {},
     "output_type": "display_data"
    },
    {
     "data": {
      "text/plain": [
       "(12869, 4)"
      ]
     },
     "metadata": {},
     "output_type": "display_data"
    },
    {
     "data": {
      "text/html": [
       "<div>\n",
       "<style scoped>\n",
       "    .dataframe tbody tr th:only-of-type {\n",
       "        vertical-align: middle;\n",
       "    }\n",
       "\n",
       "    .dataframe tbody tr th {\n",
       "        vertical-align: top;\n",
       "    }\n",
       "\n",
       "    .dataframe thead th {\n",
       "        text-align: right;\n",
       "    }\n",
       "</style>\n",
       "<table border=\"1\" class=\"dataframe\">\n",
       "  <thead>\n",
       "    <tr style=\"text-align: right;\">\n",
       "      <th></th>\n",
       "      <th>postal_code</th>\n",
       "      <th>city</th>\n",
       "      <th>state</th>\n",
       "      <th>country_code</th>\n",
       "    </tr>\n",
       "  </thead>\n",
       "  <tbody>\n",
       "    <tr>\n",
       "      <th>0</th>\n",
       "      <td>1000</td>\n",
       "      <td>Wien</td>\n",
       "      <td>W</td>\n",
       "      <td>AT</td>\n",
       "    </tr>\n",
       "    <tr>\n",
       "      <th>1</th>\n",
       "      <td>1004</td>\n",
       "      <td>Wien</td>\n",
       "      <td>W</td>\n",
       "      <td>AT</td>\n",
       "    </tr>\n",
       "    <tr>\n",
       "      <th>2</th>\n",
       "      <td>1006</td>\n",
       "      <td>Wien</td>\n",
       "      <td>W</td>\n",
       "      <td>AT</td>\n",
       "    </tr>\n",
       "    <tr>\n",
       "      <th>3</th>\n",
       "      <td>1010</td>\n",
       "      <td>Wien</td>\n",
       "      <td>W</td>\n",
       "      <td>AT</td>\n",
       "    </tr>\n",
       "    <tr>\n",
       "      <th>4</th>\n",
       "      <td>1011</td>\n",
       "      <td>Wien Postfach</td>\n",
       "      <td>W</td>\n",
       "      <td>AT</td>\n",
       "    </tr>\n",
       "  </tbody>\n",
       "</table>\n",
       "</div>"
      ],
      "text/plain": [
       "   postal_code           city state country_code\n",
       "0         1000           Wien     W           AT\n",
       "1         1004           Wien     W           AT\n",
       "2         1006           Wien     W           AT\n",
       "3         1010           Wien     W           AT\n",
       "4         1011  Wien Postfach     W           AT"
      ]
     },
     "metadata": {},
     "output_type": "display_data"
    },
    {
     "data": {
      "text/plain": [
       "(2520, 4)"
      ]
     },
     "metadata": {},
     "output_type": "display_data"
    }
   ],
   "source": [
    "#check results \n",
    "display(df_plz_kanton.head())\n",
    "display(df_plz_kanton.shape)\n",
    "display(df_plz_de.head())\n",
    "display(df_plz_de.shape)\n",
    "display(df_plz_at.head())\n",
    "display(df_plz_at.shape)"
   ]
  },
  {
   "cell_type": "code",
   "execution_count": 55,
   "metadata": {},
   "outputs": [
    {
     "name": "stderr",
     "output_type": "stream",
     "text": [
      "/var/folders/0j/szrk2v_52_bgyh57zj48fk400000gn/T/ipykernel_93969/3284590239.py:4: FutureWarning: Indexing with multiple keys (implicitly converted to a tuple of keys) will be deprecated, use a list instead.\n",
      "  df_plz_all = df_plz_all.groupby(['postal_code'])['city', 'state', 'country_code'].first().reset_index()\n"
     ]
    },
    {
     "data": {
      "text/html": [
       "<div>\n",
       "<style scoped>\n",
       "    .dataframe tbody tr th:only-of-type {\n",
       "        vertical-align: middle;\n",
       "    }\n",
       "\n",
       "    .dataframe tbody tr th {\n",
       "        vertical-align: top;\n",
       "    }\n",
       "\n",
       "    .dataframe thead th {\n",
       "        text-align: right;\n",
       "    }\n",
       "</style>\n",
       "<table border=\"1\" class=\"dataframe\">\n",
       "  <thead>\n",
       "    <tr style=\"text-align: right;\">\n",
       "      <th></th>\n",
       "      <th>postal_code</th>\n",
       "      <th>city</th>\n",
       "      <th>state</th>\n",
       "      <th>country_code</th>\n",
       "    </tr>\n",
       "  </thead>\n",
       "  <tbody>\n",
       "    <tr>\n",
       "      <th>0</th>\n",
       "      <td>1000</td>\n",
       "      <td>Lausanne</td>\n",
       "      <td>Waadt</td>\n",
       "      <td>CH</td>\n",
       "    </tr>\n",
       "    <tr>\n",
       "      <th>1</th>\n",
       "      <td>1003</td>\n",
       "      <td>Lausanne</td>\n",
       "      <td>Waadt</td>\n",
       "      <td>CH</td>\n",
       "    </tr>\n",
       "    <tr>\n",
       "      <th>2</th>\n",
       "      <td>1004</td>\n",
       "      <td>Lausanne</td>\n",
       "      <td>Waadt</td>\n",
       "      <td>CH</td>\n",
       "    </tr>\n",
       "    <tr>\n",
       "      <th>3</th>\n",
       "      <td>1005</td>\n",
       "      <td>Lausanne</td>\n",
       "      <td>Waadt</td>\n",
       "      <td>CH</td>\n",
       "    </tr>\n",
       "    <tr>\n",
       "      <th>4</th>\n",
       "      <td>1006</td>\n",
       "      <td>Lausanne</td>\n",
       "      <td>Waadt</td>\n",
       "      <td>CH</td>\n",
       "    </tr>\n",
       "  </tbody>\n",
       "</table>\n",
       "</div>"
      ],
      "text/plain": [
       "   postal_code      city  state country_code\n",
       "0         1000  Lausanne  Waadt           CH\n",
       "1         1003  Lausanne  Waadt           CH\n",
       "2         1004  Lausanne  Waadt           CH\n",
       "3         1005  Lausanne  Waadt           CH\n",
       "4         1006  Lausanne  Waadt           CH"
      ]
     },
     "metadata": {},
     "output_type": "display_data"
    },
    {
     "data": {
      "text/plain": [
       "(12548, 4)"
      ]
     },
     "metadata": {},
     "output_type": "display_data"
    }
   ],
   "source": [
    "# unify for merging, check shape\n",
    "df_plz_all = pd.concat([df_plz_kanton, df_plz_de, df_plz_at])\n",
    "# dropping plz duplicates with multiple city, keeping the first entry each\n",
    "df_plz_all = df_plz_all.groupby(['postal_code'])['city', 'state', 'country_code'].first().reset_index()\n",
    "#check result\n",
    "display(df_plz_all.head())\n",
    "display(df_plz_all.shape)"
   ]
  },
  {
   "cell_type": "code",
   "execution_count": 56,
   "metadata": {},
   "outputs": [],
   "source": [
    "# merge city and state information to accounts table on plz and country code\n",
    "df_accounts_new = pd.merge(df_accounts, df_plz_all, left_on=['postal_code_clean', 'country_code'], right_on=['postal_code', 'country_code'], how='left')"
   ]
  },
  {
   "cell_type": "code",
   "execution_count": 57,
   "metadata": {},
   "outputs": [
    {
     "data": {
      "text/html": [
       "<div>\n",
       "<style scoped>\n",
       "    .dataframe tbody tr th:only-of-type {\n",
       "        vertical-align: middle;\n",
       "    }\n",
       "\n",
       "    .dataframe tbody tr th {\n",
       "        vertical-align: top;\n",
       "    }\n",
       "\n",
       "    .dataframe thead th {\n",
       "        text-align: right;\n",
       "    }\n",
       "</style>\n",
       "<table border=\"1\" class=\"dataframe\">\n",
       "  <thead>\n",
       "    <tr style=\"text-align: right;\">\n",
       "      <th></th>\n",
       "      <th>account_key</th>\n",
       "      <th>postal_code_x</th>\n",
       "      <th>city_x</th>\n",
       "      <th>language</th>\n",
       "      <th>country_code</th>\n",
       "      <th>onetime_rental_count</th>\n",
       "      <th>subscription_count</th>\n",
       "      <th>postal_code_clean</th>\n",
       "      <th>postal_code_y</th>\n",
       "      <th>city_y</th>\n",
       "      <th>state</th>\n",
       "    </tr>\n",
       "  </thead>\n",
       "  <tbody>\n",
       "    <tr>\n",
       "      <th>0</th>\n",
       "      <td>60a90104f44414d9036aed7d96d1468a5a9e1d104b6791...</td>\n",
       "      <td>5430</td>\n",
       "      <td>Wettingen</td>\n",
       "      <td>de</td>\n",
       "      <td>CH</td>\n",
       "      <td>0</td>\n",
       "      <td>1</td>\n",
       "      <td>5430</td>\n",
       "      <td>5430.0</td>\n",
       "      <td>Wettingen</td>\n",
       "      <td>Aargau</td>\n",
       "    </tr>\n",
       "    <tr>\n",
       "      <th>1</th>\n",
       "      <td>a48b28809457e680de54b4b560e00117308431c574aab2...</td>\n",
       "      <td>8706</td>\n",
       "      <td>Meilen</td>\n",
       "      <td>de</td>\n",
       "      <td>CH</td>\n",
       "      <td>0</td>\n",
       "      <td>1</td>\n",
       "      <td>8706</td>\n",
       "      <td>8706.0</td>\n",
       "      <td>Meilen</td>\n",
       "      <td>Zürich</td>\n",
       "    </tr>\n",
       "    <tr>\n",
       "      <th>2</th>\n",
       "      <td>7a280859423057ac5f1e0bfc15af602edd23900f3cf7cb...</td>\n",
       "      <td>1005</td>\n",
       "      <td>Lausanne</td>\n",
       "      <td>fr</td>\n",
       "      <td>CH</td>\n",
       "      <td>1</td>\n",
       "      <td>0</td>\n",
       "      <td>1005</td>\n",
       "      <td>1005.0</td>\n",
       "      <td>Lausanne</td>\n",
       "      <td>Waadt</td>\n",
       "    </tr>\n",
       "    <tr>\n",
       "      <th>3</th>\n",
       "      <td>23e7ac18b391549e95a98d85a3adae1f3f90c4fcc09732...</td>\n",
       "      <td>4436</td>\n",
       "      <td>Oberdorf</td>\n",
       "      <td>de</td>\n",
       "      <td>CH</td>\n",
       "      <td>0</td>\n",
       "      <td>2</td>\n",
       "      <td>4436</td>\n",
       "      <td>4436.0</td>\n",
       "      <td>Liedertswil</td>\n",
       "      <td>Basel-Landschaft</td>\n",
       "    </tr>\n",
       "    <tr>\n",
       "      <th>4</th>\n",
       "      <td>a39dbaa7972fb67c15db79d4a66cf5d1b94855ae530774...</td>\n",
       "      <td>6005</td>\n",
       "      <td>Luzern</td>\n",
       "      <td>de</td>\n",
       "      <td>CH</td>\n",
       "      <td>8</td>\n",
       "      <td>2</td>\n",
       "      <td>6005</td>\n",
       "      <td>6005.0</td>\n",
       "      <td>Luzern</td>\n",
       "      <td>Luzern</td>\n",
       "    </tr>\n",
       "  </tbody>\n",
       "</table>\n",
       "</div>"
      ],
      "text/plain": [
       "                                         account_key postal_code_x     city_x  \\\n",
       "0  60a90104f44414d9036aed7d96d1468a5a9e1d104b6791...          5430  Wettingen   \n",
       "1  a48b28809457e680de54b4b560e00117308431c574aab2...          8706     Meilen   \n",
       "2  7a280859423057ac5f1e0bfc15af602edd23900f3cf7cb...          1005   Lausanne   \n",
       "3  23e7ac18b391549e95a98d85a3adae1f3f90c4fcc09732...          4436   Oberdorf   \n",
       "4  a39dbaa7972fb67c15db79d4a66cf5d1b94855ae530774...          6005     Luzern   \n",
       "\n",
       "  language country_code  onetime_rental_count  subscription_count  \\\n",
       "0       de           CH                     0                   1   \n",
       "1       de           CH                     0                   1   \n",
       "2       fr           CH                     1                   0   \n",
       "3       de           CH                     0                   2   \n",
       "4       de           CH                     8                   2   \n",
       "\n",
       "   postal_code_clean  postal_code_y       city_y             state  \n",
       "0               5430         5430.0    Wettingen            Aargau  \n",
       "1               8706         8706.0       Meilen            Zürich  \n",
       "2               1005         1005.0     Lausanne             Waadt  \n",
       "3               4436         4436.0  Liedertswil  Basel-Landschaft  \n",
       "4               6005         6005.0       Luzern            Luzern  "
      ]
     },
     "metadata": {},
     "output_type": "display_data"
    },
    {
     "data": {
      "text/plain": [
       "(17079, 8)"
      ]
     },
     "metadata": {},
     "output_type": "display_data"
    },
    {
     "data": {
      "text/plain": [
       "(17079, 11)"
      ]
     },
     "metadata": {},
     "output_type": "display_data"
    }
   ],
   "source": [
    "# check results\n",
    "display(df_accounts_new.head())\n",
    "# check shape of original and new df\n",
    "display(df_accounts.shape)\n",
    "display(df_accounts_new.shape)"
   ]
  },
  {
   "cell_type": "code",
   "execution_count": 58,
   "metadata": {},
   "outputs": [
    {
     "data": {
      "text/html": [
       "<div>\n",
       "<style scoped>\n",
       "    .dataframe tbody tr th:only-of-type {\n",
       "        vertical-align: middle;\n",
       "    }\n",
       "\n",
       "    .dataframe tbody tr th {\n",
       "        vertical-align: top;\n",
       "    }\n",
       "\n",
       "    .dataframe thead th {\n",
       "        text-align: right;\n",
       "    }\n",
       "</style>\n",
       "<table border=\"1\" class=\"dataframe\">\n",
       "  <thead>\n",
       "    <tr style=\"text-align: right;\">\n",
       "      <th></th>\n",
       "      <th>postal_code</th>\n",
       "      <th>sprachcode</th>\n",
       "      <th>country_code</th>\n",
       "    </tr>\n",
       "  </thead>\n",
       "  <tbody>\n",
       "    <tr>\n",
       "      <th>0</th>\n",
       "      <td>1000</td>\n",
       "      <td>2</td>\n",
       "      <td>CH</td>\n",
       "    </tr>\n",
       "    <tr>\n",
       "      <th>9</th>\n",
       "      <td>1001</td>\n",
       "      <td>2</td>\n",
       "      <td>CH</td>\n",
       "    </tr>\n",
       "    <tr>\n",
       "      <th>10</th>\n",
       "      <td>1004</td>\n",
       "      <td>2</td>\n",
       "      <td>CH</td>\n",
       "    </tr>\n",
       "    <tr>\n",
       "      <th>11</th>\n",
       "      <td>1009</td>\n",
       "      <td>2</td>\n",
       "      <td>CH</td>\n",
       "    </tr>\n",
       "    <tr>\n",
       "      <th>12</th>\n",
       "      <td>1015</td>\n",
       "      <td>2</td>\n",
       "      <td>CH</td>\n",
       "    </tr>\n",
       "  </tbody>\n",
       "</table>\n",
       "</div>"
      ],
      "text/plain": [
       "    postal_code  sprachcode country_code\n",
       "0          1000           2           CH\n",
       "9          1001           2           CH\n",
       "10         1004           2           CH\n",
       "11         1009           2           CH\n",
       "12         1015           2           CH"
      ]
     },
     "metadata": {},
     "output_type": "display_data"
    },
    {
     "data": {
      "text/plain": [
       "(3495, 3)"
      ]
     },
     "metadata": {},
     "output_type": "display_data"
    }
   ],
   "source": [
    "# clean plz_a for language information\n",
    "# only keep relevant columns, rename, drop duplicates\n",
    "df_plz_ch = df_plz_ch[['postleitzahl', 'sprachcode']]\n",
    "df_plz_ch.rename(columns = {'postleitzahl':'postal_code'}, inplace = True)\n",
    "df_plz_ch.drop_duplicates(inplace=True)\n",
    "# add country_code for differentiation\n",
    "df_plz_ch['country_code'] = 'CH'\n",
    "# check result\n",
    "display(df_plz_ch.head())\n",
    "display(df_plz_ch.shape)\n"
   ]
  },
  {
   "cell_type": "code",
   "execution_count": 59,
   "metadata": {},
   "outputs": [],
   "source": [
    "# mapping sprachcode to actual language here or in tableau?\n",
    "#1 = deutsch,\n",
    "#2 = französisch,\n",
    "#3 = italienisch"
   ]
  },
  {
   "cell_type": "code",
   "execution_count": 60,
   "metadata": {},
   "outputs": [],
   "source": [
    "# merge sprachcode to accounts table\n",
    "df_accounts_new = pd.merge(df_accounts_new, df_plz_ch, left_on=['postal_code_clean', 'country_code'], right_on=['postal_code', 'country_code'], how='left')"
   ]
  },
  {
   "cell_type": "code",
   "execution_count": 61,
   "metadata": {},
   "outputs": [],
   "source": [
    "#drop duplicate postal code columns\n",
    "df_accounts_new = df_accounts_new.drop(['postal_code_x', 'postal_code_y', 'postal_code'], axis=1)\n",
    "#rename original postal code column\n",
    "df_accounts_new.rename(columns = {'postal_code_x':'postal_code_original', 'city_x':'city_original', 'city_y':'city_clean'}, inplace = True)"
   ]
  },
  {
   "cell_type": "code",
   "execution_count": 62,
   "metadata": {},
   "outputs": [],
   "source": [
    "#check results\n",
    "#display(df_accounts_new.head())\n",
    "#display(df_accounts_new.shape)"
   ]
  },
  {
   "cell_type": "code",
   "execution_count": 63,
   "metadata": {},
   "outputs": [
    {
     "data": {
      "text/html": [
       "<div>\n",
       "<style scoped>\n",
       "    .dataframe tbody tr th:only-of-type {\n",
       "        vertical-align: middle;\n",
       "    }\n",
       "\n",
       "    .dataframe tbody tr th {\n",
       "        vertical-align: top;\n",
       "    }\n",
       "\n",
       "    .dataframe thead th {\n",
       "        text-align: right;\n",
       "    }\n",
       "</style>\n",
       "<table border=\"1\" class=\"dataframe\">\n",
       "  <thead>\n",
       "    <tr style=\"text-align: right;\">\n",
       "      <th></th>\n",
       "      <th></th>\n",
       "      <th></th>\n",
       "      <th></th>\n",
       "      <th></th>\n",
       "      <th>onetime_rental_count</th>\n",
       "      <th>subscription_count</th>\n",
       "    </tr>\n",
       "    <tr>\n",
       "      <th>state</th>\n",
       "      <th>city_original</th>\n",
       "      <th>city_clean</th>\n",
       "      <th>postal_code_clean</th>\n",
       "      <th>sprachcode</th>\n",
       "      <th></th>\n",
       "      <th></th>\n",
       "    </tr>\n",
       "  </thead>\n",
       "  <tbody>\n",
       "    <tr>\n",
       "      <th rowspan=\"10\" valign=\"top\">Aargau</th>\n",
       "      <th>Ennetbaden</th>\n",
       "      <th>Ennetbaden</th>\n",
       "      <th>5408</th>\n",
       "      <th>1.0</th>\n",
       "      <td>3</td>\n",
       "      <td>0</td>\n",
       "    </tr>\n",
       "    <tr>\n",
       "      <th>5000 Aarau</th>\n",
       "      <th>Aarau</th>\n",
       "      <th>5000</th>\n",
       "      <th>1.0</th>\n",
       "      <td>1</td>\n",
       "      <td>0</td>\n",
       "    </tr>\n",
       "    <tr>\n",
       "      <th>5024 Küttigen</th>\n",
       "      <th>Küttigen</th>\n",
       "      <th>5024</th>\n",
       "      <th>1.0</th>\n",
       "      <td>1</td>\n",
       "      <td>1</td>\n",
       "    </tr>\n",
       "    <tr>\n",
       "      <th>5225 Bözberg</th>\n",
       "      <th>Oberbözberg</th>\n",
       "      <th>5225</th>\n",
       "      <th>1.0</th>\n",
       "      <td>0</td>\n",
       "      <td>1</td>\n",
       "    </tr>\n",
       "    <tr>\n",
       "      <th>5400 Baden</th>\n",
       "      <th>Baden</th>\n",
       "      <th>5400</th>\n",
       "      <th>1.0</th>\n",
       "      <td>0</td>\n",
       "      <td>1</td>\n",
       "    </tr>\n",
       "    <tr>\n",
       "      <th>Aarau</th>\n",
       "      <th>Aarau</th>\n",
       "      <th>5000</th>\n",
       "      <th>1.0</th>\n",
       "      <td>81</td>\n",
       "      <td>32</td>\n",
       "    </tr>\n",
       "    <tr>\n",
       "      <th>Aarau</th>\n",
       "      <th>Aarau</th>\n",
       "      <th>5000</th>\n",
       "      <th>1.0</th>\n",
       "      <td>3</td>\n",
       "      <td>0</td>\n",
       "    </tr>\n",
       "    <tr>\n",
       "      <th>Aarau Rohr</th>\n",
       "      <th>Aarau Rohr</th>\n",
       "      <th>5032</th>\n",
       "      <th>1.0</th>\n",
       "      <td>1</td>\n",
       "      <td>5</td>\n",
       "    </tr>\n",
       "    <tr>\n",
       "      <th>Aarau-Rohr</th>\n",
       "      <th>Aarau Rohr</th>\n",
       "      <th>5032</th>\n",
       "      <th>1.0</th>\n",
       "      <td>0</td>\n",
       "      <td>4</td>\n",
       "    </tr>\n",
       "    <tr>\n",
       "      <th>Aarburg</th>\n",
       "      <th>Aarburg</th>\n",
       "      <th>4663</th>\n",
       "      <th>1.0</th>\n",
       "      <td>0</td>\n",
       "      <td>1</td>\n",
       "    </tr>\n",
       "  </tbody>\n",
       "</table>\n",
       "</div>"
      ],
      "text/plain": [
       "                                                               onetime_rental_count  \\\n",
       "state  city_original city_clean  postal_code_clean sprachcode                         \n",
       "Aargau  Ennetbaden   Ennetbaden  5408              1.0                            3   \n",
       "       5000 Aarau    Aarau       5000              1.0                            1   \n",
       "       5024 Küttigen Küttigen    5024              1.0                            1   \n",
       "       5225 Bözberg  Oberbözberg 5225              1.0                            0   \n",
       "       5400 Baden    Baden       5400              1.0                            0   \n",
       "       Aarau         Aarau       5000              1.0                           81   \n",
       "       Aarau         Aarau       5000              1.0                            3   \n",
       "       Aarau Rohr    Aarau Rohr  5032              1.0                            1   \n",
       "       Aarau-Rohr    Aarau Rohr  5032              1.0                            0   \n",
       "       Aarburg       Aarburg     4663              1.0                            0   \n",
       "\n",
       "                                                               subscription_count  \n",
       "state  city_original city_clean  postal_code_clean sprachcode                      \n",
       "Aargau  Ennetbaden   Ennetbaden  5408              1.0                          0  \n",
       "       5000 Aarau    Aarau       5000              1.0                          0  \n",
       "       5024 Küttigen Küttigen    5024              1.0                          1  \n",
       "       5225 Bözberg  Oberbözberg 5225              1.0                          1  \n",
       "       5400 Baden    Baden       5400              1.0                          1  \n",
       "       Aarau         Aarau       5000              1.0                         32  \n",
       "       Aarau         Aarau       5000              1.0                          0  \n",
       "       Aarau Rohr    Aarau Rohr  5032              1.0                          5  \n",
       "       Aarau-Rohr    Aarau Rohr  5032              1.0                          4  \n",
       "       Aarburg       Aarburg     4663              1.0                          1  "
      ]
     },
     "execution_count": 63,
     "metadata": {},
     "output_type": "execute_result"
    }
   ],
   "source": [
    "# check result\n",
    "df_accounts_new.groupby(['state', 'city_original', 'city_clean', 'postal_code_clean', 'sprachcode']).sum().head(10)"
   ]
  },
  {
   "cell_type": "markdown",
   "metadata": {},
   "source": [
    "## Country_Code"
   ]
  },
  {
   "cell_type": "code",
   "execution_count": 64,
   "metadata": {},
   "outputs": [],
   "source": [
    "# show country codes \n",
    "#display(df_accounts.country_code.nunique())\n",
    "#df_accounts.country_code.unique()"
   ]
  },
  {
   "cell_type": "code",
   "execution_count": 65,
   "metadata": {},
   "outputs": [],
   "source": [
    "#df_accounts.country_code.value_counts().plot(kind='pie');"
   ]
  },
  {
   "cell_type": "markdown",
   "metadata": {},
   "source": [
    "### Add country name information"
   ]
  },
  {
   "cell_type": "code",
   "execution_count": 66,
   "metadata": {},
   "outputs": [
    {
     "data": {
      "text/plain": [
       "(249, 11)"
      ]
     },
     "metadata": {},
     "output_type": "display_data"
    },
    {
     "data": {
      "text/html": [
       "<div>\n",
       "<style scoped>\n",
       "    .dataframe tbody tr th:only-of-type {\n",
       "        vertical-align: middle;\n",
       "    }\n",
       "\n",
       "    .dataframe tbody tr th {\n",
       "        vertical-align: top;\n",
       "    }\n",
       "\n",
       "    .dataframe thead th {\n",
       "        text-align: right;\n",
       "    }\n",
       "</style>\n",
       "<table border=\"1\" class=\"dataframe\">\n",
       "  <thead>\n",
       "    <tr style=\"text-align: right;\">\n",
       "      <th></th>\n",
       "      <th>name</th>\n",
       "      <th>alpha-2</th>\n",
       "      <th>alpha-3</th>\n",
       "      <th>country-code</th>\n",
       "      <th>iso_3166-2</th>\n",
       "      <th>region</th>\n",
       "      <th>sub-region</th>\n",
       "      <th>intermediate-region</th>\n",
       "      <th>region-code</th>\n",
       "      <th>sub-region-code</th>\n",
       "      <th>intermediate-region-code</th>\n",
       "    </tr>\n",
       "  </thead>\n",
       "  <tbody>\n",
       "    <tr>\n",
       "      <th>0</th>\n",
       "      <td>Afghanistan</td>\n",
       "      <td>AF</td>\n",
       "      <td>AFG</td>\n",
       "      <td>4</td>\n",
       "      <td>ISO 3166-2:AF</td>\n",
       "      <td>Asia</td>\n",
       "      <td>Southern Asia</td>\n",
       "      <td>NaN</td>\n",
       "      <td>142.0</td>\n",
       "      <td>34.0</td>\n",
       "      <td>NaN</td>\n",
       "    </tr>\n",
       "    <tr>\n",
       "      <th>1</th>\n",
       "      <td>Åland Islands</td>\n",
       "      <td>AX</td>\n",
       "      <td>ALA</td>\n",
       "      <td>248</td>\n",
       "      <td>ISO 3166-2:AX</td>\n",
       "      <td>Europe</td>\n",
       "      <td>Northern Europe</td>\n",
       "      <td>NaN</td>\n",
       "      <td>150.0</td>\n",
       "      <td>154.0</td>\n",
       "      <td>NaN</td>\n",
       "    </tr>\n",
       "    <tr>\n",
       "      <th>2</th>\n",
       "      <td>Albania</td>\n",
       "      <td>AL</td>\n",
       "      <td>ALB</td>\n",
       "      <td>8</td>\n",
       "      <td>ISO 3166-2:AL</td>\n",
       "      <td>Europe</td>\n",
       "      <td>Southern Europe</td>\n",
       "      <td>NaN</td>\n",
       "      <td>150.0</td>\n",
       "      <td>39.0</td>\n",
       "      <td>NaN</td>\n",
       "    </tr>\n",
       "    <tr>\n",
       "      <th>3</th>\n",
       "      <td>Algeria</td>\n",
       "      <td>DZ</td>\n",
       "      <td>DZA</td>\n",
       "      <td>12</td>\n",
       "      <td>ISO 3166-2:DZ</td>\n",
       "      <td>Africa</td>\n",
       "      <td>Northern Africa</td>\n",
       "      <td>NaN</td>\n",
       "      <td>2.0</td>\n",
       "      <td>15.0</td>\n",
       "      <td>NaN</td>\n",
       "    </tr>\n",
       "    <tr>\n",
       "      <th>4</th>\n",
       "      <td>American Samoa</td>\n",
       "      <td>AS</td>\n",
       "      <td>ASM</td>\n",
       "      <td>16</td>\n",
       "      <td>ISO 3166-2:AS</td>\n",
       "      <td>Oceania</td>\n",
       "      <td>Polynesia</td>\n",
       "      <td>NaN</td>\n",
       "      <td>9.0</td>\n",
       "      <td>61.0</td>\n",
       "      <td>NaN</td>\n",
       "    </tr>\n",
       "  </tbody>\n",
       "</table>\n",
       "</div>"
      ],
      "text/plain": [
       "             name alpha-2 alpha-3  country-code     iso_3166-2   region  \\\n",
       "0     Afghanistan      AF     AFG             4  ISO 3166-2:AF     Asia   \n",
       "1   Åland Islands      AX     ALA           248  ISO 3166-2:AX   Europe   \n",
       "2         Albania      AL     ALB             8  ISO 3166-2:AL   Europe   \n",
       "3         Algeria      DZ     DZA            12  ISO 3166-2:DZ   Africa   \n",
       "4  American Samoa      AS     ASM            16  ISO 3166-2:AS  Oceania   \n",
       "\n",
       "        sub-region intermediate-region  region-code  sub-region-code  \\\n",
       "0    Southern Asia                 NaN        142.0             34.0   \n",
       "1  Northern Europe                 NaN        150.0            154.0   \n",
       "2  Southern Europe                 NaN        150.0             39.0   \n",
       "3  Northern Africa                 NaN          2.0             15.0   \n",
       "4        Polynesia                 NaN          9.0             61.0   \n",
       "\n",
       "   intermediate-region-code  \n",
       "0                       NaN  \n",
       "1                       NaN  \n",
       "2                       NaN  \n",
       "3                       NaN  \n",
       "4                       NaN  "
      ]
     },
     "metadata": {},
     "output_type": "display_data"
    }
   ],
   "source": [
    "# add country information\n",
    "country= './data/country_code.csv'\n",
    "df_country = pd.read_csv(country)\n",
    "df_country.columns = df_country.columns.str.lower()\n",
    "# check result\n",
    "display(df_country.shape)\n",
    "display(df_country.head())"
   ]
  },
  {
   "cell_type": "code",
   "execution_count": 67,
   "metadata": {},
   "outputs": [
    {
     "data": {
      "text/html": [
       "<div>\n",
       "<style scoped>\n",
       "    .dataframe tbody tr th:only-of-type {\n",
       "        vertical-align: middle;\n",
       "    }\n",
       "\n",
       "    .dataframe tbody tr th {\n",
       "        vertical-align: top;\n",
       "    }\n",
       "\n",
       "    .dataframe thead th {\n",
       "        text-align: right;\n",
       "    }\n",
       "</style>\n",
       "<table border=\"1\" class=\"dataframe\">\n",
       "  <thead>\n",
       "    <tr style=\"text-align: right;\">\n",
       "      <th></th>\n",
       "      <th>country_name</th>\n",
       "      <th>country_code</th>\n",
       "      <th>region</th>\n",
       "      <th>sub_region</th>\n",
       "    </tr>\n",
       "  </thead>\n",
       "  <tbody>\n",
       "    <tr>\n",
       "      <th>0</th>\n",
       "      <td>Afghanistan</td>\n",
       "      <td>AF</td>\n",
       "      <td>Asia</td>\n",
       "      <td>Southern Asia</td>\n",
       "    </tr>\n",
       "    <tr>\n",
       "      <th>1</th>\n",
       "      <td>Åland Islands</td>\n",
       "      <td>AX</td>\n",
       "      <td>Europe</td>\n",
       "      <td>Northern Europe</td>\n",
       "    </tr>\n",
       "    <tr>\n",
       "      <th>2</th>\n",
       "      <td>Albania</td>\n",
       "      <td>AL</td>\n",
       "      <td>Europe</td>\n",
       "      <td>Southern Europe</td>\n",
       "    </tr>\n",
       "    <tr>\n",
       "      <th>3</th>\n",
       "      <td>Algeria</td>\n",
       "      <td>DZ</td>\n",
       "      <td>Africa</td>\n",
       "      <td>Northern Africa</td>\n",
       "    </tr>\n",
       "    <tr>\n",
       "      <th>4</th>\n",
       "      <td>American Samoa</td>\n",
       "      <td>AS</td>\n",
       "      <td>Oceania</td>\n",
       "      <td>Polynesia</td>\n",
       "    </tr>\n",
       "  </tbody>\n",
       "</table>\n",
       "</div>"
      ],
      "text/plain": [
       "     country_name country_code   region       sub_region\n",
       "0     Afghanistan           AF     Asia    Southern Asia\n",
       "1   Åland Islands           AX   Europe  Northern Europe\n",
       "2         Albania           AL   Europe  Southern Europe\n",
       "3         Algeria           DZ   Africa  Northern Africa\n",
       "4  American Samoa           AS  Oceania        Polynesia"
      ]
     },
     "execution_count": 67,
     "metadata": {},
     "output_type": "execute_result"
    }
   ],
   "source": [
    "#only keep relevant columns, rename\n",
    "df_country = df_country[['name', 'alpha-2', 'region', 'sub-region']]\n",
    "df_country.rename(columns = {'alpha-2':'country_code', 'name':'country_name', 'sub-region':'sub_region'}, inplace = True)\n",
    "df_country.head()"
   ]
  },
  {
   "cell_type": "code",
   "execution_count": 68,
   "metadata": {},
   "outputs": [],
   "source": [
    "#merge to accounts_new table\n",
    "df_accounts_new = pd.merge(df_accounts_new, df_country, on='country_code', how='left')\n",
    "#df_accounts_new.head()"
   ]
  },
  {
   "cell_type": "code",
   "execution_count": 69,
   "metadata": {},
   "outputs": [],
   "source": [
    "#check result\n",
    "#df_accounts_new.groupby(['region', 'sub_region', 'country_code', 'country_name']).sum()"
   ]
  },
  {
   "cell_type": "markdown",
   "metadata": {},
   "source": [
    "## Language"
   ]
  },
  {
   "cell_type": "code",
   "execution_count": 70,
   "metadata": {},
   "outputs": [
    {
     "data": {
      "text/plain": [
       "4"
      ]
     },
     "metadata": {},
     "output_type": "display_data"
    },
    {
     "data": {
      "text/plain": [
       "array(['de', 'fr', 'en', nan, 'nl'], dtype=object)"
      ]
     },
     "metadata": {},
     "output_type": "display_data"
    },
    {
     "data": {
      "text/plain": [
       "de    10942\n",
       "fr     4286\n",
       "en     1794\n",
       "nl        1\n",
       "Name: language, dtype: int64"
      ]
     },
     "metadata": {},
     "output_type": "display_data"
    }
   ],
   "source": [
    "display(df_accounts.language.nunique())\n",
    "display(df_accounts.language.unique())\n",
    "display(df_accounts.language.value_counts())"
   ]
  },
  {
   "cell_type": "code",
   "execution_count": 71,
   "metadata": {},
   "outputs": [
    {
     "data": {
      "text/plain": [
       "56"
      ]
     },
     "execution_count": 71,
     "metadata": {},
     "output_type": "execute_result"
    }
   ],
   "source": [
    "# check for null values\n",
    "df_accounts.language.isna().sum()"
   ]
  },
  {
   "cell_type": "code",
   "execution_count": 72,
   "metadata": {},
   "outputs": [],
   "source": [
    "#fill null values\n",
    "df_accounts['language'].fillna('na', inplace=True)"
   ]
  },
  {
   "cell_type": "code",
   "execution_count": 73,
   "metadata": {},
   "outputs": [
    {
     "data": {
      "text/html": [
       "<div>\n",
       "<style scoped>\n",
       "    .dataframe tbody tr th:only-of-type {\n",
       "        vertical-align: middle;\n",
       "    }\n",
       "\n",
       "    .dataframe tbody tr th {\n",
       "        vertical-align: top;\n",
       "    }\n",
       "\n",
       "    .dataframe thead th {\n",
       "        text-align: right;\n",
       "    }\n",
       "</style>\n",
       "<table border=\"1\" class=\"dataframe\">\n",
       "  <thead>\n",
       "    <tr style=\"text-align: right;\">\n",
       "      <th></th>\n",
       "      <th>onetime_rental_count</th>\n",
       "      <th>subscription_count</th>\n",
       "      <th>postal_code_clean</th>\n",
       "    </tr>\n",
       "    <tr>\n",
       "      <th>language</th>\n",
       "      <th></th>\n",
       "      <th></th>\n",
       "      <th></th>\n",
       "    </tr>\n",
       "  </thead>\n",
       "  <tbody>\n",
       "    <tr>\n",
       "      <th>de</th>\n",
       "      <td>19546</td>\n",
       "      <td>7600</td>\n",
       "      <td>119303153</td>\n",
       "    </tr>\n",
       "    <tr>\n",
       "      <th>en</th>\n",
       "      <td>2350</td>\n",
       "      <td>1119</td>\n",
       "      <td>361492188</td>\n",
       "    </tr>\n",
       "    <tr>\n",
       "      <th>fr</th>\n",
       "      <td>6864</td>\n",
       "      <td>3353</td>\n",
       "      <td>22843771</td>\n",
       "    </tr>\n",
       "    <tr>\n",
       "      <th>na</th>\n",
       "      <td>50</td>\n",
       "      <td>41</td>\n",
       "      <td>468865</td>\n",
       "    </tr>\n",
       "    <tr>\n",
       "      <th>nl</th>\n",
       "      <td>0</td>\n",
       "      <td>1</td>\n",
       "      <td>2394</td>\n",
       "    </tr>\n",
       "  </tbody>\n",
       "</table>\n",
       "</div>"
      ],
      "text/plain": [
       "          onetime_rental_count  subscription_count  postal_code_clean\n",
       "language                                                             \n",
       "de                       19546                7600          119303153\n",
       "en                        2350                1119          361492188\n",
       "fr                        6864                3353           22843771\n",
       "na                          50                  41             468865\n",
       "nl                           0                   1               2394"
      ]
     },
     "execution_count": 73,
     "metadata": {},
     "output_type": "execute_result"
    }
   ],
   "source": [
    "df_accounts.groupby('language').sum()"
   ]
  },
  {
   "cell_type": "markdown",
   "metadata": {},
   "source": [
    "## Onetime rental and Subscription Count\n"
   ]
  },
  {
   "cell_type": "code",
   "execution_count": 74,
   "metadata": {},
   "outputs": [
    {
     "data": {
      "text/plain": [
       "count    17079.000000\n",
       "mean         1.686867\n",
       "std          3.592025\n",
       "min          0.000000\n",
       "25%          0.000000\n",
       "50%          1.000000\n",
       "75%          2.000000\n",
       "max        106.000000\n",
       "Name: onetime_rental_count, dtype: float64"
      ]
     },
     "metadata": {},
     "output_type": "display_data"
    },
    {
     "data": {
      "text/plain": [
       "0      6837\n",
       "1      5804\n",
       "2      1571\n",
       "3       809\n",
       "4       514\n",
       "5       316\n",
       "6       262\n",
       "7       178\n",
       "8       170\n",
       "9       109\n",
       "10       85\n",
       "11       63\n",
       "12       52\n",
       "13       47\n",
       "14       37\n",
       "15       28\n",
       "18       24\n",
       "16       22\n",
       "17       20\n",
       "21       17\n",
       "19       11\n",
       "20       11\n",
       "22        8\n",
       "23        8\n",
       "30        7\n",
       "26        7\n",
       "25        7\n",
       "29        6\n",
       "28        6\n",
       "24        6\n",
       "27        5\n",
       "47        4\n",
       "32        4\n",
       "31        3\n",
       "35        3\n",
       "51        2\n",
       "37        2\n",
       "52        2\n",
       "39        2\n",
       "45        1\n",
       "57        1\n",
       "61        1\n",
       "38        1\n",
       "53        1\n",
       "65        1\n",
       "44        1\n",
       "48        1\n",
       "106       1\n",
       "79        1\n",
       "Name: onetime_rental_count, dtype: int64"
      ]
     },
     "metadata": {},
     "output_type": "display_data"
    }
   ],
   "source": [
    "#general information on counts\n",
    "display(df_accounts.onetime_rental_count.describe())\n",
    "display(df_accounts.onetime_rental_count.value_counts())"
   ]
  },
  {
   "cell_type": "code",
   "execution_count": 75,
   "metadata": {},
   "outputs": [
    {
     "data": {
      "text/plain": [
       "False    8976\n",
       "True     8103\n",
       "Name: subscription_count, dtype: int64"
      ]
     },
     "execution_count": 75,
     "metadata": {},
     "output_type": "execute_result"
    }
   ],
   "source": [
    "#Check for accounts with no subscription\n",
    "#display(df_accounts.subscription_count.unique())\n",
    "df_accounts['subscription_count'].apply(lambda x: True if x == 0 else False).value_counts()"
   ]
  },
  {
   "cell_type": "markdown",
   "metadata": {},
   "source": [
    "## CSV Export"
   ]
  },
  {
   "cell_type": "code",
   "execution_count": 76,
   "metadata": {},
   "outputs": [
    {
     "data": {
      "text/plain": [
       "account_key                0\n",
       "city_original             10\n",
       "language                  57\n",
       "country_code               0\n",
       "onetime_rental_count       0\n",
       "subscription_count         0\n",
       "postal_code_clean          0\n",
       "city_clean               705\n",
       "state                    705\n",
       "sprachcode              1983\n",
       "country_name               0\n",
       "region                     0\n",
       "sub_region                 0\n",
       "dtype: int64"
      ]
     },
     "execution_count": 76,
     "metadata": {},
     "output_type": "execute_result"
    }
   ],
   "source": [
    "#last check for null values\n",
    "df_accounts_new.isnull().sum()\n",
    "# high amount of null values for city/state/sprachcode --> added information only for D/A/CH region"
   ]
  },
  {
   "cell_type": "code",
   "execution_count": 77,
   "metadata": {},
   "outputs": [],
   "source": [
    "# export to csv for tableau eda\n",
    "#df_accounts_new.to_csv('./data/accounts_new.csv')"
   ]
  }
 ],
 "metadata": {
  "kernelspec": {
   "display_name": "Python 3.9.13 ('nf_geo')",
   "language": "python",
   "name": "python3"
  },
  "language_info": {
   "codemirror_mode": {
    "name": "ipython",
    "version": 3
   },
   "file_extension": ".py",
   "mimetype": "text/x-python",
   "name": "python",
   "nbconvert_exporter": "python",
   "pygments_lexer": "ipython3",
   "version": "3.9.13"
  },
  "orig_nbformat": 4,
  "vscode": {
   "interpreter": {
    "hash": "54164dac681f969475496b4542379ae320e04389f410020fc75e8e60ba0ebe96"
   }
  }
 },
 "nbformat": 4,
 "nbformat_minor": 2
}
