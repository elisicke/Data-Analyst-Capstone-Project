{
 "cells": [
  {
   "cell_type": "markdown",
   "metadata": {},
   "source": [
    "# SETUP"
   ]
  },
  {
   "cell_type": "code",
   "execution_count": 78,
   "metadata": {},
   "outputs": [],
   "source": [
    "import numpy as np\n",
    "import pandas as pd\n",
    "import matplotlib.pyplot as plt"
   ]
  },
  {
   "cell_type": "code",
   "execution_count": 79,
   "metadata": {},
   "outputs": [],
   "source": [
    "# define the name of the csv file you want to read in\n",
    "accounts = './data/accounts.csv'\n",
    "#playbacks = './data/playbacks.csv'\n",
    "#subscriptions = './data/subscriptions.csv'"
   ]
  },
  {
   "cell_type": "markdown",
   "metadata": {},
   "source": [
    "# ACCOUNTS"
   ]
  },
  {
   "cell_type": "code",
   "execution_count": 80,
   "metadata": {},
   "outputs": [
    {
     "data": {
      "text/html": [
       "<div>\n",
       "<style scoped>\n",
       "    .dataframe tbody tr th:only-of-type {\n",
       "        vertical-align: middle;\n",
       "    }\n",
       "\n",
       "    .dataframe tbody tr th {\n",
       "        vertical-align: top;\n",
       "    }\n",
       "\n",
       "    .dataframe thead th {\n",
       "        text-align: right;\n",
       "    }\n",
       "</style>\n",
       "<table border=\"1\" class=\"dataframe\">\n",
       "  <thead>\n",
       "    <tr style=\"text-align: right;\">\n",
       "      <th></th>\n",
       "      <th>account_key</th>\n",
       "      <th>postal_code</th>\n",
       "      <th>city</th>\n",
       "      <th>language</th>\n",
       "      <th>country_code</th>\n",
       "      <th>email_hash</th>\n",
       "      <th>onetime_rental_count</th>\n",
       "      <th>subscription_count</th>\n",
       "    </tr>\n",
       "  </thead>\n",
       "  <tbody>\n",
       "    <tr>\n",
       "      <th>0</th>\n",
       "      <td>60a90104f44414d9036aed7d96d1468a5a9e1d104b6791...</td>\n",
       "      <td>5430</td>\n",
       "      <td>Wettingen</td>\n",
       "      <td>de</td>\n",
       "      <td>CH</td>\n",
       "      <td>5f3d193f5be5c279e77a80d7de82ffb34e3883a3d6a3e7...</td>\n",
       "      <td>0</td>\n",
       "      <td>1</td>\n",
       "    </tr>\n",
       "    <tr>\n",
       "      <th>1</th>\n",
       "      <td>a48b28809457e680de54b4b560e00117308431c574aab2...</td>\n",
       "      <td>8706</td>\n",
       "      <td>Meilen</td>\n",
       "      <td>de</td>\n",
       "      <td>CH</td>\n",
       "      <td>029a26c1483d78f98002c3be1c902b15ce814b62e45a2a...</td>\n",
       "      <td>0</td>\n",
       "      <td>1</td>\n",
       "    </tr>\n",
       "    <tr>\n",
       "      <th>2</th>\n",
       "      <td>7a280859423057ac5f1e0bfc15af602edd23900f3cf7cb...</td>\n",
       "      <td>1005</td>\n",
       "      <td>Lausanne</td>\n",
       "      <td>fr</td>\n",
       "      <td>CH</td>\n",
       "      <td>08a8ff8a3b3fb9be3a8f87a86960bf9f3e43b31d0772e1...</td>\n",
       "      <td>1</td>\n",
       "      <td>0</td>\n",
       "    </tr>\n",
       "    <tr>\n",
       "      <th>3</th>\n",
       "      <td>23e7ac18b391549e95a98d85a3adae1f3f90c4fcc09732...</td>\n",
       "      <td>4436</td>\n",
       "      <td>Oberdorf</td>\n",
       "      <td>de</td>\n",
       "      <td>CH</td>\n",
       "      <td>007ada12068218817c2b69325d1bfe2d7ac10da3a9922d...</td>\n",
       "      <td>0</td>\n",
       "      <td>2</td>\n",
       "    </tr>\n",
       "    <tr>\n",
       "      <th>4</th>\n",
       "      <td>a39dbaa7972fb67c15db79d4a66cf5d1b94855ae530774...</td>\n",
       "      <td>6005</td>\n",
       "      <td>Luzern</td>\n",
       "      <td>de</td>\n",
       "      <td>CH</td>\n",
       "      <td>cff18967fb0f8b29eeb54a91b98d027920d44c1e771258...</td>\n",
       "      <td>8</td>\n",
       "      <td>2</td>\n",
       "    </tr>\n",
       "  </tbody>\n",
       "</table>\n",
       "</div>"
      ],
      "text/plain": [
       "                                         account_key postal_code       city  \\\n",
       "0  60a90104f44414d9036aed7d96d1468a5a9e1d104b6791...        5430  Wettingen   \n",
       "1  a48b28809457e680de54b4b560e00117308431c574aab2...        8706     Meilen   \n",
       "2  7a280859423057ac5f1e0bfc15af602edd23900f3cf7cb...        1005   Lausanne   \n",
       "3  23e7ac18b391549e95a98d85a3adae1f3f90c4fcc09732...        4436   Oberdorf   \n",
       "4  a39dbaa7972fb67c15db79d4a66cf5d1b94855ae530774...        6005     Luzern   \n",
       "\n",
       "  language country_code                                         email_hash  \\\n",
       "0       de           CH  5f3d193f5be5c279e77a80d7de82ffb34e3883a3d6a3e7...   \n",
       "1       de           CH  029a26c1483d78f98002c3be1c902b15ce814b62e45a2a...   \n",
       "2       fr           CH  08a8ff8a3b3fb9be3a8f87a86960bf9f3e43b31d0772e1...   \n",
       "3       de           CH  007ada12068218817c2b69325d1bfe2d7ac10da3a9922d...   \n",
       "4       de           CH  cff18967fb0f8b29eeb54a91b98d027920d44c1e771258...   \n",
       "\n",
       "   onetime_rental_count  subscription_count  \n",
       "0                     0                   1  \n",
       "1                     0                   1  \n",
       "2                     1                   0  \n",
       "3                     0                   2  \n",
       "4                     8                   2  "
      ]
     },
     "metadata": {},
     "output_type": "display_data"
    }
   ],
   "source": [
    "# Read accounts (01.10.2020 - 01.10.2022)\n",
    "df_accounts = pd.read_csv(accounts)\n",
    "# set column names to lowercase\n",
    "df_accounts.columns = df_accounts.columns.str.lower()\n",
    "# show first rows\n",
    "display(df_accounts.head())"
   ]
  },
  {
   "cell_type": "code",
   "execution_count": 81,
   "metadata": {},
   "outputs": [
    {
     "data": {
      "text/plain": [
       "(22154, 8)"
      ]
     },
     "metadata": {},
     "output_type": "display_data"
    },
    {
     "data": {
      "text/plain": [
       "account_key             object\n",
       "postal_code             object\n",
       "city                    object\n",
       "language                object\n",
       "country_code            object\n",
       "email_hash              object\n",
       "onetime_rental_count     int64\n",
       "subscription_count       int64\n",
       "dtype: object"
      ]
     },
     "metadata": {},
     "output_type": "display_data"
    },
    {
     "data": {
      "text/html": [
       "<div>\n",
       "<style scoped>\n",
       "    .dataframe tbody tr th:only-of-type {\n",
       "        vertical-align: middle;\n",
       "    }\n",
       "\n",
       "    .dataframe tbody tr th {\n",
       "        vertical-align: top;\n",
       "    }\n",
       "\n",
       "    .dataframe thead th {\n",
       "        text-align: right;\n",
       "    }\n",
       "</style>\n",
       "<table border=\"1\" class=\"dataframe\">\n",
       "  <thead>\n",
       "    <tr style=\"text-align: right;\">\n",
       "      <th></th>\n",
       "      <th>onetime_rental_count</th>\n",
       "      <th>subscription_count</th>\n",
       "    </tr>\n",
       "  </thead>\n",
       "  <tbody>\n",
       "    <tr>\n",
       "      <th>count</th>\n",
       "      <td>22154.000000</td>\n",
       "      <td>22154.000000</td>\n",
       "    </tr>\n",
       "    <tr>\n",
       "      <th>mean</th>\n",
       "      <td>1.300442</td>\n",
       "      <td>0.550465</td>\n",
       "    </tr>\n",
       "    <tr>\n",
       "      <th>std</th>\n",
       "      <td>3.232544</td>\n",
       "      <td>0.830078</td>\n",
       "    </tr>\n",
       "    <tr>\n",
       "      <th>min</th>\n",
       "      <td>0.000000</td>\n",
       "      <td>0.000000</td>\n",
       "    </tr>\n",
       "    <tr>\n",
       "      <th>25%</th>\n",
       "      <td>0.000000</td>\n",
       "      <td>0.000000</td>\n",
       "    </tr>\n",
       "    <tr>\n",
       "      <th>50%</th>\n",
       "      <td>0.000000</td>\n",
       "      <td>0.000000</td>\n",
       "    </tr>\n",
       "    <tr>\n",
       "      <th>75%</th>\n",
       "      <td>1.000000</td>\n",
       "      <td>1.000000</td>\n",
       "    </tr>\n",
       "    <tr>\n",
       "      <th>max</th>\n",
       "      <td>106.000000</td>\n",
       "      <td>13.000000</td>\n",
       "    </tr>\n",
       "  </tbody>\n",
       "</table>\n",
       "</div>"
      ],
      "text/plain": [
       "       onetime_rental_count  subscription_count\n",
       "count          22154.000000        22154.000000\n",
       "mean               1.300442            0.550465\n",
       "std                3.232544            0.830078\n",
       "min                0.000000            0.000000\n",
       "25%                0.000000            0.000000\n",
       "50%                0.000000            0.000000\n",
       "75%                1.000000            1.000000\n",
       "max              106.000000           13.000000"
      ]
     },
     "metadata": {},
     "output_type": "display_data"
    },
    {
     "data": {
      "text/plain": [
       "account_key               0\n",
       "postal_code              21\n",
       "city                     17\n",
       "language                929\n",
       "country_code              1\n",
       "email_hash                0\n",
       "onetime_rental_count      0\n",
       "subscription_count        0\n",
       "dtype: int64"
      ]
     },
     "metadata": {},
     "output_type": "display_data"
    }
   ],
   "source": [
    "#check basic information and null values\n",
    "display(df_accounts.shape)\n",
    "display(df_accounts.dtypes)\n",
    "display(df_accounts.describe())\n",
    "display(df_accounts.isna().sum())"
   ]
  },
  {
   "cell_type": "markdown",
   "metadata": {},
   "source": [
    "## Postal Code\n"
   ]
  },
  {
   "cell_type": "markdown",
   "metadata": {},
   "source": [
    "### Cleaning postal code column"
   ]
  },
  {
   "cell_type": "code",
   "execution_count": 82,
   "metadata": {},
   "outputs": [],
   "source": [
    "# df_accounts.groupby('postal_code').sum()"
   ]
  },
  {
   "cell_type": "code",
   "execution_count": 83,
   "metadata": {},
   "outputs": [
    {
     "data": {
      "text/html": [
       "<div>\n",
       "<style scoped>\n",
       "    .dataframe tbody tr th:only-of-type {\n",
       "        vertical-align: middle;\n",
       "    }\n",
       "\n",
       "    .dataframe tbody tr th {\n",
       "        vertical-align: top;\n",
       "    }\n",
       "\n",
       "    .dataframe thead th {\n",
       "        text-align: right;\n",
       "    }\n",
       "</style>\n",
       "<table border=\"1\" class=\"dataframe\">\n",
       "  <thead>\n",
       "    <tr style=\"text-align: right;\">\n",
       "      <th></th>\n",
       "      <th></th>\n",
       "      <th>onetime_rental_count</th>\n",
       "      <th>subscription_count</th>\n",
       "    </tr>\n",
       "    <tr>\n",
       "      <th>postal_code_clean</th>\n",
       "      <th>postal_code</th>\n",
       "      <th></th>\n",
       "      <th></th>\n",
       "    </tr>\n",
       "  </thead>\n",
       "  <tbody>\n",
       "    <tr>\n",
       "      <th rowspan=\"20\" valign=\"top\">0</th>\n",
       "      <th>-</th>\n",
       "      <td>0</td>\n",
       "      <td>2</td>\n",
       "    </tr>\n",
       "    <tr>\n",
       "      <th>---</th>\n",
       "      <td>0</td>\n",
       "      <td>0</td>\n",
       "    </tr>\n",
       "    <tr>\n",
       "      <th>.</th>\n",
       "      <td>0</td>\n",
       "      <td>0</td>\n",
       "    </tr>\n",
       "    <tr>\n",
       "      <th>Bern</th>\n",
       "      <td>3</td>\n",
       "      <td>3</td>\n",
       "    </tr>\n",
       "    <tr>\n",
       "      <th>Biel</th>\n",
       "      <td>27</td>\n",
       "      <td>0</td>\n",
       "    </tr>\n",
       "    <tr>\n",
       "      <th>Fribourg</th>\n",
       "      <td>3</td>\n",
       "      <td>1</td>\n",
       "    </tr>\n",
       "    <tr>\n",
       "      <th>Fuzhou</th>\n",
       "      <td>0</td>\n",
       "      <td>0</td>\n",
       "    </tr>\n",
       "    <tr>\n",
       "      <th>GENEVE</th>\n",
       "      <td>0</td>\n",
       "      <td>0</td>\n",
       "    </tr>\n",
       "    <tr>\n",
       "      <th>Genève</th>\n",
       "      <td>0</td>\n",
       "      <td>4</td>\n",
       "    </tr>\n",
       "    <tr>\n",
       "      <th>IS</th>\n",
       "      <td>0</td>\n",
       "      <td>0</td>\n",
       "    </tr>\n",
       "    <tr>\n",
       "      <th>Ijjh</th>\n",
       "      <td>0</td>\n",
       "      <td>0</td>\n",
       "    </tr>\n",
       "    <tr>\n",
       "      <th>Pas</th>\n",
       "      <td>0</td>\n",
       "      <td>0</td>\n",
       "    </tr>\n",
       "    <tr>\n",
       "      <th>Rudolfstette</th>\n",
       "      <td>0</td>\n",
       "      <td>2</td>\n",
       "    </tr>\n",
       "    <tr>\n",
       "      <th>Sierre</th>\n",
       "      <td>1</td>\n",
       "      <td>0</td>\n",
       "    </tr>\n",
       "    <tr>\n",
       "      <th>V</th>\n",
       "      <td>0</td>\n",
       "      <td>0</td>\n",
       "    </tr>\n",
       "    <tr>\n",
       "      <th>XXXX</th>\n",
       "      <td>8</td>\n",
       "      <td>1</td>\n",
       "    </tr>\n",
       "    <tr>\n",
       "      <th>Zürich</th>\n",
       "      <td>0</td>\n",
       "      <td>0</td>\n",
       "    </tr>\n",
       "    <tr>\n",
       "      <th>asdf</th>\n",
       "      <td>0</td>\n",
       "      <td>1</td>\n",
       "    </tr>\n",
       "    <tr>\n",
       "      <th>cd</th>\n",
       "      <td>0</td>\n",
       "      <td>0</td>\n",
       "    </tr>\n",
       "    <tr>\n",
       "      <th>gdg</th>\n",
       "      <td>0</td>\n",
       "      <td>0</td>\n",
       "    </tr>\n",
       "  </tbody>\n",
       "</table>\n",
       "</div>"
      ],
      "text/plain": [
       "                                onetime_rental_count  subscription_count\n",
       "postal_code_clean postal_code                                           \n",
       "0                 -                                0                   2\n",
       "                  ---                              0                   0\n",
       "                  .                                0                   0\n",
       "                  Bern                             3                   3\n",
       "                  Biel                            27                   0\n",
       "                  Fribourg                         3                   1\n",
       "                  Fuzhou                           0                   0\n",
       "                  GENEVE                           0                   0\n",
       "                  Genève                           0                   4\n",
       "                  IS                               0                   0\n",
       "                  Ijjh                             0                   0\n",
       "                  Pas                              0                   0\n",
       "                  Rudolfstette                     0                   2\n",
       "                  Sierre                           1                   0\n",
       "                  V                                0                   0\n",
       "                  XXXX                             8                   1\n",
       "                  Zürich                           0                   0\n",
       "                  asdf                             0                   1\n",
       "                  cd                               0                   0\n",
       "                  gdg                              0                   0"
      ]
     },
     "execution_count": 83,
     "metadata": {},
     "output_type": "execute_result"
    }
   ],
   "source": [
    "# remove non numeric characters\n",
    "df_accounts['postal_code_clean'] = df_accounts['postal_code'].str.replace('-', '')\n",
    "df_accounts['postal_code_clean'] = df_accounts['postal_code_clean'].str.extract('(\\d+)')\n",
    "# fill null-values with 0\n",
    "df_accounts['postal_code_clean'].fillna(0, inplace=True)\n",
    "df_accounts.groupby(['postal_code_clean', 'postal_code']).sum().head(20)"
   ]
  },
  {
   "cell_type": "code",
   "execution_count": 84,
   "metadata": {},
   "outputs": [
    {
     "data": {
      "text/plain": [
       "account_key             object\n",
       "postal_code             object\n",
       "city                    object\n",
       "language                object\n",
       "country_code            object\n",
       "email_hash              object\n",
       "onetime_rental_count     int64\n",
       "subscription_count       int64\n",
       "postal_code_clean        int64\n",
       "dtype: object"
      ]
     },
     "execution_count": 84,
     "metadata": {},
     "output_type": "execute_result"
    }
   ],
   "source": [
    "# change data type to integer\n",
    "df_accounts['postal_code_clean'] = df_accounts['postal_code_clean'].astype(int)\n",
    "df_accounts.dtypes"
   ]
  },
  {
   "cell_type": "markdown",
   "metadata": {},
   "source": [
    "## City"
   ]
  },
  {
   "cell_type": "markdown",
   "metadata": {},
   "source": [
    "### manual cleaning"
   ]
  },
  {
   "cell_type": "code",
   "execution_count": 85,
   "metadata": {},
   "outputs": [
    {
     "data": {
      "text/plain": [
       "'\\n# remove numbers\\ndf_accounts[\\'city_clean\\'] = df_accounts[\\'city\\'].str.replace(\\'\\\\d+\\', \\'\\')\\n# fill null values and postal_code 0 with \\'na\\'\\ndf_accounts[\\'city_clean\\'].fillna(\\'na\\', inplace=True)\\ndf_accounts.loc[df_accounts[\"postal_code_clean\"] == 0, \"city_clean\"] = \\'na\\'\\n# remove and replace special characters\\ndf_accounts[\\'city_clean\\'] = df_accounts[\\'city_clean\\'].str.replace(\\'-\\', \\' \\')\\ndf_accounts[\\'city_clean\\'] = df_accounts[\\'city_clean\\'].str.replace(\\'\\\\.|<\\', \\'\\')\\n# remove leading and trailing whitespace\\ndf_accounts[\\'city_clean\\'] = df_accounts[\\'city_clean\\'].str.strip()\\n# set city to lowercase for easier comparison\\ndf_accounts[\\'city_clean\\'] = df_accounts[\\'city_clean\\'].str.lower()\\n# zürich cleanup\\ndf_accounts[\\'city_clean\\'] = df_accounts[\\'city_clean\\'].str.replace(\\'z..?r.ch.*\\', \\'zürich\\')\\n# geneva cleanup\\ndf_accounts[\\'city_clean\\'] = df_accounts[\\'city_clean\\'].str.replace(\\'gen.v.*|genf\\', \\'genève\\')\\n# biel cleanup\\ndf_accounts[\\'city_clean\\'] = df_accounts[\\'city_clean\\'].str.replace(\\'biel..?bienne|bienne.*\\', \\'biel\\')\\n'"
      ]
     },
     "execution_count": 85,
     "metadata": {},
     "output_type": "execute_result"
    }
   ],
   "source": [
    "'''\n",
    "# remove numbers\n",
    "df_accounts['city_clean'] = df_accounts['city'].str.replace('\\d+', '')\n",
    "# fill null values and postal_code 0 with 'na'\n",
    "df_accounts['city_clean'].fillna('na', inplace=True)\n",
    "df_accounts.loc[df_accounts[\"postal_code_clean\"] == 0, \"city_clean\"] = 'na'\n",
    "# remove and replace special characters\n",
    "df_accounts['city_clean'] = df_accounts['city_clean'].str.replace('-', ' ')\n",
    "df_accounts['city_clean'] = df_accounts['city_clean'].str.replace('\\.|<', '')\n",
    "# remove leading and trailing whitespace\n",
    "df_accounts['city_clean'] = df_accounts['city_clean'].str.strip()\n",
    "# set city to lowercase for easier comparison\n",
    "df_accounts['city_clean'] = df_accounts['city_clean'].str.lower()\n",
    "# zürich cleanup\n",
    "df_accounts['city_clean'] = df_accounts['city_clean'].str.replace('z..?r.ch.*', 'zürich')\n",
    "# geneva cleanup\n",
    "df_accounts['city_clean'] = df_accounts['city_clean'].str.replace('gen.v.*|genf', 'genève')\n",
    "# biel cleanup\n",
    "df_accounts['city_clean'] = df_accounts['city_clean'].str.replace('biel..?bienne|bienne.*', 'biel')\n",
    "'''"
   ]
  },
  {
   "cell_type": "markdown",
   "metadata": {},
   "source": [
    "### mapping plz_files"
   ]
  },
  {
   "cell_type": "code",
   "execution_count": 86,
   "metadata": {},
   "outputs": [
    {
     "data": {
      "text/plain": [
       "'\\ndisplay(df_plz_ch.head())\\ndisplay(df_plz_kanton.head())\\ndisplay(df_plz_de.head())\\ndisplay(df_plz_at.head())\\n'"
      ]
     },
     "execution_count": 86,
     "metadata": {},
     "output_type": "execute_result"
    }
   ],
   "source": [
    "# set file paths\n",
    "plz_ch = './data/plz_verzeichnis_ch.csv'\n",
    "plz_kanton = './data/plz_kantone_ch.csv'\n",
    "plz_de = './data/plz_verzeichnis_de.csv'\n",
    "plz_at = './data/plz_verzeichnis_at.csv'\n",
    "# read csv files\n",
    "df_plz_ch = pd.read_csv(plz_ch, sep=';')\n",
    "df_plz_kanton = pd.read_csv(plz_kanton, sep=';')\n",
    "df_plz_de = pd.read_csv(plz_de, sep=',')\n",
    "df_plz_at = pd.read_csv(plz_at, sep=';')\n",
    "# set column names to lowercase\n",
    "df_plz_ch.columns = df_plz_ch.columns.str.lower()\n",
    "df_plz_kanton.columns = df_plz_kanton.columns.str.lower()\n",
    "df_plz_de.columns = df_plz_de.columns.str.lower()\n",
    "df_plz_at.columns = df_plz_at.columns.str.lower()\n",
    "# show first rows\n",
    "'''\n",
    "display(df_plz_ch.head())\n",
    "display(df_plz_kanton.head())\n",
    "display(df_plz_de.head())\n",
    "display(df_plz_at.head())\n",
    "'''\n"
   ]
  },
  {
   "cell_type": "code",
   "execution_count": 87,
   "metadata": {},
   "outputs": [],
   "source": [
    "# clean plz_kanton\n",
    "# only keep relevant columns, rename\n",
    "df_plz_kanton = df_plz_kanton[['postleitzahl / code postal / codice postale', 'ort / ville / città', 'kanton']]\n",
    "df_plz_kanton.rename(columns = {'postleitzahl / code postal / codice postale':'postal_code', 'ort / ville / città':'city', 'kanton':'state'}, inplace = True)\n",
    "df_plz_kanton.drop_duplicates(inplace = True)\n",
    "# add country_code for differentiation\n",
    "df_plz_kanton['country_code'] = 'CH'"
   ]
  },
  {
   "cell_type": "code",
   "execution_count": 88,
   "metadata": {},
   "outputs": [],
   "source": [
    "# clean plz_de\n",
    "# only keep relevant columns, rename, drop duplicates\n",
    "df_plz_de = df_plz_de[['plz', 'ort', 'bundesland']]\n",
    "df_plz_de.rename(columns = {'plz':'postal_code', 'ort':'city', 'bundesland':'state'}, inplace = True)\n",
    "df_plz_de.drop_duplicates(inplace = True)\n",
    "# add country_code for differentiation\n",
    "df_plz_de['country_code'] = 'DE'"
   ]
  },
  {
   "cell_type": "code",
   "execution_count": 89,
   "metadata": {},
   "outputs": [],
   "source": [
    "# clean plz_at\n",
    "# only keep relevant columns, rename, drop duplicates\n",
    "df_plz_at = df_plz_at[['plz', 'ort', 'bundesland']]\n",
    "df_plz_at.rename(columns = {'plz':'postal_code', 'ort':'city', 'bundesland':'state'}, inplace = True)\n",
    "df_plz_at.drop_duplicates(inplace = True)\n",
    "# add country_code for differentiation\n",
    "df_plz_at['country_code'] = 'AT'"
   ]
  },
  {
   "cell_type": "code",
   "execution_count": 90,
   "metadata": {},
   "outputs": [
    {
     "data": {
      "text/html": [
       "<div>\n",
       "<style scoped>\n",
       "    .dataframe tbody tr th:only-of-type {\n",
       "        vertical-align: middle;\n",
       "    }\n",
       "\n",
       "    .dataframe tbody tr th {\n",
       "        vertical-align: top;\n",
       "    }\n",
       "\n",
       "    .dataframe thead th {\n",
       "        text-align: right;\n",
       "    }\n",
       "</style>\n",
       "<table border=\"1\" class=\"dataframe\">\n",
       "  <thead>\n",
       "    <tr style=\"text-align: right;\">\n",
       "      <th></th>\n",
       "      <th>postal_code</th>\n",
       "      <th>city</th>\n",
       "      <th>state</th>\n",
       "      <th>country_code</th>\n",
       "    </tr>\n",
       "  </thead>\n",
       "  <tbody>\n",
       "    <tr>\n",
       "      <th>0</th>\n",
       "      <td>1000</td>\n",
       "      <td>Lausanne</td>\n",
       "      <td>Waadt</td>\n",
       "      <td>CH</td>\n",
       "    </tr>\n",
       "    <tr>\n",
       "      <th>1</th>\n",
       "      <td>1003</td>\n",
       "      <td>Lausanne</td>\n",
       "      <td>Waadt</td>\n",
       "      <td>CH</td>\n",
       "    </tr>\n",
       "    <tr>\n",
       "      <th>2</th>\n",
       "      <td>1004</td>\n",
       "      <td>Lausanne</td>\n",
       "      <td>Waadt</td>\n",
       "      <td>CH</td>\n",
       "    </tr>\n",
       "    <tr>\n",
       "      <th>3</th>\n",
       "      <td>1005</td>\n",
       "      <td>Lausanne</td>\n",
       "      <td>Waadt</td>\n",
       "      <td>CH</td>\n",
       "    </tr>\n",
       "    <tr>\n",
       "      <th>4</th>\n",
       "      <td>1006</td>\n",
       "      <td>Lausanne</td>\n",
       "      <td>Waadt</td>\n",
       "      <td>CH</td>\n",
       "    </tr>\n",
       "  </tbody>\n",
       "</table>\n",
       "</div>"
      ],
      "text/plain": [
       "   postal_code      city  state country_code\n",
       "0         1000  Lausanne  Waadt           CH\n",
       "1         1003  Lausanne  Waadt           CH\n",
       "2         1004  Lausanne  Waadt           CH\n",
       "3         1005  Lausanne  Waadt           CH\n",
       "4         1006  Lausanne  Waadt           CH"
      ]
     },
     "metadata": {},
     "output_type": "display_data"
    },
    {
     "data": {
      "text/plain": [
       "(4120, 4)"
      ]
     },
     "metadata": {},
     "output_type": "display_data"
    },
    {
     "data": {
      "text/html": [
       "<div>\n",
       "<style scoped>\n",
       "    .dataframe tbody tr th:only-of-type {\n",
       "        vertical-align: middle;\n",
       "    }\n",
       "\n",
       "    .dataframe tbody tr th {\n",
       "        vertical-align: top;\n",
       "    }\n",
       "\n",
       "    .dataframe thead th {\n",
       "        text-align: right;\n",
       "    }\n",
       "</style>\n",
       "<table border=\"1\" class=\"dataframe\">\n",
       "  <thead>\n",
       "    <tr style=\"text-align: right;\">\n",
       "      <th></th>\n",
       "      <th>postal_code</th>\n",
       "      <th>city</th>\n",
       "      <th>state</th>\n",
       "      <th>country_code</th>\n",
       "    </tr>\n",
       "  </thead>\n",
       "  <tbody>\n",
       "    <tr>\n",
       "      <th>0</th>\n",
       "      <td>78267</td>\n",
       "      <td>Aach</td>\n",
       "      <td>Baden-Württemberg</td>\n",
       "      <td>DE</td>\n",
       "    </tr>\n",
       "    <tr>\n",
       "      <th>1</th>\n",
       "      <td>54298</td>\n",
       "      <td>Aach</td>\n",
       "      <td>Rheinland-Pfalz</td>\n",
       "      <td>DE</td>\n",
       "    </tr>\n",
       "    <tr>\n",
       "      <th>2</th>\n",
       "      <td>52062</td>\n",
       "      <td>Aachen</td>\n",
       "      <td>Nordrhein-Westfalen</td>\n",
       "      <td>DE</td>\n",
       "    </tr>\n",
       "    <tr>\n",
       "      <th>3</th>\n",
       "      <td>52064</td>\n",
       "      <td>Aachen</td>\n",
       "      <td>Nordrhein-Westfalen</td>\n",
       "      <td>DE</td>\n",
       "    </tr>\n",
       "    <tr>\n",
       "      <th>4</th>\n",
       "      <td>52066</td>\n",
       "      <td>Aachen</td>\n",
       "      <td>Nordrhein-Westfalen</td>\n",
       "      <td>DE</td>\n",
       "    </tr>\n",
       "  </tbody>\n",
       "</table>\n",
       "</div>"
      ],
      "text/plain": [
       "   postal_code    city                state country_code\n",
       "0        78267    Aach    Baden-Württemberg           DE\n",
       "1        54298    Aach      Rheinland-Pfalz           DE\n",
       "2        52062  Aachen  Nordrhein-Westfalen           DE\n",
       "3        52064  Aachen  Nordrhein-Westfalen           DE\n",
       "4        52066  Aachen  Nordrhein-Westfalen           DE"
      ]
     },
     "metadata": {},
     "output_type": "display_data"
    },
    {
     "data": {
      "text/plain": [
       "(12869, 4)"
      ]
     },
     "metadata": {},
     "output_type": "display_data"
    },
    {
     "data": {
      "text/html": [
       "<div>\n",
       "<style scoped>\n",
       "    .dataframe tbody tr th:only-of-type {\n",
       "        vertical-align: middle;\n",
       "    }\n",
       "\n",
       "    .dataframe tbody tr th {\n",
       "        vertical-align: top;\n",
       "    }\n",
       "\n",
       "    .dataframe thead th {\n",
       "        text-align: right;\n",
       "    }\n",
       "</style>\n",
       "<table border=\"1\" class=\"dataframe\">\n",
       "  <thead>\n",
       "    <tr style=\"text-align: right;\">\n",
       "      <th></th>\n",
       "      <th>postal_code</th>\n",
       "      <th>city</th>\n",
       "      <th>state</th>\n",
       "      <th>country_code</th>\n",
       "    </tr>\n",
       "  </thead>\n",
       "  <tbody>\n",
       "    <tr>\n",
       "      <th>0</th>\n",
       "      <td>1000</td>\n",
       "      <td>Wien</td>\n",
       "      <td>W</td>\n",
       "      <td>AT</td>\n",
       "    </tr>\n",
       "    <tr>\n",
       "      <th>1</th>\n",
       "      <td>1004</td>\n",
       "      <td>Wien</td>\n",
       "      <td>W</td>\n",
       "      <td>AT</td>\n",
       "    </tr>\n",
       "    <tr>\n",
       "      <th>2</th>\n",
       "      <td>1006</td>\n",
       "      <td>Wien</td>\n",
       "      <td>W</td>\n",
       "      <td>AT</td>\n",
       "    </tr>\n",
       "    <tr>\n",
       "      <th>3</th>\n",
       "      <td>1010</td>\n",
       "      <td>Wien</td>\n",
       "      <td>W</td>\n",
       "      <td>AT</td>\n",
       "    </tr>\n",
       "    <tr>\n",
       "      <th>4</th>\n",
       "      <td>1011</td>\n",
       "      <td>Wien Postfach</td>\n",
       "      <td>W</td>\n",
       "      <td>AT</td>\n",
       "    </tr>\n",
       "  </tbody>\n",
       "</table>\n",
       "</div>"
      ],
      "text/plain": [
       "   postal_code           city state country_code\n",
       "0         1000           Wien     W           AT\n",
       "1         1004           Wien     W           AT\n",
       "2         1006           Wien     W           AT\n",
       "3         1010           Wien     W           AT\n",
       "4         1011  Wien Postfach     W           AT"
      ]
     },
     "metadata": {},
     "output_type": "display_data"
    },
    {
     "data": {
      "text/plain": [
       "(2520, 4)"
      ]
     },
     "metadata": {},
     "output_type": "display_data"
    }
   ],
   "source": [
    "#check results \n",
    "display(df_plz_kanton.head())\n",
    "display(df_plz_kanton.shape)\n",
    "display(df_plz_de.head())\n",
    "display(df_plz_de.shape)\n",
    "display(df_plz_at.head())\n",
    "display(df_plz_at.shape)"
   ]
  },
  {
   "cell_type": "code",
   "execution_count": 91,
   "metadata": {},
   "outputs": [
    {
     "name": "stderr",
     "output_type": "stream",
     "text": [
      "/var/folders/0j/szrk2v_52_bgyh57zj48fk400000gn/T/ipykernel_95842/3284590239.py:4: FutureWarning: Indexing with multiple keys (implicitly converted to a tuple of keys) will be deprecated, use a list instead.\n",
      "  df_plz_all = df_plz_all.groupby(['postal_code'])['city', 'state', 'country_code'].first().reset_index()\n"
     ]
    },
    {
     "data": {
      "text/html": [
       "<div>\n",
       "<style scoped>\n",
       "    .dataframe tbody tr th:only-of-type {\n",
       "        vertical-align: middle;\n",
       "    }\n",
       "\n",
       "    .dataframe tbody tr th {\n",
       "        vertical-align: top;\n",
       "    }\n",
       "\n",
       "    .dataframe thead th {\n",
       "        text-align: right;\n",
       "    }\n",
       "</style>\n",
       "<table border=\"1\" class=\"dataframe\">\n",
       "  <thead>\n",
       "    <tr style=\"text-align: right;\">\n",
       "      <th></th>\n",
       "      <th>postal_code</th>\n",
       "      <th>city</th>\n",
       "      <th>state</th>\n",
       "      <th>country_code</th>\n",
       "    </tr>\n",
       "  </thead>\n",
       "  <tbody>\n",
       "    <tr>\n",
       "      <th>0</th>\n",
       "      <td>1000</td>\n",
       "      <td>Lausanne</td>\n",
       "      <td>Waadt</td>\n",
       "      <td>CH</td>\n",
       "    </tr>\n",
       "    <tr>\n",
       "      <th>1</th>\n",
       "      <td>1003</td>\n",
       "      <td>Lausanne</td>\n",
       "      <td>Waadt</td>\n",
       "      <td>CH</td>\n",
       "    </tr>\n",
       "    <tr>\n",
       "      <th>2</th>\n",
       "      <td>1004</td>\n",
       "      <td>Lausanne</td>\n",
       "      <td>Waadt</td>\n",
       "      <td>CH</td>\n",
       "    </tr>\n",
       "    <tr>\n",
       "      <th>3</th>\n",
       "      <td>1005</td>\n",
       "      <td>Lausanne</td>\n",
       "      <td>Waadt</td>\n",
       "      <td>CH</td>\n",
       "    </tr>\n",
       "    <tr>\n",
       "      <th>4</th>\n",
       "      <td>1006</td>\n",
       "      <td>Lausanne</td>\n",
       "      <td>Waadt</td>\n",
       "      <td>CH</td>\n",
       "    </tr>\n",
       "  </tbody>\n",
       "</table>\n",
       "</div>"
      ],
      "text/plain": [
       "   postal_code      city  state country_code\n",
       "0         1000  Lausanne  Waadt           CH\n",
       "1         1003  Lausanne  Waadt           CH\n",
       "2         1004  Lausanne  Waadt           CH\n",
       "3         1005  Lausanne  Waadt           CH\n",
       "4         1006  Lausanne  Waadt           CH"
      ]
     },
     "metadata": {},
     "output_type": "display_data"
    },
    {
     "data": {
      "text/plain": [
       "(12548, 4)"
      ]
     },
     "metadata": {},
     "output_type": "display_data"
    }
   ],
   "source": [
    "# unify for merging, check shape\n",
    "df_plz_all = pd.concat([df_plz_kanton, df_plz_de, df_plz_at])\n",
    "# dropping plz duplicates with multiple city, keeping the first entry each\n",
    "df_plz_all = df_plz_all.groupby(['postal_code'])['city', 'state', 'country_code'].first().reset_index()\n",
    "#check result\n",
    "display(df_plz_all.head())\n",
    "display(df_plz_all.shape)"
   ]
  },
  {
   "cell_type": "code",
   "execution_count": 92,
   "metadata": {},
   "outputs": [],
   "source": [
    "# merge city and state information to accounts table on plz and country code\n",
    "df_accounts_new = pd.merge(df_accounts, df_plz_all, left_on=['postal_code_clean', 'country_code'], right_on=['postal_code', 'country_code'], how='left')"
   ]
  },
  {
   "cell_type": "code",
   "execution_count": 93,
   "metadata": {},
   "outputs": [
    {
     "data": {
      "text/html": [
       "<div>\n",
       "<style scoped>\n",
       "    .dataframe tbody tr th:only-of-type {\n",
       "        vertical-align: middle;\n",
       "    }\n",
       "\n",
       "    .dataframe tbody tr th {\n",
       "        vertical-align: top;\n",
       "    }\n",
       "\n",
       "    .dataframe thead th {\n",
       "        text-align: right;\n",
       "    }\n",
       "</style>\n",
       "<table border=\"1\" class=\"dataframe\">\n",
       "  <thead>\n",
       "    <tr style=\"text-align: right;\">\n",
       "      <th></th>\n",
       "      <th>account_key</th>\n",
       "      <th>postal_code_x</th>\n",
       "      <th>city_x</th>\n",
       "      <th>language</th>\n",
       "      <th>country_code</th>\n",
       "      <th>email_hash</th>\n",
       "      <th>onetime_rental_count</th>\n",
       "      <th>subscription_count</th>\n",
       "      <th>postal_code_clean</th>\n",
       "      <th>postal_code_y</th>\n",
       "      <th>city_y</th>\n",
       "      <th>state</th>\n",
       "    </tr>\n",
       "  </thead>\n",
       "  <tbody>\n",
       "    <tr>\n",
       "      <th>0</th>\n",
       "      <td>60a90104f44414d9036aed7d96d1468a5a9e1d104b6791...</td>\n",
       "      <td>5430</td>\n",
       "      <td>Wettingen</td>\n",
       "      <td>de</td>\n",
       "      <td>CH</td>\n",
       "      <td>5f3d193f5be5c279e77a80d7de82ffb34e3883a3d6a3e7...</td>\n",
       "      <td>0</td>\n",
       "      <td>1</td>\n",
       "      <td>5430</td>\n",
       "      <td>5430.0</td>\n",
       "      <td>Wettingen</td>\n",
       "      <td>Aargau</td>\n",
       "    </tr>\n",
       "    <tr>\n",
       "      <th>1</th>\n",
       "      <td>a48b28809457e680de54b4b560e00117308431c574aab2...</td>\n",
       "      <td>8706</td>\n",
       "      <td>Meilen</td>\n",
       "      <td>de</td>\n",
       "      <td>CH</td>\n",
       "      <td>029a26c1483d78f98002c3be1c902b15ce814b62e45a2a...</td>\n",
       "      <td>0</td>\n",
       "      <td>1</td>\n",
       "      <td>8706</td>\n",
       "      <td>8706.0</td>\n",
       "      <td>Meilen</td>\n",
       "      <td>Zürich</td>\n",
       "    </tr>\n",
       "    <tr>\n",
       "      <th>2</th>\n",
       "      <td>7a280859423057ac5f1e0bfc15af602edd23900f3cf7cb...</td>\n",
       "      <td>1005</td>\n",
       "      <td>Lausanne</td>\n",
       "      <td>fr</td>\n",
       "      <td>CH</td>\n",
       "      <td>08a8ff8a3b3fb9be3a8f87a86960bf9f3e43b31d0772e1...</td>\n",
       "      <td>1</td>\n",
       "      <td>0</td>\n",
       "      <td>1005</td>\n",
       "      <td>1005.0</td>\n",
       "      <td>Lausanne</td>\n",
       "      <td>Waadt</td>\n",
       "    </tr>\n",
       "    <tr>\n",
       "      <th>3</th>\n",
       "      <td>23e7ac18b391549e95a98d85a3adae1f3f90c4fcc09732...</td>\n",
       "      <td>4436</td>\n",
       "      <td>Oberdorf</td>\n",
       "      <td>de</td>\n",
       "      <td>CH</td>\n",
       "      <td>007ada12068218817c2b69325d1bfe2d7ac10da3a9922d...</td>\n",
       "      <td>0</td>\n",
       "      <td>2</td>\n",
       "      <td>4436</td>\n",
       "      <td>4436.0</td>\n",
       "      <td>Liedertswil</td>\n",
       "      <td>Basel-Landschaft</td>\n",
       "    </tr>\n",
       "    <tr>\n",
       "      <th>4</th>\n",
       "      <td>a39dbaa7972fb67c15db79d4a66cf5d1b94855ae530774...</td>\n",
       "      <td>6005</td>\n",
       "      <td>Luzern</td>\n",
       "      <td>de</td>\n",
       "      <td>CH</td>\n",
       "      <td>cff18967fb0f8b29eeb54a91b98d027920d44c1e771258...</td>\n",
       "      <td>8</td>\n",
       "      <td>2</td>\n",
       "      <td>6005</td>\n",
       "      <td>6005.0</td>\n",
       "      <td>Luzern</td>\n",
       "      <td>Luzern</td>\n",
       "    </tr>\n",
       "  </tbody>\n",
       "</table>\n",
       "</div>"
      ],
      "text/plain": [
       "                                         account_key postal_code_x     city_x  \\\n",
       "0  60a90104f44414d9036aed7d96d1468a5a9e1d104b6791...          5430  Wettingen   \n",
       "1  a48b28809457e680de54b4b560e00117308431c574aab2...          8706     Meilen   \n",
       "2  7a280859423057ac5f1e0bfc15af602edd23900f3cf7cb...          1005   Lausanne   \n",
       "3  23e7ac18b391549e95a98d85a3adae1f3f90c4fcc09732...          4436   Oberdorf   \n",
       "4  a39dbaa7972fb67c15db79d4a66cf5d1b94855ae530774...          6005     Luzern   \n",
       "\n",
       "  language country_code                                         email_hash  \\\n",
       "0       de           CH  5f3d193f5be5c279e77a80d7de82ffb34e3883a3d6a3e7...   \n",
       "1       de           CH  029a26c1483d78f98002c3be1c902b15ce814b62e45a2a...   \n",
       "2       fr           CH  08a8ff8a3b3fb9be3a8f87a86960bf9f3e43b31d0772e1...   \n",
       "3       de           CH  007ada12068218817c2b69325d1bfe2d7ac10da3a9922d...   \n",
       "4       de           CH  cff18967fb0f8b29eeb54a91b98d027920d44c1e771258...   \n",
       "\n",
       "   onetime_rental_count  subscription_count  postal_code_clean  postal_code_y  \\\n",
       "0                     0                   1               5430         5430.0   \n",
       "1                     0                   1               8706         8706.0   \n",
       "2                     1                   0               1005         1005.0   \n",
       "3                     0                   2               4436         4436.0   \n",
       "4                     8                   2               6005         6005.0   \n",
       "\n",
       "        city_y             state  \n",
       "0    Wettingen            Aargau  \n",
       "1       Meilen            Zürich  \n",
       "2     Lausanne             Waadt  \n",
       "3  Liedertswil  Basel-Landschaft  \n",
       "4       Luzern            Luzern  "
      ]
     },
     "metadata": {},
     "output_type": "display_data"
    },
    {
     "data": {
      "text/plain": [
       "(22154, 9)"
      ]
     },
     "metadata": {},
     "output_type": "display_data"
    },
    {
     "data": {
      "text/plain": [
       "(22154, 12)"
      ]
     },
     "metadata": {},
     "output_type": "display_data"
    }
   ],
   "source": [
    "# check results\n",
    "display(df_accounts_new.head())\n",
    "# check shape of original and new df\n",
    "display(df_accounts.shape)\n",
    "display(df_accounts_new.shape)"
   ]
  },
  {
   "cell_type": "code",
   "execution_count": 94,
   "metadata": {},
   "outputs": [
    {
     "name": "stderr",
     "output_type": "stream",
     "text": [
      "/var/folders/0j/szrk2v_52_bgyh57zj48fk400000gn/T/ipykernel_95842/1909849559.py:8: FutureWarning: Indexing with multiple keys (implicitly converted to a tuple of keys) will be deprecated, use a list instead.\n",
      "  df_plz_ch = df_plz_ch.groupby(['postal_code'])['sprachcode', 'country_code'].first().reset_index()\n"
     ]
    },
    {
     "data": {
      "text/html": [
       "<div>\n",
       "<style scoped>\n",
       "    .dataframe tbody tr th:only-of-type {\n",
       "        vertical-align: middle;\n",
       "    }\n",
       "\n",
       "    .dataframe tbody tr th {\n",
       "        vertical-align: top;\n",
       "    }\n",
       "\n",
       "    .dataframe thead th {\n",
       "        text-align: right;\n",
       "    }\n",
       "</style>\n",
       "<table border=\"1\" class=\"dataframe\">\n",
       "  <thead>\n",
       "    <tr style=\"text-align: right;\">\n",
       "      <th></th>\n",
       "      <th>postal_code</th>\n",
       "      <th>sprachcode</th>\n",
       "      <th>country_code</th>\n",
       "    </tr>\n",
       "  </thead>\n",
       "  <tbody>\n",
       "    <tr>\n",
       "      <th>0</th>\n",
       "      <td>1000</td>\n",
       "      <td>2</td>\n",
       "      <td>CH</td>\n",
       "    </tr>\n",
       "    <tr>\n",
       "      <th>1</th>\n",
       "      <td>1001</td>\n",
       "      <td>2</td>\n",
       "      <td>CH</td>\n",
       "    </tr>\n",
       "    <tr>\n",
       "      <th>2</th>\n",
       "      <td>1002</td>\n",
       "      <td>2</td>\n",
       "      <td>CH</td>\n",
       "    </tr>\n",
       "    <tr>\n",
       "      <th>3</th>\n",
       "      <td>1003</td>\n",
       "      <td>2</td>\n",
       "      <td>CH</td>\n",
       "    </tr>\n",
       "    <tr>\n",
       "      <th>4</th>\n",
       "      <td>1004</td>\n",
       "      <td>2</td>\n",
       "      <td>CH</td>\n",
       "    </tr>\n",
       "  </tbody>\n",
       "</table>\n",
       "</div>"
      ],
      "text/plain": [
       "   postal_code  sprachcode country_code\n",
       "0         1000           2           CH\n",
       "1         1001           2           CH\n",
       "2         1002           2           CH\n",
       "3         1003           2           CH\n",
       "4         1004           2           CH"
      ]
     },
     "metadata": {},
     "output_type": "display_data"
    },
    {
     "data": {
      "text/plain": [
       "(3488, 3)"
      ]
     },
     "metadata": {},
     "output_type": "display_data"
    }
   ],
   "source": [
    "# clean plz_a for language information\n",
    "# only keep relevant columns, rename, drop duplicates\n",
    "df_plz_ch = df_plz_ch[['postleitzahl', 'sprachcode']]\n",
    "df_plz_ch.rename(columns = {'postleitzahl':'postal_code'}, inplace = True)\n",
    "# add country_code for differentiation\n",
    "df_plz_ch['country_code'] = 'CH'\n",
    "#drop duplicates for dual-language-cities and keep first entry\n",
    "df_plz_ch = df_plz_ch.groupby(['postal_code'])['sprachcode', 'country_code'].first().reset_index()\n",
    "# check result\n",
    "display(df_plz_ch.head())\n",
    "display(df_plz_ch.shape)\n"
   ]
  },
  {
   "cell_type": "code",
   "execution_count": 95,
   "metadata": {},
   "outputs": [],
   "source": [
    "# mapping sprachcode to actual language here or in tableau?\n",
    "#1 = deutsch,\n",
    "#2 = französisch,\n",
    "#3 = italienisch"
   ]
  },
  {
   "cell_type": "code",
   "execution_count": 96,
   "metadata": {},
   "outputs": [],
   "source": [
    "# merge sprachcode to accounts table\n",
    "df_accounts_new = pd.merge(df_accounts_new, df_plz_ch, left_on=['postal_code_clean', 'country_code'], right_on=['postal_code', 'country_code'], how='left')"
   ]
  },
  {
   "cell_type": "code",
   "execution_count": 97,
   "metadata": {},
   "outputs": [],
   "source": [
    "#drop duplicate postal code columns\n",
    "df_accounts_new = df_accounts_new.drop(['postal_code_x', 'postal_code_y', 'postal_code'], axis=1)\n",
    "#rename original postal code column\n",
    "df_accounts_new.rename(columns = {'postal_code_x':'postal_code_original', 'city_x':'city_original', 'city_y':'city_clean'}, inplace = True)"
   ]
  },
  {
   "cell_type": "code",
   "execution_count": 98,
   "metadata": {},
   "outputs": [],
   "source": [
    "#check results\n",
    "#display(df_accounts_new.head())\n",
    "#display(df_accounts_new.shape)"
   ]
  },
  {
   "cell_type": "code",
   "execution_count": 99,
   "metadata": {},
   "outputs": [
    {
     "data": {
      "text/html": [
       "<div>\n",
       "<style scoped>\n",
       "    .dataframe tbody tr th:only-of-type {\n",
       "        vertical-align: middle;\n",
       "    }\n",
       "\n",
       "    .dataframe tbody tr th {\n",
       "        vertical-align: top;\n",
       "    }\n",
       "\n",
       "    .dataframe thead th {\n",
       "        text-align: right;\n",
       "    }\n",
       "</style>\n",
       "<table border=\"1\" class=\"dataframe\">\n",
       "  <thead>\n",
       "    <tr style=\"text-align: right;\">\n",
       "      <th></th>\n",
       "      <th></th>\n",
       "      <th></th>\n",
       "      <th></th>\n",
       "      <th></th>\n",
       "      <th>onetime_rental_count</th>\n",
       "      <th>subscription_count</th>\n",
       "    </tr>\n",
       "    <tr>\n",
       "      <th>state</th>\n",
       "      <th>city_original</th>\n",
       "      <th>city_clean</th>\n",
       "      <th>postal_code_clean</th>\n",
       "      <th>sprachcode</th>\n",
       "      <th></th>\n",
       "      <th></th>\n",
       "    </tr>\n",
       "  </thead>\n",
       "  <tbody>\n",
       "    <tr>\n",
       "      <th rowspan=\"10\" valign=\"top\">Aargau</th>\n",
       "      <th>5408 Ennetbaden</th>\n",
       "      <th>Ennetbaden</th>\n",
       "      <th>5408</th>\n",
       "      <th>1.0</th>\n",
       "      <td>0</td>\n",
       "      <td>0</td>\n",
       "    </tr>\n",
       "    <tr>\n",
       "      <th>Ennetbaden</th>\n",
       "      <th>Ennetbaden</th>\n",
       "      <th>5408</th>\n",
       "      <th>1.0</th>\n",
       "      <td>3</td>\n",
       "      <td>0</td>\n",
       "    </tr>\n",
       "    <tr>\n",
       "      <th>5000 Aarau</th>\n",
       "      <th>Aarau</th>\n",
       "      <th>5000</th>\n",
       "      <th>1.0</th>\n",
       "      <td>1</td>\n",
       "      <td>0</td>\n",
       "    </tr>\n",
       "    <tr>\n",
       "      <th>5024 Küttigen</th>\n",
       "      <th>Küttigen</th>\n",
       "      <th>5024</th>\n",
       "      <th>1.0</th>\n",
       "      <td>1</td>\n",
       "      <td>1</td>\n",
       "    </tr>\n",
       "    <tr>\n",
       "      <th>5108 Oberflachs</th>\n",
       "      <th>Oberflachs</th>\n",
       "      <th>5108</th>\n",
       "      <th>1.0</th>\n",
       "      <td>0</td>\n",
       "      <td>0</td>\n",
       "    </tr>\n",
       "    <tr>\n",
       "      <th>5225 Bözberg</th>\n",
       "      <th>Oberbözberg</th>\n",
       "      <th>5225</th>\n",
       "      <th>1.0</th>\n",
       "      <td>0</td>\n",
       "      <td>1</td>\n",
       "    </tr>\n",
       "    <tr>\n",
       "      <th>5400 Baden</th>\n",
       "      <th>Baden</th>\n",
       "      <th>5400</th>\n",
       "      <th>1.0</th>\n",
       "      <td>0</td>\n",
       "      <td>1</td>\n",
       "    </tr>\n",
       "    <tr>\n",
       "      <th>5452 Oberrohrdorf</th>\n",
       "      <th>Oberrohrdorf</th>\n",
       "      <th>5452</th>\n",
       "      <th>1.0</th>\n",
       "      <td>0</td>\n",
       "      <td>0</td>\n",
       "    </tr>\n",
       "    <tr>\n",
       "      <th>Aarau</th>\n",
       "      <th>Aarau</th>\n",
       "      <th>5000</th>\n",
       "      <th>1.0</th>\n",
       "      <td>81</td>\n",
       "      <td>32</td>\n",
       "    </tr>\n",
       "    <tr>\n",
       "      <th>Aarau</th>\n",
       "      <th>Aarau</th>\n",
       "      <th>5000</th>\n",
       "      <th>1.0</th>\n",
       "      <td>3</td>\n",
       "      <td>0</td>\n",
       "    </tr>\n",
       "  </tbody>\n",
       "</table>\n",
       "</div>"
      ],
      "text/plain": [
       "                                                                    onetime_rental_count  \\\n",
       "state  city_original     city_clean   postal_code_clean sprachcode                         \n",
       "Aargau  5408 Ennetbaden  Ennetbaden   5408              1.0                            0   \n",
       "        Ennetbaden       Ennetbaden   5408              1.0                            3   \n",
       "       5000 Aarau        Aarau        5000              1.0                            1   \n",
       "       5024 Küttigen     Küttigen     5024              1.0                            1   \n",
       "       5108 Oberflachs   Oberflachs   5108              1.0                            0   \n",
       "       5225 Bözberg      Oberbözberg  5225              1.0                            0   \n",
       "       5400 Baden        Baden        5400              1.0                            0   \n",
       "       5452 Oberrohrdorf Oberrohrdorf 5452              1.0                            0   \n",
       "       Aarau             Aarau        5000              1.0                           81   \n",
       "       Aarau             Aarau        5000              1.0                            3   \n",
       "\n",
       "                                                                    subscription_count  \n",
       "state  city_original     city_clean   postal_code_clean sprachcode                      \n",
       "Aargau  5408 Ennetbaden  Ennetbaden   5408              1.0                          0  \n",
       "        Ennetbaden       Ennetbaden   5408              1.0                          0  \n",
       "       5000 Aarau        Aarau        5000              1.0                          0  \n",
       "       5024 Küttigen     Küttigen     5024              1.0                          1  \n",
       "       5108 Oberflachs   Oberflachs   5108              1.0                          0  \n",
       "       5225 Bözberg      Oberbözberg  5225              1.0                          1  \n",
       "       5400 Baden        Baden        5400              1.0                          1  \n",
       "       5452 Oberrohrdorf Oberrohrdorf 5452              1.0                          0  \n",
       "       Aarau             Aarau        5000              1.0                         32  \n",
       "       Aarau             Aarau        5000              1.0                          0  "
      ]
     },
     "execution_count": 99,
     "metadata": {},
     "output_type": "execute_result"
    }
   ],
   "source": [
    "# check result\n",
    "df_accounts_new.groupby(['state', 'city_original', 'city_clean', 'postal_code_clean', 'sprachcode']).sum().head(10)"
   ]
  },
  {
   "cell_type": "markdown",
   "metadata": {},
   "source": [
    "## Country_Code"
   ]
  },
  {
   "cell_type": "code",
   "execution_count": 100,
   "metadata": {},
   "outputs": [],
   "source": [
    "# show country codes \n",
    "#display(df_accounts.country_code.nunique())\n",
    "#df_accounts.country_code.unique()"
   ]
  },
  {
   "cell_type": "code",
   "execution_count": 101,
   "metadata": {},
   "outputs": [],
   "source": [
    "#df_accounts.country_code.value_counts().plot(kind='pie');"
   ]
  },
  {
   "cell_type": "markdown",
   "metadata": {},
   "source": [
    "### Add country name information"
   ]
  },
  {
   "cell_type": "code",
   "execution_count": 102,
   "metadata": {},
   "outputs": [
    {
     "data": {
      "text/plain": [
       "(249, 11)"
      ]
     },
     "metadata": {},
     "output_type": "display_data"
    },
    {
     "data": {
      "text/html": [
       "<div>\n",
       "<style scoped>\n",
       "    .dataframe tbody tr th:only-of-type {\n",
       "        vertical-align: middle;\n",
       "    }\n",
       "\n",
       "    .dataframe tbody tr th {\n",
       "        vertical-align: top;\n",
       "    }\n",
       "\n",
       "    .dataframe thead th {\n",
       "        text-align: right;\n",
       "    }\n",
       "</style>\n",
       "<table border=\"1\" class=\"dataframe\">\n",
       "  <thead>\n",
       "    <tr style=\"text-align: right;\">\n",
       "      <th></th>\n",
       "      <th>name</th>\n",
       "      <th>alpha-2</th>\n",
       "      <th>alpha-3</th>\n",
       "      <th>country-code</th>\n",
       "      <th>iso_3166-2</th>\n",
       "      <th>region</th>\n",
       "      <th>sub-region</th>\n",
       "      <th>intermediate-region</th>\n",
       "      <th>region-code</th>\n",
       "      <th>sub-region-code</th>\n",
       "      <th>intermediate-region-code</th>\n",
       "    </tr>\n",
       "  </thead>\n",
       "  <tbody>\n",
       "    <tr>\n",
       "      <th>0</th>\n",
       "      <td>Afghanistan</td>\n",
       "      <td>AF</td>\n",
       "      <td>AFG</td>\n",
       "      <td>4</td>\n",
       "      <td>ISO 3166-2:AF</td>\n",
       "      <td>Asia</td>\n",
       "      <td>Southern Asia</td>\n",
       "      <td>NaN</td>\n",
       "      <td>142.0</td>\n",
       "      <td>34.0</td>\n",
       "      <td>NaN</td>\n",
       "    </tr>\n",
       "    <tr>\n",
       "      <th>1</th>\n",
       "      <td>Åland Islands</td>\n",
       "      <td>AX</td>\n",
       "      <td>ALA</td>\n",
       "      <td>248</td>\n",
       "      <td>ISO 3166-2:AX</td>\n",
       "      <td>Europe</td>\n",
       "      <td>Northern Europe</td>\n",
       "      <td>NaN</td>\n",
       "      <td>150.0</td>\n",
       "      <td>154.0</td>\n",
       "      <td>NaN</td>\n",
       "    </tr>\n",
       "    <tr>\n",
       "      <th>2</th>\n",
       "      <td>Albania</td>\n",
       "      <td>AL</td>\n",
       "      <td>ALB</td>\n",
       "      <td>8</td>\n",
       "      <td>ISO 3166-2:AL</td>\n",
       "      <td>Europe</td>\n",
       "      <td>Southern Europe</td>\n",
       "      <td>NaN</td>\n",
       "      <td>150.0</td>\n",
       "      <td>39.0</td>\n",
       "      <td>NaN</td>\n",
       "    </tr>\n",
       "    <tr>\n",
       "      <th>3</th>\n",
       "      <td>Algeria</td>\n",
       "      <td>DZ</td>\n",
       "      <td>DZA</td>\n",
       "      <td>12</td>\n",
       "      <td>ISO 3166-2:DZ</td>\n",
       "      <td>Africa</td>\n",
       "      <td>Northern Africa</td>\n",
       "      <td>NaN</td>\n",
       "      <td>2.0</td>\n",
       "      <td>15.0</td>\n",
       "      <td>NaN</td>\n",
       "    </tr>\n",
       "    <tr>\n",
       "      <th>4</th>\n",
       "      <td>American Samoa</td>\n",
       "      <td>AS</td>\n",
       "      <td>ASM</td>\n",
       "      <td>16</td>\n",
       "      <td>ISO 3166-2:AS</td>\n",
       "      <td>Oceania</td>\n",
       "      <td>Polynesia</td>\n",
       "      <td>NaN</td>\n",
       "      <td>9.0</td>\n",
       "      <td>61.0</td>\n",
       "      <td>NaN</td>\n",
       "    </tr>\n",
       "  </tbody>\n",
       "</table>\n",
       "</div>"
      ],
      "text/plain": [
       "             name alpha-2 alpha-3  country-code     iso_3166-2   region  \\\n",
       "0     Afghanistan      AF     AFG             4  ISO 3166-2:AF     Asia   \n",
       "1   Åland Islands      AX     ALA           248  ISO 3166-2:AX   Europe   \n",
       "2         Albania      AL     ALB             8  ISO 3166-2:AL   Europe   \n",
       "3         Algeria      DZ     DZA            12  ISO 3166-2:DZ   Africa   \n",
       "4  American Samoa      AS     ASM            16  ISO 3166-2:AS  Oceania   \n",
       "\n",
       "        sub-region intermediate-region  region-code  sub-region-code  \\\n",
       "0    Southern Asia                 NaN        142.0             34.0   \n",
       "1  Northern Europe                 NaN        150.0            154.0   \n",
       "2  Southern Europe                 NaN        150.0             39.0   \n",
       "3  Northern Africa                 NaN          2.0             15.0   \n",
       "4        Polynesia                 NaN          9.0             61.0   \n",
       "\n",
       "   intermediate-region-code  \n",
       "0                       NaN  \n",
       "1                       NaN  \n",
       "2                       NaN  \n",
       "3                       NaN  \n",
       "4                       NaN  "
      ]
     },
     "metadata": {},
     "output_type": "display_data"
    }
   ],
   "source": [
    "# add country information\n",
    "country= './data/country_code.csv'\n",
    "df_country = pd.read_csv(country)\n",
    "df_country.columns = df_country.columns.str.lower()\n",
    "# check result\n",
    "display(df_country.shape)\n",
    "display(df_country.head())"
   ]
  },
  {
   "cell_type": "code",
   "execution_count": 103,
   "metadata": {},
   "outputs": [
    {
     "data": {
      "text/html": [
       "<div>\n",
       "<style scoped>\n",
       "    .dataframe tbody tr th:only-of-type {\n",
       "        vertical-align: middle;\n",
       "    }\n",
       "\n",
       "    .dataframe tbody tr th {\n",
       "        vertical-align: top;\n",
       "    }\n",
       "\n",
       "    .dataframe thead th {\n",
       "        text-align: right;\n",
       "    }\n",
       "</style>\n",
       "<table border=\"1\" class=\"dataframe\">\n",
       "  <thead>\n",
       "    <tr style=\"text-align: right;\">\n",
       "      <th></th>\n",
       "      <th>country_name</th>\n",
       "      <th>country_code</th>\n",
       "      <th>region</th>\n",
       "      <th>sub_region</th>\n",
       "    </tr>\n",
       "  </thead>\n",
       "  <tbody>\n",
       "    <tr>\n",
       "      <th>0</th>\n",
       "      <td>Afghanistan</td>\n",
       "      <td>AF</td>\n",
       "      <td>Asia</td>\n",
       "      <td>Southern Asia</td>\n",
       "    </tr>\n",
       "    <tr>\n",
       "      <th>1</th>\n",
       "      <td>Åland Islands</td>\n",
       "      <td>AX</td>\n",
       "      <td>Europe</td>\n",
       "      <td>Northern Europe</td>\n",
       "    </tr>\n",
       "    <tr>\n",
       "      <th>2</th>\n",
       "      <td>Albania</td>\n",
       "      <td>AL</td>\n",
       "      <td>Europe</td>\n",
       "      <td>Southern Europe</td>\n",
       "    </tr>\n",
       "    <tr>\n",
       "      <th>3</th>\n",
       "      <td>Algeria</td>\n",
       "      <td>DZ</td>\n",
       "      <td>Africa</td>\n",
       "      <td>Northern Africa</td>\n",
       "    </tr>\n",
       "    <tr>\n",
       "      <th>4</th>\n",
       "      <td>American Samoa</td>\n",
       "      <td>AS</td>\n",
       "      <td>Oceania</td>\n",
       "      <td>Polynesia</td>\n",
       "    </tr>\n",
       "  </tbody>\n",
       "</table>\n",
       "</div>"
      ],
      "text/plain": [
       "     country_name country_code   region       sub_region\n",
       "0     Afghanistan           AF     Asia    Southern Asia\n",
       "1   Åland Islands           AX   Europe  Northern Europe\n",
       "2         Albania           AL   Europe  Southern Europe\n",
       "3         Algeria           DZ   Africa  Northern Africa\n",
       "4  American Samoa           AS  Oceania        Polynesia"
      ]
     },
     "execution_count": 103,
     "metadata": {},
     "output_type": "execute_result"
    }
   ],
   "source": [
    "#only keep relevant columns, rename\n",
    "df_country = df_country[['name', 'alpha-2', 'region', 'sub-region']]\n",
    "df_country.rename(columns = {'alpha-2':'country_code', 'name':'country_name', 'sub-region':'sub_region'}, inplace = True)\n",
    "df_country.head()"
   ]
  },
  {
   "cell_type": "code",
   "execution_count": 104,
   "metadata": {},
   "outputs": [],
   "source": [
    "#merge to accounts_new table\n",
    "df_accounts = pd.merge(df_accounts_new, df_country, on='country_code', how='left')\n",
    "#df_accounts_new.head()"
   ]
  },
  {
   "cell_type": "code",
   "execution_count": 105,
   "metadata": {},
   "outputs": [],
   "source": [
    "#check result\n",
    "#df_accounts_new.groupby(['region', 'sub_region', 'country_code', 'country_name']).sum()"
   ]
  },
  {
   "cell_type": "markdown",
   "metadata": {},
   "source": [
    "## Language"
   ]
  },
  {
   "cell_type": "code",
   "execution_count": 106,
   "metadata": {},
   "outputs": [
    {
     "data": {
      "text/plain": [
       "929"
      ]
     },
     "execution_count": 106,
     "metadata": {},
     "output_type": "execute_result"
    }
   ],
   "source": [
    "# check for null values\n",
    "df_accounts.language.isna().sum()"
   ]
  },
  {
   "cell_type": "code",
   "execution_count": 107,
   "metadata": {},
   "outputs": [],
   "source": [
    "#fill null values\n",
    "df_accounts['language'].fillna('na', inplace=True)"
   ]
  },
  {
   "cell_type": "markdown",
   "metadata": {},
   "source": [
    "## CSV Export"
   ]
  },
  {
   "cell_type": "code",
   "execution_count": 108,
   "metadata": {},
   "outputs": [],
   "source": [
    "# export to csv for tableau eda\n",
    "#df_accounts_new.to_csv('./data/accounts_new.csv')"
   ]
  },
  {
   "cell_type": "markdown",
   "metadata": {},
   "source": [
    "## Preliminary Analysis"
   ]
  },
  {
   "cell_type": "markdown",
   "metadata": {},
   "source": [
    "### general information"
   ]
  },
  {
   "cell_type": "code",
   "execution_count": 109,
   "metadata": {},
   "outputs": [
    {
     "data": {
      "text/plain": [
       "(22154, 14)"
      ]
     },
     "execution_count": 109,
     "metadata": {},
     "output_type": "execute_result"
    }
   ],
   "source": [
    "df_accounts.shape"
   ]
  },
  {
   "cell_type": "code",
   "execution_count": 110,
   "metadata": {},
   "outputs": [
    {
     "data": {
      "text/plain": [
       "account_key                0\n",
       "city_original             17\n",
       "language                   0\n",
       "country_code               1\n",
       "email_hash                 0\n",
       "onetime_rental_count       0\n",
       "subscription_count         0\n",
       "postal_code_clean          0\n",
       "city_clean              1857\n",
       "state                   1857\n",
       "sprachcode              4046\n",
       "country_name               2\n",
       "region                     2\n",
       "sub_region                 2\n",
       "dtype: int64"
      ]
     },
     "execution_count": 110,
     "metadata": {},
     "output_type": "execute_result"
    }
   ],
   "source": [
    "# check for null values\n",
    "df_accounts.isnull().sum()\n",
    "# high amount of null values for city/state/sprachcode --> added information only for D/A/CH region"
   ]
  },
  {
   "cell_type": "code",
   "execution_count": 111,
   "metadata": {},
   "outputs": [
    {
     "data": {
      "text/html": [
       "<div>\n",
       "<style scoped>\n",
       "    .dataframe tbody tr th:only-of-type {\n",
       "        vertical-align: middle;\n",
       "    }\n",
       "\n",
       "    .dataframe tbody tr th {\n",
       "        vertical-align: top;\n",
       "    }\n",
       "\n",
       "    .dataframe thead th {\n",
       "        text-align: right;\n",
       "    }\n",
       "</style>\n",
       "<table border=\"1\" class=\"dataframe\">\n",
       "  <thead>\n",
       "    <tr style=\"text-align: right;\">\n",
       "      <th></th>\n",
       "      <th>onetime_rental_count</th>\n",
       "      <th>subscription_count</th>\n",
       "      <th>postal_code_clean</th>\n",
       "      <th>sprachcode</th>\n",
       "    </tr>\n",
       "  </thead>\n",
       "  <tbody>\n",
       "    <tr>\n",
       "      <th>count</th>\n",
       "      <td>22154.000000</td>\n",
       "      <td>22154.000000</td>\n",
       "      <td>2.215400e+04</td>\n",
       "      <td>18108.000000</td>\n",
       "    </tr>\n",
       "    <tr>\n",
       "      <th>mean</th>\n",
       "      <td>1.300442</td>\n",
       "      <td>0.550465</td>\n",
       "      <td>1.099518e+05</td>\n",
       "      <td>1.311409</td>\n",
       "    </tr>\n",
       "    <tr>\n",
       "      <th>std</th>\n",
       "      <td>3.232544</td>\n",
       "      <td>0.830078</td>\n",
       "      <td>6.183925e+06</td>\n",
       "      <td>0.482245</td>\n",
       "    </tr>\n",
       "    <tr>\n",
       "      <th>min</th>\n",
       "      <td>0.000000</td>\n",
       "      <td>0.000000</td>\n",
       "      <td>0.000000e+00</td>\n",
       "      <td>1.000000</td>\n",
       "    </tr>\n",
       "    <tr>\n",
       "      <th>25%</th>\n",
       "      <td>0.000000</td>\n",
       "      <td>0.000000</td>\n",
       "      <td>2.000000e+03</td>\n",
       "      <td>1.000000</td>\n",
       "    </tr>\n",
       "    <tr>\n",
       "      <th>50%</th>\n",
       "      <td>0.000000</td>\n",
       "      <td>0.000000</td>\n",
       "      <td>5.303000e+03</td>\n",
       "      <td>1.000000</td>\n",
       "    </tr>\n",
       "    <tr>\n",
       "      <th>75%</th>\n",
       "      <td>1.000000</td>\n",
       "      <td>1.000000</td>\n",
       "      <td>8.152000e+03</td>\n",
       "      <td>2.000000</td>\n",
       "    </tr>\n",
       "    <tr>\n",
       "      <th>max</th>\n",
       "      <td>106.000000</td>\n",
       "      <td>13.000000</td>\n",
       "      <td>7.875131e+08</td>\n",
       "      <td>3.000000</td>\n",
       "    </tr>\n",
       "  </tbody>\n",
       "</table>\n",
       "</div>"
      ],
      "text/plain": [
       "       onetime_rental_count  subscription_count  postal_code_clean  \\\n",
       "count          22154.000000        22154.000000       2.215400e+04   \n",
       "mean               1.300442            0.550465       1.099518e+05   \n",
       "std                3.232544            0.830078       6.183925e+06   \n",
       "min                0.000000            0.000000       0.000000e+00   \n",
       "25%                0.000000            0.000000       2.000000e+03   \n",
       "50%                0.000000            0.000000       5.303000e+03   \n",
       "75%                1.000000            1.000000       8.152000e+03   \n",
       "max              106.000000           13.000000       7.875131e+08   \n",
       "\n",
       "         sprachcode  \n",
       "count  18108.000000  \n",
       "mean       1.311409  \n",
       "std        0.482245  \n",
       "min        1.000000  \n",
       "25%        1.000000  \n",
       "50%        1.000000  \n",
       "75%        2.000000  \n",
       "max        3.000000  "
      ]
     },
     "execution_count": 111,
     "metadata": {},
     "output_type": "execute_result"
    }
   ],
   "source": [
    "df_accounts.describe()"
   ]
  },
  {
   "cell_type": "markdown",
   "metadata": {},
   "source": [
    "### geographical information"
   ]
  },
  {
   "cell_type": "code",
   "execution_count": 112,
   "metadata": {},
   "outputs": [
    {
     "data": {
      "image/png": "[encoded data removed]",
      "text/plain": [
       "<Figure size 640x480 with 1 Axes>"
      ]
     },
     "metadata": {},
     "output_type": "display_data"
    }
   ],
   "source": [
    "df_accounts.country_code.value_counts().plot(kind='pie');"
   ]
  },
  {
   "cell_type": "code",
   "execution_count": 113,
   "metadata": {},
   "outputs": [
    {
     "data": {
      "text/plain": [
       "CH    0.824584\n",
       "DE    0.099174\n",
       "FR    0.014400\n",
       "AT    0.012369\n",
       "US    0.008351\n",
       "        ...   \n",
       "GU    0.000045\n",
       "TW    0.000045\n",
       "SI    0.000045\n",
       "JP    0.000045\n",
       "CM    0.000045\n",
       "Name: country_code, Length: 124, dtype: float64"
      ]
     },
     "execution_count": 113,
     "metadata": {},
     "output_type": "execute_result"
    }
   ],
   "source": [
    "df_accounts['country_code'].value_counts(normalize=True)\n"
   ]
  },
  {
   "cell_type": "code",
   "execution_count": 114,
   "metadata": {},
   "outputs": [
    {
     "data": {
      "text/plain": [
       "Zürich                      0.288916\n",
       "Bern                        0.172320\n",
       "Genf                        0.120912\n",
       "Waadt                       0.102097\n",
       "Aargau                      0.050080\n",
       "Basel-Stadt                 0.042720\n",
       "Luzern                      0.030657\n",
       "Freiburg                    0.029439\n",
       "St. Gallen                  0.026009\n",
       "Wallis                      0.020032\n",
       "Neuenburg                   0.019479\n",
       "Graubünden                  0.018483\n",
       "Basel-Landschaft            0.014941\n",
       "Solothurn                   0.014720\n",
       "Thurgau                     0.011123\n",
       "Tessin                      0.007858\n",
       "Zug                         0.006640\n",
       "Schaffhausen                0.004925\n",
       "Appenzell Ausserrhoden      0.004316\n",
       "Schwyz                      0.003708\n",
       "Jura                        0.003486\n",
       "Nidwalden                   0.001826\n",
       "Glarus                      0.001771\n",
       "Obwalden                    0.001771\n",
       "Uri                         0.001107\n",
       "Appenzell Innerrhoden       0.000609\n",
       "Fürstentum Liechtenstein    0.000055\n",
       "Name: state, dtype: float64"
      ]
     },
     "execution_count": 114,
     "metadata": {},
     "output_type": "execute_result"
    }
   ],
   "source": [
    "df_CH = df_accounts[(df_accounts['country_code']=='CH')]\n",
    "df_CH.state.value_counts(normalize=True)"
   ]
  },
  {
   "cell_type": "markdown",
   "metadata": {},
   "source": [
    "### language"
   ]
  },
  {
   "cell_type": "code",
   "execution_count": 115,
   "metadata": {},
   "outputs": [
    {
     "data": {
      "text/plain": [
       "6"
      ]
     },
     "metadata": {},
     "output_type": "display_data"
    },
    {
     "data": {
      "text/plain": [
       "array(['de', 'fr', 'en', 'na', 'pt', 'nl'], dtype=object)"
      ]
     },
     "metadata": {},
     "output_type": "display_data"
    },
    {
     "data": {
      "text/plain": [
       "de    0.604541\n",
       "fr    0.235217\n",
       "en    0.118218\n",
       "na    0.041934\n",
       "pt    0.000045\n",
       "nl    0.000045\n",
       "Name: language, dtype: float64"
      ]
     },
     "metadata": {},
     "output_type": "display_data"
    }
   ],
   "source": [
    "display(df_accounts.language.nunique())\n",
    "display(df_accounts.language.unique())\n",
    "display(df_accounts.language.value_counts(normalize=True))"
   ]
  },
  {
   "cell_type": "code",
   "execution_count": 116,
   "metadata": {},
   "outputs": [
    {
     "data": {
      "text/html": [
       "<div>\n",
       "<style scoped>\n",
       "    .dataframe tbody tr th:only-of-type {\n",
       "        vertical-align: middle;\n",
       "    }\n",
       "\n",
       "    .dataframe tbody tr th {\n",
       "        vertical-align: top;\n",
       "    }\n",
       "\n",
       "    .dataframe thead th {\n",
       "        text-align: right;\n",
       "    }\n",
       "</style>\n",
       "<table border=\"1\" class=\"dataframe\">\n",
       "  <thead>\n",
       "    <tr style=\"text-align: right;\">\n",
       "      <th></th>\n",
       "      <th>onetime_rental_count</th>\n",
       "      <th>subscription_count</th>\n",
       "      <th>postal_code_clean</th>\n",
       "      <th>sprachcode</th>\n",
       "    </tr>\n",
       "    <tr>\n",
       "      <th>language</th>\n",
       "      <th></th>\n",
       "      <th></th>\n",
       "      <th></th>\n",
       "      <th></th>\n",
       "    </tr>\n",
       "  </thead>\n",
       "  <tbody>\n",
       "    <tr>\n",
       "      <th>de</th>\n",
       "      <td>19518</td>\n",
       "      <td>7656</td>\n",
       "      <td>262115054</td>\n",
       "      <td>11700.0</td>\n",
       "    </tr>\n",
       "    <tr>\n",
       "      <th>en</th>\n",
       "      <td>2382</td>\n",
       "      <td>1117</td>\n",
       "      <td>1941460995</td>\n",
       "      <td>1987.0</td>\n",
       "    </tr>\n",
       "    <tr>\n",
       "      <th>fr</th>\n",
       "      <td>6858</td>\n",
       "      <td>3378</td>\n",
       "      <td>152726154</td>\n",
       "      <td>9288.0</td>\n",
       "    </tr>\n",
       "    <tr>\n",
       "      <th>na</th>\n",
       "      <td>52</td>\n",
       "      <td>43</td>\n",
       "      <td>76717959</td>\n",
       "      <td>772.0</td>\n",
       "    </tr>\n",
       "    <tr>\n",
       "      <th>nl</th>\n",
       "      <td>0</td>\n",
       "      <td>1</td>\n",
       "      <td>2394</td>\n",
       "      <td>0.0</td>\n",
       "    </tr>\n",
       "    <tr>\n",
       "      <th>pt</th>\n",
       "      <td>0</td>\n",
       "      <td>0</td>\n",
       "      <td>2850090</td>\n",
       "      <td>0.0</td>\n",
       "    </tr>\n",
       "  </tbody>\n",
       "</table>\n",
       "</div>"
      ],
      "text/plain": [
       "          onetime_rental_count  subscription_count  postal_code_clean  \\\n",
       "language                                                                \n",
       "de                       19518                7656          262115054   \n",
       "en                        2382                1117         1941460995   \n",
       "fr                        6858                3378          152726154   \n",
       "na                          52                  43           76717959   \n",
       "nl                           0                   1               2394   \n",
       "pt                           0                   0            2850090   \n",
       "\n",
       "          sprachcode  \n",
       "language              \n",
       "de           11700.0  \n",
       "en            1987.0  \n",
       "fr            9288.0  \n",
       "na             772.0  \n",
       "nl               0.0  \n",
       "pt               0.0  "
      ]
     },
     "execution_count": 116,
     "metadata": {},
     "output_type": "execute_result"
    }
   ],
   "source": [
    "df_accounts.groupby('language').sum()"
   ]
  },
  {
   "cell_type": "markdown",
   "metadata": {},
   "source": [
    "### subscriptions and OTRs"
   ]
  },
  {
   "cell_type": "code",
   "execution_count": 117,
   "metadata": {},
   "outputs": [
    {
     "data": {
      "text/plain": [
       "count    22154.000000\n",
       "mean         1.300442\n",
       "std          3.232544\n",
       "min          0.000000\n",
       "25%          0.000000\n",
       "50%          0.000000\n",
       "75%          1.000000\n",
       "max        106.000000\n",
       "Name: onetime_rental_count, dtype: float64"
      ]
     },
     "metadata": {},
     "output_type": "display_data"
    },
    {
     "data": {
      "text/plain": [
       "count    22154.000000\n",
       "mean         0.550465\n",
       "std          0.830078\n",
       "min          0.000000\n",
       "25%          0.000000\n",
       "50%          0.000000\n",
       "75%          1.000000\n",
       "max         13.000000\n",
       "Name: subscription_count, dtype: float64"
      ]
     },
     "metadata": {},
     "output_type": "display_data"
    }
   ],
   "source": [
    "#general information on counts\n",
    "display(df_accounts.onetime_rental_count.describe())\n",
    "# OTR 106 -> outlier?\n",
    "display(df_accounts.subscription_count.describe())"
   ]
  },
  {
   "cell_type": "code",
   "execution_count": 118,
   "metadata": {},
   "outputs": [
    {
     "data": {
      "text/plain": [
       "array([[<AxesSubplot:title={'center':'subscription_count'}>]],\n",
       "      dtype=object)"
      ]
     },
     "execution_count": 118,
     "metadata": {},
     "output_type": "execute_result"
    },
    {
     "data": {
      "image/png": "[encoded data removed]",
      "text/plain": [
       "<Figure size 640x480 with 1 Axes>"
      ]
     },
     "metadata": {},
     "output_type": "display_data"
    }
   ],
   "source": [
    "df_accounts.hist(column='subscription_count', bins = 13)"
   ]
  },
  {
   "cell_type": "code",
   "execution_count": 119,
   "metadata": {},
   "outputs": [
    {
     "data": {
      "text/plain": [
       "array([[<AxesSubplot:title={'center':'onetime_rental_count'}>]],\n",
       "      dtype=object)"
      ]
     },
     "execution_count": 119,
     "metadata": {},
     "output_type": "execute_result"
    },
    {
     "data": {
      "image/png": "[encoded data removed]",
      "text/plain": [
       "<Figure size 640x480 with 1 Axes>"
      ]
     },
     "metadata": {},
     "output_type": "display_data"
    }
   ],
   "source": [
    "df_accounts.hist(column='onetime_rental_count', bins = 106)"
   ]
  },
  {
   "cell_type": "code",
   "execution_count": 120,
   "metadata": {},
   "outputs": [
    {
     "data": {
      "text/plain": [
       "<AxesSubplot:>"
      ]
     },
     "execution_count": 120,
     "metadata": {},
     "output_type": "execute_result"
    },
    {
     "data": {
      "image/png": "[encoded data removed]",
      "text/plain": [
       "<Figure size 640x480 with 1 Axes>"
      ]
     },
     "metadata": {},
     "output_type": "display_data"
    }
   ],
   "source": [
    "df_accounts.boxplot(column='onetime_rental_count')"
   ]
  },
  {
   "cell_type": "code",
   "execution_count": 121,
   "metadata": {},
   "outputs": [
    {
     "data": {
      "text/plain": [
       "9015"
      ]
     },
     "metadata": {},
     "output_type": "display_data"
    },
    {
     "data": {
      "text/plain": [
       "0.40692425747043426"
      ]
     },
     "metadata": {},
     "output_type": "display_data"
    }
   ],
   "source": [
    "#Check for accounts with subscription\n",
    "#display(df_accounts.subscription_count.unique())\n",
    "# display(df_accounts['subscription_count'].apply(lambda x: True if x == 0 else False).value_counts())\n",
    "display(len(df_accounts[(df_accounts['subscription_count']>0)]))\n",
    "# 9090 accounts with subscription\n",
    "display(len(df_accounts[(df_accounts['subscription_count']>0)])\n",
    "    /len(df_accounts))\n",
    "# only 40% of accounts have a subscription"
   ]
  },
  {
   "cell_type": "code",
   "execution_count": 122,
   "metadata": {},
   "outputs": [
    {
     "data": {
      "text/plain": [
       "10242"
      ]
     },
     "metadata": {},
     "output_type": "display_data"
    },
    {
     "data": {
      "text/plain": [
       "0.4623092895188228"
      ]
     },
     "metadata": {},
     "output_type": "display_data"
    }
   ],
   "source": [
    "#Check for accounts with one time rentals\n",
    "display(len(df_accounts[(df_accounts['onetime_rental_count']>0)]))\n",
    "# 10308 accounts with OTR\n",
    "display(len(df_accounts[(df_accounts['onetime_rental_count']>0)])\n",
    "    /len(df_accounts))\n",
    "# 46% of accounts have OTR"
   ]
  },
  {
   "cell_type": "code",
   "execution_count": 123,
   "metadata": {},
   "outputs": [
    {
     "data": {
      "text/plain": [
       "2143"
      ]
     },
     "metadata": {},
     "output_type": "display_data"
    },
    {
     "data": {
      "text/plain": [
       "0.0967319671391171"
      ]
     },
     "metadata": {},
     "output_type": "display_data"
    }
   ],
   "source": [
    "#Check for accounts with OTR and subscription (heavy users)\n",
    "display(len(df_accounts[(df_accounts['subscription_count']>0) & (df_accounts['onetime_rental_count']>0)]))\n",
    "# 2159 accounts with OTR and subscription\n",
    "display(len(df_accounts[(df_accounts['subscription_count']>0) & (df_accounts['onetime_rental_count']>0)])\n",
    "    /len(df_accounts))\n",
    "# 10% of accounts with subscription and OTR"
   ]
  },
  {
   "cell_type": "code",
   "execution_count": 124,
   "metadata": {},
   "outputs": [
    {
     "data": {
      "text/plain": [
       "5040"
      ]
     },
     "metadata": {},
     "output_type": "display_data"
    },
    {
     "data": {
      "text/plain": [
       "0.22749842014986008"
      ]
     },
     "metadata": {},
     "output_type": "display_data"
    }
   ],
   "source": [
    "#Check for accounts with no subscriptions and no OTRs (sleeping dogs)\n",
    "display(len(df_accounts[(df_accounts['subscription_count']==0) & (df_accounts['onetime_rental_count']==0)]))\n",
    "# 5060 accounts with no subs and no OTRs\n",
    "display(len(df_accounts[(df_accounts['subscription_count']==0) & (df_accounts['onetime_rental_count']==0)])\n",
    "    /len(df_accounts))\n",
    "# 22% of accounts with no subscription and no OTR"
   ]
  },
  {
   "cell_type": "code",
   "execution_count": 125,
   "metadata": {},
   "outputs": [
    {
     "data": {
      "text/plain": [
       "5040"
      ]
     },
     "metadata": {},
     "output_type": "display_data"
    },
    {
     "data": {
      "text/plain": [
       "0.22749842014986008"
      ]
     },
     "metadata": {},
     "output_type": "display_data"
    }
   ],
   "source": [
    "#Check for accounts with no OTR and no subscription\n",
    "display(len(df_accounts[(df_accounts['subscription_count']==0) & (df_accounts['onetime_rental_count']==0)]))\n",
    "# 5060 accounts with neither OTR nor subscription\n",
    "display(len(df_accounts[(df_accounts['subscription_count']==0) & (df_accounts['onetime_rental_count']==0)])\n",
    "    /len(df_accounts))\n",
    "# 22% of accounts with no subscription and no OTR\n"
   ]
  },
  {
   "cell_type": "code",
   "execution_count": 126,
   "metadata": {},
   "outputs": [
    {
     "data": {
      "text/html": [
       "<div>\n",
       "<style scoped>\n",
       "    .dataframe tbody tr th:only-of-type {\n",
       "        vertical-align: middle;\n",
       "    }\n",
       "\n",
       "    .dataframe tbody tr th {\n",
       "        vertical-align: top;\n",
       "    }\n",
       "\n",
       "    .dataframe thead th {\n",
       "        text-align: right;\n",
       "    }\n",
       "</style>\n",
       "<table border=\"1\" class=\"dataframe\">\n",
       "  <thead>\n",
       "    <tr style=\"text-align: right;\">\n",
       "      <th></th>\n",
       "      <th>account_key</th>\n",
       "      <th>city_original</th>\n",
       "      <th>language</th>\n",
       "      <th>country_code</th>\n",
       "      <th>email_hash</th>\n",
       "      <th>onetime_rental_count</th>\n",
       "      <th>subscription_count</th>\n",
       "      <th>postal_code_clean</th>\n",
       "      <th>city_clean</th>\n",
       "      <th>state</th>\n",
       "      <th>sprachcode</th>\n",
       "      <th>country_name</th>\n",
       "      <th>region</th>\n",
       "      <th>sub_region</th>\n",
       "    </tr>\n",
       "  </thead>\n",
       "  <tbody>\n",
       "    <tr>\n",
       "      <th>121</th>\n",
       "      <td>a83a5ebcf2808460c3487ed466711e339c258ea353cf61...</td>\n",
       "      <td>Zürich</td>\n",
       "      <td>de</td>\n",
       "      <td>CH</td>\n",
       "      <td>da013567997f8c9f73516e8504929eedae3e9e0daa4bf3...</td>\n",
       "      <td>0</td>\n",
       "      <td>0</td>\n",
       "      <td>8003</td>\n",
       "      <td>Zürich</td>\n",
       "      <td>Zürich</td>\n",
       "      <td>1.0</td>\n",
       "      <td>Switzerland</td>\n",
       "      <td>Europe</td>\n",
       "      <td>Western Europe</td>\n",
       "    </tr>\n",
       "    <tr>\n",
       "      <th>179</th>\n",
       "      <td>37402f853be34f688e6b12b6d4d44620050d9d04f72d25...</td>\n",
       "      <td>Köln</td>\n",
       "      <td>na</td>\n",
       "      <td>DE</td>\n",
       "      <td>97df5351585f46168c8077c7813dd2fd7416e3c0f13623...</td>\n",
       "      <td>0</td>\n",
       "      <td>0</td>\n",
       "      <td>50858</td>\n",
       "      <td>Köln</td>\n",
       "      <td>Nordrhein-Westfalen</td>\n",
       "      <td>NaN</td>\n",
       "      <td>Germany</td>\n",
       "      <td>Europe</td>\n",
       "      <td>Western Europe</td>\n",
       "    </tr>\n",
       "    <tr>\n",
       "      <th>537</th>\n",
       "      <td>bc9c49b34befcf43f86a92a3daaa3282fee584a2c1d263...</td>\n",
       "      <td>Ennetbaden</td>\n",
       "      <td>fr</td>\n",
       "      <td>CH</td>\n",
       "      <td>88ff5216a611e3f4be6ca36f0e79c8498a27ff63701f17...</td>\n",
       "      <td>0</td>\n",
       "      <td>0</td>\n",
       "      <td>5408</td>\n",
       "      <td>Ennetbaden</td>\n",
       "      <td>Aargau</td>\n",
       "      <td>1.0</td>\n",
       "      <td>Switzerland</td>\n",
       "      <td>Europe</td>\n",
       "      <td>Western Europe</td>\n",
       "    </tr>\n",
       "    <tr>\n",
       "      <th>571</th>\n",
       "      <td>a6f3604b6c7c54e3145b94cf9a4992f9f50e14eb92c343...</td>\n",
       "      <td>Les Bois</td>\n",
       "      <td>na</td>\n",
       "      <td>CH</td>\n",
       "      <td>3edfba31f1a9c96c65abc01f3b8c967650f7b615a2684c...</td>\n",
       "      <td>0</td>\n",
       "      <td>0</td>\n",
       "      <td>2336</td>\n",
       "      <td>Les Bois</td>\n",
       "      <td>Jura</td>\n",
       "      <td>2.0</td>\n",
       "      <td>Switzerland</td>\n",
       "      <td>Europe</td>\n",
       "      <td>Western Europe</td>\n",
       "    </tr>\n",
       "    <tr>\n",
       "      <th>572</th>\n",
       "      <td>85d4197f25bd5e44ebbb4fc9c22fe199934242de013382...</td>\n",
       "      <td>test</td>\n",
       "      <td>de</td>\n",
       "      <td>CH</td>\n",
       "      <td>d42ba23d38c1bccb58549860cdb5bae25576a8f31c0545...</td>\n",
       "      <td>0</td>\n",
       "      <td>0</td>\n",
       "      <td>8788</td>\n",
       "      <td>NaN</td>\n",
       "      <td>NaN</td>\n",
       "      <td>NaN</td>\n",
       "      <td>Switzerland</td>\n",
       "      <td>Europe</td>\n",
       "      <td>Western Europe</td>\n",
       "    </tr>\n",
       "  </tbody>\n",
       "</table>\n",
       "</div>"
      ],
      "text/plain": [
       "                                           account_key city_original language  \\\n",
       "121  a83a5ebcf2808460c3487ed466711e339c258ea353cf61...        Zürich       de   \n",
       "179  37402f853be34f688e6b12b6d4d44620050d9d04f72d25...          Köln       na   \n",
       "537  bc9c49b34befcf43f86a92a3daaa3282fee584a2c1d263...    Ennetbaden       fr   \n",
       "571  a6f3604b6c7c54e3145b94cf9a4992f9f50e14eb92c343...      Les Bois       na   \n",
       "572  85d4197f25bd5e44ebbb4fc9c22fe199934242de013382...          test       de   \n",
       "\n",
       "    country_code                                         email_hash  \\\n",
       "121           CH  da013567997f8c9f73516e8504929eedae3e9e0daa4bf3...   \n",
       "179           DE  97df5351585f46168c8077c7813dd2fd7416e3c0f13623...   \n",
       "537           CH  88ff5216a611e3f4be6ca36f0e79c8498a27ff63701f17...   \n",
       "571           CH  3edfba31f1a9c96c65abc01f3b8c967650f7b615a2684c...   \n",
       "572           CH  d42ba23d38c1bccb58549860cdb5bae25576a8f31c0545...   \n",
       "\n",
       "     onetime_rental_count  subscription_count  postal_code_clean  city_clean  \\\n",
       "121                     0                   0               8003      Zürich   \n",
       "179                     0                   0              50858        Köln   \n",
       "537                     0                   0               5408  Ennetbaden   \n",
       "571                     0                   0               2336    Les Bois   \n",
       "572                     0                   0               8788         NaN   \n",
       "\n",
       "                   state  sprachcode country_name  region      sub_region  \n",
       "121               Zürich         1.0  Switzerland  Europe  Western Europe  \n",
       "179  Nordrhein-Westfalen         NaN      Germany  Europe  Western Europe  \n",
       "537               Aargau         1.0  Switzerland  Europe  Western Europe  \n",
       "571                 Jura         2.0  Switzerland  Europe  Western Europe  \n",
       "572                  NaN         NaN  Switzerland  Europe  Western Europe  "
      ]
     },
     "execution_count": 126,
     "metadata": {},
     "output_type": "execute_result"
    }
   ],
   "source": [
    "df_non_user = (df_accounts[(df_accounts['subscription_count']==0) & (df_accounts['onetime_rental_count']==0)])\n",
    "df_non_user.head()"
   ]
  },
  {
   "cell_type": "code",
   "execution_count": 127,
   "metadata": {},
   "outputs": [
    {
     "data": {
      "text/plain": [
       "count    9015.000000\n",
       "mean        1.352745\n",
       "std         0.779726\n",
       "min         1.000000\n",
       "25%         1.000000\n",
       "50%         1.000000\n",
       "75%         1.000000\n",
       "max        13.000000\n",
       "Name: subscription_count, dtype: float64"
      ]
     },
     "metadata": {},
     "output_type": "display_data"
    },
    {
     "data": {
      "text/plain": [
       "count    10242.000000\n",
       "mean         2.812927\n",
       "std          4.283544\n",
       "min          1.000000\n",
       "25%          1.000000\n",
       "50%          1.000000\n",
       "75%          3.000000\n",
       "max        106.000000\n",
       "Name: onetime_rental_count, dtype: float64"
      ]
     },
     "metadata": {},
     "output_type": "display_data"
    }
   ],
   "source": [
    "#general information on counts (only for active users)\n",
    "display(df_accounts[(df_accounts['subscription_count']>0)].subscription_count.describe())\n",
    "display(df_accounts[(df_accounts['onetime_rental_count']>0)].onetime_rental_count.describe())\n"
   ]
  },
  {
   "cell_type": "code",
   "execution_count": 128,
   "metadata": {},
   "outputs": [
    {
     "data": {
      "text/plain": [
       "(22154, 11)"
      ]
     },
     "execution_count": 128,
     "metadata": {},
     "output_type": "execute_result"
    }
   ],
   "source": [
    "df_accounts_new.shape"
   ]
  }
 ],
 "metadata": {
  "kernelspec": {
   "display_name": "Python 3.9.13 ('nf_geo')",
   "language": "python",
   "name": "python3"
  },
  "language_info": {
   "codemirror_mode": {
    "name": "ipython",
    "version": 3
   },
   "file_extension": ".py",
   "mimetype": "text/x-python",
   "name": "python",
   "nbconvert_exporter": "python",
   "pygments_lexer": "ipython3",
   "version": "3.9.13"
  },
  "orig_nbformat": 4,
  "vscode": {
   "interpreter": {
    "hash": "54164dac681f969475496b4542379ae320e04389f410020fc75e8e60ba0ebe96"
   }
  }
 },
 "nbformat": 4,
 "nbformat_minor": 2
}
