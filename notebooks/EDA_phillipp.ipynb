{
 "cells": [
  {
   "cell_type": "code",
   "execution_count": 2,
   "metadata": {},
   "outputs": [],
   "source": [
    "import pandas as pd\n",
    "import numpy as np\n",
    "\n",
    "# define the name of the csv file you want to read in\n",
    "accounts = './data/accounts.csv'\n",
    "playbacks = './data/playbacks.csv'\n",
    "subscriptions = './data/subscriptions.csv'"
   ]
  },
  {
   "cell_type": "markdown",
   "metadata": {},
   "source": [
    "# EDA part"
   ]
  },
  {
   "cell_type": "code",
   "execution_count": 3,
   "metadata": {},
   "outputs": [],
   "source": [
    "import sql_functions as sf\n",
    "schema = 'capstone_filmingo'"
   ]
  },
  {
   "cell_type": "markdown",
   "metadata": {},
   "source": [
    "# One Time Rentals per account"
   ]
  },
  {
   "cell_type": "code",
   "execution_count": null,
   "metadata": {},
   "outputs": [],
   "source": [
    "sf.get_dataframe(f'SELECT account_key as account, onetime_rental_count as otr FROM {schema}.accounts ORDER BY otr DESC').head(10)"
   ]
  },
  {
   "cell_type": "code",
   "execution_count": null,
   "metadata": {},
   "outputs": [],
   "source": [
    "# Sum of accounts \n",
    "display(sf.get_dataframe(f'SELECT account_key FROM {schema}.accounts').count())\n",
    "\n",
    "# Sum of otr \n",
    "display(sf.get_dataframe(f'SELECT SUM(onetime_rental_count) FROM {schema}.accounts'))\n",
    "\n",
    "# Sum of accounts with otr \n",
    "display(sf.get_dataframe(f'SELECT account_key FROM {schema}.accounts WHERE onetime_rental_count > 0').count())\n",
    "\n",
    "# Sum of accounts without otr \n",
    "display(sf.get_dataframe(f'SELECT account_key FROM {schema}.accounts WHERE onetime_rental_count = 0').count())\n",
    "\n",
    "# Accounts without sub and without otr\n"
   ]
  },
  {
   "cell_type": "code",
   "execution_count": null,
   "metadata": {},
   "outputs": [],
   "source": [
    "sf.get_dataframe(f'SELECT account_key as account, onetime_rental_count as otr FROM {schema}.accounts ORDER BY otr DESC').plot(kind=\"hist\", title=\"One Time Rentals per account\")"
   ]
  },
  {
   "cell_type": "code",
   "execution_count": null,
   "metadata": {},
   "outputs": [],
   "source": [
    "sf.get_dataframe(f'SELECT account_key as account, onetime_rental_count as otr FROM {schema}.accounts ORDER BY otr DESC').plot(kind=\"box\", title=\"One Time Rentals per account\")"
   ]
  },
  {
   "cell_type": "code",
   "execution_count": null,
   "metadata": {},
   "outputs": [],
   "source": [
    "# otr =< 20\n",
    "sf.get_dataframe(f'SELECT account_key as account, onetime_rental_count as otr FROM {schema}.accounts WHERE onetime_rental_count <= 20 ORDER BY otr DESC').plot(kind=\"box\", title=\"One Time Rentals per account\")"
   ]
  },
  {
   "cell_type": "code",
   "execution_count": null,
   "metadata": {},
   "outputs": [],
   "source": [
    "sf.get_dataframe(f'SELECT account_key as account, onetime_rental_count as otr FROM {schema}.accounts WHERE onetime_rental_count > 0 and onetime_rental_count <= 20 ORDER BY otr DESC').plot(kind=\"hist\", bins=19, title=\"One Time Rentals per account\")"
   ]
  },
  {
   "cell_type": "markdown",
   "metadata": {},
   "source": [
    "# Subscriptions per account"
   ]
  },
  {
   "cell_type": "code",
   "execution_count": null,
   "metadata": {},
   "outputs": [],
   "source": [
    "sf.get_dataframe(f' SELECT account_key as account, subscription_count FROM {schema}.accounts WHERE (onetime_rental_count > 0 or subscription_count > 0)').describe()"
   ]
  },
  {
   "cell_type": "code",
   "execution_count": null,
   "metadata": {},
   "outputs": [],
   "source": [
    "sf.get_dataframe(f' SELECT * FROM {schema}.accounts WHERE subscription_count > 4').count()"
   ]
  },
  {
   "cell_type": "code",
   "execution_count": null,
   "metadata": {},
   "outputs": [],
   "source": [
    "f.get_dataframe(f' SELECT account_key as account, subscription_count FROM {schema}.accounts ORDER BY subscription_count DESC').plot(kind=\"hist\", title=\"Subscriptions per account\")"
   ]
  },
  {
   "cell_type": "code",
   "execution_count": null,
   "metadata": {},
   "outputs": [],
   "source": [
    "sf.get_dataframe(f' SELECT account_key as account, subscription_count FROM {schema}.accounts ORDER BY subscription_count DESC').plot(kind=\"box\", title=\"Subscriptions per account\")"
   ]
  },
  {
   "cell_type": "code",
   "execution_count": null,
   "metadata": {},
   "outputs": [],
   "source": [
    "sf.get_dataframe(f' SELECT account_key as account, subscription_count FROM {schema}.accounts WHERE subscription_count <= 5 ORDER BY subscription_count DESC').plot(kind=\"hist\", title=\"Subscriptions per account\")"
   ]
  },
  {
   "cell_type": "code",
   "execution_count": null,
   "metadata": {},
   "outputs": [],
   "source": [
    "sf.get_dataframe(f'(SELECT COUNT(*) as accounts, subscription_count FROM {schema}.accounts WHERE subscription_count <= 5 GROUP BY subscription_count ORDER BY subscription_count)')"
   ]
  },
  {
   "cell_type": "code",
   "execution_count": null,
   "metadata": {},
   "outputs": [],
   "source": [
    "display(sf.get_dataframe(f'(SELECT COUNT(account_key) as accounts FROM {schema}.accounts WHERE subscription_count > 0)'))\n",
    "display(sf.get_dataframe(f'(SELECT subscription_type, COUNT(DISTINCT account_key) as accounts FROM {schema}.subscriptions GROUP BY subscription_type)'))\n",
    "display(sf.get_dataframe(f'(SELECT COUNT(DISTINCT account_key) as accounts FROM {schema}.subscriptions)'))\n",
    "BETWEEN '2020-10-01' and '2022-10-01'))"
   ]
  },
  {
   "cell_type": "markdown",
   "metadata": {},
   "source": [
    "# OTR of accounts without subscription"
   ]
  },
  {
   "cell_type": "code",
   "execution_count": null,
   "metadata": {},
   "outputs": [],
   "source": [
    "sf.get_dataframe(f'SELECT account_key as account, onetime_rental_count as otr FROM {schema}.accounts WHERE onetime_rental_count > 0 and subscription_count = 0 ORDER BY otr DESC').plot(kind=\"hist\", bins= title=\"One Time Rentals of accounts without sub\")"
   ]
  },
  {
   "cell_type": "code",
   "execution_count": null,
   "metadata": {},
   "outputs": [],
   "source": [
    "sf.get_dataframe(f'SELECT account_key as account, onetime_rental_count as otr FROM {schema}.accounts WHERE (onetime_rental_count > 0 and subscription_count = 0 and onetime_rental_count <= 20) ORDER BY otr DESC').plot(kind=\"hist\", bins=19, title=\"One Time Rentals of accounts without sub\")"
   ]
  },
  {
   "cell_type": "markdown",
   "metadata": {},
   "source": [
    "# Accounts without sub AND without otr"
   ]
  },
  {
   "cell_type": "code",
   "execution_count": null,
   "metadata": {},
   "outputs": [],
   "source": [
    "nosub_nootr_df = sf.get_dataframe(f'SELECT * FROM {schema}.accounts WHERE (subscription_count = 0 AND onetime_rental_count =0)')\n",
    "nosub_nootr_df.account_key.count()"
   ]
  },
  {
   "cell_type": "code",
   "execution_count": null,
   "metadata": {},
   "outputs": [],
   "source": [
    "nosub_nootr_df.count()"
   ]
  },
  {
   "cell_type": "markdown",
   "metadata": {},
   "source": [
    "# Total playbacks per year"
   ]
  },
  {
   "cell_type": "code",
   "execution_count": null,
   "metadata": {},
   "outputs": [],
   "source": [
    "sf.get_dataframe(f'SELECT EXTRACT(year FROM date_start) as year, account_key as account, count(*) as playbacks FROM {schema}.playbacks GROUP BY account, EXTRACT(year FROM date_start)').head(15)"
   ]
  },
  {
   "cell_type": "code",
   "execution_count": null,
   "metadata": {},
   "outputs": [],
   "source": [
    "sf.get_dataframe(f\"SELECT account_key as account, count(*) as playbacks FROM {schema}.playbacks WHERE date_start BETWEEN '01-10-2020' and '01-10-2021' GROUP BY account\").head(15)"
   ]
  },
  {
   "cell_type": "code",
   "execution_count": null,
   "metadata": {},
   "outputs": [],
   "source": [
    "sf.get_dataframe(f\"SELECT COUNT(playbacks) FROM {schema}.playbacks WHERE date_start BETWEEN '01-10-2020' and '01-10-2021'\").head(15)"
   ]
  },
  {
   "cell_type": "code",
   "execution_count": null,
   "metadata": {},
   "outputs": [],
   "source": [
    "sf.get_dataframe(f'SELECT EXTRACT(year FROM date_start) as year, count(*) as playbacks FROM {schema}.playbacks GROUP BY EXTRACT(year FROM date_start) ORDER BY year').head(15)"
   ]
  },
  {
   "cell_type": "markdown",
   "metadata": {},
   "source": [
    "# Playbacks per device"
   ]
  },
  {
   "cell_type": "code",
   "execution_count": null,
   "metadata": {},
   "outputs": [],
   "source": [
    "sf.get_dataframe(f' SELECT device, COUNT(*) as playbacks FROM {schema}.playbacks GROUP BY device').head()"
   ]
  },
  {
   "cell_type": "code",
   "execution_count": null,
   "metadata": {},
   "outputs": [],
   "source": [
    "sf.get_dataframe(f' SELECT app_user, COUNT(*) FROM {schema}.playbacks GROUP BY app_user').head()"
   ]
  },
  {
   "cell_type": "code",
   "execution_count": null,
   "metadata": {},
   "outputs": [],
   "source": [
    "sf.get_dataframe(f' SELECT device, app_user, COUNT(*) FROM {schema}.playbacks GROUP BY device, app_user').head()"
   ]
  },
  {
   "cell_type": "code",
   "execution_count": null,
   "metadata": {},
   "outputs": [],
   "source": [
    "sf.get_dataframe(f\" SELECT user_agent, COUNT(*) FROM {schema}.playbacks WHERE user_agent LIKE '%%iPhone%%'\").head()\n"
   ]
  },
  {
   "cell_type": "markdown",
   "metadata": {},
   "source": [
    "# Playbacks per subscription type (per month)"
   ]
  },
  {
   "cell_type": "code",
   "execution_count": null,
   "metadata": {},
   "outputs": [],
   "source": [
    "sf.get_dataframe(f' SELECT subscription_type, COUNT(subscriptions.account_key) playbacks FROM {schema}.playbacks INNER JOIN {schema}.subscriptions on {schema}.playbacks.subscription_key = {schema}.subscriptions.subscription_key GROUP BY subscription_type').head()"
   ]
  },
  {
   "cell_type": "code",
   "execution_count": null,
   "metadata": {},
   "outputs": [],
   "source": [
    "sf.get_dataframe(f' SELECT subscription_type, COUNT(subscriptions.account_key) playbacks FROM {schema}.playbacks INNER JOIN {schema}.subscriptions on {schema}.playbacks.subscription_key = {schema}.subscriptions.subscription_key GROUP BY subscription_type').head()"
   ]
  },
  {
   "cell_type": "code",
   "execution_count": null,
   "metadata": {},
   "outputs": [],
   "source": [
    "sf.get_dataframe(f' SELECT subscription_type, COUNT(*) / COUNT(DISTINCT playbacks.account_key) as average_playbacks FROM {schema}.playbacks INNER JOIN {schema}.subscriptions on {schema}.playbacks.subscription_key = {schema}.subscriptions.subscription_key GROUP BY subscription_type').head()"
   ]
  },
  {
   "cell_type": "markdown",
   "metadata": {},
   "source": [
    "# Playbacks per month/weekday "
   ]
  },
  {
   "cell_type": "code",
   "execution_count": null,
   "metadata": {},
   "outputs": [],
   "source": [
    "sf.get_dataframe(f' SELECT EXTRACT(year FROM date_start) as year, subscription_type, COUNT(*) / COUNT(DISTINCT playbacks.account_key) as playbacks FROM {schema}.playbacks INNER JOIN {schema}.subscriptions on {schema}.playbacks.subscription_key = {schema}.subscriptions.subscription_key GROUP BY subscription_type, year ORDER BY subscription_type').head(30)\n",
    "sf.get_dataframe(f' SELECT EXTRACT(year FROM date_start) as year, subscription_type, COUNT(*) as playbacks FROM {schema}.playbacks INNER JOIN {schema}.subscriptions on {schema}.playbacks.subscription_key = {schema}.subscriptions.subscription_key GROUP BY subscription_type, year ORDER BY subscription_type').head(30)\n"
   ]
  },
  {
   "cell_type": "code",
   "execution_count": null,
   "metadata": {},
   "outputs": [],
   "source": [
    "sf.get_dataframe(f\" SELECT EXTRACT(year FROM date_start) as year, EXTRACT(month FROM date_start) as month, subscription_type, COUNT(*) / COUNT(DISTINCT playbacks.account_key)::float as playbacks FROM {schema}.playbacks INNER JOIN {schema}.subscriptions on {schema}.playbacks.subscription_key = {schema}.subscriptions.subscription_key WHERE subscription_type = 'BASIC' GROUP BY subscription_type, year, month ORDER BY subscription_type, year, month\").head(30)\n",
    "sf.get_dataframe(f\" SELECT EXTRACT(year FROM date_start) as year, EXTRACT(month FROM date_start) as month, subscription_type, COUNT(*) / COUNT(DISTINCT playbacks.account_key)::float as playbacks FROM {schema}.playbacks INNER JOIN {schema}.subscriptions on {schema}.playbacks.subscription_key = {schema}.subscriptions.subscription_key WHERE subscription_type = 'STANDARD' GROUP BY subscription_type, year, month ORDER BY subscription_type, year, month\").head(30)\n",
    "sf.get_dataframe(f\" SELECT EXTRACT(year FROM date_start) as year, EXTRACT(month FROM date_start) as month, subscription_type, COUNT(*) / COUNT(DISTINCT playbacks.account_key)::float as playbacks FROM {schema}.playbacks INNER JOIN {schema}.subscriptions on {schema}.playbacks.subscription_key = {schema}.subscriptions.subscription_key WHERE subscription_type = 'PATRON' GROUP BY subscription_type, year, month ORDER BY subscription_type, year, month\").head(30)"
   ]
  },
  {
   "cell_type": "code",
   "execution_count": null,
   "metadata": {},
   "outputs": [],
   "source": [
    "#LIMITS\n",
    "sf.get_dataframe(f\" SELECT EXTRACT(year FROM date_start) as year, EXTRACT(month FROM date_start) as month, subscription_type, COUNT(*) / COUNT(DISTINCT playbacks.account_key)::float as playbacks FROM {schema}.playbacks INNER JOIN {schema}.subscriptions on {schema}.playbacks.subscription_key = {schema}.subscriptions.subscription_key WHERE subscription_type = 'BASIC' GROUP BY subscription_type, year, month ORDER BY subscription_type, year, month\").head(30)\n",
    "#LIMITS\n",
    "sf.get_dataframe(f\" SELECT subscription_type, COUNT(*) / COUNT(DISTINCT playbacks.account_key)::float as playbacks FROM {schema}.playbacks INNER JOIN {schema}.subscriptions on {schema}.playbacks.subscription_key = {schema}.subscriptions.subscription_key WHERE subscription_type = 'BASIC' GROUP BY subscription_type\").head(30)"
   ]
  },
  {
   "cell_type": "code",
   "execution_count": null,
   "metadata": {},
   "outputs": [],
   "source": [
    "sf.get_dataframe(f\"SELECT EXTRACT(year FROM date_start) as year, EXTRACT(month FROM date_start) as month, playbacks.account_key as account, count(*) as views FROM {schema}.playbacks INNER JOIN {schema}.subscriptions on {schema}.playbacks.subscription_key = {schema}.subscriptions.subscription_key WHERE subscription_type = 'BASIC' GROUP BY account, year, month HAVING (COUNT(*) = 2 and  ORDER BY year, month\").nunique()\n",
    "sf.get_dataframe(f\"SELECT EXTRACT(year FROM date_start) as year, EXTRACT(month FROM date_start) as month, playbacks.account_key as account, count(*) as views FROM {schema}.playbacks INNER JOIN {schema}.subscriptions on {schema}.playbacks.subscription_key = {schema}.subscriptions.subscription_key WHERE subscription_type = 'STANDARD' GROUP BY account, year, month HAVING COUNT(*) = 5 ORDER BY year, month\").nunique()\n",
    "sf.get_dataframe(f\"SELECT EXTRACT(year FROM date_start) as year, EXTRACT(month FROM date_start) as month, playbacks.account_key as account, count(*) as views FROM {schema}.playbacks INNER JOIN {schema}.subscriptions on {schema}.playbacks.subscription_key = {schema}.subscriptions.subscription_key WHERE subscription_type = 'PATRON' GROUP BY account, year, month HAVING COUNT(*) = 5 ORDER BY year, month\").nunique()"
   ]
  },
  {
   "cell_type": "code",
   "execution_count": null,
   "metadata": {},
   "outputs": [],
   "source": [
    "sf.get_dataframe(f\"SELECT EXTRACT(year FROM date_start) as year, EXTRACT(month FROM date_start) as month, playbacks.account_key as account, count(*) as views FROM {schema}.playbacks INNER JOIN {schema}.subscriptions on {schema}.playbacks.subscription_key = {schema}.subscriptions.subscription_key WHERE subscription_type = 'BASIC' GROUP BY account, year, month ORDER BY year, month\").nunique()\n",
    "#sf.get_dataframe(f\"SELECT EXTRACT(year FROM date_start) as year, EXTRACT(month FROM date_start) as month, playbacks.account_key as account, count(*) as views FROM {schema}.playbacks INNER JOIN {schema}.subscriptions on {schema}.playbacks.subscription_key = {schema}.subscriptions.subscription_key WHERE subscription_type = 'STANDARD' GROUP BY account, year, month ORDER BY year, month\").nunique()\n",
    "#sf.get_dataframe(f\"SELECT EXTRACT(year FROM date_start) as year, EXTRACT(month FROM date_start) as month, playbacks.account_key as account, count(*) as views FROM {schema}.playbacks INNER JOIN {schema}.subscriptions on {schema}.playbacks.subscription_key = {schema}.subscriptions.subscription_key WHERE subscription_type = 'PATRON' GROUP BY account, year, month ORDER BY year, month\").nunique()"
   ]
  },
  {
   "cell_type": "markdown",
   "metadata": {},
   "source": [
    "# Playbacks per account (per month)"
   ]
  },
  {
   "cell_type": "code",
   "execution_count": null,
   "metadata": {},
   "outputs": [],
   "source": [
    "sf.get_dataframe(f\" SELECT EXTRACT(year FROM date_start) as year, EXTRACT(month FROM date_start) as month, playbacks.account_key as account, COUNT(*) as playbacks FROM {schema}.playbacks INNER JOIN {schema}.accounts on {schema}.playbacks.account_key = {schema}.accounts.account_key GROUP BY playbacks.account_key, year, month ORDER BY year, month\").head()"
   ]
  },
  {
   "cell_type": "markdown",
   "metadata": {},
   "source": [
    "# Hours watched per account (per month)"
   ]
  },
  {
   "cell_type": "code",
   "execution_count": null,
   "metadata": {},
   "outputs": [],
   "source": [
    "sf.get_dataframe(f' SELECT EXTRACT(year FROM date_start) as year, EXTRACT(month FROM date_start) as month, playbacks.account_key as account, (SUM(playback_time)/60/60) as playback_hours FROM {schema}.playbacks INNER JOIN {schema}.accounts on {schema}.playbacks.account_key = {schema}.accounts.account_key GROUP BY playbacks.account_key, year, month ORDER BY year, month').head(30)\n",
    "sf.get_dataframe(f' SELECT EXTRACT(year FROM date_start) as year, EXTRACT(month FROM date_start) as month, (SUM(playback_time)/60/60) as playback_hours FROM {schema}.playbacks INNER JOIN {schema}.accounts on {schema}.playbacks.account_key = {schema}.accounts.account_key GROUP BY year, month ORDER BY year, month').mean()"
   ]
  },
  {
   "cell_type": "markdown",
   "metadata": {},
   "source": [
    "# Sent movie vouchers\n",
    "How many movie vouchers are being gifted per month / per subscription type?"
   ]
  },
  {
   "cell_type": "code",
   "execution_count": null,
   "metadata": {},
   "outputs": [],
   "source": [
    "sf.get_dataframe(f' SELECT DISTINCT * FROM {schema}.playbacks WHERE device IS NULL')"
   ]
  },
  {
   "cell_type": "code",
   "execution_count": null,
   "metadata": {},
   "outputs": [],
   "source": [
    "sf.get_dataframe(f' SELECT * FROM {schema}.playbacks').head()"
   ]
  },
  {
   "attachments": {},
   "cell_type": "markdown",
   "metadata": {},
   "source": [
    "# Sent movie vouchers"
   ]
  },
  {
   "cell_type": "code",
   "execution_count": null,
   "metadata": {},
   "outputs": [],
   "source": [
    "sf.get_dataframe(f' SELECT EXTRACT(year FROM creation_date) as year, EXTRACT(month FROM creation_date) as month, vouchers.voucher_id as vouchers FROM {schema}.vouchers INNER JOIN {schema}.accounts on {schema}.vouchers.account_key_sender = {schema}.accounts.account_key GROUP BY vouchers, year, month ORDER BY year, month').head(30)\n",
    "display(sf.get_dataframe(f\" SELECT COUNT(*) FROM {schema}.vouchers WHERE creation_date BETWEEN '2020-10-01' and '2022-10-01'\").describe())\n",
    "sf.get_dataframe(f\" SELECT EXTRACT(year FROM creation_date) as year, EXTRACT(month FROM creation_date) as month, COUNT(*) FROM {schema}.vouchers WHERE creation_date BETWEEN '2020-10-01' and '2022-10-01' GROUP BY year, month ORDER BY year, month\").head(30)"
   ]
  },
  {
   "cell_type": "code",
   "execution_count": null,
   "metadata": {},
   "outputs": [],
   "source": [
    "sf.get_dataframe(f\" SELECT EXTRACT(year FROM creation_date) as year, EXTRACT(month FROM creation_date) as month, COUNT(*) as vouchers FROM {schema}.vouchers WHERE creation_date BETWEEN '2020-10-01' and '2022-10-01' GROUP BY year, month ORDER BY year, month\").plot(kind=\"line\")"
   ]
  },
  {
   "cell_type": "code",
   "execution_count": null,
   "metadata": {},
   "outputs": [],
   "source": [
    "sf.get_dataframe(f\" SELECT COUNT(voucher_id), account_key_sender FROM {schema}.vouchers INNER JOIN {schema}.subscriptions on {schema}.vouchers.account_key_sender = {schema}.subscriptions.account_key WHERE (subscription_type = 'BASIC' AND creation_date BETWEEN '2020-10-01' and '2022-11-01') GROUP BY account_key_sender\").head()\n",
    "sf.get_dataframe(f\" SELECT EXTRACT(year FROM creation_date) as year, subscription_type, COUNT(*) / COUNT(DISTINCT vouchers.account_key_sender)::float as avg_vouchers_sent FROM {schema}.vouchers INNER JOIN {schema}.subscriptions on {schema}.vouchers.account_key_sender = {schema}.subscriptions.account_key WHERE subscription_type = 'PATRON' GROUP BY subscription_type, year ORDER BY subscription_type, year\").head(30)\n"
   ]
  },
  {
   "cell_type": "code",
   "execution_count": null,
   "metadata": {},
   "outputs": [],
   "source": [
    "sf.get_dataframe(f\" SELECT subscription_count, EXTRACT(year FROM creation_date) as year, COUNT(*) / COUNT(DISTINCT vouchers.account_key_sender)::float as avg_vouchers_sent FROM {schema}.vouchers INNER JOIN {schema}.accounts on {schema}.vouchers.account_key_sender = {schema}.accounts.account_key WHERE subscription_count = 0 GROUP BY  subscription_count, year ORDER BY  subscription_count, year\").head(30)"
   ]
  },
  {
   "cell_type": "code",
   "execution_count": null,
   "metadata": {},
   "outputs": [],
   "source": [
    "sf.get_dataframe(f\" SELECT EXTRACT(year FROM creation_date) as year, COUNT(*) / COUNT(DISTINCT vouchers.account_key_sender)::float as avg_vouchers_sent FROM {schema}.vouchers INNER JOIN {schema}.subscriptions on {schema}.vouchers.account_key_sender = {schema}.subscriptions.account_key WHERE (creation_date BETWEEN '2020-10-01' and '2022-11-01') GROUP BY  year ORDER BY year\").head(30)"
   ]
  },
  {
   "cell_type": "code",
   "execution_count": null,
   "metadata": {},
   "outputs": [],
   "source": [
    "sf.get_dataframe(f\" SELECT EXTRACT(year FROM creation_date) as year, subscription_type, COUNT(*) as avg_vouchers_sent FROM {schema}.vouchers INNER JOIN {schema}.subscriptions on {schema}.vouchers.account_key_sender = {schema}.subscriptions.account_key WHERE subscription_type = 'PATRON' GROUP BY subscription_type, year ORDER BY subscription_type, year\").head(30)\n",
    "sf.get_dataframe(f\" SELECT subscription_type, COUNT(*) as avg_vouchers_sent FROM {schema}.vouchers INNER JOIN {schema}.subscriptions on {schema}.vouchers.account_key_sender = {schema}.subscriptions.account_key WHERE subscription_type = 'PATRON' GROUP BY subscription_type ORDER BY subscription_type\").head(30)\n",
    "display(sf.get_dataframe(f\" SELECT COUNT(*) FROM {schema}.vouchers WHERE creation_date BETWEEN '2020-10-01' and '2022-10-01'\").describe())\n"
   ]
  },
  {
   "cell_type": "code",
   "execution_count": null,
   "metadata": {},
   "outputs": [],
   "source": [
    "sf.get_dataframe(f\" SELECT subscription_type, COUNT(*) as avg_vouchers_sent FROM {schema}.vouchers INNER JOIN {schema}.subscriptions on {schema}.vouchers.account_key_sender = {schema}.subscriptions.account_key WHERE subscription_type = 'STANDARD' GROUP BY subscription_type ORDER BY subscription_type\").head(30)\n",
    "sf.get_dataframe(f\" SELECT subscription_type, COUNT(DISTINCT voucher_id) as avg_vouchers_sent FROM {schema}.vouchers INNER JOIN {schema}.subscriptions on {schema}.vouchers.account_key_sender = {schema}.subscriptions.account_key WHERE creation_date BETWEEN '2020-10-01' and '2022-10-01' GROUP BY subscription_type ORDER BY subscription_type\").head(30)"
   ]
  },
  {
   "cell_type": "code",
   "execution_count": null,
   "metadata": {},
   "outputs": [],
   "source": [
    "sf.get_dataframe(f\" SELECT voucher_id FROM {schema}.vouchers INNER JOIN {schema}.subscriptions on {schema}.vouchers.account_key_sender = {schema}.subscriptions.account_key GROUP BY voucher_id\").head(30)\n"
   ]
  },
  {
   "cell_type": "code",
   "execution_count": null,
   "metadata": {},
   "outputs": [],
   "source": [
    "sf.get_dataframe(f\" SELECT subscription_type, COUNT(*) as vouchers_sent FROM {schema}.vouchers INNER JOIN {schema}.subscriptions on {schema}.vouchers.account_key_sender = {schema}.subscriptions.account_key WHERE subscription_type = 'BASIC' GROUP BY subscription_type ORDER BY subscription_type\").head(30)\n"
   ]
  }
 ],
 "metadata": {
  "kernelspec": {
   "display_name": "Python 3.9.13 ('nf_sql')",
   "language": "python",
   "name": "python3"
  },
  "language_info": {
   "codemirror_mode": {
    "name": "ipython",
    "version": 3
   },
   "file_extension": ".py",
   "mimetype": "text/x-python",
   "name": "python",
   "nbconvert_exporter": "python",
   "pygments_lexer": "ipython3",
   "version": "3.9.13"
  },
  "orig_nbformat": 4,
  "vscode": {
   "interpreter": {
    "hash": "a81d278bed5b5b59425dcb5a82ce505657686243c184b4a6b67e69d01c4d432e"
   }
  }
 },
 "nbformat": 4,
 "nbformat_minor": 2
}
