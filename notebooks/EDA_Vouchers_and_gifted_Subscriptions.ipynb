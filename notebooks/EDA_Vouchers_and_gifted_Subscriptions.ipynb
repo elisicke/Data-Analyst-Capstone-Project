{
 "cells": [
  {
   "attachments": {},
   "cell_type": "markdown",
   "metadata": {},
   "source": [
    "# EDA vouchers and gifted subscriptions"
   ]
  },
  {
   "attachments": {},
   "cell_type": "markdown",
   "metadata": {},
   "source": [
    "## Read in tables"
   ]
  },
  {
   "cell_type": "code",
   "execution_count": 40,
   "metadata": {},
   "outputs": [],
   "source": [
    "import pandas as pd\n",
    "import numpy as np  \n",
    "import datetime\n",
    "from sql_functions import get_engine"
   ]
  },
  {
   "cell_type": "code",
   "execution_count": 41,
   "metadata": {},
   "outputs": [],
   "source": [
    "schema = 'capstone_filmingo' \n",
    "engine = get_engine()"
   ]
  },
  {
   "cell_type": "code",
   "execution_count": 42,
   "metadata": {},
   "outputs": [],
   "source": [
    "table_name = 'accounts'\n",
    "df_accounts = pd.read_sql_query(f'select * from {schema}.{table_name}', engine)"
   ]
  },
  {
   "cell_type": "code",
   "execution_count": 43,
   "metadata": {},
   "outputs": [],
   "source": [
    "table_name = 'vouchers'\n",
    "df_vouchers = pd.read_sql_query(f'select * from {schema}.{table_name}', engine)"
   ]
  },
  {
   "cell_type": "code",
   "execution_count": 44,
   "metadata": {},
   "outputs": [],
   "source": [
    "table_name = 'subscriptions'\n",
    "df_subscriptions = pd.read_sql_query(f'select * from {schema}.{table_name}', engine)"
   ]
  },
  {
   "cell_type": "code",
   "execution_count": 45,
   "metadata": {},
   "outputs": [],
   "source": [
    "table_name = 'playbacks'\n",
    "df_playbacks = pd.read_sql_query(f'select * from {schema}.{table_name}', engine)"
   ]
  },
  {
   "attachments": {},
   "cell_type": "markdown",
   "metadata": {},
   "source": [
    "## Truncating subscription start dates"
   ]
  },
  {
   "attachments": {},
   "cell_type": "markdown",
   "metadata": {},
   "source": [
    "### Truncate subscription start date according to our time period (as of 01.10.2020)"
   ]
  },
  {
   "cell_type": "code",
   "execution_count": 46,
   "metadata": {},
   "outputs": [],
   "source": [
    "# Define new EDA table\n",
    "df_subscriptions_eda = df_subscriptions"
   ]
  },
  {
   "cell_type": "code",
   "execution_count": 47,
   "metadata": {},
   "outputs": [],
   "source": [
    "# Truncating subscription start to 01.10.2020 if subscription started before\n",
    "df_subscriptions_eda['subscription_start_adj_period'] = df_subscriptions['subscription_start'].apply(lambda x: x if str(x) > '2020-10-01' else '2020-10-01')"
   ]
  },
  {
   "cell_type": "code",
   "execution_count": 48,
   "metadata": {},
   "outputs": [],
   "source": [
    "# Set data types for subscription dates to datetime\n",
    "df_subscriptions_eda['subscription_start_adj_period'] = pd.to_datetime(df_subscriptions_eda['subscription_start_adj_period'])"
   ]
  },
  {
   "cell_type": "code",
   "execution_count": 49,
   "metadata": {},
   "outputs": [],
   "source": [
    "# Create new column and calculate new subscription duration\n",
    "df_subscriptions_eda['subscription_months_raw_adj_period'] = ((df_subscriptions_eda.subscription_end) - df_subscriptions_eda.subscription_start_adj_period)/np.timedelta64(1, 'M')"
   ]
  },
  {
   "cell_type": "code",
   "execution_count": 50,
   "metadata": {},
   "outputs": [],
   "source": [
    "# Create new column for rounded subscription months for easier further processing\n",
    "# Generally round up from 0.1 to be able to allow some discrepancies due to day to day calculation of subscription duration (deduct 0.1 to be able to use .ceil)\n",
    "df_subscriptions_eda['subscription_months_adj_period'] = df_subscriptions_eda['subscription_months_raw_adj_period'] - 0.1\n",
    "df_subscriptions_eda['subscription_months_adj_period'] = df_subscriptions_eda['subscription_months_adj_period'].apply(np.ceil)"
   ]
  },
  {
   "attachments": {},
   "cell_type": "markdown",
   "metadata": {},
   "source": [
    "### Calculate prices per subscription based on adjusted start date"
   ]
  },
  {
   "cell_type": "code",
   "execution_count": 83,
   "metadata": {},
   "outputs": [],
   "source": [
    "# Calculate total price per subscription (price / 12 * subscription months)\n",
    "df_subscriptions_eda['total_price_chf_adj_period'] = df_subscriptions_eda['price_chf'] / 12 * df_subscriptions_eda['subscription_months_adj_period']\n",
    "df_subscriptions_eda['total_price_eur_adj_period'] = df_subscriptions_eda['price_eur'] / 12 * df_subscriptions_eda['subscription_months_adj_period']\n",
    "\n",
    "\n",
    "# Conditional calculation for exceptions:\n",
    "\n",
    "# If the subscription is monthly only calculate price * months\n",
    "df_subscriptions_eda.loc[(df_subscriptions_eda['subscription_monthly'] == 1), 'total_price_chf_adj_period'] = (df_subscriptions_eda['price_chf'] * df_subscriptions_eda['subscription_months_adj_period'])\n",
    "df_subscriptions_eda.loc[(df_subscriptions_eda['subscription_monthly'] == 1), 'total_price_eur_adj_period'] = (df_subscriptions_eda['price_eur'] * df_subscriptions_eda['subscription_months_adj_period'])\n",
    "\n",
    "# If the subscription is gifted & 6 months long, a different price is applicable (there is only a 6 month subscription available for gifted subscriptions)\n",
    "df_subscriptions_eda.loc[((df_subscriptions_eda['gift_subscription'] == True) & (df_subscriptions_eda['subscription_months_adj_period'] == 6)), 'total_price_chf_adj_period'] = '49'\n",
    "df_subscriptions_eda.loc[((df_subscriptions_eda['gift_subscription'] == True) & (df_subscriptions_eda['subscription_months_adj_period'] == 6)), 'total_price_eur_adj_period'] = '41'"
   ]
  },
  {
   "attachments": {},
   "cell_type": "markdown",
   "metadata": {},
   "source": [
    "# Vouchers\n"
   ]
  },
  {
   "attachments": {},
   "cell_type": "markdown",
   "metadata": {},
   "source": [
    "### First subscription date per account"
   ]
  },
  {
   "cell_type": "code",
   "execution_count": 51,
   "metadata": {},
   "outputs": [],
   "source": [
    "# Make new table for the first subscription date per account\n",
    "df_account_sub_min_date = df_subscriptions.groupby('account_key')['subscription_start'].min()"
   ]
  },
  {
   "cell_type": "code",
   "execution_count": 52,
   "metadata": {},
   "outputs": [],
   "source": [
    "# Merge with subscriptions EDA and accounts EDA table\n",
    "df_subscriptions_eda = pd.merge(df_subscriptions_eda, df_account_sub_min_date, on='account_key', how='left')\n",
    "df_accounts_eda = pd.merge(df_accounts, df_account_sub_min_date, on='account_key', how='left')"
   ]
  },
  {
   "cell_type": "code",
   "execution_count": 53,
   "metadata": {},
   "outputs": [],
   "source": [
    "# Rename columns\n",
    "df_subscriptions_eda.rename(columns = {'subscription_start_y':'min_subscription_start'}, inplace = True)\n",
    "df_accounts_eda.rename(columns = {'subscription_start':'min_subscription_start'}, inplace = True)\n"
   ]
  },
  {
   "cell_type": "code",
   "execution_count": null,
   "metadata": {},
   "outputs": [],
   "source": [
    "df_subscriptions_eda.head()"
   ]
  },
  {
   "attachments": {},
   "cell_type": "markdown",
   "metadata": {},
   "source": [
    "### First voucher created per account"
   ]
  },
  {
   "cell_type": "code",
   "execution_count": 55,
   "metadata": {},
   "outputs": [],
   "source": [
    "# Make new table for first voucher creation date per account\n",
    "df_voucher_min_date = df_vouchers.groupby('email_hash_receiver')['creation_date'].min()"
   ]
  },
  {
   "cell_type": "code",
   "execution_count": 56,
   "metadata": {},
   "outputs": [],
   "source": [
    "# Merge with accounts EDA table\n",
    "df_accounts_eda = pd.merge(df_accounts_eda, df_voucher_min_date, left_on='email_hash', right_on='email_hash_receiver', how='left')"
   ]
  },
  {
   "cell_type": "code",
   "execution_count": 57,
   "metadata": {},
   "outputs": [],
   "source": [
    "# Rename column\n",
    "df_accounts_eda.rename(columns = {'creation_date':'min_voucher_creation_date'}, inplace = True)"
   ]
  },
  {
   "attachments": {},
   "cell_type": "markdown",
   "metadata": {},
   "source": [
    "### First One Time Rental (OTR) date per account"
   ]
  },
  {
   "cell_type": "code",
   "execution_count": 58,
   "metadata": {},
   "outputs": [],
   "source": [
    "# Make new table only for OTR playbacks\n",
    "df_otr_playbacks = df_playbacks.query('subscription_playback == 0')"
   ]
  },
  {
   "cell_type": "code",
   "execution_count": 59,
   "metadata": {},
   "outputs": [],
   "source": [
    "# Make new table for first OTR playback per account\n",
    "df_otr_playbacks_min = df_otr_playbacks.groupby('account_key')['date_start'].min()"
   ]
  },
  {
   "cell_type": "code",
   "execution_count": 60,
   "metadata": {},
   "outputs": [],
   "source": [
    "# Merge with accounts EDA table\n",
    "df_accounts_eda = pd.merge(df_accounts_eda, df_otr_playbacks_min, on='account_key', how='left')"
   ]
  },
  {
   "cell_type": "code",
   "execution_count": 61,
   "metadata": {},
   "outputs": [],
   "source": [
    "# Rename columns\n",
    "df_accounts_eda.rename(columns = {'date_start':'min_otr_playback'}, inplace = True)"
   ]
  },
  {
   "attachments": {},
   "cell_type": "markdown",
   "metadata": {},
   "source": [
    "# Gifted Subscriptions"
   ]
  },
  {
   "cell_type": "code",
   "execution_count": 65,
   "metadata": {},
   "outputs": [],
   "source": [
    "# Make tables with only gifted/paid subs\n",
    "gifted_df_subscriptions = df_subscriptions.query('gift_subscription == True')\n",
    "paid_df_subscriptions = df_subscriptions.query('gift_subscription == False')"
   ]
  },
  {
   "cell_type": "code",
   "execution_count": 66,
   "metadata": {},
   "outputs": [],
   "source": [
    "# Make tables with first of gifted/paid subscriptions per account\n",
    "gifted_sub_min_date = gifted_df_subscriptions.groupby('account_key')['subscription_start'].min()\n",
    "paid_sub_min_date = paid_df_subscriptions.groupby('account_key')['subscription_start'].min()"
   ]
  },
  {
   "cell_type": "code",
   "execution_count": 67,
   "metadata": {},
   "outputs": [],
   "source": [
    "# Merge gifted subs into the subscription EDA and accounts EDA data frames\n",
    "df_subscriptions_eda = pd.merge(df_subscriptions_eda, gifted_sub_min_date, on='account_key', how='left')\n",
    "df_subscriptions_eda.rename(columns = {'subscription_start_x':'subscription_start', 'subscription_start':'min_gifted_subscription'}, inplace = True)\n",
    "\n",
    "df_accounts_eda = pd.merge(df_accounts_eda, gifted_sub_min_date, on='account_key', how='left')\n",
    "df_accounts_eda.rename(columns = {'subscription_start':'min_gifted_subscription'}, inplace = True)\n"
   ]
  },
  {
   "cell_type": "code",
   "execution_count": 69,
   "metadata": {},
   "outputs": [],
   "source": [
    "# Merge paid subs into the subscription EDA and accounts EDA data frames\n",
    "df_subscriptions_eda = pd.merge(df_subscriptions_eda, paid_sub_min_date, on='account_key', how='left')\n",
    "df_subscriptions_eda.rename(columns = {'subscription_start_x':'subscription_start', 'subscription_start_y':'min_paid_subscription'}, inplace = True)\n",
    "\n",
    "df_accounts_eda = pd.merge(df_accounts_eda, paid_sub_min_date, on='account_key', how='left')\n",
    "df_accounts_eda.rename(columns = {'subscription_start':'min_paid_subscription'}, inplace = True)"
   ]
  },
  {
   "cell_type": "code",
   "execution_count": null,
   "metadata": {},
   "outputs": [],
   "source": [
    "# Check individual account_keys if necessary\n",
    "df_accounts_eda[df_accounts_eda['account_key'].str.contains('ab1bcf2c1b8d4eb422079becc0c59b1c7db2fd009235d2', na=False)]"
   ]
  },
  {
   "attachments": {},
   "cell_type": "markdown",
   "metadata": {},
   "source": [
    "## Push EDA Tables to SQL"
   ]
  },
  {
   "cell_type": "code",
   "execution_count": 31,
   "metadata": {},
   "outputs": [],
   "source": [
    "schema = 'capstone_filmingo' \n",
    "engine = get_engine()"
   ]
  },
  {
   "cell_type": "code",
   "execution_count": 32,
   "metadata": {},
   "outputs": [],
   "source": [
    "# table_name = 'subscriptions_eda'\n",
    "\n",
    "# if engine!=None:\n",
    "#     try:\n",
    "#         df_subscriptions_eda.to_sql(name=table_name, # Name of SQL table\n",
    "#                         con=engine, # Engine or connection\n",
    "#                         if_exists='replace', # Drop the table before inserting new values \n",
    "#                         schema=schema, # Use schema that was defined earlier\n",
    "#                         index=False, # Write DataFrame index as a column\n",
    "#                         chunksize=5000, # Specify the number of rows in each batch to be written at a time\n",
    "#                         method='multi') # Pass multiple values in a single INSERT clause\n",
    "#         print(f\"The {table_name} table was imported successfully.\")\n",
    "#     # Error handling\n",
    "#     except (Exception, psycopg2.DatabaseError) as error:\n",
    "#         print(error)\n",
    "#         engine = None\n",
    "# else:\n",
    "#      print('Push did not work')"
   ]
  },
  {
   "cell_type": "code",
   "execution_count": null,
   "metadata": {},
   "outputs": [],
   "source": [
    "# Just to be sure: Check if the number of rows match\n",
    "table_name_sql = f'''SELECT count(*) \n",
    "                    FROM {schema}.{table_name}\n",
    "                    '''\n",
    "engine.execute(table_name_sql).fetchall()[0][0] == df_subscriptions_eda.shape[0]"
   ]
  },
  {
   "cell_type": "code",
   "execution_count": null,
   "metadata": {},
   "outputs": [],
   "source": [
    "# table_name = 'accounts_eda'\n",
    "\n",
    "# if engine!=None:\n",
    "#     try:\n",
    "#         df_accounts_eda.to_sql(name=table_name, # Name of SQL table\n",
    "#                         con=engine, # Engine or connection\n",
    "#                         if_exists='replace', # Drop the table before inserting new values \n",
    "#                         schema=schema, # Use schema that was defined earlier\n",
    "#                         index=False, # Write DataFrame index as a column\n",
    "#                         chunksize=5000, # Specify the number of rows in each batch to be written at a time\n",
    "#                         method='multi') # Pass multiple values in a single INSERT clause\n",
    "#         print(f\"The {table_name} table was imported successfully.\")\n",
    "#     # Error handling\n",
    "#     except (Exception, psycopg2.DatabaseError) as error:\n",
    "#         print(error)\n",
    "#         engine = None\n",
    "# else:\n",
    "#      print('Push did not work')"
   ]
  },
  {
   "cell_type": "code",
   "execution_count": null,
   "metadata": {},
   "outputs": [],
   "source": [
    "# Just to be sure: Check if the number of rows match\n",
    "table_name_sql = f'''SELECT count(*) \n",
    "                    FROM {schema}.{table_name}\n",
    "                    '''\n",
    "engine.execute(table_name_sql).fetchall()[0][0] == df_accounts_eda.shape[0]"
   ]
  }
 ],
 "metadata": {
  "kernelspec": {
   "display_name": "Python 3.9.13 ('nf_sql')",
   "language": "python",
   "name": "python3"
  },
  "language_info": {
   "codemirror_mode": {
    "name": "ipython",
    "version": 3
   },
   "file_extension": ".py",
   "mimetype": "text/x-python",
   "name": "python",
   "nbconvert_exporter": "python",
   "pygments_lexer": "ipython3",
   "version": "3.9.13"
  },
  "orig_nbformat": 4,
  "vscode": {
   "interpreter": {
    "hash": "a81d278bed5b5b59425dcb5a82ce505657686243c184b4a6b67e69d01c4d432e"
   }
  }
 },
 "nbformat": 4,
 "nbformat_minor": 2
}
