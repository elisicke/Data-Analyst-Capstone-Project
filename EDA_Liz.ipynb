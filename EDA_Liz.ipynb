{
 "cells": [
  {
   "cell_type": "code",
   "execution_count": null,
   "metadata": {},
   "outputs": [],
   "source": [
    "#Read in needed tables"
   ]
  },
  {
   "cell_type": "code",
   "execution_count": 5,
   "metadata": {},
   "outputs": [],
   "source": [
    "import pandas as pd\n",
    "import numpy as np\n",
    "from sql_functions import get_engine"
   ]
  },
  {
   "cell_type": "code",
   "execution_count": 6,
   "metadata": {},
   "outputs": [],
   "source": [
    "schema = 'capstone_filmingo' # UPDATE 'TABLE_SCHEMA' based on schema used in class \n",
    "engine = get_engine() # assign engine to be able to query against the database"
   ]
  },
  {
   "cell_type": "code",
   "execution_count": 13,
   "metadata": {},
   "outputs": [],
   "source": [
    "table_name = 'accounts'\n",
    "df_accounts = pd.read_sql_query(f'select * from {schema}.{table_name}', engine)"
   ]
  },
  {
   "cell_type": "code",
   "execution_count": 11,
   "metadata": {},
   "outputs": [],
   "source": [
    "table_name = 'vouchers'\n",
    "df_vouchers = pd.read_sql_query(f'select * from {schema}.{table_name}', engine)"
   ]
  },
  {
   "cell_type": "code",
   "execution_count": 15,
   "metadata": {},
   "outputs": [
    {
     "data": {
      "text/html": [
       "<div>\n",
       "<style scoped>\n",
       "    .dataframe tbody tr th:only-of-type {\n",
       "        vertical-align: middle;\n",
       "    }\n",
       "\n",
       "    .dataframe tbody tr th {\n",
       "        vertical-align: top;\n",
       "    }\n",
       "\n",
       "    .dataframe thead th {\n",
       "        text-align: right;\n",
       "    }\n",
       "</style>\n",
       "<table border=\"1\" class=\"dataframe\">\n",
       "  <thead>\n",
       "    <tr style=\"text-align: right;\">\n",
       "      <th></th>\n",
       "      <th>account_key</th>\n",
       "      <th>city_original</th>\n",
       "      <th>language</th>\n",
       "      <th>country_code</th>\n",
       "      <th>email_hash</th>\n",
       "      <th>onetime_rental_count</th>\n",
       "      <th>subscription_count</th>\n",
       "      <th>postal_code_clean</th>\n",
       "      <th>city_clean</th>\n",
       "      <th>state</th>\n",
       "      <th>language_code</th>\n",
       "      <th>country_name</th>\n",
       "      <th>region</th>\n",
       "      <th>sub_region</th>\n",
       "      <th>voucher_used</th>\n",
       "    </tr>\n",
       "  </thead>\n",
       "  <tbody>\n",
       "    <tr>\n",
       "      <th>0</th>\n",
       "      <td>60a90104f44414d9036aed7d96d1468a5a9e1d104b6791...</td>\n",
       "      <td>Wettingen</td>\n",
       "      <td>de</td>\n",
       "      <td>CH</td>\n",
       "      <td>5f3d193f5be5c279e77a80d7de82ffb34e3883a3d6a3e7...</td>\n",
       "      <td>0</td>\n",
       "      <td>1</td>\n",
       "      <td>5430</td>\n",
       "      <td>Wettingen</td>\n",
       "      <td>Aargau</td>\n",
       "      <td>1.0</td>\n",
       "      <td>Switzerland</td>\n",
       "      <td>Europe</td>\n",
       "      <td>Western Europe</td>\n",
       "      <td>NaN</td>\n",
       "    </tr>\n",
       "    <tr>\n",
       "      <th>1</th>\n",
       "      <td>a48b28809457e680de54b4b560e00117308431c574aab2...</td>\n",
       "      <td>Meilen</td>\n",
       "      <td>de</td>\n",
       "      <td>CH</td>\n",
       "      <td>029a26c1483d78f98002c3be1c902b15ce814b62e45a2a...</td>\n",
       "      <td>0</td>\n",
       "      <td>1</td>\n",
       "      <td>8706</td>\n",
       "      <td>Meilen</td>\n",
       "      <td>Zürich</td>\n",
       "      <td>1.0</td>\n",
       "      <td>Switzerland</td>\n",
       "      <td>Europe</td>\n",
       "      <td>Western Europe</td>\n",
       "      <td>NaN</td>\n",
       "    </tr>\n",
       "    <tr>\n",
       "      <th>2</th>\n",
       "      <td>7a280859423057ac5f1e0bfc15af602edd23900f3cf7cb...</td>\n",
       "      <td>Lausanne</td>\n",
       "      <td>fr</td>\n",
       "      <td>CH</td>\n",
       "      <td>08a8ff8a3b3fb9be3a8f87a86960bf9f3e43b31d0772e1...</td>\n",
       "      <td>1</td>\n",
       "      <td>0</td>\n",
       "      <td>1005</td>\n",
       "      <td>Lausanne</td>\n",
       "      <td>Waadt</td>\n",
       "      <td>2.0</td>\n",
       "      <td>Switzerland</td>\n",
       "      <td>Europe</td>\n",
       "      <td>Western Europe</td>\n",
       "      <td>NaN</td>\n",
       "    </tr>\n",
       "    <tr>\n",
       "      <th>3</th>\n",
       "      <td>23e7ac18b391549e95a98d85a3adae1f3f90c4fcc09732...</td>\n",
       "      <td>Oberdorf</td>\n",
       "      <td>de</td>\n",
       "      <td>CH</td>\n",
       "      <td>007ada12068218817c2b69325d1bfe2d7ac10da3a9922d...</td>\n",
       "      <td>0</td>\n",
       "      <td>2</td>\n",
       "      <td>4436</td>\n",
       "      <td>Liedertswil</td>\n",
       "      <td>Basel-Landschaft</td>\n",
       "      <td>1.0</td>\n",
       "      <td>Switzerland</td>\n",
       "      <td>Europe</td>\n",
       "      <td>Western Europe</td>\n",
       "      <td>NaN</td>\n",
       "    </tr>\n",
       "    <tr>\n",
       "      <th>4</th>\n",
       "      <td>a39dbaa7972fb67c15db79d4a66cf5d1b94855ae530774...</td>\n",
       "      <td>Luzern</td>\n",
       "      <td>de</td>\n",
       "      <td>CH</td>\n",
       "      <td>cff18967fb0f8b29eeb54a91b98d027920d44c1e771258...</td>\n",
       "      <td>8</td>\n",
       "      <td>2</td>\n",
       "      <td>6005</td>\n",
       "      <td>Luzern</td>\n",
       "      <td>Luzern</td>\n",
       "      <td>1.0</td>\n",
       "      <td>Switzerland</td>\n",
       "      <td>Europe</td>\n",
       "      <td>Western Europe</td>\n",
       "      <td>0.0</td>\n",
       "    </tr>\n",
       "  </tbody>\n",
       "</table>\n",
       "</div>"
      ],
      "text/plain": [
       "                                         account_key city_original language  \\\n",
       "0  60a90104f44414d9036aed7d96d1468a5a9e1d104b6791...     Wettingen       de   \n",
       "1  a48b28809457e680de54b4b560e00117308431c574aab2...        Meilen       de   \n",
       "2  7a280859423057ac5f1e0bfc15af602edd23900f3cf7cb...      Lausanne       fr   \n",
       "3  23e7ac18b391549e95a98d85a3adae1f3f90c4fcc09732...      Oberdorf       de   \n",
       "4  a39dbaa7972fb67c15db79d4a66cf5d1b94855ae530774...        Luzern       de   \n",
       "\n",
       "  country_code                                         email_hash  \\\n",
       "0           CH  5f3d193f5be5c279e77a80d7de82ffb34e3883a3d6a3e7...   \n",
       "1           CH  029a26c1483d78f98002c3be1c902b15ce814b62e45a2a...   \n",
       "2           CH  08a8ff8a3b3fb9be3a8f87a86960bf9f3e43b31d0772e1...   \n",
       "3           CH  007ada12068218817c2b69325d1bfe2d7ac10da3a9922d...   \n",
       "4           CH  cff18967fb0f8b29eeb54a91b98d027920d44c1e771258...   \n",
       "\n",
       "   onetime_rental_count  subscription_count  postal_code_clean   city_clean  \\\n",
       "0                     0                   1               5430    Wettingen   \n",
       "1                     0                   1               8706       Meilen   \n",
       "2                     1                   0               1005     Lausanne   \n",
       "3                     0                   2               4436  Liedertswil   \n",
       "4                     8                   2               6005       Luzern   \n",
       "\n",
       "              state  language_code country_name  region      sub_region  \\\n",
       "0            Aargau            1.0  Switzerland  Europe  Western Europe   \n",
       "1            Zürich            1.0  Switzerland  Europe  Western Europe   \n",
       "2             Waadt            2.0  Switzerland  Europe  Western Europe   \n",
       "3  Basel-Landschaft            1.0  Switzerland  Europe  Western Europe   \n",
       "4            Luzern            1.0  Switzerland  Europe  Western Europe   \n",
       "\n",
       "   voucher_used  \n",
       "0           NaN  \n",
       "1           NaN  \n",
       "2           NaN  \n",
       "3           NaN  \n",
       "4           0.0  "
      ]
     },
     "execution_count": 15,
     "metadata": {},
     "output_type": "execute_result"
    }
   ],
   "source": [
    "df_accounts.head()"
   ]
  },
  {
   "cell_type": "code",
   "execution_count": 14,
   "metadata": {},
   "outputs": [
    {
     "data": {
      "text/html": [
       "<div>\n",
       "<style scoped>\n",
       "    .dataframe tbody tr th:only-of-type {\n",
       "        vertical-align: middle;\n",
       "    }\n",
       "\n",
       "    .dataframe tbody tr th {\n",
       "        vertical-align: top;\n",
       "    }\n",
       "\n",
       "    .dataframe thead th {\n",
       "        text-align: right;\n",
       "    }\n",
       "</style>\n",
       "<table border=\"1\" class=\"dataframe\">\n",
       "  <thead>\n",
       "    <tr style=\"text-align: right;\">\n",
       "      <th></th>\n",
       "      <th>voucher_ID</th>\n",
       "      <th>movie_id</th>\n",
       "      <th>creation_date</th>\n",
       "      <th>expiration_date</th>\n",
       "      <th>account_key_sender</th>\n",
       "      <th>voucher_used</th>\n",
       "      <th>email_hash_receiver</th>\n",
       "    </tr>\n",
       "  </thead>\n",
       "  <tbody>\n",
       "    <tr>\n",
       "      <th>0</th>\n",
       "      <td>1</td>\n",
       "      <td>476</td>\n",
       "      <td>2020-01-01</td>\n",
       "      <td>2020-01-31</td>\n",
       "      <td>68b8685cdb36f097528a01b41015c8a5f4766e1d5ef619...</td>\n",
       "      <td>1</td>\n",
       "      <td>338da97810604387739520be9bac3f8d4e686357e6e9ef...</td>\n",
       "    </tr>\n",
       "    <tr>\n",
       "      <th>1</th>\n",
       "      <td>2</td>\n",
       "      <td>319</td>\n",
       "      <td>2020-01-01</td>\n",
       "      <td>2020-01-31</td>\n",
       "      <td>4ef8153eea048568537a29b6429d65b35c30414b4ab753...</td>\n",
       "      <td>0</td>\n",
       "      <td>c19709fdf4628b8eb0746954b5edd57d1880cb17ac6bf8...</td>\n",
       "    </tr>\n",
       "    <tr>\n",
       "      <th>2</th>\n",
       "      <td>3</td>\n",
       "      <td>300</td>\n",
       "      <td>2020-01-02</td>\n",
       "      <td>2020-02-01</td>\n",
       "      <td>cbc315a9085a2ef1bf1fbe833069c87cb4b0913137ae8f...</td>\n",
       "      <td>0</td>\n",
       "      <td>22b0a84989d222bf683bc18ef6852f00de9f91d77f47ab...</td>\n",
       "    </tr>\n",
       "    <tr>\n",
       "      <th>3</th>\n",
       "      <td>4</td>\n",
       "      <td>586</td>\n",
       "      <td>2020-01-03</td>\n",
       "      <td>2020-02-02</td>\n",
       "      <td>3f4446380aadf0b86ee39820962d0d0c5824a782bed6b0...</td>\n",
       "      <td>1</td>\n",
       "      <td>88d1f0201ba08e0a578e66f236991c939ee01224654230...</td>\n",
       "    </tr>\n",
       "    <tr>\n",
       "      <th>4</th>\n",
       "      <td>5</td>\n",
       "      <td>585</td>\n",
       "      <td>2020-01-03</td>\n",
       "      <td>2020-02-02</td>\n",
       "      <td>6d45e9cb75dd7daaf7dddfb7c0b3fe762252954db15f63...</td>\n",
       "      <td>0</td>\n",
       "      <td>999c12ed0a20ed60440a91c2c57a236bd329859e8da19f...</td>\n",
       "    </tr>\n",
       "  </tbody>\n",
       "</table>\n",
       "</div>"
      ],
      "text/plain": [
       "   voucher_ID  movie_id creation_date expiration_date  \\\n",
       "0           1       476    2020-01-01      2020-01-31   \n",
       "1           2       319    2020-01-01      2020-01-31   \n",
       "2           3       300    2020-01-02      2020-02-01   \n",
       "3           4       586    2020-01-03      2020-02-02   \n",
       "4           5       585    2020-01-03      2020-02-02   \n",
       "\n",
       "                                  account_key_sender  voucher_used  \\\n",
       "0  68b8685cdb36f097528a01b41015c8a5f4766e1d5ef619...             1   \n",
       "1  4ef8153eea048568537a29b6429d65b35c30414b4ab753...             0   \n",
       "2  cbc315a9085a2ef1bf1fbe833069c87cb4b0913137ae8f...             0   \n",
       "3  3f4446380aadf0b86ee39820962d0d0c5824a782bed6b0...             1   \n",
       "4  6d45e9cb75dd7daaf7dddfb7c0b3fe762252954db15f63...             0   \n",
       "\n",
       "                                 email_hash_receiver  \n",
       "0  338da97810604387739520be9bac3f8d4e686357e6e9ef...  \n",
       "1  c19709fdf4628b8eb0746954b5edd57d1880cb17ac6bf8...  \n",
       "2  22b0a84989d222bf683bc18ef6852f00de9f91d77f47ab...  \n",
       "3  88d1f0201ba08e0a578e66f236991c939ee01224654230...  \n",
       "4  999c12ed0a20ed60440a91c2c57a236bd329859e8da19f...  "
      ]
     },
     "execution_count": 14,
     "metadata": {},
     "output_type": "execute_result"
    }
   ],
   "source": [
    "df_vouchers.head()"
   ]
  },
  {
   "cell_type": "code",
   "execution_count": 17,
   "metadata": {},
   "outputs": [
    {
     "data": {
      "text/plain": [
       "(7782, 7)"
      ]
     },
     "execution_count": 17,
     "metadata": {},
     "output_type": "execute_result"
    }
   ],
   "source": [
    "df_vouchers.shape"
   ]
  },
  {
   "cell_type": "code",
   "execution_count": 19,
   "metadata": {},
   "outputs": [
    {
     "data": {
      "text/html": [
       "<div>\n",
       "<style scoped>\n",
       "    .dataframe tbody tr th:only-of-type {\n",
       "        vertical-align: middle;\n",
       "    }\n",
       "\n",
       "    .dataframe tbody tr th {\n",
       "        vertical-align: top;\n",
       "    }\n",
       "\n",
       "    .dataframe thead th {\n",
       "        text-align: right;\n",
       "    }\n",
       "</style>\n",
       "<table border=\"1\" class=\"dataframe\">\n",
       "  <thead>\n",
       "    <tr style=\"text-align: right;\">\n",
       "      <th></th>\n",
       "      <th>voucher_ID</th>\n",
       "      <th>movie_id</th>\n",
       "      <th>creation_date</th>\n",
       "      <th>expiration_date</th>\n",
       "      <th>account_key_sender</th>\n",
       "      <th>email_hash_receiver</th>\n",
       "    </tr>\n",
       "    <tr>\n",
       "      <th>voucher_used</th>\n",
       "      <th></th>\n",
       "      <th></th>\n",
       "      <th></th>\n",
       "      <th></th>\n",
       "      <th></th>\n",
       "      <th></th>\n",
       "    </tr>\n",
       "  </thead>\n",
       "  <tbody>\n",
       "    <tr>\n",
       "      <th>0</th>\n",
       "      <td>3913</td>\n",
       "      <td>815</td>\n",
       "      <td>979</td>\n",
       "      <td>979</td>\n",
       "      <td>2030</td>\n",
       "      <td>3320</td>\n",
       "    </tr>\n",
       "    <tr>\n",
       "      <th>1</th>\n",
       "      <td>3869</td>\n",
       "      <td>824</td>\n",
       "      <td>973</td>\n",
       "      <td>972</td>\n",
       "      <td>1943</td>\n",
       "      <td>3053</td>\n",
       "    </tr>\n",
       "  </tbody>\n",
       "</table>\n",
       "</div>"
      ],
      "text/plain": [
       "              voucher_ID  movie_id  creation_date  expiration_date  \\\n",
       "voucher_used                                                         \n",
       "0                   3913       815            979              979   \n",
       "1                   3869       824            973              972   \n",
       "\n",
       "              account_key_sender  email_hash_receiver  \n",
       "voucher_used                                           \n",
       "0                           2030                 3320  \n",
       "1                           1943                 3053  "
      ]
     },
     "execution_count": 19,
     "metadata": {},
     "output_type": "execute_result"
    }
   ],
   "source": [
    "df_vouchers.groupby('voucher_used').nunique()"
   ]
  },
  {
   "cell_type": "code",
   "execution_count": 22,
   "metadata": {},
   "outputs": [
    {
     "data": {
      "text/plain": [
       "5827"
      ]
     },
     "execution_count": 22,
     "metadata": {},
     "output_type": "execute_result"
    }
   ],
   "source": [
    "df_vouchers.email_hash_receiver.nunique()"
   ]
  },
  {
   "cell_type": "code",
   "execution_count": 23,
   "metadata": {},
   "outputs": [
    {
     "data": {
      "text/plain": [
       "Timestamp('2020-01-01 00:00:00')"
      ]
     },
     "execution_count": 23,
     "metadata": {},
     "output_type": "execute_result"
    }
   ],
   "source": [
    "df_vouchers.creation_date.min()"
   ]
  },
  {
   "cell_type": "code",
   "execution_count": 24,
   "metadata": {},
   "outputs": [
    {
     "data": {
      "text/plain": [
       "Timestamp('2022-12-02 00:00:00')"
      ]
     },
     "execution_count": 24,
     "metadata": {},
     "output_type": "execute_result"
    }
   ],
   "source": [
    "df_vouchers.creation_date.max()"
   ]
  },
  {
   "cell_type": "code",
   "execution_count": null,
   "metadata": {},
   "outputs": [],
   "source": []
  }
 ],
 "metadata": {
  "kernelspec": {
   "display_name": "Python 3.9.13 ('nf_sql')",
   "language": "python",
   "name": "python3"
  },
  "language_info": {
   "codemirror_mode": {
    "name": "ipython",
    "version": 3
   },
   "file_extension": ".py",
   "mimetype": "text/x-python",
   "name": "python",
   "nbconvert_exporter": "python",
   "pygments_lexer": "ipython3",
   "version": "3.9.13 (main, Aug 25 2022, 18:24:45) \n[Clang 12.0.0 ]"
  },
  "orig_nbformat": 4,
  "vscode": {
   "interpreter": {
    "hash": "a81d278bed5b5b59425dcb5a82ce505657686243c184b4a6b67e69d01c4d432e"
   }
  }
 },
 "nbformat": 4,
 "nbformat_minor": 2
}
