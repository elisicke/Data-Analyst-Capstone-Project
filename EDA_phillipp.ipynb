{
 "cells": [
  {
   "cell_type": "code",
   "execution_count": 1,
   "metadata": {},
   "outputs": [],
   "source": [
    "import pandas as pd\n",
    "import numpy as np\n",
    "\n",
    "# define the name of the csv file you want to read in\n",
    "accounts = './data/accounts.csv'\n",
    "playbacks = './data/playbacks.csv'\n",
    "subscriptions = './data/subscriptions.csv'"
   ]
  },
  {
   "cell_type": "markdown",
   "metadata": {},
   "source": [
    "# EDA part"
   ]
  },
  {
   "cell_type": "code",
   "execution_count": 2,
   "metadata": {},
   "outputs": [],
   "source": [
    "import sql_functions as sf\n",
    "schema = 'capstone_filmingo'"
   ]
  },
  {
   "cell_type": "markdown",
   "metadata": {},
   "source": [
    "# One Time Rentals per account"
   ]
  },
  {
   "cell_type": "code",
   "execution_count": 59,
   "metadata": {},
   "outputs": [
    {
     "data": {
      "text/html": [
       "<div>\n",
       "<style scoped>\n",
       "    .dataframe tbody tr th:only-of-type {\n",
       "        vertical-align: middle;\n",
       "    }\n",
       "\n",
       "    .dataframe tbody tr th {\n",
       "        vertical-align: top;\n",
       "    }\n",
       "\n",
       "    .dataframe thead th {\n",
       "        text-align: right;\n",
       "    }\n",
       "</style>\n",
       "<table border=\"1\" class=\"dataframe\">\n",
       "  <thead>\n",
       "    <tr style=\"text-align: right;\">\n",
       "      <th></th>\n",
       "      <th>account</th>\n",
       "      <th>otr</th>\n",
       "    </tr>\n",
       "  </thead>\n",
       "  <tbody>\n",
       "    <tr>\n",
       "      <th>0</th>\n",
       "      <td>aa298339b2c79e93e2871ecdf517df6c993ae3c557a519...</td>\n",
       "      <td>106</td>\n",
       "    </tr>\n",
       "    <tr>\n",
       "      <th>1</th>\n",
       "      <td>42b776449a9d166d06a7f34eda552304d88179fd120243...</td>\n",
       "      <td>79</td>\n",
       "    </tr>\n",
       "    <tr>\n",
       "      <th>2</th>\n",
       "      <td>16b4d103c282b05e48cc0c7f6e61ec38849e274cd7113e...</td>\n",
       "      <td>65</td>\n",
       "    </tr>\n",
       "    <tr>\n",
       "      <th>3</th>\n",
       "      <td>cef71c8f362d72769a1d6efbcb6893fc2870ca432580f3...</td>\n",
       "      <td>61</td>\n",
       "    </tr>\n",
       "    <tr>\n",
       "      <th>4</th>\n",
       "      <td>ee09fd72149823ebdaf43c9dcc26a56ee9df0e65a5f7ff...</td>\n",
       "      <td>57</td>\n",
       "    </tr>\n",
       "    <tr>\n",
       "      <th>5</th>\n",
       "      <td>c4bfd142de9f35ca9693f74546f41c1d3b08f8f0935e3a...</td>\n",
       "      <td>53</td>\n",
       "    </tr>\n",
       "    <tr>\n",
       "      <th>6</th>\n",
       "      <td>04625fa886f8a78d7448906288532213a7d2fd944e4ddc...</td>\n",
       "      <td>52</td>\n",
       "    </tr>\n",
       "    <tr>\n",
       "      <th>7</th>\n",
       "      <td>fe7ad6aadb0c162176d44e930ae89a11bccccc6dfc1d0a...</td>\n",
       "      <td>52</td>\n",
       "    </tr>\n",
       "    <tr>\n",
       "      <th>8</th>\n",
       "      <td>67259cdf01114462ed9edcb6ecb645ed90babf871ef156...</td>\n",
       "      <td>51</td>\n",
       "    </tr>\n",
       "    <tr>\n",
       "      <th>9</th>\n",
       "      <td>89bdbeafc7bf9171186e733e54209babecbb0586def022...</td>\n",
       "      <td>51</td>\n",
       "    </tr>\n",
       "  </tbody>\n",
       "</table>\n",
       "</div>"
      ],
      "text/plain": [
       "                                             account  otr\n",
       "0  aa298339b2c79e93e2871ecdf517df6c993ae3c557a519...  106\n",
       "1  42b776449a9d166d06a7f34eda552304d88179fd120243...   79\n",
       "2  16b4d103c282b05e48cc0c7f6e61ec38849e274cd7113e...   65\n",
       "3  cef71c8f362d72769a1d6efbcb6893fc2870ca432580f3...   61\n",
       "4  ee09fd72149823ebdaf43c9dcc26a56ee9df0e65a5f7ff...   57\n",
       "5  c4bfd142de9f35ca9693f74546f41c1d3b08f8f0935e3a...   53\n",
       "6  04625fa886f8a78d7448906288532213a7d2fd944e4ddc...   52\n",
       "7  fe7ad6aadb0c162176d44e930ae89a11bccccc6dfc1d0a...   52\n",
       "8  67259cdf01114462ed9edcb6ecb645ed90babf871ef156...   51\n",
       "9  89bdbeafc7bf9171186e733e54209babecbb0586def022...   51"
      ]
     },
     "execution_count": 59,
     "metadata": {},
     "output_type": "execute_result"
    }
   ],
   "source": [
    "sf.get_dataframe(f'SELECT account_key as account, onetime_rental_count as otr FROM {schema}.accounts ORDER BY otr DESC').head(10)"
   ]
  },
  {
   "cell_type": "code",
   "execution_count": 117,
   "metadata": {},
   "outputs": [
    {
     "data": {
      "text/plain": [
       "account_key    22154\n",
       "dtype: int64"
      ]
     },
     "metadata": {},
     "output_type": "display_data"
    },
    {
     "data": {
      "text/html": [
       "<div>\n",
       "<style scoped>\n",
       "    .dataframe tbody tr th:only-of-type {\n",
       "        vertical-align: middle;\n",
       "    }\n",
       "\n",
       "    .dataframe tbody tr th {\n",
       "        vertical-align: top;\n",
       "    }\n",
       "\n",
       "    .dataframe thead th {\n",
       "        text-align: right;\n",
       "    }\n",
       "</style>\n",
       "<table border=\"1\" class=\"dataframe\">\n",
       "  <thead>\n",
       "    <tr style=\"text-align: right;\">\n",
       "      <th></th>\n",
       "      <th>sum</th>\n",
       "    </tr>\n",
       "  </thead>\n",
       "  <tbody>\n",
       "    <tr>\n",
       "      <th>0</th>\n",
       "      <td>28810.0</td>\n",
       "    </tr>\n",
       "  </tbody>\n",
       "</table>\n",
       "</div>"
      ],
      "text/plain": [
       "       sum\n",
       "0  28810.0"
      ]
     },
     "metadata": {},
     "output_type": "display_data"
    },
    {
     "data": {
      "text/plain": [
       "account_key    10242\n",
       "dtype: int64"
      ]
     },
     "metadata": {},
     "output_type": "display_data"
    },
    {
     "data": {
      "text/plain": [
       "account_key    11912\n",
       "dtype: int64"
      ]
     },
     "metadata": {},
     "output_type": "display_data"
    }
   ],
   "source": [
    "# Sum of accounts -> 22.154\n",
    "display(sf.get_dataframe(f'SELECT account_key FROM {schema}.accounts').count())\n",
    "\n",
    "# Sum of otr -> 28.810\n",
    "display(sf.get_dataframe(f'SELECT SUM(onetime_rental_count) FROM {schema}.accounts'))\n",
    "\n",
    "# Sum of accounts with otr -> 10.242\n",
    "display(sf.get_dataframe(f'SELECT account_key FROM {schema}.accounts WHERE onetime_rental_count > 0').count())\n",
    "\n",
    "# Sum of accounts without otr -> 11.912\n",
    "display(sf.get_dataframe(f'SELECT account_key FROM {schema}.accounts WHERE onetime_rental_count = 0').count())\n"
   ]
  },
  {
   "cell_type": "code",
   "execution_count": 60,
   "metadata": {},
   "outputs": [
    {
     "data": {
      "text/plain": [
       "<AxesSubplot:title={'center':'One Time Rentals per account'}, ylabel='Frequency'>"
      ]
     },
     "execution_count": 60,
     "metadata": {},
     "output_type": "execute_result"
    },
    {
     "data": {
      "image/png": "[encoded data removed]",
      "text/plain": [
       "<Figure size 640x480 with 1 Axes>"
      ]
     },
     "metadata": {},
     "output_type": "display_data"
    }
   ],
   "source": [
    "sf.get_dataframe(f'SELECT account_key as account, onetime_rental_count as otr FROM {schema}.accounts ORDER BY otr DESC').plot(kind=\"hist\", title=\"One Time Rentals per account\")"
   ]
  },
  {
   "cell_type": "code",
   "execution_count": 47,
   "metadata": {},
   "outputs": [
    {
     "data": {
      "text/plain": [
       "<AxesSubplot:title={'center':'One Time Rentals per account'}>"
      ]
     },
     "execution_count": 47,
     "metadata": {},
     "output_type": "execute_result"
    },
    {
     "data": {
      "image/png": "[encoded data removed]",
      "text/plain": [
       "<Figure size 640x480 with 1 Axes>"
      ]
     },
     "metadata": {},
     "output_type": "display_data"
    }
   ],
   "source": [
    "sf.get_dataframe(f'SELECT account_key as account, onetime_rental_count as otr FROM {schema}.accounts ORDER BY otr DESC').plot(kind=\"box\", title=\"One Time Rentals per account\")"
   ]
  },
  {
   "cell_type": "code",
   "execution_count": 57,
   "metadata": {},
   "outputs": [
    {
     "data": {
      "text/plain": [
       "<AxesSubplot:title={'center':'One Time Rentals per account'}>"
      ]
     },
     "execution_count": 57,
     "metadata": {},
     "output_type": "execute_result"
    },
    {
     "data": {
      "image/png": "[encoded data removed]",
      "text/plain": [
       "<Figure size 640x480 with 1 Axes>"
      ]
     },
     "metadata": {},
     "output_type": "display_data"
    }
   ],
   "source": [
    "# otr =< 20\n",
    "sf.get_dataframe(f'SELECT account_key as account, onetime_rental_count as otr FROM {schema}.accounts WHERE onetime_rental_count <= 20 ORDER BY otr DESC').plot(kind=\"box\", title=\"One Time Rentals per account\")"
   ]
  },
  {
   "cell_type": "code",
   "execution_count": 58,
   "metadata": {},
   "outputs": [
    {
     "data": {
      "text/plain": [
       "<AxesSubplot:title={'center':'One Time Rentals per account'}, ylabel='Frequency'>"
      ]
     },
     "execution_count": 58,
     "metadata": {},
     "output_type": "execute_result"
    },
    {
     "data": {
      "image/png": "[encoded data removed]",
      "text/plain": [
       "<Figure size 640x480 with 1 Axes>"
      ]
     },
     "metadata": {},
     "output_type": "display_data"
    }
   ],
   "source": [
    "sf.get_dataframe(f'SELECT account_key as account, onetime_rental_count as otr FROM {schema}.accounts WHERE onetime_rental_count <= 20 ORDER BY otr DESC').plot(kind=\"hist\", title=\"One Time Rentals per account\")"
   ]
  },
  {
   "cell_type": "markdown",
   "metadata": {},
   "source": [
    "# Subscriptions per account"
   ]
  },
  {
   "cell_type": "code",
   "execution_count": 22,
   "metadata": {},
   "outputs": [
    {
     "data": {
      "text/html": [
       "<div>\n",
       "<style scoped>\n",
       "    .dataframe tbody tr th:only-of-type {\n",
       "        vertical-align: middle;\n",
       "    }\n",
       "\n",
       "    .dataframe tbody tr th {\n",
       "        vertical-align: top;\n",
       "    }\n",
       "\n",
       "    .dataframe thead th {\n",
       "        text-align: right;\n",
       "    }\n",
       "</style>\n",
       "<table border=\"1\" class=\"dataframe\">\n",
       "  <thead>\n",
       "    <tr style=\"text-align: right;\">\n",
       "      <th></th>\n",
       "      <th>account</th>\n",
       "      <th>subscription_count</th>\n",
       "    </tr>\n",
       "  </thead>\n",
       "  <tbody>\n",
       "    <tr>\n",
       "      <th>0</th>\n",
       "      <td>8759014b63622e41a8edd901bfb0103869e1b6ad4f84c0...</td>\n",
       "      <td>13</td>\n",
       "    </tr>\n",
       "    <tr>\n",
       "      <th>1</th>\n",
       "      <td>e68bcd0a3a85ea97e852cba9c52f99ccdd357107fd6a90...</td>\n",
       "      <td>12</td>\n",
       "    </tr>\n",
       "    <tr>\n",
       "      <th>2</th>\n",
       "      <td>d79211be99d395f2423e42a53a821c77194a550be276f5...</td>\n",
       "      <td>11</td>\n",
       "    </tr>\n",
       "    <tr>\n",
       "      <th>3</th>\n",
       "      <td>f3ead1714de04f244091ba535ef5627c91e928827ef7c9...</td>\n",
       "      <td>9</td>\n",
       "    </tr>\n",
       "    <tr>\n",
       "      <th>4</th>\n",
       "      <td>1403a526e538b1a2a95bd0893a9d53711e53bb028278ab...</td>\n",
       "      <td>8</td>\n",
       "    </tr>\n",
       "    <tr>\n",
       "      <th>5</th>\n",
       "      <td>0ac9ed59984af30673220a6591c0d5a470568297c929c6...</td>\n",
       "      <td>8</td>\n",
       "    </tr>\n",
       "    <tr>\n",
       "      <th>6</th>\n",
       "      <td>1af244ebadbaa90e7a2defd77c18039513b9687b9a711d...</td>\n",
       "      <td>8</td>\n",
       "    </tr>\n",
       "    <tr>\n",
       "      <th>7</th>\n",
       "      <td>4e1b1c949153de8a36ca7f9406dd3a7e8398d232061a29...</td>\n",
       "      <td>8</td>\n",
       "    </tr>\n",
       "    <tr>\n",
       "      <th>8</th>\n",
       "      <td>dca82766503db508e6314cdff4f4e3b376847a8cbcfef6...</td>\n",
       "      <td>8</td>\n",
       "    </tr>\n",
       "    <tr>\n",
       "      <th>9</th>\n",
       "      <td>6645ba85f8e055e914a6efd76e44a5ae2934cbc6a032c4...</td>\n",
       "      <td>8</td>\n",
       "    </tr>\n",
       "  </tbody>\n",
       "</table>\n",
       "</div>"
      ],
      "text/plain": [
       "                                             account  subscription_count\n",
       "0  8759014b63622e41a8edd901bfb0103869e1b6ad4f84c0...                  13\n",
       "1  e68bcd0a3a85ea97e852cba9c52f99ccdd357107fd6a90...                  12\n",
       "2  d79211be99d395f2423e42a53a821c77194a550be276f5...                  11\n",
       "3  f3ead1714de04f244091ba535ef5627c91e928827ef7c9...                   9\n",
       "4  1403a526e538b1a2a95bd0893a9d53711e53bb028278ab...                   8\n",
       "5  0ac9ed59984af30673220a6591c0d5a470568297c929c6...                   8\n",
       "6  1af244ebadbaa90e7a2defd77c18039513b9687b9a711d...                   8\n",
       "7  4e1b1c949153de8a36ca7f9406dd3a7e8398d232061a29...                   8\n",
       "8  dca82766503db508e6314cdff4f4e3b376847a8cbcfef6...                   8\n",
       "9  6645ba85f8e055e914a6efd76e44a5ae2934cbc6a032c4...                   8"
      ]
     },
     "execution_count": 22,
     "metadata": {},
     "output_type": "execute_result"
    }
   ],
   "source": [
    "sf.get_dataframe(f' SELECT account_key as account, subscription_count FROM {schema}.accounts ORDER BY subscription_count DESC').head(10)"
   ]
  },
  {
   "cell_type": "code",
   "execution_count": 102,
   "metadata": {},
   "outputs": [
    {
     "data": {
      "text/plain": [
       "<AxesSubplot:title={'center':'Subscriptions per account'}, ylabel='Frequency'>"
      ]
     },
     "execution_count": 102,
     "metadata": {},
     "output_type": "execute_result"
    },
    {
     "data": {
      "image/png": "[encoded data removed]",
      "text/plain": [
       "<Figure size 640x480 with 1 Axes>"
      ]
     },
     "metadata": {},
     "output_type": "display_data"
    }
   ],
   "source": [
    "sf.get_dataframe(f' SELECT account_key as account, subscription_count FROM {schema}.accounts ORDER BY subscription_count DESC').plot(kind=\"hist\", title=\"Subscriptions per account\")"
   ]
  },
  {
   "cell_type": "code",
   "execution_count": 65,
   "metadata": {},
   "outputs": [
    {
     "data": {
      "text/plain": [
       "<AxesSubplot:title={'center':'Subscriptions per account'}>"
      ]
     },
     "execution_count": 65,
     "metadata": {},
     "output_type": "execute_result"
    },
    {
     "data": {
      "image/png": "[encoded data removed]",
      "text/plain": [
       "<Figure size 640x480 with 1 Axes>"
      ]
     },
     "metadata": {},
     "output_type": "display_data"
    }
   ],
   "source": [
    "sf.get_dataframe(f' SELECT account_key as account, subscription_count FROM {schema}.accounts ORDER BY subscription_count DESC').plot(kind=\"box\", title=\"Subscriptions per account\")"
   ]
  },
  {
   "cell_type": "code",
   "execution_count": 64,
   "metadata": {},
   "outputs": [
    {
     "data": {
      "text/plain": [
       "<AxesSubplot:title={'center':'Subscriptions per account'}, ylabel='Frequency'>"
      ]
     },
     "execution_count": 64,
     "metadata": {},
     "output_type": "execute_result"
    },
    {
     "data": {
      "image/png": "[encoded data removed]",
      "text/plain": [
       "<Figure size 640x480 with 1 Axes>"
      ]
     },
     "metadata": {},
     "output_type": "display_data"
    }
   ],
   "source": [
    "sf.get_dataframe(f' SELECT account_key as account, subscription_count FROM {schema}.accounts WHERE subscription_count <= 5 ORDER BY subscription_count DESC').plot(kind=\"hist\", title=\"Subscriptions per account\")"
   ]
  },
  {
   "cell_type": "code",
   "execution_count": null,
   "metadata": {},
   "outputs": [],
   "source": [
    "# scatter failed\n",
    "# sf.get_dataframe(f' SELECT account_key as account, subscription_count FROM {schema}.accounts ORDER BY subscription_count DESC').plot.scatter(x=\"account\", y=\"subscription_count\", title=\"Subscriptions per account\")"
   ]
  },
  {
   "cell_type": "markdown",
   "metadata": {},
   "source": [
    "# OTR of accounts without subscription"
   ]
  },
  {
   "cell_type": "code",
   "execution_count": 68,
   "metadata": {},
   "outputs": [
    {
     "data": {
      "text/plain": [
       "<AxesSubplot:title={'center':'One Time Rentals of accounts without sub'}, ylabel='Frequency'>"
      ]
     },
     "execution_count": 68,
     "metadata": {},
     "output_type": "execute_result"
    },
    {
     "data": {
      "image/png": "[encoded data removed]",
      "text/plain": [
       "<Figure size 640x480 with 1 Axes>"
      ]
     },
     "metadata": {},
     "output_type": "display_data"
    }
   ],
   "source": [
    "sf.get_dataframe(f'SELECT account_key as account, onetime_rental_count as otr FROM {schema}.accounts WHERE subscription_count = 0 ORDER BY otr DESC').plot(kind=\"hist\", title=\"One Time Rentals of accounts without sub\")"
   ]
  },
  {
   "cell_type": "code",
   "execution_count": 104,
   "metadata": {},
   "outputs": [
    {
     "data": {
      "text/plain": [
       "<AxesSubplot:title={'center':'One Time Rentals of accounts without sub'}, ylabel='Frequency'>"
      ]
     },
     "execution_count": 104,
     "metadata": {},
     "output_type": "execute_result"
    },
    {
     "data": {
      "image/png": "[encoded data removed]",
      "text/plain": [
       "<Figure size 640x480 with 1 Axes>"
      ]
     },
     "metadata": {},
     "output_type": "display_data"
    }
   ],
   "source": [
    "sf.get_dataframe(f'SELECT account_key as account, onetime_rental_count as otr FROM {schema}.accounts WHERE (subscription_count = 0 and onetime_rental_count <= 20) ORDER BY otr DESC').plot(kind=\"hist\", title=\"One Time Rentals of accounts without sub\")"
   ]
  },
  {
   "cell_type": "markdown",
   "metadata": {},
   "source": [
    "# Accounts without sub AND without otr"
   ]
  },
  {
   "cell_type": "code",
   "execution_count": 83,
   "metadata": {},
   "outputs": [
    {
     "data": {
      "text/plain": [
       "5040"
      ]
     },
     "execution_count": 83,
     "metadata": {},
     "output_type": "execute_result"
    }
   ],
   "source": [
    "nosub_nootr_df = sf.get_dataframe(f'SELECT * FROM {schema}.accounts WHERE (subscription_count = 0 AND onetime_rental_count =0)')\n",
    "nosub_nootr_df.account_key.count()"
   ]
  },
  {
   "cell_type": "code",
   "execution_count": 101,
   "metadata": {},
   "outputs": [
    {
     "data": {
      "text/plain": [
       "account_key             5040\n",
       "city_original           5033\n",
       "language                5040\n",
       "country_code            5039\n",
       "email_hash              5040\n",
       "onetime_rental_count    5040\n",
       "subscription_count      5040\n",
       "postal_code_clean       5040\n",
       "city_clean              3889\n",
       "state                   3889\n",
       "language_code           2984\n",
       "country_name            5038\n",
       "region                  5038\n",
       "sub_region              5038\n",
       "voucher_used              85\n",
       "dtype: int64"
      ]
     },
     "execution_count": 101,
     "metadata": {},
     "output_type": "execute_result"
    }
   ],
   "source": [
    "nosub_nootr_df.count()\n",
    "\n",
    "#4960 values voucher_used NaN"
   ]
  },
  {
   "cell_type": "markdown",
   "metadata": {},
   "source": [
    "# Total playbacks per year"
   ]
  },
  {
   "cell_type": "code",
   "execution_count": 24,
   "metadata": {},
   "outputs": [
    {
     "data": {
      "text/html": [
       "<div>\n",
       "<style scoped>\n",
       "    .dataframe tbody tr th:only-of-type {\n",
       "        vertical-align: middle;\n",
       "    }\n",
       "\n",
       "    .dataframe tbody tr th {\n",
       "        vertical-align: top;\n",
       "    }\n",
       "\n",
       "    .dataframe thead th {\n",
       "        text-align: right;\n",
       "    }\n",
       "</style>\n",
       "<table border=\"1\" class=\"dataframe\">\n",
       "  <thead>\n",
       "    <tr style=\"text-align: right;\">\n",
       "      <th></th>\n",
       "      <th>year</th>\n",
       "      <th>account</th>\n",
       "      <th>playbacks</th>\n",
       "    </tr>\n",
       "  </thead>\n",
       "  <tbody>\n",
       "    <tr>\n",
       "      <th>0</th>\n",
       "      <td>2021.0</td>\n",
       "      <td>fc80bc77fae4e313b95eba3c416b5be51693f824e8cda5...</td>\n",
       "      <td>1</td>\n",
       "    </tr>\n",
       "    <tr>\n",
       "      <th>1</th>\n",
       "      <td>2020.0</td>\n",
       "      <td>49af49f5cdbc08cca082318f55a01020b5bf8e71bfed7e...</td>\n",
       "      <td>2</td>\n",
       "    </tr>\n",
       "    <tr>\n",
       "      <th>2</th>\n",
       "      <td>2020.0</td>\n",
       "      <td>da971c64fb4ccc015562372b6d48c0b6c28877616ca92e...</td>\n",
       "      <td>9</td>\n",
       "    </tr>\n",
       "    <tr>\n",
       "      <th>3</th>\n",
       "      <td>2020.0</td>\n",
       "      <td>effdccc671dcd2fe6e94e0f526a01c2b94a242ab33822e...</td>\n",
       "      <td>5</td>\n",
       "    </tr>\n",
       "    <tr>\n",
       "      <th>4</th>\n",
       "      <td>2022.0</td>\n",
       "      <td>6d1d5dbd3ab80281aaafb1899776a0be92d6c657692545...</td>\n",
       "      <td>8</td>\n",
       "    </tr>\n",
       "    <tr>\n",
       "      <th>5</th>\n",
       "      <td>2021.0</td>\n",
       "      <td>f764485b3791c2293103febdc436ebf647b71e1a85d172...</td>\n",
       "      <td>40</td>\n",
       "    </tr>\n",
       "    <tr>\n",
       "      <th>6</th>\n",
       "      <td>2020.0</td>\n",
       "      <td>d90f1c672cc16de692b7c489a35f4a33b3f892322e096d...</td>\n",
       "      <td>2</td>\n",
       "    </tr>\n",
       "    <tr>\n",
       "      <th>7</th>\n",
       "      <td>2021.0</td>\n",
       "      <td>1c68fecd95389f79141e3bc4a9784b5e80481f98880a22...</td>\n",
       "      <td>5</td>\n",
       "    </tr>\n",
       "    <tr>\n",
       "      <th>8</th>\n",
       "      <td>2021.0</td>\n",
       "      <td>dd22776544a1eb06f83c99edf3184dc7a57aa5d5c4f36b...</td>\n",
       "      <td>6</td>\n",
       "    </tr>\n",
       "    <tr>\n",
       "      <th>9</th>\n",
       "      <td>2021.0</td>\n",
       "      <td>5390d849c25d7befd3be566d31628fcd3baff552f1725f...</td>\n",
       "      <td>5</td>\n",
       "    </tr>\n",
       "    <tr>\n",
       "      <th>10</th>\n",
       "      <td>2022.0</td>\n",
       "      <td>721bc560fb57787823e2db38d1e23aab4ec7c4b8706aad...</td>\n",
       "      <td>1</td>\n",
       "    </tr>\n",
       "    <tr>\n",
       "      <th>11</th>\n",
       "      <td>2020.0</td>\n",
       "      <td>2a7cc23438ab07176e79d38d6cab7371e62939aa152122...</td>\n",
       "      <td>3</td>\n",
       "    </tr>\n",
       "    <tr>\n",
       "      <th>12</th>\n",
       "      <td>2021.0</td>\n",
       "      <td>48761f0ac15866e1d437a20015d104e3c09658cf04d766...</td>\n",
       "      <td>10</td>\n",
       "    </tr>\n",
       "    <tr>\n",
       "      <th>13</th>\n",
       "      <td>2022.0</td>\n",
       "      <td>058ff50aaf30380105e10faad49de4869e70f9ebe282d3...</td>\n",
       "      <td>1</td>\n",
       "    </tr>\n",
       "    <tr>\n",
       "      <th>14</th>\n",
       "      <td>2021.0</td>\n",
       "      <td>402765e8189501f3a18ee5af527ae52108a0834f40b75a...</td>\n",
       "      <td>7</td>\n",
       "    </tr>\n",
       "  </tbody>\n",
       "</table>\n",
       "</div>"
      ],
      "text/plain": [
       "      year                                            account  playbacks\n",
       "0   2021.0  fc80bc77fae4e313b95eba3c416b5be51693f824e8cda5...          1\n",
       "1   2020.0  49af49f5cdbc08cca082318f55a01020b5bf8e71bfed7e...          2\n",
       "2   2020.0  da971c64fb4ccc015562372b6d48c0b6c28877616ca92e...          9\n",
       "3   2020.0  effdccc671dcd2fe6e94e0f526a01c2b94a242ab33822e...          5\n",
       "4   2022.0  6d1d5dbd3ab80281aaafb1899776a0be92d6c657692545...          8\n",
       "5   2021.0  f764485b3791c2293103febdc436ebf647b71e1a85d172...         40\n",
       "6   2020.0  d90f1c672cc16de692b7c489a35f4a33b3f892322e096d...          2\n",
       "7   2021.0  1c68fecd95389f79141e3bc4a9784b5e80481f98880a22...          5\n",
       "8   2021.0  dd22776544a1eb06f83c99edf3184dc7a57aa5d5c4f36b...          6\n",
       "9   2021.0  5390d849c25d7befd3be566d31628fcd3baff552f1725f...          5\n",
       "10  2022.0  721bc560fb57787823e2db38d1e23aab4ec7c4b8706aad...          1\n",
       "11  2020.0  2a7cc23438ab07176e79d38d6cab7371e62939aa152122...          3\n",
       "12  2021.0  48761f0ac15866e1d437a20015d104e3c09658cf04d766...         10\n",
       "13  2022.0  058ff50aaf30380105e10faad49de4869e70f9ebe282d3...          1\n",
       "14  2021.0  402765e8189501f3a18ee5af527ae52108a0834f40b75a...          7"
      ]
     },
     "execution_count": 24,
     "metadata": {},
     "output_type": "execute_result"
    }
   ],
   "source": [
    "sf.get_dataframe(f'SELECT EXTRACT(year FROM date_start) as year, account_key as account, count(*) as playbacks FROM {schema}.playbacks GROUP BY account, EXTRACT(year FROM date_start)').head(15)"
   ]
  },
  {
   "cell_type": "code",
   "execution_count": 37,
   "metadata": {},
   "outputs": [
    {
     "data": {
      "text/html": [
       "<div>\n",
       "<style scoped>\n",
       "    .dataframe tbody tr th:only-of-type {\n",
       "        vertical-align: middle;\n",
       "    }\n",
       "\n",
       "    .dataframe tbody tr th {\n",
       "        vertical-align: top;\n",
       "    }\n",
       "\n",
       "    .dataframe thead th {\n",
       "        text-align: right;\n",
       "    }\n",
       "</style>\n",
       "<table border=\"1\" class=\"dataframe\">\n",
       "  <thead>\n",
       "    <tr style=\"text-align: right;\">\n",
       "      <th></th>\n",
       "      <th>account</th>\n",
       "      <th>playbacks</th>\n",
       "    </tr>\n",
       "  </thead>\n",
       "  <tbody>\n",
       "    <tr>\n",
       "      <th>0</th>\n",
       "      <td>de49489fa053e641358832f3828c51d4caacd4b5bce4fa...</td>\n",
       "      <td>1</td>\n",
       "    </tr>\n",
       "    <tr>\n",
       "      <th>1</th>\n",
       "      <td>408242031892d461f1f3c487e5c8ccc9b3f89b7ed66a6f...</td>\n",
       "      <td>1</td>\n",
       "    </tr>\n",
       "    <tr>\n",
       "      <th>2</th>\n",
       "      <td>e3115a13e7669baba96076f8d1a2b164334aea99ef1819...</td>\n",
       "      <td>1</td>\n",
       "    </tr>\n",
       "    <tr>\n",
       "      <th>3</th>\n",
       "      <td>9d417f54b0e5d43b32614c1e049abb751aafc1c5e0ac77...</td>\n",
       "      <td>3</td>\n",
       "    </tr>\n",
       "    <tr>\n",
       "      <th>4</th>\n",
       "      <td>484ab44828d615bef381035ff9501bb5f4ea97343ee35d...</td>\n",
       "      <td>5</td>\n",
       "    </tr>\n",
       "    <tr>\n",
       "      <th>5</th>\n",
       "      <td>5e40fb03ed1bbcf37703c64e106100735f5df7a40f1c44...</td>\n",
       "      <td>3</td>\n",
       "    </tr>\n",
       "    <tr>\n",
       "      <th>6</th>\n",
       "      <td>050917ccf8145b58bba593198705ff7798e4b21baee029...</td>\n",
       "      <td>2</td>\n",
       "    </tr>\n",
       "    <tr>\n",
       "      <th>7</th>\n",
       "      <td>c8f1275b3efabce9b339b3dcc31323a1a5e8c8af820eaa...</td>\n",
       "      <td>1</td>\n",
       "    </tr>\n",
       "    <tr>\n",
       "      <th>8</th>\n",
       "      <td>725e1a6527ab0c731c3097da3439f1522b56353190f87b...</td>\n",
       "      <td>14</td>\n",
       "    </tr>\n",
       "    <tr>\n",
       "      <th>9</th>\n",
       "      <td>e5f9d393069001ac1ea9fbc764a391502e247a903fd7c7...</td>\n",
       "      <td>2</td>\n",
       "    </tr>\n",
       "    <tr>\n",
       "      <th>10</th>\n",
       "      <td>545271bcf3839c94393c295707e3a4064c87f62e1b7b9d...</td>\n",
       "      <td>4</td>\n",
       "    </tr>\n",
       "    <tr>\n",
       "      <th>11</th>\n",
       "      <td>f83a8ad7ec1b5b309876c467c30f9016af5378f9514321...</td>\n",
       "      <td>1</td>\n",
       "    </tr>\n",
       "    <tr>\n",
       "      <th>12</th>\n",
       "      <td>0b1319e58b439088cfde474c2f0a834b20570ab4e17358...</td>\n",
       "      <td>2</td>\n",
       "    </tr>\n",
       "    <tr>\n",
       "      <th>13</th>\n",
       "      <td>b0fa105cd829fb4d81e653813937e1b7db11c25484e2fd...</td>\n",
       "      <td>1</td>\n",
       "    </tr>\n",
       "    <tr>\n",
       "      <th>14</th>\n",
       "      <td>843c4af861a13ff4a6805c7d1a9dc605f5a249625da74c...</td>\n",
       "      <td>3</td>\n",
       "    </tr>\n",
       "  </tbody>\n",
       "</table>\n",
       "</div>"
      ],
      "text/plain": [
       "                                              account  playbacks\n",
       "0   de49489fa053e641358832f3828c51d4caacd4b5bce4fa...          1\n",
       "1   408242031892d461f1f3c487e5c8ccc9b3f89b7ed66a6f...          1\n",
       "2   e3115a13e7669baba96076f8d1a2b164334aea99ef1819...          1\n",
       "3   9d417f54b0e5d43b32614c1e049abb751aafc1c5e0ac77...          3\n",
       "4   484ab44828d615bef381035ff9501bb5f4ea97343ee35d...          5\n",
       "5   5e40fb03ed1bbcf37703c64e106100735f5df7a40f1c44...          3\n",
       "6   050917ccf8145b58bba593198705ff7798e4b21baee029...          2\n",
       "7   c8f1275b3efabce9b339b3dcc31323a1a5e8c8af820eaa...          1\n",
       "8   725e1a6527ab0c731c3097da3439f1522b56353190f87b...         14\n",
       "9   e5f9d393069001ac1ea9fbc764a391502e247a903fd7c7...          2\n",
       "10  545271bcf3839c94393c295707e3a4064c87f62e1b7b9d...          4\n",
       "11  f83a8ad7ec1b5b309876c467c30f9016af5378f9514321...          1\n",
       "12  0b1319e58b439088cfde474c2f0a834b20570ab4e17358...          2\n",
       "13  b0fa105cd829fb4d81e653813937e1b7db11c25484e2fd...          1\n",
       "14  843c4af861a13ff4a6805c7d1a9dc605f5a249625da74c...          3"
      ]
     },
     "execution_count": 37,
     "metadata": {},
     "output_type": "execute_result"
    }
   ],
   "source": [
    "sf.get_dataframe(f\"SELECT account_key as account, count(*) as playbacks FROM {schema}.playbacks WHERE date_start BETWEEN '01-10-2020' and '01-10-2021' GROUP BY account\").head(15)"
   ]
  },
  {
   "cell_type": "code",
   "execution_count": 156,
   "metadata": {},
   "outputs": [
    {
     "data": {
      "text/html": [
       "<div>\n",
       "<style scoped>\n",
       "    .dataframe tbody tr th:only-of-type {\n",
       "        vertical-align: middle;\n",
       "    }\n",
       "\n",
       "    .dataframe tbody tr th {\n",
       "        vertical-align: top;\n",
       "    }\n",
       "\n",
       "    .dataframe thead th {\n",
       "        text-align: right;\n",
       "    }\n",
       "</style>\n",
       "<table border=\"1\" class=\"dataframe\">\n",
       "  <thead>\n",
       "    <tr style=\"text-align: right;\">\n",
       "      <th></th>\n",
       "      <th>year</th>\n",
       "      <th>playbacks</th>\n",
       "    </tr>\n",
       "  </thead>\n",
       "  <tbody>\n",
       "    <tr>\n",
       "      <th>0</th>\n",
       "      <td>2020.0</td>\n",
       "      <td>18928</td>\n",
       "    </tr>\n",
       "    <tr>\n",
       "      <th>1</th>\n",
       "      <td>2021.0</td>\n",
       "      <td>80727</td>\n",
       "    </tr>\n",
       "    <tr>\n",
       "      <th>2</th>\n",
       "      <td>2022.0</td>\n",
       "      <td>39914</td>\n",
       "    </tr>\n",
       "  </tbody>\n",
       "</table>\n",
       "</div>"
      ],
      "text/plain": [
       "     year  playbacks\n",
       "0  2020.0      18928\n",
       "1  2021.0      80727\n",
       "2  2022.0      39914"
      ]
     },
     "execution_count": 156,
     "metadata": {},
     "output_type": "execute_result"
    }
   ],
   "source": [
    "sf.get_dataframe(f'SELECT EXTRACT(year FROM date_start) as year, count(*) as playbacks FROM {schema}.playbacks GROUP BY EXTRACT(year FROM date_start) ORDER BY year').head(15)\n",
    "#TODO average per month per year\n",
    "#IDEA to have two time periods (October 20-21-22)"
   ]
  },
  {
   "cell_type": "markdown",
   "metadata": {},
   "source": [
    "# Playbacks per device"
   ]
  },
  {
   "cell_type": "code",
   "execution_count": 107,
   "metadata": {},
   "outputs": [
    {
     "data": {
      "text/html": [
       "<div>\n",
       "<style scoped>\n",
       "    .dataframe tbody tr th:only-of-type {\n",
       "        vertical-align: middle;\n",
       "    }\n",
       "\n",
       "    .dataframe tbody tr th {\n",
       "        vertical-align: top;\n",
       "    }\n",
       "\n",
       "    .dataframe thead th {\n",
       "        text-align: right;\n",
       "    }\n",
       "</style>\n",
       "<table border=\"1\" class=\"dataframe\">\n",
       "  <thead>\n",
       "    <tr style=\"text-align: right;\">\n",
       "      <th></th>\n",
       "      <th>device</th>\n",
       "      <th>playbacks</th>\n",
       "    </tr>\n",
       "  </thead>\n",
       "  <tbody>\n",
       "    <tr>\n",
       "      <th>0</th>\n",
       "      <td>desktop</td>\n",
       "      <td>116769</td>\n",
       "    </tr>\n",
       "    <tr>\n",
       "      <th>1</th>\n",
       "      <td>mobile</td>\n",
       "      <td>22800</td>\n",
       "    </tr>\n",
       "  </tbody>\n",
       "</table>\n",
       "</div>"
      ],
      "text/plain": [
       "    device  playbacks\n",
       "0  desktop     116769\n",
       "1   mobile      22800"
      ]
     },
     "execution_count": 107,
     "metadata": {},
     "output_type": "execute_result"
    }
   ],
   "source": [
    "sf.get_dataframe(f' SELECT device, COUNT(*) as playbacks FROM {schema}.playbacks GROUP BY device').head()"
   ]
  },
  {
   "cell_type": "code",
   "execution_count": 93,
   "metadata": {},
   "outputs": [
    {
     "data": {
      "text/html": [
       "<div>\n",
       "<style scoped>\n",
       "    .dataframe tbody tr th:only-of-type {\n",
       "        vertical-align: middle;\n",
       "    }\n",
       "\n",
       "    .dataframe tbody tr th {\n",
       "        vertical-align: top;\n",
       "    }\n",
       "\n",
       "    .dataframe thead th {\n",
       "        text-align: right;\n",
       "    }\n",
       "</style>\n",
       "<table border=\"1\" class=\"dataframe\">\n",
       "  <thead>\n",
       "    <tr style=\"text-align: right;\">\n",
       "      <th></th>\n",
       "      <th>app_user</th>\n",
       "      <th>count</th>\n",
       "    </tr>\n",
       "  </thead>\n",
       "  <tbody>\n",
       "    <tr>\n",
       "      <th>0</th>\n",
       "      <td>no</td>\n",
       "      <td>126396</td>\n",
       "    </tr>\n",
       "    <tr>\n",
       "      <th>1</th>\n",
       "      <td>yes</td>\n",
       "      <td>13173</td>\n",
       "    </tr>\n",
       "  </tbody>\n",
       "</table>\n",
       "</div>"
      ],
      "text/plain": [
       "  app_user   count\n",
       "0       no  126396\n",
       "1      yes   13173"
      ]
     },
     "execution_count": 93,
     "metadata": {},
     "output_type": "execute_result"
    }
   ],
   "source": [
    "sf.get_dataframe(f' SELECT app_user, COUNT(*) FROM {schema}.playbacks GROUP BY app_user').head()"
   ]
  },
  {
   "cell_type": "code",
   "execution_count": 94,
   "metadata": {},
   "outputs": [
    {
     "data": {
      "text/html": [
       "<div>\n",
       "<style scoped>\n",
       "    .dataframe tbody tr th:only-of-type {\n",
       "        vertical-align: middle;\n",
       "    }\n",
       "\n",
       "    .dataframe tbody tr th {\n",
       "        vertical-align: top;\n",
       "    }\n",
       "\n",
       "    .dataframe thead th {\n",
       "        text-align: right;\n",
       "    }\n",
       "</style>\n",
       "<table border=\"1\" class=\"dataframe\">\n",
       "  <thead>\n",
       "    <tr style=\"text-align: right;\">\n",
       "      <th></th>\n",
       "      <th>device</th>\n",
       "      <th>app_user</th>\n",
       "      <th>count</th>\n",
       "    </tr>\n",
       "  </thead>\n",
       "  <tbody>\n",
       "    <tr>\n",
       "      <th>0</th>\n",
       "      <td>desktop</td>\n",
       "      <td>no</td>\n",
       "      <td>116769</td>\n",
       "    </tr>\n",
       "    <tr>\n",
       "      <th>1</th>\n",
       "      <td>mobile</td>\n",
       "      <td>no</td>\n",
       "      <td>9627</td>\n",
       "    </tr>\n",
       "    <tr>\n",
       "      <th>2</th>\n",
       "      <td>mobile</td>\n",
       "      <td>yes</td>\n",
       "      <td>13173</td>\n",
       "    </tr>\n",
       "  </tbody>\n",
       "</table>\n",
       "</div>"
      ],
      "text/plain": [
       "    device app_user   count\n",
       "0  desktop       no  116769\n",
       "1   mobile       no    9627\n",
       "2   mobile      yes   13173"
      ]
     },
     "execution_count": 94,
     "metadata": {},
     "output_type": "execute_result"
    }
   ],
   "source": [
    "sf.get_dataframe(f' SELECT device, app_user, COUNT(*) FROM {schema}.playbacks GROUP BY device, app_user').head()\n",
    "\n",
    "#TODO rethink the categorizat names (What about tv app user)"
   ]
  },
  {
   "cell_type": "code",
   "execution_count": null,
   "metadata": {},
   "outputs": [],
   "source": [
    "#TODO Ugh not working rn\n",
    "sf.get_dataframe(f\" SELECT user_agent, COUNT(*) FROM {schema}.playbacks WHERE user_agent LIKE '%%iPhone%%'\").head()\n"
   ]
  },
  {
   "cell_type": "markdown",
   "metadata": {},
   "source": [
    "# Playbacks per subscription type (per month)"
   ]
  },
  {
   "cell_type": "code",
   "execution_count": 125,
   "metadata": {},
   "outputs": [
    {
     "data": {
      "text/html": [
       "<div>\n",
       "<style scoped>\n",
       "    .dataframe tbody tr th:only-of-type {\n",
       "        vertical-align: middle;\n",
       "    }\n",
       "\n",
       "    .dataframe tbody tr th {\n",
       "        vertical-align: top;\n",
       "    }\n",
       "\n",
       "    .dataframe thead th {\n",
       "        text-align: right;\n",
       "    }\n",
       "</style>\n",
       "<table border=\"1\" class=\"dataframe\">\n",
       "  <thead>\n",
       "    <tr style=\"text-align: right;\">\n",
       "      <th></th>\n",
       "      <th>subscription_type</th>\n",
       "      <th>playbacks</th>\n",
       "    </tr>\n",
       "  </thead>\n",
       "  <tbody>\n",
       "    <tr>\n",
       "      <th>0</th>\n",
       "      <td>BASIC</td>\n",
       "      <td>48604</td>\n",
       "    </tr>\n",
       "    <tr>\n",
       "      <th>1</th>\n",
       "      <td>PATRON</td>\n",
       "      <td>41737</td>\n",
       "    </tr>\n",
       "    <tr>\n",
       "      <th>2</th>\n",
       "      <td>STANDARD</td>\n",
       "      <td>49228</td>\n",
       "    </tr>\n",
       "  </tbody>\n",
       "</table>\n",
       "</div>"
      ],
      "text/plain": [
       "  subscription_type  playbacks\n",
       "0             BASIC      48604\n",
       "1            PATRON      41737\n",
       "2          STANDARD      49228"
      ]
     },
     "execution_count": 125,
     "metadata": {},
     "output_type": "execute_result"
    }
   ],
   "source": [
    "#sf.get_dataframe(f' SELECT device, COUNT(*) as playbacks FROM {schema}.playbacks GROUP BY device').head()\n",
    "sf.get_dataframe(f' SELECT subscription_type, COUNT(*) as playbacks FROM {schema}.playbacks INNER JOIN {schema}.subscriptions on {schema}.playbacks.subscription_key = {schema}.subscriptions.subscription_key GROUP BY subscription_type').head()\n",
    "#TODO average per subscription per type -> playbacks/count(subscription) -> view per subscription"
   ]
  },
  {
   "cell_type": "markdown",
   "metadata": {},
   "source": [
    "# Playbacks per month/weekday "
   ]
  },
  {
   "cell_type": "code",
   "execution_count": 134,
   "metadata": {},
   "outputs": [
    {
     "data": {
      "text/html": [
       "<div>\n",
       "<style scoped>\n",
       "    .dataframe tbody tr th:only-of-type {\n",
       "        vertical-align: middle;\n",
       "    }\n",
       "\n",
       "    .dataframe tbody tr th {\n",
       "        vertical-align: top;\n",
       "    }\n",
       "\n",
       "    .dataframe thead th {\n",
       "        text-align: right;\n",
       "    }\n",
       "</style>\n",
       "<table border=\"1\" class=\"dataframe\">\n",
       "  <thead>\n",
       "    <tr style=\"text-align: right;\">\n",
       "      <th></th>\n",
       "      <th>year</th>\n",
       "      <th>subscription_type</th>\n",
       "      <th>playbacks</th>\n",
       "    </tr>\n",
       "  </thead>\n",
       "  <tbody>\n",
       "    <tr>\n",
       "      <th>0</th>\n",
       "      <td>2020.0</td>\n",
       "      <td>BASIC</td>\n",
       "      <td>5565</td>\n",
       "    </tr>\n",
       "    <tr>\n",
       "      <th>1</th>\n",
       "      <td>2021.0</td>\n",
       "      <td>BASIC</td>\n",
       "      <td>27888</td>\n",
       "    </tr>\n",
       "    <tr>\n",
       "      <th>2</th>\n",
       "      <td>2022.0</td>\n",
       "      <td>BASIC</td>\n",
       "      <td>15151</td>\n",
       "    </tr>\n",
       "    <tr>\n",
       "      <th>3</th>\n",
       "      <td>2020.0</td>\n",
       "      <td>PATRON</td>\n",
       "      <td>5009</td>\n",
       "    </tr>\n",
       "    <tr>\n",
       "      <th>4</th>\n",
       "      <td>2021.0</td>\n",
       "      <td>PATRON</td>\n",
       "      <td>24168</td>\n",
       "    </tr>\n",
       "    <tr>\n",
       "      <th>5</th>\n",
       "      <td>2022.0</td>\n",
       "      <td>PATRON</td>\n",
       "      <td>12560</td>\n",
       "    </tr>\n",
       "    <tr>\n",
       "      <th>6</th>\n",
       "      <td>2020.0</td>\n",
       "      <td>STANDARD</td>\n",
       "      <td>8354</td>\n",
       "    </tr>\n",
       "    <tr>\n",
       "      <th>7</th>\n",
       "      <td>2021.0</td>\n",
       "      <td>STANDARD</td>\n",
       "      <td>28671</td>\n",
       "    </tr>\n",
       "    <tr>\n",
       "      <th>8</th>\n",
       "      <td>2022.0</td>\n",
       "      <td>STANDARD</td>\n",
       "      <td>12203</td>\n",
       "    </tr>\n",
       "  </tbody>\n",
       "</table>\n",
       "</div>"
      ],
      "text/plain": [
       "     year subscription_type  playbacks\n",
       "0  2020.0             BASIC       5565\n",
       "1  2021.0             BASIC      27888\n",
       "2  2022.0             BASIC      15151\n",
       "3  2020.0            PATRON       5009\n",
       "4  2021.0            PATRON      24168\n",
       "5  2022.0            PATRON      12560\n",
       "6  2020.0          STANDARD       8354\n",
       "7  2021.0          STANDARD      28671\n",
       "8  2022.0          STANDARD      12203"
      ]
     },
     "execution_count": 134,
     "metadata": {},
     "output_type": "execute_result"
    }
   ],
   "source": [
    "sf.get_dataframe(f' SELECT EXTRACT(year FROM date_start) as year, subscription_type, COUNT(*) as playbacks FROM {schema}.playbacks INNER JOIN {schema}.subscriptions on {schema}.playbacks.subscription_key = {schema}.subscriptions.subscription_key GROUP BY subscription_type, year ORDER BY subscription_type').head(30)\n",
    "sf.get_dataframe(f' SELECT EXTRACT(year FROM date_start) as year, subscription_type, COUNT(*) as playbacks FROM {schema}.playbacks INNER JOIN {schema}.subscriptions on {schema}.playbacks.subscription_key = {schema}.subscriptions.subscription_key GROUP BY subscription_type, year ORDER BY subscription_type').head(30)\n",
    "#TODO per month and weekday\n",
    "#TODO transform year into timeframe -> WHERE DATE BETWEEN"
   ]
  },
  {
   "cell_type": "code",
   "execution_count": 137,
   "metadata": {},
   "outputs": [
    {
     "data": {
      "text/html": [
       "<div>\n",
       "<style scoped>\n",
       "    .dataframe tbody tr th:only-of-type {\n",
       "        vertical-align: middle;\n",
       "    }\n",
       "\n",
       "    .dataframe tbody tr th {\n",
       "        vertical-align: top;\n",
       "    }\n",
       "\n",
       "    .dataframe thead th {\n",
       "        text-align: right;\n",
       "    }\n",
       "</style>\n",
       "<table border=\"1\" class=\"dataframe\">\n",
       "  <thead>\n",
       "    <tr style=\"text-align: right;\">\n",
       "      <th></th>\n",
       "      <th>year</th>\n",
       "      <th>month</th>\n",
       "      <th>subscription_type</th>\n",
       "      <th>playbacks</th>\n",
       "    </tr>\n",
       "  </thead>\n",
       "  <tbody>\n",
       "    <tr>\n",
       "      <th>0</th>\n",
       "      <td>2020.0</td>\n",
       "      <td>10.0</td>\n",
       "      <td>BASIC</td>\n",
       "      <td>884</td>\n",
       "    </tr>\n",
       "    <tr>\n",
       "      <th>1</th>\n",
       "      <td>2020.0</td>\n",
       "      <td>10.0</td>\n",
       "      <td>PATRON</td>\n",
       "      <td>627</td>\n",
       "    </tr>\n",
       "    <tr>\n",
       "      <th>2</th>\n",
       "      <td>2020.0</td>\n",
       "      <td>10.0</td>\n",
       "      <td>STANDARD</td>\n",
       "      <td>909</td>\n",
       "    </tr>\n",
       "    <tr>\n",
       "      <th>3</th>\n",
       "      <td>2020.0</td>\n",
       "      <td>11.0</td>\n",
       "      <td>BASIC</td>\n",
       "      <td>2232</td>\n",
       "    </tr>\n",
       "    <tr>\n",
       "      <th>4</th>\n",
       "      <td>2020.0</td>\n",
       "      <td>11.0</td>\n",
       "      <td>PATRON</td>\n",
       "      <td>2032</td>\n",
       "    </tr>\n",
       "    <tr>\n",
       "      <th>5</th>\n",
       "      <td>2020.0</td>\n",
       "      <td>11.0</td>\n",
       "      <td>STANDARD</td>\n",
       "      <td>4108</td>\n",
       "    </tr>\n",
       "    <tr>\n",
       "      <th>6</th>\n",
       "      <td>2020.0</td>\n",
       "      <td>12.0</td>\n",
       "      <td>BASIC</td>\n",
       "      <td>2449</td>\n",
       "    </tr>\n",
       "    <tr>\n",
       "      <th>7</th>\n",
       "      <td>2020.0</td>\n",
       "      <td>12.0</td>\n",
       "      <td>PATRON</td>\n",
       "      <td>2350</td>\n",
       "    </tr>\n",
       "    <tr>\n",
       "      <th>8</th>\n",
       "      <td>2020.0</td>\n",
       "      <td>12.0</td>\n",
       "      <td>STANDARD</td>\n",
       "      <td>3337</td>\n",
       "    </tr>\n",
       "    <tr>\n",
       "      <th>9</th>\n",
       "      <td>2021.0</td>\n",
       "      <td>1.0</td>\n",
       "      <td>BASIC</td>\n",
       "      <td>3234</td>\n",
       "    </tr>\n",
       "    <tr>\n",
       "      <th>10</th>\n",
       "      <td>2021.0</td>\n",
       "      <td>1.0</td>\n",
       "      <td>PATRON</td>\n",
       "      <td>2861</td>\n",
       "    </tr>\n",
       "    <tr>\n",
       "      <th>11</th>\n",
       "      <td>2021.0</td>\n",
       "      <td>1.0</td>\n",
       "      <td>STANDARD</td>\n",
       "      <td>3917</td>\n",
       "    </tr>\n",
       "    <tr>\n",
       "      <th>12</th>\n",
       "      <td>2021.0</td>\n",
       "      <td>2.0</td>\n",
       "      <td>BASIC</td>\n",
       "      <td>2756</td>\n",
       "    </tr>\n",
       "    <tr>\n",
       "      <th>13</th>\n",
       "      <td>2021.0</td>\n",
       "      <td>2.0</td>\n",
       "      <td>PATRON</td>\n",
       "      <td>2539</td>\n",
       "    </tr>\n",
       "    <tr>\n",
       "      <th>14</th>\n",
       "      <td>2021.0</td>\n",
       "      <td>2.0</td>\n",
       "      <td>STANDARD</td>\n",
       "      <td>3323</td>\n",
       "    </tr>\n",
       "    <tr>\n",
       "      <th>15</th>\n",
       "      <td>2021.0</td>\n",
       "      <td>3.0</td>\n",
       "      <td>BASIC</td>\n",
       "      <td>3011</td>\n",
       "    </tr>\n",
       "    <tr>\n",
       "      <th>16</th>\n",
       "      <td>2021.0</td>\n",
       "      <td>3.0</td>\n",
       "      <td>PATRON</td>\n",
       "      <td>2596</td>\n",
       "    </tr>\n",
       "    <tr>\n",
       "      <th>17</th>\n",
       "      <td>2021.0</td>\n",
       "      <td>3.0</td>\n",
       "      <td>STANDARD</td>\n",
       "      <td>3375</td>\n",
       "    </tr>\n",
       "    <tr>\n",
       "      <th>18</th>\n",
       "      <td>2021.0</td>\n",
       "      <td>4.0</td>\n",
       "      <td>BASIC</td>\n",
       "      <td>2886</td>\n",
       "    </tr>\n",
       "    <tr>\n",
       "      <th>19</th>\n",
       "      <td>2021.0</td>\n",
       "      <td>4.0</td>\n",
       "      <td>PATRON</td>\n",
       "      <td>2398</td>\n",
       "    </tr>\n",
       "    <tr>\n",
       "      <th>20</th>\n",
       "      <td>2021.0</td>\n",
       "      <td>4.0</td>\n",
       "      <td>STANDARD</td>\n",
       "      <td>3151</td>\n",
       "    </tr>\n",
       "    <tr>\n",
       "      <th>21</th>\n",
       "      <td>2021.0</td>\n",
       "      <td>5.0</td>\n",
       "      <td>BASIC</td>\n",
       "      <td>2723</td>\n",
       "    </tr>\n",
       "    <tr>\n",
       "      <th>22</th>\n",
       "      <td>2021.0</td>\n",
       "      <td>5.0</td>\n",
       "      <td>PATRON</td>\n",
       "      <td>2368</td>\n",
       "    </tr>\n",
       "    <tr>\n",
       "      <th>23</th>\n",
       "      <td>2021.0</td>\n",
       "      <td>5.0</td>\n",
       "      <td>STANDARD</td>\n",
       "      <td>2766</td>\n",
       "    </tr>\n",
       "    <tr>\n",
       "      <th>24</th>\n",
       "      <td>2021.0</td>\n",
       "      <td>6.0</td>\n",
       "      <td>BASIC</td>\n",
       "      <td>1756</td>\n",
       "    </tr>\n",
       "    <tr>\n",
       "      <th>25</th>\n",
       "      <td>2021.0</td>\n",
       "      <td>6.0</td>\n",
       "      <td>PATRON</td>\n",
       "      <td>1450</td>\n",
       "    </tr>\n",
       "    <tr>\n",
       "      <th>26</th>\n",
       "      <td>2021.0</td>\n",
       "      <td>6.0</td>\n",
       "      <td>STANDARD</td>\n",
       "      <td>1739</td>\n",
       "    </tr>\n",
       "    <tr>\n",
       "      <th>27</th>\n",
       "      <td>2021.0</td>\n",
       "      <td>7.0</td>\n",
       "      <td>BASIC</td>\n",
       "      <td>1879</td>\n",
       "    </tr>\n",
       "    <tr>\n",
       "      <th>28</th>\n",
       "      <td>2021.0</td>\n",
       "      <td>7.0</td>\n",
       "      <td>PATRON</td>\n",
       "      <td>1433</td>\n",
       "    </tr>\n",
       "    <tr>\n",
       "      <th>29</th>\n",
       "      <td>2021.0</td>\n",
       "      <td>7.0</td>\n",
       "      <td>STANDARD</td>\n",
       "      <td>1819</td>\n",
       "    </tr>\n",
       "  </tbody>\n",
       "</table>\n",
       "</div>"
      ],
      "text/plain": [
       "      year  month subscription_type  playbacks\n",
       "0   2020.0   10.0             BASIC        884\n",
       "1   2020.0   10.0            PATRON        627\n",
       "2   2020.0   10.0          STANDARD        909\n",
       "3   2020.0   11.0             BASIC       2232\n",
       "4   2020.0   11.0            PATRON       2032\n",
       "5   2020.0   11.0          STANDARD       4108\n",
       "6   2020.0   12.0             BASIC       2449\n",
       "7   2020.0   12.0            PATRON       2350\n",
       "8   2020.0   12.0          STANDARD       3337\n",
       "9   2021.0    1.0             BASIC       3234\n",
       "10  2021.0    1.0            PATRON       2861\n",
       "11  2021.0    1.0          STANDARD       3917\n",
       "12  2021.0    2.0             BASIC       2756\n",
       "13  2021.0    2.0            PATRON       2539\n",
       "14  2021.0    2.0          STANDARD       3323\n",
       "15  2021.0    3.0             BASIC       3011\n",
       "16  2021.0    3.0            PATRON       2596\n",
       "17  2021.0    3.0          STANDARD       3375\n",
       "18  2021.0    4.0             BASIC       2886\n",
       "19  2021.0    4.0            PATRON       2398\n",
       "20  2021.0    4.0          STANDARD       3151\n",
       "21  2021.0    5.0             BASIC       2723\n",
       "22  2021.0    5.0            PATRON       2368\n",
       "23  2021.0    5.0          STANDARD       2766\n",
       "24  2021.0    6.0             BASIC       1756\n",
       "25  2021.0    6.0            PATRON       1450\n",
       "26  2021.0    6.0          STANDARD       1739\n",
       "27  2021.0    7.0             BASIC       1879\n",
       "28  2021.0    7.0            PATRON       1433\n",
       "29  2021.0    7.0          STANDARD       1819"
      ]
     },
     "execution_count": 137,
     "metadata": {},
     "output_type": "execute_result"
    }
   ],
   "source": [
    "sf.get_dataframe(f' SELECT EXTRACT(year FROM date_start) as year, EXTRACT(month FROM date_start) as month, subscription_type, COUNT(*) as playbacks FROM {schema}.playbacks INNER JOIN {schema}.subscriptions on {schema}.playbacks.subscription_key = {schema}.subscriptions.subscription_key GROUP BY subscription_type, year, month ORDER BY year, month').head(30)"
   ]
  },
  {
   "cell_type": "markdown",
   "metadata": {},
   "source": [
    "# Playbacks per account (per month)"
   ]
  },
  {
   "cell_type": "code",
   "execution_count": 167,
   "metadata": {},
   "outputs": [
    {
     "data": {
      "text/html": [
       "<div>\n",
       "<style scoped>\n",
       "    .dataframe tbody tr th:only-of-type {\n",
       "        vertical-align: middle;\n",
       "    }\n",
       "\n",
       "    .dataframe tbody tr th {\n",
       "        vertical-align: top;\n",
       "    }\n",
       "\n",
       "    .dataframe thead th {\n",
       "        text-align: right;\n",
       "    }\n",
       "</style>\n",
       "<table border=\"1\" class=\"dataframe\">\n",
       "  <thead>\n",
       "    <tr style=\"text-align: right;\">\n",
       "      <th></th>\n",
       "      <th>year</th>\n",
       "      <th>month</th>\n",
       "      <th>account</th>\n",
       "      <th>playbacks</th>\n",
       "    </tr>\n",
       "  </thead>\n",
       "  <tbody>\n",
       "    <tr>\n",
       "      <th>0</th>\n",
       "      <td>2020.0</td>\n",
       "      <td>10.0</td>\n",
       "      <td>00b3ca364f49f801f257e1e6dff4810cbefb34b3ff4780...</td>\n",
       "      <td>2</td>\n",
       "    </tr>\n",
       "    <tr>\n",
       "      <th>1</th>\n",
       "      <td>2020.0</td>\n",
       "      <td>10.0</td>\n",
       "      <td>00c7287a5449e9b4071da68e49053a507676e09b8a15ee...</td>\n",
       "      <td>1</td>\n",
       "    </tr>\n",
       "    <tr>\n",
       "      <th>2</th>\n",
       "      <td>2020.0</td>\n",
       "      <td>10.0</td>\n",
       "      <td>00ed08533436943cbe509eb354af609105ab88a65aec0c...</td>\n",
       "      <td>3</td>\n",
       "    </tr>\n",
       "    <tr>\n",
       "      <th>3</th>\n",
       "      <td>2020.0</td>\n",
       "      <td>10.0</td>\n",
       "      <td>0113a563f7147636f69eb112b0a8b04dac44259e78818f...</td>\n",
       "      <td>2</td>\n",
       "    </tr>\n",
       "    <tr>\n",
       "      <th>4</th>\n",
       "      <td>2020.0</td>\n",
       "      <td>10.0</td>\n",
       "      <td>012d4f225b098eca174635e86f9070673cf324b8eb5bd8...</td>\n",
       "      <td>3</td>\n",
       "    </tr>\n",
       "  </tbody>\n",
       "</table>\n",
       "</div>"
      ],
      "text/plain": [
       "     year  month                                            account  playbacks\n",
       "0  2020.0   10.0  00b3ca364f49f801f257e1e6dff4810cbefb34b3ff4780...          2\n",
       "1  2020.0   10.0  00c7287a5449e9b4071da68e49053a507676e09b8a15ee...          1\n",
       "2  2020.0   10.0  00ed08533436943cbe509eb354af609105ab88a65aec0c...          3\n",
       "3  2020.0   10.0  0113a563f7147636f69eb112b0a8b04dac44259e78818f...          2\n",
       "4  2020.0   10.0  012d4f225b098eca174635e86f9070673cf324b8eb5bd8...          3"
      ]
     },
     "execution_count": 167,
     "metadata": {},
     "output_type": "execute_result"
    }
   ],
   "source": [
    "sf.get_dataframe(f' SELECT EXTRACT(year FROM date_start) as year, EXTRACT(month FROM date_start) as month, playbacks.account_key as account, COUNT(*) as playbacks FROM {schema}.playbacks INNER JOIN {schema}.accounts on {schema}.playbacks.account_key = {schema}.accounts.account_key GROUP BY playbacks.account_key, year, month ORDER BY year, month').head()\n",
    "#TODO average per month per account\n",
    "#TODO COUNT of playbacks per subscription_type\n",
    "#TODO playback as x-axis bar chart"
   ]
  },
  {
   "cell_type": "markdown",
   "metadata": {},
   "source": [
    "# Hours watched per account (per month)"
   ]
  },
  {
   "cell_type": "code",
   "execution_count": 170,
   "metadata": {},
   "outputs": [
    {
     "data": {
      "text/plain": [
       "year               2021.250000\n",
       "month                 6.500000\n",
       "playback_hours    10407.222222\n",
       "dtype: float64"
      ]
     },
     "execution_count": 170,
     "metadata": {},
     "output_type": "execute_result"
    }
   ],
   "source": [
    "sf.get_dataframe(f' SELECT EXTRACT(year FROM date_start) as year, EXTRACT(month FROM date_start) as month, playbacks.account_key as account, (SUM(playback_time)/60/60) as playback_hours FROM {schema}.playbacks INNER JOIN {schema}.accounts on {schema}.playbacks.account_key = {schema}.accounts.account_key GROUP BY playbacks.account_key, year, month ORDER BY year, month').head(30)\n",
    "sf.get_dataframe(f' SELECT EXTRACT(year FROM date_start) as year, EXTRACT(month FROM date_start) as month, (SUM(playback_time)/60/60) as playback_hours FROM {schema}.playbacks INNER JOIN {schema}.accounts on {schema}.playbacks.account_key = {schema}.accounts.account_key GROUP BY year, month ORDER BY year, month').mean()\n",
    "#TODO average per account"
   ]
  },
  {
   "cell_type": "markdown",
   "metadata": {},
   "source": [
    "# Sent movie vouchers\n",
    "How many movie vouchers are being gifted per month / per subscription type?"
   ]
  },
  {
   "cell_type": "code",
   "execution_count": null,
   "metadata": {},
   "outputs": [],
   "source": []
  },
  {
   "cell_type": "code",
   "execution_count": null,
   "metadata": {},
   "outputs": [],
   "source": []
  },
  {
   "cell_type": "code",
   "execution_count": 40,
   "metadata": {},
   "outputs": [
    {
     "data": {
      "text/html": [
       "<div>\n",
       "<style scoped>\n",
       "    .dataframe tbody tr th:only-of-type {\n",
       "        vertical-align: middle;\n",
       "    }\n",
       "\n",
       "    .dataframe tbody tr th {\n",
       "        vertical-align: top;\n",
       "    }\n",
       "\n",
       "    .dataframe thead th {\n",
       "        text-align: right;\n",
       "    }\n",
       "</style>\n",
       "<table border=\"1\" class=\"dataframe\">\n",
       "  <thead>\n",
       "    <tr style=\"text-align: right;\">\n",
       "      <th></th>\n",
       "      <th>playback_ID</th>\n",
       "      <th>subscription_key</th>\n",
       "      <th>account_key</th>\n",
       "      <th>movie_id</th>\n",
       "      <th>date_start</th>\n",
       "      <th>playback_time</th>\n",
       "      <th>user_agent</th>\n",
       "      <th>ip_hash</th>\n",
       "      <th>device</th>\n",
       "      <th>app user</th>\n",
       "    </tr>\n",
       "  </thead>\n",
       "  <tbody>\n",
       "  </tbody>\n",
       "</table>\n",
       "</div>"
      ],
      "text/plain": [
       "Empty DataFrame\n",
       "Columns: [playback_ID, subscription_key, account_key, movie_id, date_start, playback_time, user_agent, ip_hash, device, app user]\n",
       "Index: []"
      ]
     },
     "execution_count": 40,
     "metadata": {},
     "output_type": "execute_result"
    }
   ],
   "source": [
    "sf.get_dataframe(f' SELECT DISTINCT * FROM {schema}.playbacks WHERE device IS NULL')"
   ]
  },
  {
   "cell_type": "code",
   "execution_count": null,
   "metadata": {},
   "outputs": [],
   "source": []
  }
 ],
 "metadata": {
  "kernelspec": {
   "display_name": "Python 3.9.13 ('nf_sql')",
   "language": "python",
   "name": "python3"
  },
  "language_info": {
   "codemirror_mode": {
    "name": "ipython",
    "version": 3
   },
   "file_extension": ".py",
   "mimetype": "text/x-python",
   "name": "python",
   "nbconvert_exporter": "python",
   "pygments_lexer": "ipython3",
   "version": "3.9.13"
  },
  "orig_nbformat": 4,
  "vscode": {
   "interpreter": {
    "hash": "a81d278bed5b5b59425dcb5a82ce505657686243c184b4a6b67e69d01c4d432e"
   }
  }
 },
 "nbformat": 4,
 "nbformat_minor": 2
}
