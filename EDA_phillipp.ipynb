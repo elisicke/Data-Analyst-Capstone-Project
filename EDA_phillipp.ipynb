{
 "cells": [
  {
   "cell_type": "code",
   "execution_count": 14,
   "metadata": {},
   "outputs": [],
   "source": [
    "import pandas as pd\n",
    "import numpy as np\n",
    "\n",
    "# define the name of the csv file you want to read in\n",
    "accounts = './data/accounts.csv'\n",
    "playbacks = './data/playbacks.csv'\n",
    "subscriptions = './data/subscriptions.csv'"
   ]
  },
  {
   "cell_type": "markdown",
   "metadata": {},
   "source": [
    "# PLAYBACKS"
   ]
  },
  {
   "cell_type": "code",
   "execution_count": 15,
   "metadata": {},
   "outputs": [
    {
     "data": {
      "text/plain": [
       "(139569, 7)"
      ]
     },
     "metadata": {},
     "output_type": "display_data"
    },
    {
     "data": {
      "text/plain": [
       "139564    2020-10-21 13:21:30\n",
       "139565    2020-10-21 12:35:04\n",
       "139566    2020-10-21 12:05:14\n",
       "139567    2020-10-21 11:46:11\n",
       "139568    2020-10-21 11:18:58\n",
       "Name: date_start, dtype: object"
      ]
     },
     "metadata": {},
     "output_type": "display_data"
    }
   ],
   "source": [
    "# Read playbacks\n",
    "df_playbacks = pd.read_csv(playbacks)\n",
    "df_playbacks.columns = df_playbacks.columns.str.lower()\n",
    "display(df_playbacks.shape)\n",
    "display(df_playbacks.date_start.tail())\n",
    "# one account can have multiple subscriptions\n",
    "# what about pausing the movie\n",
    "# IP + User_Agent-> check for multiple persons per subscriptions\n",
    "    # IP/Account\n",
    "# average playback duration\n",
    "# cancelled session?"
   ]
  },
  {
   "cell_type": "code",
   "execution_count": 16,
   "metadata": {},
   "outputs": [
    {
     "data": {
      "text/plain": [
       "subscription_key    0\n",
       "account_key         0\n",
       "movie_id            0\n",
       "date_start          0\n",
       "playback_time       0\n",
       "user_agent          0\n",
       "ip_hash             0\n",
       "dtype: int64"
      ]
     },
     "execution_count": 16,
     "metadata": {},
     "output_type": "execute_result"
    }
   ],
   "source": [
    "df_playbacks.isna().sum()"
   ]
  },
  {
   "cell_type": "code",
   "execution_count": 17,
   "metadata": {},
   "outputs": [
    {
     "data": {
      "text/html": [
       "<div>\n",
       "<style scoped>\n",
       "    .dataframe tbody tr th:only-of-type {\n",
       "        vertical-align: middle;\n",
       "    }\n",
       "\n",
       "    .dataframe tbody tr th {\n",
       "        vertical-align: top;\n",
       "    }\n",
       "\n",
       "    .dataframe thead th {\n",
       "        text-align: right;\n",
       "    }\n",
       "</style>\n",
       "<table border=\"1\" class=\"dataframe\">\n",
       "  <thead>\n",
       "    <tr style=\"text-align: right;\">\n",
       "      <th></th>\n",
       "      <th>movie_id</th>\n",
       "      <th>playback_time</th>\n",
       "    </tr>\n",
       "  </thead>\n",
       "  <tbody>\n",
       "    <tr>\n",
       "      <th>count</th>\n",
       "      <td>139569.000000</td>\n",
       "      <td>139569.00000</td>\n",
       "    </tr>\n",
       "    <tr>\n",
       "      <th>mean</th>\n",
       "      <td>712.801589</td>\n",
       "      <td>6442.57679</td>\n",
       "    </tr>\n",
       "    <tr>\n",
       "      <th>std</th>\n",
       "      <td>346.698325</td>\n",
       "      <td>8191.70516</td>\n",
       "    </tr>\n",
       "    <tr>\n",
       "      <th>min</th>\n",
       "      <td>8.000000</td>\n",
       "      <td>960.00000</td>\n",
       "    </tr>\n",
       "    <tr>\n",
       "      <th>25%</th>\n",
       "      <td>453.000000</td>\n",
       "      <td>4680.00000</td>\n",
       "    </tr>\n",
       "    <tr>\n",
       "      <th>50%</th>\n",
       "      <td>745.000000</td>\n",
       "      <td>5760.00000</td>\n",
       "    </tr>\n",
       "    <tr>\n",
       "      <th>75%</th>\n",
       "      <td>977.000000</td>\n",
       "      <td>6660.00000</td>\n",
       "    </tr>\n",
       "    <tr>\n",
       "      <th>max</th>\n",
       "      <td>1344.000000</td>\n",
       "      <td>472920.00000</td>\n",
       "    </tr>\n",
       "  </tbody>\n",
       "</table>\n",
       "</div>"
      ],
      "text/plain": [
       "            movie_id  playback_time\n",
       "count  139569.000000   139569.00000\n",
       "mean      712.801589     6442.57679\n",
       "std       346.698325     8191.70516\n",
       "min         8.000000      960.00000\n",
       "25%       453.000000     4680.00000\n",
       "50%       745.000000     5760.00000\n",
       "75%       977.000000     6660.00000\n",
       "max      1344.000000   472920.00000"
      ]
     },
     "execution_count": 17,
     "metadata": {},
     "output_type": "execute_result"
    }
   ],
   "source": [
    "df_playbacks.describe()\n",
    "# have a closer look at max playback times"
   ]
  },
  {
   "cell_type": "code",
   "execution_count": 19,
   "metadata": {},
   "outputs": [
    {
     "data": {
      "text/plain": [
       "126396"
      ]
     },
     "execution_count": 19,
     "metadata": {},
     "output_type": "execute_result"
    }
   ],
   "source": [
    "#DIFFERENTIATION BETWEEN DESKTOP/MOBILE\n",
    "#TODO Create 'DESKTOP vs. MOBILE' column\n",
    "#TODO filmingo app users dedicated column?!\n",
    "\n",
    "#df_playbacks.user_agent.count()\n",
    "#5387 unique values\n",
    "#139.569 count\n",
    "\n",
    "#SEARCH FOR 'Macintosh'\n",
    "#df_playbacks[df_playbacks.user_agent.str.contains('Macintosh', na=False)].user_agent.count()\n",
    "#64.401 count ~50%\n",
    "\n",
    "#SEARCH FOR 'Windows'\n",
    "#df_playbacks[df_playbacks.user_agent.str.contains('Windows', na=False)].user_agent.count()\n",
    "#41.475\n",
    "\n",
    "#DESKTOP Views\n",
    "df_playbacks[df_playbacks.user_agent.str.contains(('Windows|Macintosh|TV|Linux'), na=False)].user_agent.count()\n",
    "#117.081 Desktop playbacks\n",
    "\n",
    "# Mobile Views\n",
    "#df_playbacks[df_playbacks.user_agent.str.contains(('Android|iOS|iPhone|iPad'), na=False)].user_agent.count()\n",
    "# 22.800 Mobile views\n",
    "\n",
    "df_playbacks[df_playbacks.user_agent.str.contains(('Linux'), na=False)].user_agent.unique()\n",
    "df_playbacks[df_playbacks.user_agent.str.contains(('Darwin'), na=False)].user_agent.count()\n",
    "\n",
    "#HOW MANY PEOPLE ARE USING THE APP\n",
    "df_playbacks[~df_playbacks.user_agent.str.contains('filmingo', na=False)].user_agent.count()\n",
    "#13.173 playbacks via the app\n",
    "\n"
   ]
  },
  {
   "cell_type": "code",
   "execution_count": 27,
   "metadata": {},
   "outputs": [
    {
     "data": {
      "text/html": [
       "<div>\n",
       "<style scoped>\n",
       "    .dataframe tbody tr th:only-of-type {\n",
       "        vertical-align: middle;\n",
       "    }\n",
       "\n",
       "    .dataframe tbody tr th {\n",
       "        vertical-align: top;\n",
       "    }\n",
       "\n",
       "    .dataframe thead th {\n",
       "        text-align: right;\n",
       "    }\n",
       "</style>\n",
       "<table border=\"1\" class=\"dataframe\">\n",
       "  <thead>\n",
       "    <tr style=\"text-align: right;\">\n",
       "      <th></th>\n",
       "      <th>subscription_key</th>\n",
       "      <th>account_key</th>\n",
       "      <th>movie_id</th>\n",
       "      <th>date_start</th>\n",
       "      <th>playback_time</th>\n",
       "      <th>user_agent</th>\n",
       "      <th>ip_hash</th>\n",
       "      <th>app user</th>\n",
       "    </tr>\n",
       "    <tr>\n",
       "      <th>device</th>\n",
       "      <th></th>\n",
       "      <th></th>\n",
       "      <th></th>\n",
       "      <th></th>\n",
       "      <th></th>\n",
       "      <th></th>\n",
       "      <th></th>\n",
       "      <th></th>\n",
       "    </tr>\n",
       "  </thead>\n",
       "  <tbody>\n",
       "    <tr>\n",
       "      <th>desktop</th>\n",
       "      <td>116734</td>\n",
       "      <td>116734</td>\n",
       "      <td>116734</td>\n",
       "      <td>116734</td>\n",
       "      <td>116734</td>\n",
       "      <td>116734</td>\n",
       "      <td>116734</td>\n",
       "      <td>116734</td>\n",
       "    </tr>\n",
       "    <tr>\n",
       "      <th>mobile</th>\n",
       "      <td>22800</td>\n",
       "      <td>22800</td>\n",
       "      <td>22800</td>\n",
       "      <td>22800</td>\n",
       "      <td>22800</td>\n",
       "      <td>22800</td>\n",
       "      <td>22800</td>\n",
       "      <td>22800</td>\n",
       "    </tr>\n",
       "  </tbody>\n",
       "</table>\n",
       "</div>"
      ],
      "text/plain": [
       "         subscription_key  account_key  movie_id  date_start  playback_time  \\\n",
       "device                                                                        \n",
       "desktop            116734       116734    116734      116734         116734   \n",
       "mobile              22800        22800     22800       22800          22800   \n",
       "\n",
       "         user_agent  ip_hash  app user  \n",
       "device                                  \n",
       "desktop      116734   116734    116734  \n",
       "mobile        22800    22800     22800  "
      ]
     },
     "execution_count": 27,
     "metadata": {},
     "output_type": "execute_result"
    }
   ],
   "source": [
    "#Let's create the new columns\n",
    "df_playbacks.loc[df_playbacks['user_agent'].str.contains('Windows|Macintosh|TV|Linux|Darwin|CrOS'), 'device'] = 'desktop'\n",
    "df_playbacks.loc[df_playbacks['user_agent'].str.contains('Android|iOS|iPhone|iPad'), 'device'] = 'mobile'\n",
    "df_playbacks.loc[df_playbacks['user_agent'].str.contains('filmingo'), 'app user'] = 'yes'\n",
    "df_playbacks.loc[~df_playbacks['user_agent'].str.contains('filmingo'), 'app user'] = 'no'\n",
    "df_playbacks.groupby('device').count()\n",
    "#df_playbacks[~df_playbacks.device.str.contains(('Android|iOS|iPhone|iPad|Windows|Macintosh|TV|Linux'), na=False)].user_agent.count()\n",
    "\n"
   ]
  },
  {
   "cell_type": "code",
   "execution_count": 28,
   "metadata": {},
   "outputs": [
    {
     "data": {
      "text/html": [
       "<div>\n",
       "<style scoped>\n",
       "    .dataframe tbody tr th:only-of-type {\n",
       "        vertical-align: middle;\n",
       "    }\n",
       "\n",
       "    .dataframe tbody tr th {\n",
       "        vertical-align: top;\n",
       "    }\n",
       "\n",
       "    .dataframe thead th {\n",
       "        text-align: right;\n",
       "    }\n",
       "</style>\n",
       "<table border=\"1\" class=\"dataframe\">\n",
       "  <thead>\n",
       "    <tr style=\"text-align: right;\">\n",
       "      <th></th>\n",
       "      <th>subscription_key</th>\n",
       "      <th>account_key</th>\n",
       "      <th>movie_id</th>\n",
       "      <th>date_start</th>\n",
       "      <th>playback_time</th>\n",
       "      <th>user_agent</th>\n",
       "      <th>ip_hash</th>\n",
       "      <th>device</th>\n",
       "      <th>app user</th>\n",
       "    </tr>\n",
       "  </thead>\n",
       "  <tbody>\n",
       "    <tr>\n",
       "      <th>0</th>\n",
       "      <td>9679626b6cc1765f8bc8da98fda2d8e8f28f40736fd777...</td>\n",
       "      <td>024ebde74e23ca924cff0a3989e7f87efe2b2cbcd7ad2c...</td>\n",
       "      <td>1189</td>\n",
       "      <td>2022-09-30 23:55:31</td>\n",
       "      <td>12420</td>\n",
       "      <td>Mozilla/5.0 (Macintosh; Intel Mac OS X 10_15_7...</td>\n",
       "      <td>0b14aa31d5635ee899be928089fd810c655a7ec7785911...</td>\n",
       "      <td>desktop</td>\n",
       "      <td>no</td>\n",
       "    </tr>\n",
       "    <tr>\n",
       "      <th>1</th>\n",
       "      <td>513d006472c99ef047c64bafad57a39906ad5c618505b1...</td>\n",
       "      <td>8968e3851322a89c265a0ec4c81341361e3b0953502d65...</td>\n",
       "      <td>1327</td>\n",
       "      <td>2022-09-30 23:48:36</td>\n",
       "      <td>1440</td>\n",
       "      <td>Mozilla/5.0 (Macintosh; Intel Mac OS X 10_13_4...</td>\n",
       "      <td>c65100e7d48b9e06ca6d89ffe594066553ea63ddc70ee1...</td>\n",
       "      <td>desktop</td>\n",
       "      <td>no</td>\n",
       "    </tr>\n",
       "    <tr>\n",
       "      <th>2</th>\n",
       "      <td>cac0c77d3aedc55303b8dfea314052eba5dcf4817e4962...</td>\n",
       "      <td>8a2d7ac64595778ed5fe7edb2dd43f843f9879d773df1a...</td>\n",
       "      <td>212</td>\n",
       "      <td>2022-09-30 23:47:33</td>\n",
       "      <td>1080</td>\n",
       "      <td>Mozilla/5.0 (Windows NT 10.0; Win64; x64; rv:1...</td>\n",
       "      <td>db17d38bf724c377dcd463f7ad8df8279b6122c8890773...</td>\n",
       "      <td>desktop</td>\n",
       "      <td>no</td>\n",
       "    </tr>\n",
       "    <tr>\n",
       "      <th>3</th>\n",
       "      <td>a35503448084642ac8651a0f482db410ccdd7c7716df1d...</td>\n",
       "      <td>7f654ed491a8d1c5b6eb54ea98f6b30b0f9d9515aaad22...</td>\n",
       "      <td>108</td>\n",
       "      <td>2022-09-30 23:46:52</td>\n",
       "      <td>5400</td>\n",
       "      <td>Mozilla/5.0 (Windows NT 10.0; Win64; x64; rv:1...</td>\n",
       "      <td>69839531a94bf2468744c083a7bf4b78f39c8b1b299c34...</td>\n",
       "      <td>desktop</td>\n",
       "      <td>no</td>\n",
       "    </tr>\n",
       "    <tr>\n",
       "      <th>4</th>\n",
       "      <td>ff97a5e4ea0bb411f72e2e1750fb94b248ec2026406a3f...</td>\n",
       "      <td>6efdbec56858f25686797c974bfa67809a718408bd3631...</td>\n",
       "      <td>1314</td>\n",
       "      <td>2022-09-30 23:16:49</td>\n",
       "      <td>10380</td>\n",
       "      <td>filmingo v2.1 (83); iOS 15.6.1; iPad8,11</td>\n",
       "      <td>652d233c8526ebefb7a8e939ca546fe1a76498775b682a...</td>\n",
       "      <td>mobile</td>\n",
       "      <td>yes</td>\n",
       "    </tr>\n",
       "  </tbody>\n",
       "</table>\n",
       "</div>"
      ],
      "text/plain": [
       "                                    subscription_key  \\\n",
       "0  9679626b6cc1765f8bc8da98fda2d8e8f28f40736fd777...   \n",
       "1  513d006472c99ef047c64bafad57a39906ad5c618505b1...   \n",
       "2  cac0c77d3aedc55303b8dfea314052eba5dcf4817e4962...   \n",
       "3  a35503448084642ac8651a0f482db410ccdd7c7716df1d...   \n",
       "4  ff97a5e4ea0bb411f72e2e1750fb94b248ec2026406a3f...   \n",
       "\n",
       "                                         account_key  movie_id  \\\n",
       "0  024ebde74e23ca924cff0a3989e7f87efe2b2cbcd7ad2c...      1189   \n",
       "1  8968e3851322a89c265a0ec4c81341361e3b0953502d65...      1327   \n",
       "2  8a2d7ac64595778ed5fe7edb2dd43f843f9879d773df1a...       212   \n",
       "3  7f654ed491a8d1c5b6eb54ea98f6b30b0f9d9515aaad22...       108   \n",
       "4  6efdbec56858f25686797c974bfa67809a718408bd3631...      1314   \n",
       "\n",
       "            date_start  playback_time  \\\n",
       "0  2022-09-30 23:55:31          12420   \n",
       "1  2022-09-30 23:48:36           1440   \n",
       "2  2022-09-30 23:47:33           1080   \n",
       "3  2022-09-30 23:46:52           5400   \n",
       "4  2022-09-30 23:16:49          10380   \n",
       "\n",
       "                                          user_agent  \\\n",
       "0  Mozilla/5.0 (Macintosh; Intel Mac OS X 10_15_7...   \n",
       "1  Mozilla/5.0 (Macintosh; Intel Mac OS X 10_13_4...   \n",
       "2  Mozilla/5.0 (Windows NT 10.0; Win64; x64; rv:1...   \n",
       "3  Mozilla/5.0 (Windows NT 10.0; Win64; x64; rv:1...   \n",
       "4           filmingo v2.1 (83); iOS 15.6.1; iPad8,11   \n",
       "\n",
       "                                             ip_hash   device app user  \n",
       "0  0b14aa31d5635ee899be928089fd810c655a7ec7785911...  desktop       no  \n",
       "1  c65100e7d48b9e06ca6d89ffe594066553ea63ddc70ee1...  desktop       no  \n",
       "2  db17d38bf724c377dcd463f7ad8df8279b6122c8890773...  desktop       no  \n",
       "3  69839531a94bf2468744c083a7bf4b78f39c8b1b299c34...  desktop       no  \n",
       "4  652d233c8526ebefb7a8e939ca546fe1a76498775b682a...   mobile      yes  "
      ]
     },
     "execution_count": 28,
     "metadata": {},
     "output_type": "execute_result"
    }
   ],
   "source": [
    "df_playbacks.head()"
   ]
  },
  {
   "cell_type": "markdown",
   "metadata": {},
   "source": [
    "# EDA part"
   ]
  },
  {
   "cell_type": "code",
   "execution_count": 38,
   "metadata": {},
   "outputs": [],
   "source": [
    "import sql_functions as sf\n",
    "schema = 'capstone_filmingo'"
   ]
  },
  {
   "cell_type": "code",
   "execution_count": 40,
   "metadata": {},
   "outputs": [
    {
     "data": {
      "text/html": [
       "<div>\n",
       "<style scoped>\n",
       "    .dataframe tbody tr th:only-of-type {\n",
       "        vertical-align: middle;\n",
       "    }\n",
       "\n",
       "    .dataframe tbody tr th {\n",
       "        vertical-align: top;\n",
       "    }\n",
       "\n",
       "    .dataframe thead th {\n",
       "        text-align: right;\n",
       "    }\n",
       "</style>\n",
       "<table border=\"1\" class=\"dataframe\">\n",
       "  <thead>\n",
       "    <tr style=\"text-align: right;\">\n",
       "      <th></th>\n",
       "      <th>playback_ID</th>\n",
       "      <th>subscription_key</th>\n",
       "      <th>account_key</th>\n",
       "      <th>movie_id</th>\n",
       "      <th>date_start</th>\n",
       "      <th>playback_time</th>\n",
       "      <th>user_agent</th>\n",
       "      <th>ip_hash</th>\n",
       "      <th>device</th>\n",
       "      <th>app user</th>\n",
       "    </tr>\n",
       "  </thead>\n",
       "  <tbody>\n",
       "  </tbody>\n",
       "</table>\n",
       "</div>"
      ],
      "text/plain": [
       "Empty DataFrame\n",
       "Columns: [playback_ID, subscription_key, account_key, movie_id, date_start, playback_time, user_agent, ip_hash, device, app user]\n",
       "Index: []"
      ]
     },
     "execution_count": 40,
     "metadata": {},
     "output_type": "execute_result"
    }
   ],
   "source": [
    "sf.get_dataframe(f' SELECT DISTINCT * FROM {schema}.playbacks WHERE device IS NULL')\n",
    "\n"
   ]
  },
  {
   "cell_type": "code",
   "execution_count": null,
   "metadata": {},
   "outputs": [],
   "source": []
  }
 ],
 "metadata": {
  "kernelspec": {
   "display_name": "Python 3.9.13 ('nf_sql')",
   "language": "python",
   "name": "python3"
  },
  "language_info": {
   "codemirror_mode": {
    "name": "ipython",
    "version": 3
   },
   "file_extension": ".py",
   "mimetype": "text/x-python",
   "name": "python",
   "nbconvert_exporter": "python",
   "pygments_lexer": "ipython3",
   "version": "3.9.13"
  },
  "orig_nbformat": 4,
  "vscode": {
   "interpreter": {
    "hash": "a81d278bed5b5b59425dcb5a82ce505657686243c184b4a6b67e69d01c4d432e"
   }
  }
 },
 "nbformat": 4,
 "nbformat_minor": 2
}
