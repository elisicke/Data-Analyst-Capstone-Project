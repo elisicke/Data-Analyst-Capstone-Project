{
 "cells": [
  {
   "attachments": {},
   "cell_type": "markdown",
   "metadata": {},
   "source": [
    "# EDA Vouchers and gifted Subscriptions"
   ]
  },
  {
   "attachments": {},
   "cell_type": "markdown",
   "metadata": {},
   "source": [
    "## Read in needed tables"
   ]
  },
  {
   "cell_type": "code",
   "execution_count": 1,
   "metadata": {},
   "outputs": [],
   "source": [
    "import pandas as pd\n",
    "import numpy as np  \n",
    "import datetime\n",
    "from sql_functions import get_engine"
   ]
  },
  {
   "cell_type": "code",
   "execution_count": 2,
   "metadata": {},
   "outputs": [],
   "source": [
    "schema = 'capstone_filmingo' \n",
    "engine = get_engine()"
   ]
  },
  {
   "cell_type": "code",
   "execution_count": 3,
   "metadata": {},
   "outputs": [],
   "source": [
    "table_name = 'accounts'\n",
    "df_accounts = pd.read_sql_query(f'select * from {schema}.{table_name}', engine)"
   ]
  },
  {
   "cell_type": "code",
   "execution_count": 4,
   "metadata": {},
   "outputs": [],
   "source": [
    "table_name = 'vouchers'\n",
    "df_vouchers = pd.read_sql_query(f'select * from {schema}.{table_name}', engine)\n"
   ]
  },
  {
   "cell_type": "code",
   "execution_count": 5,
   "metadata": {},
   "outputs": [],
   "source": [
    "table_name = 'subscriptions'\n",
    "df_subscriptions = pd.read_sql_query(f'select * from {schema}.{table_name}', engine)\n"
   ]
  },
  {
   "cell_type": "code",
   "execution_count": 6,
   "metadata": {},
   "outputs": [],
   "source": [
    "table_name = 'playbacks'\n",
    "df_playbacks = pd.read_sql_query(f'select * from {schema}.{table_name}', engine)\n"
   ]
  },
  {
   "attachments": {},
   "cell_type": "markdown",
   "metadata": {},
   "source": [
    "## Truncating subscription dates"
   ]
  },
  {
   "attachments": {},
   "cell_type": "markdown",
   "metadata": {},
   "source": [
    "### Truncate subscription start date according to our time period "
   ]
  },
  {
   "cell_type": "code",
   "execution_count": 7,
   "metadata": {},
   "outputs": [],
   "source": [
    "# define new EDA table\n",
    "df_subscriptions_eda = df_subscriptions"
   ]
  },
  {
   "cell_type": "code",
   "execution_count": 8,
   "metadata": {},
   "outputs": [],
   "source": [
    "# truncating subscription start to 01.10.2020 if subscription started before\n",
    "df_subscriptions_eda['subscription_start_adj_period'] = df_subscriptions['subscription_start'].apply(lambda x: x if str(x) > '2020-10-01' else '2020-10-01')"
   ]
  },
  {
   "cell_type": "code",
   "execution_count": 9,
   "metadata": {},
   "outputs": [],
   "source": [
    "#set data types for subscription dates to datetime\n",
    "df_subscriptions_eda['subscription_start_adj_period'] = pd.to_datetime(df_subscriptions_eda['subscription_start_adj_period'])"
   ]
  },
  {
   "cell_type": "code",
   "execution_count": 10,
   "metadata": {},
   "outputs": [],
   "source": [
    "#create new column and calculate new subscription duration\n",
    "df_subscriptions_eda['subscription_months_raw_adj_period'] = ((df_subscriptions_eda.subscription_end) - df_subscriptions_eda.subscription_start_adj_period)/np.timedelta64(1, 'M')"
   ]
  },
  {
   "cell_type": "code",
   "execution_count": 11,
   "metadata": {},
   "outputs": [],
   "source": [
    "#create new column for rounded subscription months for easier further processing\n",
    "#generally round up from 0.1 to be able to allow some discrepancies due to day to day calculation of subscription duration (deduct 0.1 to be able to use .ceil)\n",
    "df_subscriptions_eda['subscription_months_adj_period'] = df_subscriptions_eda['subscription_months_raw_adj_period'] - 0.1\n",
    "df_subscriptions_eda['subscription_months_adj_period'] = df_subscriptions_eda['subscription_months_adj_period'].apply(np.ceil)"
   ]
  },
  {
   "attachments": {},
   "cell_type": "markdown",
   "metadata": {},
   "source": [
    "# Vouchers\n"
   ]
  },
  {
   "attachments": {},
   "cell_type": "markdown",
   "metadata": {},
   "source": [
    "### First subscription date per account"
   ]
  },
  {
   "cell_type": "code",
   "execution_count": 12,
   "metadata": {},
   "outputs": [],
   "source": [
    "# make new table for the first subscription date per account\n",
    "df_account_sub_min_date = df_subscriptions.groupby('account_key')['subscription_start'].min()"
   ]
  },
  {
   "cell_type": "code",
   "execution_count": 22,
   "metadata": {},
   "outputs": [],
   "source": [
    "# merge with subscriptions EDA and accounts EDA table\n",
    "df_subscriptions_eda = pd.merge(df_subscriptions_eda, df_account_sub_min_date, on='account_key', how='left')\n",
    "df_accounts_eda = pd.merge(df_accounts, df_account_sub_min_date, on='account_key', how='left')"
   ]
  },
  {
   "cell_type": "code",
   "execution_count": 23,
   "metadata": {},
   "outputs": [],
   "source": [
    "# rename columns\n",
    "df_subscriptions_eda.rename(columns = {'subscription_start_y':'min_subscription_start'}, inplace = True)\n",
    "df_accounts_eda.rename(columns = {'subscription_start':'min_subscription_start'}, inplace = True)\n"
   ]
  },
  {
   "attachments": {},
   "cell_type": "markdown",
   "metadata": {},
   "source": [
    "### First voucher created per account"
   ]
  },
  {
   "cell_type": "code",
   "execution_count": 16,
   "metadata": {},
   "outputs": [],
   "source": [
    "# make new table for first voucher creation date per account\n",
    "df_voucher_min_date = df_vouchers.groupby('email_hash_receiver')['creation_date'].min()"
   ]
  },
  {
   "cell_type": "code",
   "execution_count": 25,
   "metadata": {},
   "outputs": [],
   "source": [
    "# merge with accounts EDA table\n",
    "df_accounts_eda = pd.merge(df_accounts_eda, df_voucher_min_date, left_on='email_hash', right_on='email_hash_receiver', how='left')"
   ]
  },
  {
   "cell_type": "code",
   "execution_count": 27,
   "metadata": {},
   "outputs": [],
   "source": [
    "# rename column\n",
    "df_accounts_eda.rename(columns = {'creation_date':'min_voucher_creation_date'}, inplace = True)\n"
   ]
  },
  {
   "attachments": {},
   "cell_type": "markdown",
   "metadata": {},
   "source": [
    "### First One Time Rental (OTR) date per account"
   ]
  },
  {
   "cell_type": "code",
   "execution_count": 110,
   "metadata": {},
   "outputs": [],
   "source": [
    "# make new table only for OTR playbacks\n",
    "df_otr_playbacks = df_playbacks.query('subscription_playback == 0')"
   ]
  },
  {
   "cell_type": "code",
   "execution_count": 112,
   "metadata": {},
   "outputs": [],
   "source": [
    "# make new table for first OTR playback per account\n",
    "df_otr_playbacks_min = df_otr_playbacks.groupby('account_key')['date_start'].min()"
   ]
  },
  {
   "cell_type": "code",
   "execution_count": 113,
   "metadata": {},
   "outputs": [],
   "source": [
    "# merge with accounts EDA table\n",
    "df_accounts_eda = pd.merge(df_accounts_eda, df_otr_playbacks_min, on='account_key', how='left')"
   ]
  },
  {
   "cell_type": "code",
   "execution_count": 138,
   "metadata": {},
   "outputs": [],
   "source": [
    "# rename columns\n",
    "df_accounts_eda.rename(columns = {'date_start':'min_otr_playback'}, inplace = True)\n"
   ]
  },
  {
   "attachments": {},
   "cell_type": "markdown",
   "metadata": {},
   "source": [
    "## Push to SQL"
   ]
  },
  {
   "cell_type": "code",
   "execution_count": 117,
   "metadata": {},
   "outputs": [],
   "source": [
    "schema = 'capstone_filmingo' \n",
    "engine = get_engine()"
   ]
  },
  {
   "cell_type": "code",
   "execution_count": 139,
   "metadata": {},
   "outputs": [
    {
     "name": "stdout",
     "output_type": "stream",
     "text": [
      "The accounts_eda table was imported successfully.\n"
     ]
    }
   ],
   "source": [
    "# table_name = 'accounts_eda'\n",
    "\n",
    "# if engine!=None:\n",
    "#     try:\n",
    "#         df_accounts_eda.to_sql(name=table_name, # Name of SQL table\n",
    "#                         con=engine, # Engine or connection\n",
    "#                         if_exists='replace', # Drop the table before inserting new values \n",
    "#                         schema=schema, # Use schema that was defined earlier\n",
    "#                         index=False, # Write DataFrame index as a column\n",
    "#                         chunksize=5000, # Specify the number of rows in each batch to be written at a time\n",
    "#                         method='multi') # Pass multiple values in a single INSERT clause\n",
    "#         print(f\"The {table_name} table was imported successfully.\")\n",
    "#     # Error handling\n",
    "#     except (Exception, psycopg2.DatabaseError) as error:\n",
    "#         print(error)\n",
    "#         engine = None\n",
    "# else:\n",
    "#      print('Push did not work')"
   ]
  },
  {
   "cell_type": "code",
   "execution_count": 140,
   "metadata": {},
   "outputs": [
    {
     "data": {
      "text/plain": [
       "True"
      ]
     },
     "execution_count": 140,
     "metadata": {},
     "output_type": "execute_result"
    }
   ],
   "source": [
    "# Just to be sure: Check if the number of rows match\n",
    "table_name_sql = f'''SELECT count(*) \n",
    "                    FROM {schema}.{table_name}\n",
    "                    '''\n",
    "engine.execute(table_name_sql).fetchall()[0][0] == df_accounts_eda.shape[0]"
   ]
  },
  {
   "attachments": {},
   "cell_type": "markdown",
   "metadata": {},
   "source": [
    "# Gifted Subscriptions"
   ]
  },
  {
   "cell_type": "code",
   "execution_count": 120,
   "metadata": {},
   "outputs": [
    {
     "data": {
      "text/html": [
       "<div>\n",
       "<style scoped>\n",
       "    .dataframe tbody tr th:only-of-type {\n",
       "        vertical-align: middle;\n",
       "    }\n",
       "\n",
       "    .dataframe tbody tr th {\n",
       "        vertical-align: top;\n",
       "    }\n",
       "\n",
       "    .dataframe thead th {\n",
       "        text-align: right;\n",
       "    }\n",
       "</style>\n",
       "<table border=\"1\" class=\"dataframe\">\n",
       "  <thead>\n",
       "    <tr style=\"text-align: right;\">\n",
       "      <th></th>\n",
       "      <th>subscription_key</th>\n",
       "      <th>account_key</th>\n",
       "      <th>currency</th>\n",
       "      <th>price</th>\n",
       "      <th>subscription_type</th>\n",
       "      <th>subscription_monthly</th>\n",
       "      <th>subscription_start_x</th>\n",
       "      <th>subscription_end</th>\n",
       "      <th>gift_subscription</th>\n",
       "      <th>subscription_months_raw</th>\n",
       "      <th>subscription_months</th>\n",
       "      <th>price_chf</th>\n",
       "      <th>price_eur</th>\n",
       "      <th>total_price_chf</th>\n",
       "      <th>total_price_eur</th>\n",
       "      <th>subscription_start_truncate</th>\n",
       "      <th>subscription_start_adj_period</th>\n",
       "      <th>subscription_months_raw_adj_period</th>\n",
       "      <th>subscription_months_adj_period</th>\n",
       "      <th>min_subscription_start</th>\n",
       "    </tr>\n",
       "  </thead>\n",
       "  <tbody>\n",
       "    <tr>\n",
       "      <th>0</th>\n",
       "      <td>1b82b2308dcae546ad0194d03b9d23edd5d2781109de28...</td>\n",
       "      <td>ab1bcf2c1b8d4eb422079becc0c59b1c7db2fd009235d2...</td>\n",
       "      <td>chf</td>\n",
       "      <td>90.0</td>\n",
       "      <td>BASIC</td>\n",
       "      <td>0</td>\n",
       "      <td>2017-02-24</td>\n",
       "      <td>2021-02-23</td>\n",
       "      <td>False</td>\n",
       "      <td>47.968131</td>\n",
       "      <td>48.0</td>\n",
       "      <td>90.0</td>\n",
       "      <td>75.0</td>\n",
       "      <td>360.0</td>\n",
       "      <td>300.0</td>\n",
       "      <td>2020-10-01</td>\n",
       "      <td>2020-10-01</td>\n",
       "      <td>4.763958</td>\n",
       "      <td>5.0</td>\n",
       "      <td>2017-02-24</td>\n",
       "    </tr>\n",
       "    <tr>\n",
       "      <th>1</th>\n",
       "      <td>4cb9f67d44d60eca0485270d73b3028143021296081847...</td>\n",
       "      <td>ee1a45a439dc6968f1cfc2b9840264deeada4c0d93f389...</td>\n",
       "      <td>chf</td>\n",
       "      <td>90.0</td>\n",
       "      <td>BASIC</td>\n",
       "      <td>0</td>\n",
       "      <td>2017-08-21</td>\n",
       "      <td>2023-08-20</td>\n",
       "      <td>False</td>\n",
       "      <td>71.952196</td>\n",
       "      <td>72.0</td>\n",
       "      <td>90.0</td>\n",
       "      <td>75.0</td>\n",
       "      <td>540.0</td>\n",
       "      <td>450.0</td>\n",
       "      <td>2020-10-01</td>\n",
       "      <td>2020-10-01</td>\n",
       "      <td>34.596193</td>\n",
       "      <td>35.0</td>\n",
       "      <td>2017-08-21</td>\n",
       "    </tr>\n",
       "    <tr>\n",
       "      <th>2</th>\n",
       "      <td>40f9e218b70a6f482ecfcde0011305d93fa6059f624a50...</td>\n",
       "      <td>8bf8f58e615549df5f05b717b6e914da80e213edab3dba...</td>\n",
       "      <td>chf</td>\n",
       "      <td>9.0</td>\n",
       "      <td>BASIC</td>\n",
       "      <td>1</td>\n",
       "      <td>2017-09-26</td>\n",
       "      <td>2022-10-08</td>\n",
       "      <td>False</td>\n",
       "      <td>60.387277</td>\n",
       "      <td>61.0</td>\n",
       "      <td>9.0</td>\n",
       "      <td>7.5</td>\n",
       "      <td>549.0</td>\n",
       "      <td>457.5</td>\n",
       "      <td>2020-10-01</td>\n",
       "      <td>2020-10-01</td>\n",
       "      <td>24.214050</td>\n",
       "      <td>25.0</td>\n",
       "      <td>2017-09-26</td>\n",
       "    </tr>\n",
       "    <tr>\n",
       "      <th>3</th>\n",
       "      <td>69d21e601612cc97fc7df9bd17a281879f785358d1c681...</td>\n",
       "      <td>cf914aa939499e8e18fdd9494fce5297b9dce2e1f909ea...</td>\n",
       "      <td>chf</td>\n",
       "      <td>90.0</td>\n",
       "      <td>BASIC</td>\n",
       "      <td>0</td>\n",
       "      <td>2017-09-28</td>\n",
       "      <td>2021-09-27</td>\n",
       "      <td>False</td>\n",
       "      <td>47.968131</td>\n",
       "      <td>48.0</td>\n",
       "      <td>90.0</td>\n",
       "      <td>75.0</td>\n",
       "      <td>360.0</td>\n",
       "      <td>300.0</td>\n",
       "      <td>2020-10-01</td>\n",
       "      <td>2020-10-01</td>\n",
       "      <td>11.860613</td>\n",
       "      <td>12.0</td>\n",
       "      <td>2017-09-28</td>\n",
       "    </tr>\n",
       "    <tr>\n",
       "      <th>4</th>\n",
       "      <td>29f98a3154a679f2fe953b1f3b148ddffcb28e60fff719...</td>\n",
       "      <td>8759ab0e44c1cf688770220cf1b87efac2726baca6bfcb...</td>\n",
       "      <td>eur</td>\n",
       "      <td>11.0</td>\n",
       "      <td>STANDARD</td>\n",
       "      <td>1</td>\n",
       "      <td>2017-10-13</td>\n",
       "      <td>2021-10-12</td>\n",
       "      <td>False</td>\n",
       "      <td>47.968131</td>\n",
       "      <td>48.0</td>\n",
       "      <td>15.0</td>\n",
       "      <td>12.5</td>\n",
       "      <td>720.0</td>\n",
       "      <td>600.0</td>\n",
       "      <td>2020-10-01</td>\n",
       "      <td>2020-10-01</td>\n",
       "      <td>12.353436</td>\n",
       "      <td>13.0</td>\n",
       "      <td>2017-10-13</td>\n",
       "    </tr>\n",
       "  </tbody>\n",
       "</table>\n",
       "</div>"
      ],
      "text/plain": [
       "                                    subscription_key  \\\n",
       "0  1b82b2308dcae546ad0194d03b9d23edd5d2781109de28...   \n",
       "1  4cb9f67d44d60eca0485270d73b3028143021296081847...   \n",
       "2  40f9e218b70a6f482ecfcde0011305d93fa6059f624a50...   \n",
       "3  69d21e601612cc97fc7df9bd17a281879f785358d1c681...   \n",
       "4  29f98a3154a679f2fe953b1f3b148ddffcb28e60fff719...   \n",
       "\n",
       "                                         account_key currency  price  \\\n",
       "0  ab1bcf2c1b8d4eb422079becc0c59b1c7db2fd009235d2...      chf   90.0   \n",
       "1  ee1a45a439dc6968f1cfc2b9840264deeada4c0d93f389...      chf   90.0   \n",
       "2  8bf8f58e615549df5f05b717b6e914da80e213edab3dba...      chf    9.0   \n",
       "3  cf914aa939499e8e18fdd9494fce5297b9dce2e1f909ea...      chf   90.0   \n",
       "4  8759ab0e44c1cf688770220cf1b87efac2726baca6bfcb...      eur   11.0   \n",
       "\n",
       "  subscription_type  subscription_monthly subscription_start_x  \\\n",
       "0             BASIC                     0           2017-02-24   \n",
       "1             BASIC                     0           2017-08-21   \n",
       "2             BASIC                     1           2017-09-26   \n",
       "3             BASIC                     0           2017-09-28   \n",
       "4          STANDARD                     1           2017-10-13   \n",
       "\n",
       "  subscription_end  gift_subscription  subscription_months_raw  \\\n",
       "0       2021-02-23              False                47.968131   \n",
       "1       2023-08-20              False                71.952196   \n",
       "2       2022-10-08              False                60.387277   \n",
       "3       2021-09-27              False                47.968131   \n",
       "4       2021-10-12              False                47.968131   \n",
       "\n",
       "   subscription_months  price_chf  price_eur total_price_chf total_price_eur  \\\n",
       "0                 48.0       90.0       75.0           360.0           300.0   \n",
       "1                 72.0       90.0       75.0           540.0           450.0   \n",
       "2                 61.0        9.0        7.5           549.0           457.5   \n",
       "3                 48.0       90.0       75.0           360.0           300.0   \n",
       "4                 48.0       15.0       12.5           720.0           600.0   \n",
       "\n",
       "  subscription_start_truncate subscription_start_adj_period  \\\n",
       "0                  2020-10-01                    2020-10-01   \n",
       "1                  2020-10-01                    2020-10-01   \n",
       "2                  2020-10-01                    2020-10-01   \n",
       "3                  2020-10-01                    2020-10-01   \n",
       "4                  2020-10-01                    2020-10-01   \n",
       "\n",
       "   subscription_months_raw_adj_period  subscription_months_adj_period  \\\n",
       "0                            4.763958                             5.0   \n",
       "1                           34.596193                            35.0   \n",
       "2                           24.214050                            25.0   \n",
       "3                           11.860613                            12.0   \n",
       "4                           12.353436                            13.0   \n",
       "\n",
       "  min_subscription_start  \n",
       "0             2017-02-24  \n",
       "1             2017-08-21  \n",
       "2             2017-09-26  \n",
       "3             2017-09-28  \n",
       "4             2017-10-13  "
      ]
     },
     "execution_count": 120,
     "metadata": {},
     "output_type": "execute_result"
    }
   ],
   "source": [
    "df_subscriptions_eda.head()"
   ]
  },
  {
   "cell_type": "code",
   "execution_count": 121,
   "metadata": {},
   "outputs": [],
   "source": [
    "# make tables with only gifted/paid subs\n",
    "gifted_df_subscriptions = df_subscriptions.query('gift_subscription == True')\n",
    "paid_df_subscriptions = df_subscriptions.query('gift_subscription == False')"
   ]
  },
  {
   "cell_type": "code",
   "execution_count": 122,
   "metadata": {},
   "outputs": [],
   "source": [
    "# make tables with minimum start date of gifted/paid subscriptions\n",
    "gifted_sub_min_date = gifted_df_subscriptions.groupby('account_key')['subscription_start'].min()\n",
    "paid_sub_min_date = paid_df_subscriptions.groupby('account_key')['subscription_start'].min()"
   ]
  },
  {
   "cell_type": "code",
   "execution_count": 123,
   "metadata": {},
   "outputs": [],
   "source": [
    "# merge into a new subscription EDA dataframe\n",
    "df_subscriptions_eda = pd.merge(df_subscriptions_eda, gifted_sub_min_date, on='account_key', how='left')"
   ]
  },
  {
   "cell_type": "code",
   "execution_count": 124,
   "metadata": {},
   "outputs": [
    {
     "name": "stderr",
     "output_type": "stream",
     "text": [
      "/var/folders/kv/lzhtj_957qz928sbb_bt_v1w0000gn/T/ipykernel_97826/92812058.py:2: FutureWarning: Passing 'suffixes' which cause duplicate columns {'subscription_start_x'} in the result is deprecated and will raise a MergeError in a future version.\n",
      "  df_subscriptions_eda = pd.merge(df_subscriptions_eda, paid_sub_min_date, on='account_key', how='left')\n"
     ]
    }
   ],
   "source": [
    "# merge into a new subscription EDA dataframe\n",
    "df_subscriptions_eda = pd.merge(df_subscriptions_eda, paid_sub_min_date, on='account_key', how='left')"
   ]
  },
  {
   "cell_type": "code",
   "execution_count": 125,
   "metadata": {},
   "outputs": [],
   "source": [
    "df_subscriptions_eda.rename(columns = {'subscription_start_x':'subscription_start', 'subscription_start_y':'min_gifted_subscription', 'subscription_start':'min_paid_subscription'}, inplace = True)\n"
   ]
  },
  {
   "cell_type": "code",
   "execution_count": null,
   "metadata": {},
   "outputs": [],
   "source": []
  },
  {
   "attachments": {},
   "cell_type": "markdown",
   "metadata": {},
   "source": [
    "## Push to SQL"
   ]
  },
  {
   "cell_type": "code",
   "execution_count": 126,
   "metadata": {},
   "outputs": [],
   "source": [
    "schema = 'capstone_filmingo' \n",
    "engine = get_engine()"
   ]
  },
  {
   "cell_type": "code",
   "execution_count": 132,
   "metadata": {},
   "outputs": [
    {
     "name": "stdout",
     "output_type": "stream",
     "text": [
      "The subscriptions_eda table was imported successfully.\n"
     ]
    }
   ],
   "source": [
    "# table_name = 'subscriptions_eda'\n",
    "\n",
    "# if engine!=None:\n",
    "#     try:\n",
    "#         df_subscriptions_eda.to_sql(name=table_name, # Name of SQL table\n",
    "#                         con=engine, # Engine or connection\n",
    "#                         if_exists='replace', # Drop the table before inserting new values \n",
    "#                         schema=schema, # Use schema that was defined earlier\n",
    "#                         index=False, # Write DataFrame index as a column\n",
    "#                         chunksize=5000, # Specify the number of rows in each batch to be written at a time\n",
    "#                         method='multi') # Pass multiple values in a single INSERT clause\n",
    "#         print(f\"The {table_name} table was imported successfully.\")\n",
    "#     # Error handling\n",
    "#     except (Exception, psycopg2.DatabaseError) as error:\n",
    "#         print(error)\n",
    "#         engine = None\n",
    "# else:\n",
    "#      print('Push did not work')"
   ]
  },
  {
   "cell_type": "code",
   "execution_count": 133,
   "metadata": {},
   "outputs": [
    {
     "data": {
      "text/plain": [
       "True"
      ]
     },
     "execution_count": 133,
     "metadata": {},
     "output_type": "execute_result"
    }
   ],
   "source": [
    "# Just to be sure: Check if the number of rows match\n",
    "table_name_sql = f'''SELECT count(*) \n",
    "                    FROM {schema}.{table_name}\n",
    "                    '''\n",
    "engine.execute(table_name_sql).fetchall()[0][0] == df_subscriptions_eda.shape[0]"
   ]
  },
  {
   "cell_type": "markdown",
   "metadata": {},
   "source": [
    "## tests"
   ]
  },
  {
   "cell_type": "code",
   "execution_count": 129,
   "metadata": {},
   "outputs": [
    {
     "data": {
      "text/html": [
       "<div>\n",
       "<style scoped>\n",
       "    .dataframe tbody tr th:only-of-type {\n",
       "        vertical-align: middle;\n",
       "    }\n",
       "\n",
       "    .dataframe tbody tr th {\n",
       "        vertical-align: top;\n",
       "    }\n",
       "\n",
       "    .dataframe thead th {\n",
       "        text-align: right;\n",
       "    }\n",
       "</style>\n",
       "<table border=\"1\" class=\"dataframe\">\n",
       "  <thead>\n",
       "    <tr style=\"text-align: right;\">\n",
       "      <th></th>\n",
       "      <th>subscription_key</th>\n",
       "      <th>account_key</th>\n",
       "      <th>currency</th>\n",
       "      <th>price</th>\n",
       "      <th>subscription_type</th>\n",
       "      <th>subscription_monthly</th>\n",
       "      <th>subscription_start</th>\n",
       "      <th>subscription_end</th>\n",
       "      <th>gift_subscription</th>\n",
       "      <th>subscription_months_raw</th>\n",
       "      <th>...</th>\n",
       "      <th>price_eur</th>\n",
       "      <th>total_price_chf</th>\n",
       "      <th>total_price_eur</th>\n",
       "      <th>subscription_start_truncate</th>\n",
       "      <th>subscription_start_adj_period</th>\n",
       "      <th>subscription_months_raw_adj_period</th>\n",
       "      <th>subscription_months_adj_period</th>\n",
       "      <th>min_subscription_start</th>\n",
       "      <th>subscription_start</th>\n",
       "      <th>min_gifted_subscription</th>\n",
       "    </tr>\n",
       "  </thead>\n",
       "  <tbody>\n",
       "    <tr>\n",
       "      <th>0</th>\n",
       "      <td>1b82b2308dcae546ad0194d03b9d23edd5d2781109de28...</td>\n",
       "      <td>ab1bcf2c1b8d4eb422079becc0c59b1c7db2fd009235d2...</td>\n",
       "      <td>chf</td>\n",
       "      <td>90.0</td>\n",
       "      <td>BASIC</td>\n",
       "      <td>0</td>\n",
       "      <td>2017-02-24</td>\n",
       "      <td>2021-02-23</td>\n",
       "      <td>False</td>\n",
       "      <td>47.968131</td>\n",
       "      <td>...</td>\n",
       "      <td>75.0</td>\n",
       "      <td>360.0</td>\n",
       "      <td>300.0</td>\n",
       "      <td>2020-10-01</td>\n",
       "      <td>2020-10-01</td>\n",
       "      <td>4.763958</td>\n",
       "      <td>5.0</td>\n",
       "      <td>2017-02-24</td>\n",
       "      <td>NaT</td>\n",
       "      <td>2017-02-24</td>\n",
       "    </tr>\n",
       "    <tr>\n",
       "      <th>1</th>\n",
       "      <td>4cb9f67d44d60eca0485270d73b3028143021296081847...</td>\n",
       "      <td>ee1a45a439dc6968f1cfc2b9840264deeada4c0d93f389...</td>\n",
       "      <td>chf</td>\n",
       "      <td>90.0</td>\n",
       "      <td>BASIC</td>\n",
       "      <td>0</td>\n",
       "      <td>2017-08-21</td>\n",
       "      <td>2023-08-20</td>\n",
       "      <td>False</td>\n",
       "      <td>71.952196</td>\n",
       "      <td>...</td>\n",
       "      <td>75.0</td>\n",
       "      <td>540.0</td>\n",
       "      <td>450.0</td>\n",
       "      <td>2020-10-01</td>\n",
       "      <td>2020-10-01</td>\n",
       "      <td>34.596193</td>\n",
       "      <td>35.0</td>\n",
       "      <td>2017-08-21</td>\n",
       "      <td>NaT</td>\n",
       "      <td>2017-08-21</td>\n",
       "    </tr>\n",
       "    <tr>\n",
       "      <th>2</th>\n",
       "      <td>40f9e218b70a6f482ecfcde0011305d93fa6059f624a50...</td>\n",
       "      <td>8bf8f58e615549df5f05b717b6e914da80e213edab3dba...</td>\n",
       "      <td>chf</td>\n",
       "      <td>9.0</td>\n",
       "      <td>BASIC</td>\n",
       "      <td>1</td>\n",
       "      <td>2017-09-26</td>\n",
       "      <td>2022-10-08</td>\n",
       "      <td>False</td>\n",
       "      <td>60.387277</td>\n",
       "      <td>...</td>\n",
       "      <td>7.5</td>\n",
       "      <td>549.0</td>\n",
       "      <td>457.5</td>\n",
       "      <td>2020-10-01</td>\n",
       "      <td>2020-10-01</td>\n",
       "      <td>24.214050</td>\n",
       "      <td>25.0</td>\n",
       "      <td>2017-09-26</td>\n",
       "      <td>NaT</td>\n",
       "      <td>2017-09-26</td>\n",
       "    </tr>\n",
       "    <tr>\n",
       "      <th>3</th>\n",
       "      <td>69d21e601612cc97fc7df9bd17a281879f785358d1c681...</td>\n",
       "      <td>cf914aa939499e8e18fdd9494fce5297b9dce2e1f909ea...</td>\n",
       "      <td>chf</td>\n",
       "      <td>90.0</td>\n",
       "      <td>BASIC</td>\n",
       "      <td>0</td>\n",
       "      <td>2017-09-28</td>\n",
       "      <td>2021-09-27</td>\n",
       "      <td>False</td>\n",
       "      <td>47.968131</td>\n",
       "      <td>...</td>\n",
       "      <td>75.0</td>\n",
       "      <td>360.0</td>\n",
       "      <td>300.0</td>\n",
       "      <td>2020-10-01</td>\n",
       "      <td>2020-10-01</td>\n",
       "      <td>11.860613</td>\n",
       "      <td>12.0</td>\n",
       "      <td>2017-09-28</td>\n",
       "      <td>NaT</td>\n",
       "      <td>2017-09-28</td>\n",
       "    </tr>\n",
       "    <tr>\n",
       "      <th>4</th>\n",
       "      <td>29f98a3154a679f2fe953b1f3b148ddffcb28e60fff719...</td>\n",
       "      <td>8759ab0e44c1cf688770220cf1b87efac2726baca6bfcb...</td>\n",
       "      <td>eur</td>\n",
       "      <td>11.0</td>\n",
       "      <td>STANDARD</td>\n",
       "      <td>1</td>\n",
       "      <td>2017-10-13</td>\n",
       "      <td>2021-10-12</td>\n",
       "      <td>False</td>\n",
       "      <td>47.968131</td>\n",
       "      <td>...</td>\n",
       "      <td>12.5</td>\n",
       "      <td>720.0</td>\n",
       "      <td>600.0</td>\n",
       "      <td>2020-10-01</td>\n",
       "      <td>2020-10-01</td>\n",
       "      <td>12.353436</td>\n",
       "      <td>13.0</td>\n",
       "      <td>2017-10-13</td>\n",
       "      <td>NaT</td>\n",
       "      <td>2017-10-13</td>\n",
       "    </tr>\n",
       "  </tbody>\n",
       "</table>\n",
       "<p>5 rows × 22 columns</p>\n",
       "</div>"
      ],
      "text/plain": [
       "                                    subscription_key  \\\n",
       "0  1b82b2308dcae546ad0194d03b9d23edd5d2781109de28...   \n",
       "1  4cb9f67d44d60eca0485270d73b3028143021296081847...   \n",
       "2  40f9e218b70a6f482ecfcde0011305d93fa6059f624a50...   \n",
       "3  69d21e601612cc97fc7df9bd17a281879f785358d1c681...   \n",
       "4  29f98a3154a679f2fe953b1f3b148ddffcb28e60fff719...   \n",
       "\n",
       "                                         account_key currency  price  \\\n",
       "0  ab1bcf2c1b8d4eb422079becc0c59b1c7db2fd009235d2...      chf   90.0   \n",
       "1  ee1a45a439dc6968f1cfc2b9840264deeada4c0d93f389...      chf   90.0   \n",
       "2  8bf8f58e615549df5f05b717b6e914da80e213edab3dba...      chf    9.0   \n",
       "3  cf914aa939499e8e18fdd9494fce5297b9dce2e1f909ea...      chf   90.0   \n",
       "4  8759ab0e44c1cf688770220cf1b87efac2726baca6bfcb...      eur   11.0   \n",
       "\n",
       "  subscription_type  subscription_monthly  subscription_start  \\\n",
       "0             BASIC                     0          2017-02-24   \n",
       "1             BASIC                     0          2017-08-21   \n",
       "2             BASIC                     1          2017-09-26   \n",
       "3             BASIC                     0          2017-09-28   \n",
       "4          STANDARD                     1          2017-10-13   \n",
       "\n",
       "  subscription_end  gift_subscription  subscription_months_raw  ...  \\\n",
       "0       2021-02-23              False                47.968131  ...   \n",
       "1       2023-08-20              False                71.952196  ...   \n",
       "2       2022-10-08              False                60.387277  ...   \n",
       "3       2021-09-27              False                47.968131  ...   \n",
       "4       2021-10-12              False                47.968131  ...   \n",
       "\n",
       "   price_eur  total_price_chf  total_price_eur subscription_start_truncate  \\\n",
       "0       75.0            360.0            300.0                  2020-10-01   \n",
       "1       75.0            540.0            450.0                  2020-10-01   \n",
       "2        7.5            549.0            457.5                  2020-10-01   \n",
       "3       75.0            360.0            300.0                  2020-10-01   \n",
       "4       12.5            720.0            600.0                  2020-10-01   \n",
       "\n",
       "  subscription_start_adj_period subscription_months_raw_adj_period  \\\n",
       "0                    2020-10-01                           4.763958   \n",
       "1                    2020-10-01                          34.596193   \n",
       "2                    2020-10-01                          24.214050   \n",
       "3                    2020-10-01                          11.860613   \n",
       "4                    2020-10-01                          12.353436   \n",
       "\n",
       "  subscription_months_adj_period  min_subscription_start  subscription_start  \\\n",
       "0                            5.0              2017-02-24                 NaT   \n",
       "1                           35.0              2017-08-21                 NaT   \n",
       "2                           25.0              2017-09-26                 NaT   \n",
       "3                           12.0              2017-09-28                 NaT   \n",
       "4                           13.0              2017-10-13                 NaT   \n",
       "\n",
       "  min_gifted_subscription  \n",
       "0              2017-02-24  \n",
       "1              2017-08-21  \n",
       "2              2017-09-26  \n",
       "3              2017-09-28  \n",
       "4              2017-10-13  \n",
       "\n",
       "[5 rows x 22 columns]"
      ]
     },
     "execution_count": 129,
     "metadata": {},
     "output_type": "execute_result"
    }
   ],
   "source": [
    "df_subscriptions_eda.head()"
   ]
  },
  {
   "cell_type": "code",
   "execution_count": 130,
   "metadata": {},
   "outputs": [
    {
     "data": {
      "text/html": [
       "<div>\n",
       "<style scoped>\n",
       "    .dataframe tbody tr th:only-of-type {\n",
       "        vertical-align: middle;\n",
       "    }\n",
       "\n",
       "    .dataframe tbody tr th {\n",
       "        vertical-align: top;\n",
       "    }\n",
       "\n",
       "    .dataframe thead th {\n",
       "        text-align: right;\n",
       "    }\n",
       "</style>\n",
       "<table border=\"1\" class=\"dataframe\">\n",
       "  <thead>\n",
       "    <tr style=\"text-align: right;\">\n",
       "      <th></th>\n",
       "      <th>subscription_key</th>\n",
       "      <th>account_key</th>\n",
       "      <th>currency</th>\n",
       "      <th>price</th>\n",
       "      <th>subscription_type</th>\n",
       "      <th>subscription_monthly</th>\n",
       "      <th>subscription_start</th>\n",
       "      <th>subscription_end</th>\n",
       "      <th>gift_subscription</th>\n",
       "      <th>subscription_months_raw</th>\n",
       "      <th>...</th>\n",
       "      <th>price_eur</th>\n",
       "      <th>total_price_chf</th>\n",
       "      <th>total_price_eur</th>\n",
       "      <th>subscription_start_truncate</th>\n",
       "      <th>subscription_start_adj_period</th>\n",
       "      <th>subscription_months_raw_adj_period</th>\n",
       "      <th>subscription_months_adj_period</th>\n",
       "      <th>min_subscription_start</th>\n",
       "      <th>subscription_start</th>\n",
       "      <th>min_gifted_subscription</th>\n",
       "    </tr>\n",
       "  </thead>\n",
       "  <tbody>\n",
       "    <tr>\n",
       "      <th>5649</th>\n",
       "      <td>c67a2878182d37de8a0c84261fe72607025aaedd5ecb1e...</td>\n",
       "      <td>1c1b404383a521430af05c648cf1b6e76dda59cb26218d...</td>\n",
       "      <td>chf</td>\n",
       "      <td>NaN</td>\n",
       "      <td>BASIC</td>\n",
       "      <td>0</td>\n",
       "      <td>2020-12-27</td>\n",
       "      <td>2021-06-26</td>\n",
       "      <td>True</td>\n",
       "      <td>5.946734</td>\n",
       "      <td>...</td>\n",
       "      <td>75.0</td>\n",
       "      <td>49</td>\n",
       "      <td>41</td>\n",
       "      <td>2020-12-27 00:00:00</td>\n",
       "      <td>2020-12-27</td>\n",
       "      <td>5.946734</td>\n",
       "      <td>6.0</td>\n",
       "      <td>2020-12-27</td>\n",
       "      <td>2020-12-27</td>\n",
       "      <td>2021-12-27</td>\n",
       "    </tr>\n",
       "    <tr>\n",
       "      <th>9892</th>\n",
       "      <td>80a0030f578a70bf5ca9b65027a6dc956dc96221d5696e...</td>\n",
       "      <td>1c1b404383a521430af05c648cf1b6e76dda59cb26218d...</td>\n",
       "      <td>chf</td>\n",
       "      <td>9.0</td>\n",
       "      <td>BASIC</td>\n",
       "      <td>1</td>\n",
       "      <td>2021-12-27</td>\n",
       "      <td>2022-01-23</td>\n",
       "      <td>False</td>\n",
       "      <td>0.887082</td>\n",
       "      <td>...</td>\n",
       "      <td>7.5</td>\n",
       "      <td>9.0</td>\n",
       "      <td>7.5</td>\n",
       "      <td>2021-12-27 00:00:00</td>\n",
       "      <td>2021-12-27</td>\n",
       "      <td>0.887082</td>\n",
       "      <td>1.0</td>\n",
       "      <td>2020-12-27</td>\n",
       "      <td>2020-12-27</td>\n",
       "      <td>2021-12-27</td>\n",
       "    </tr>\n",
       "    <tr>\n",
       "      <th>10265</th>\n",
       "      <td>9bafc28c684246a7e1c3f8c6e8422ceb08fc8cba878d73...</td>\n",
       "      <td>1c1b404383a521430af05c648cf1b6e76dda59cb26218d...</td>\n",
       "      <td>chf</td>\n",
       "      <td>90.0</td>\n",
       "      <td>BASIC</td>\n",
       "      <td>0</td>\n",
       "      <td>2022-01-23</td>\n",
       "      <td>2023-01-22</td>\n",
       "      <td>False</td>\n",
       "      <td>11.959178</td>\n",
       "      <td>...</td>\n",
       "      <td>75.0</td>\n",
       "      <td>90.0</td>\n",
       "      <td>75.0</td>\n",
       "      <td>2022-01-23 00:00:00</td>\n",
       "      <td>2022-01-23</td>\n",
       "      <td>11.959178</td>\n",
       "      <td>12.0</td>\n",
       "      <td>2020-12-27</td>\n",
       "      <td>2020-12-27</td>\n",
       "      <td>2021-12-27</td>\n",
       "    </tr>\n",
       "  </tbody>\n",
       "</table>\n",
       "<p>3 rows × 22 columns</p>\n",
       "</div>"
      ],
      "text/plain": [
       "                                        subscription_key  \\\n",
       "5649   c67a2878182d37de8a0c84261fe72607025aaedd5ecb1e...   \n",
       "9892   80a0030f578a70bf5ca9b65027a6dc956dc96221d5696e...   \n",
       "10265  9bafc28c684246a7e1c3f8c6e8422ceb08fc8cba878d73...   \n",
       "\n",
       "                                             account_key currency  price  \\\n",
       "5649   1c1b404383a521430af05c648cf1b6e76dda59cb26218d...      chf    NaN   \n",
       "9892   1c1b404383a521430af05c648cf1b6e76dda59cb26218d...      chf    9.0   \n",
       "10265  1c1b404383a521430af05c648cf1b6e76dda59cb26218d...      chf   90.0   \n",
       "\n",
       "      subscription_type  subscription_monthly  subscription_start  \\\n",
       "5649              BASIC                     0          2020-12-27   \n",
       "9892              BASIC                     1          2021-12-27   \n",
       "10265             BASIC                     0          2022-01-23   \n",
       "\n",
       "      subscription_end  gift_subscription  subscription_months_raw  ...  \\\n",
       "5649        2021-06-26               True                 5.946734  ...   \n",
       "9892        2022-01-23              False                 0.887082  ...   \n",
       "10265       2023-01-22              False                11.959178  ...   \n",
       "\n",
       "       price_eur  total_price_chf  total_price_eur  \\\n",
       "5649        75.0               49               41   \n",
       "9892         7.5              9.0              7.5   \n",
       "10265       75.0             90.0             75.0   \n",
       "\n",
       "      subscription_start_truncate subscription_start_adj_period  \\\n",
       "5649          2020-12-27 00:00:00                    2020-12-27   \n",
       "9892          2021-12-27 00:00:00                    2021-12-27   \n",
       "10265         2022-01-23 00:00:00                    2022-01-23   \n",
       "\n",
       "      subscription_months_raw_adj_period subscription_months_adj_period  \\\n",
       "5649                            5.946734                            6.0   \n",
       "9892                            0.887082                            1.0   \n",
       "10265                          11.959178                           12.0   \n",
       "\n",
       "       min_subscription_start  subscription_start min_gifted_subscription  \n",
       "5649               2020-12-27          2020-12-27              2021-12-27  \n",
       "9892               2020-12-27          2020-12-27              2021-12-27  \n",
       "10265              2020-12-27          2020-12-27              2021-12-27  \n",
       "\n",
       "[3 rows x 22 columns]"
      ]
     },
     "execution_count": 130,
     "metadata": {},
     "output_type": "execute_result"
    }
   ],
   "source": [
    "df_subscriptions_eda.query(\"account_key == '1c1b404383a521430af05c648cf1b6e76dda59cb26218db8d32f92e188b49516'\")"
   ]
  },
  {
   "cell_type": "code",
   "execution_count": null,
   "metadata": {},
   "outputs": [],
   "source": []
  }
 ],
 "metadata": {
  "kernelspec": {
   "display_name": "Python 3.9.13 ('nf_sql')",
   "language": "python",
   "name": "python3"
  },
  "language_info": {
   "codemirror_mode": {
    "name": "ipython",
    "version": 3
   },
   "file_extension": ".py",
   "mimetype": "text/x-python",
   "name": "python",
   "nbconvert_exporter": "python",
   "pygments_lexer": "ipython3",
   "version": "3.9.13"
  },
  "orig_nbformat": 4,
  "vscode": {
   "interpreter": {
    "hash": "a81d278bed5b5b59425dcb5a82ce505657686243c184b4a6b67e69d01c4d432e"
   }
  }
 },
 "nbformat": 4,
 "nbformat_minor": 2
}
