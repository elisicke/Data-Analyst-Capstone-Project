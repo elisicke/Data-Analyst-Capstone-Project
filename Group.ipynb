{
 "cells": [
  {
   "cell_type": "code",
   "execution_count": 12,
   "metadata": {},
   "outputs": [],
   "source": [
    "import pandas as pd\n"
   ]
  },
  {
   "cell_type": "code",
   "execution_count": 13,
   "metadata": {},
   "outputs": [],
   "source": [
    "# define the name of the csv file you want to read in\n",
    "accounts = './data/accounts.csv'\n",
    "playbacks = './data/playbacks.csv'\n",
    "subscriptions = './data/subscriptions.csv'"
   ]
  },
  {
   "cell_type": "code",
   "execution_count": 14,
   "metadata": {},
   "outputs": [
    {
     "data": {
      "text/plain": [
       "(17079, 7)"
      ]
     },
     "metadata": {},
     "output_type": "display_data"
    },
    {
     "data": {
      "text/html": [
       "<div>\n",
       "<style scoped>\n",
       "    .dataframe tbody tr th:only-of-type {\n",
       "        vertical-align: middle;\n",
       "    }\n",
       "\n",
       "    .dataframe tbody tr th {\n",
       "        vertical-align: top;\n",
       "    }\n",
       "\n",
       "    .dataframe thead th {\n",
       "        text-align: right;\n",
       "    }\n",
       "</style>\n",
       "<table border=\"1\" class=\"dataframe\">\n",
       "  <thead>\n",
       "    <tr style=\"text-align: right;\">\n",
       "      <th></th>\n",
       "      <th>account_key</th>\n",
       "      <th>postal_code</th>\n",
       "      <th>city</th>\n",
       "      <th>language</th>\n",
       "      <th>country_code</th>\n",
       "      <th>onetime_rental_count</th>\n",
       "      <th>subscription_count</th>\n",
       "    </tr>\n",
       "  </thead>\n",
       "  <tbody>\n",
       "    <tr>\n",
       "      <th>0</th>\n",
       "      <td>60a90104f44414d9036aed7d96d1468a5a9e1d104b6791...</td>\n",
       "      <td>5430</td>\n",
       "      <td>Wettingen</td>\n",
       "      <td>de</td>\n",
       "      <td>CH</td>\n",
       "      <td>0</td>\n",
       "      <td>1</td>\n",
       "    </tr>\n",
       "    <tr>\n",
       "      <th>1</th>\n",
       "      <td>a48b28809457e680de54b4b560e00117308431c574aab2...</td>\n",
       "      <td>8706</td>\n",
       "      <td>Meilen</td>\n",
       "      <td>de</td>\n",
       "      <td>CH</td>\n",
       "      <td>0</td>\n",
       "      <td>1</td>\n",
       "    </tr>\n",
       "    <tr>\n",
       "      <th>2</th>\n",
       "      <td>7a280859423057ac5f1e0bfc15af602edd23900f3cf7cb...</td>\n",
       "      <td>1005</td>\n",
       "      <td>Lausanne</td>\n",
       "      <td>fr</td>\n",
       "      <td>CH</td>\n",
       "      <td>1</td>\n",
       "      <td>0</td>\n",
       "    </tr>\n",
       "    <tr>\n",
       "      <th>3</th>\n",
       "      <td>23e7ac18b391549e95a98d85a3adae1f3f90c4fcc09732...</td>\n",
       "      <td>4436</td>\n",
       "      <td>Oberdorf</td>\n",
       "      <td>de</td>\n",
       "      <td>CH</td>\n",
       "      <td>0</td>\n",
       "      <td>2</td>\n",
       "    </tr>\n",
       "    <tr>\n",
       "      <th>4</th>\n",
       "      <td>a39dbaa7972fb67c15db79d4a66cf5d1b94855ae530774...</td>\n",
       "      <td>6005</td>\n",
       "      <td>Luzern</td>\n",
       "      <td>de</td>\n",
       "      <td>CH</td>\n",
       "      <td>8</td>\n",
       "      <td>2</td>\n",
       "    </tr>\n",
       "  </tbody>\n",
       "</table>\n",
       "</div>"
      ],
      "text/plain": [
       "                                         account_key postal_code       city  \\\n",
       "0  60a90104f44414d9036aed7d96d1468a5a9e1d104b6791...        5430  Wettingen   \n",
       "1  a48b28809457e680de54b4b560e00117308431c574aab2...        8706     Meilen   \n",
       "2  7a280859423057ac5f1e0bfc15af602edd23900f3cf7cb...        1005   Lausanne   \n",
       "3  23e7ac18b391549e95a98d85a3adae1f3f90c4fcc09732...        4436   Oberdorf   \n",
       "4  a39dbaa7972fb67c15db79d4a66cf5d1b94855ae530774...        6005     Luzern   \n",
       "\n",
       "  language country_code  onetime_rental_count  subscription_count  \n",
       "0       de           CH                     0                   1  \n",
       "1       de           CH                     0                   1  \n",
       "2       fr           CH                     1                   0  \n",
       "3       de           CH                     0                   2  \n",
       "4       de           CH                     8                   2  "
      ]
     },
     "metadata": {},
     "output_type": "display_data"
    }
   ],
   "source": [
    "# Read accounts (01.10.2020 - 01.10.2022)\n",
    "df_accounts = pd.read_csv(accounts)\n",
    "df_accounts.columns = df_accounts.columns.str.lower()\n",
    "display(df_accounts.shape)\n",
    "display(df_accounts.head())"
   ]
  },
  {
   "cell_type": "code",
   "execution_count": 15,
   "metadata": {},
   "outputs": [
    {
     "data": {
      "text/html": [
       "<div>\n",
       "<style scoped>\n",
       "    .dataframe tbody tr th:only-of-type {\n",
       "        vertical-align: middle;\n",
       "    }\n",
       "\n",
       "    .dataframe tbody tr th {\n",
       "        vertical-align: top;\n",
       "    }\n",
       "\n",
       "    .dataframe thead th {\n",
       "        text-align: right;\n",
       "    }\n",
       "</style>\n",
       "<table border=\"1\" class=\"dataframe\">\n",
       "  <thead>\n",
       "    <tr style=\"text-align: right;\">\n",
       "      <th></th>\n",
       "      <th>account_key</th>\n",
       "      <th>postal_code</th>\n",
       "      <th>city</th>\n",
       "      <th>language</th>\n",
       "      <th>country_code</th>\n",
       "      <th>onetime_rental_count</th>\n",
       "      <th>subscription_count</th>\n",
       "    </tr>\n",
       "  </thead>\n",
       "  <tbody>\n",
       "    <tr>\n",
       "      <th>0</th>\n",
       "      <td>60a90104f44414d9036aed7d96d1468a5a9e1d104b6791...</td>\n",
       "      <td>5430</td>\n",
       "      <td>Wettingen</td>\n",
       "      <td>de</td>\n",
       "      <td>CH</td>\n",
       "      <td>0</td>\n",
       "      <td>1</td>\n",
       "    </tr>\n",
       "    <tr>\n",
       "      <th>1</th>\n",
       "      <td>a48b28809457e680de54b4b560e00117308431c574aab2...</td>\n",
       "      <td>8706</td>\n",
       "      <td>Meilen</td>\n",
       "      <td>de</td>\n",
       "      <td>CH</td>\n",
       "      <td>0</td>\n",
       "      <td>1</td>\n",
       "    </tr>\n",
       "    <tr>\n",
       "      <th>2</th>\n",
       "      <td>7a280859423057ac5f1e0bfc15af602edd23900f3cf7cb...</td>\n",
       "      <td>1005</td>\n",
       "      <td>Lausanne</td>\n",
       "      <td>fr</td>\n",
       "      <td>CH</td>\n",
       "      <td>1</td>\n",
       "      <td>0</td>\n",
       "    </tr>\n",
       "    <tr>\n",
       "      <th>3</th>\n",
       "      <td>23e7ac18b391549e95a98d85a3adae1f3f90c4fcc09732...</td>\n",
       "      <td>4436</td>\n",
       "      <td>Oberdorf</td>\n",
       "      <td>de</td>\n",
       "      <td>CH</td>\n",
       "      <td>0</td>\n",
       "      <td>2</td>\n",
       "    </tr>\n",
       "    <tr>\n",
       "      <th>4</th>\n",
       "      <td>a39dbaa7972fb67c15db79d4a66cf5d1b94855ae530774...</td>\n",
       "      <td>6005</td>\n",
       "      <td>Luzern</td>\n",
       "      <td>de</td>\n",
       "      <td>CH</td>\n",
       "      <td>8</td>\n",
       "      <td>2</td>\n",
       "    </tr>\n",
       "  </tbody>\n",
       "</table>\n",
       "</div>"
      ],
      "text/plain": [
       "                                         account_key postal_code       city  \\\n",
       "0  60a90104f44414d9036aed7d96d1468a5a9e1d104b6791...        5430  Wettingen   \n",
       "1  a48b28809457e680de54b4b560e00117308431c574aab2...        8706     Meilen   \n",
       "2  7a280859423057ac5f1e0bfc15af602edd23900f3cf7cb...        1005   Lausanne   \n",
       "3  23e7ac18b391549e95a98d85a3adae1f3f90c4fcc09732...        4436   Oberdorf   \n",
       "4  a39dbaa7972fb67c15db79d4a66cf5d1b94855ae530774...        6005     Luzern   \n",
       "\n",
       "  language country_code  onetime_rental_count  subscription_count  \n",
       "0       de           CH                     0                   1  \n",
       "1       de           CH                     0                   1  \n",
       "2       fr           CH                     1                   0  \n",
       "3       de           CH                     0                   2  \n",
       "4       de           CH                     8                   2  "
      ]
     },
     "execution_count": 15,
     "metadata": {},
     "output_type": "execute_result"
    }
   ],
   "source": [
    "df_accounts.head()"
   ]
  },
  {
   "cell_type": "code",
   "execution_count": 16,
   "metadata": {},
   "outputs": [
    {
     "data": {
      "text/plain": [
       "56"
      ]
     },
     "metadata": {},
     "output_type": "display_data"
    },
    {
     "data": {
      "text/plain": [
       "array(['CH', 'DE', 'GR', 'LI', 'US', 'AT', 'TH', 'FR', 'GB', 'BE', 'RU',\n",
       "       'EG', 'HK', 'PT', 'IT', 'SA', 'NZ', 'MX', 'PE', 'CO', 'PL', 'CA',\n",
       "       'ID', 'ES', 'HU', 'IL', 'NO', 'AU', 'CL', 'NL', 'ZA', 'JO', 'RS',\n",
       "       'RO', 'IE', 'KR', 'SK', 'AE', 'GH', 'BR', 'MY', 'SE', 'CZ', 'DK',\n",
       "       'IN', 'JP', 'TR', 'CI', 'EE', 'GA', 'SM', 'WF', 'FI', 'UA', 'SG',\n",
       "       'IR'], dtype=object)"
      ]
     },
     "execution_count": 16,
     "metadata": {},
     "output_type": "execute_result"
    }
   ],
   "source": [
    "display(df_accounts.country_code.nunique())\n",
    "df_accounts.country_code.unique()"
   ]
  },
  {
   "cell_type": "code",
   "execution_count": 17,
   "metadata": {},
   "outputs": [
    {
     "data": {
      "text/plain": [
       "CH    15200\n",
       "DE     1272\n",
       "AT      190\n",
       "FR      112\n",
       "US       71\n",
       "GB       46\n",
       "LI       39\n",
       "CA       17\n",
       "IT       13\n",
       "BE       11\n",
       "SE        9\n",
       "AU        8\n",
       "NO        8\n",
       "IN        6\n",
       "NL        6\n",
       "DK        5\n",
       "PL        4\n",
       "PT        4\n",
       "CO        3\n",
       "NZ        3\n",
       "CZ        3\n",
       "HU        3\n",
       "IL        3\n",
       "SK        2\n",
       "AE        2\n",
       "EE        2\n",
       "CL        2\n",
       "ES        2\n",
       "RU        2\n",
       "GR        2\n",
       "MX        2\n",
       "ID        2\n",
       "EG        2\n",
       "SG        1\n",
       "UA        1\n",
       "FI        1\n",
       "WF        1\n",
       "SM        1\n",
       "GA        1\n",
       "CI        1\n",
       "TR        1\n",
       "JP        1\n",
       "TH        1\n",
       "HK        1\n",
       "MY        1\n",
       "BR        1\n",
       "GH        1\n",
       "SA        1\n",
       "KR        1\n",
       "IE        1\n",
       "RO        1\n",
       "RS        1\n",
       "JO        1\n",
       "ZA        1\n",
       "PE        1\n",
       "IR        1\n",
       "Name: country_code, dtype: int64"
      ]
     },
     "execution_count": 17,
     "metadata": {},
     "output_type": "execute_result"
    }
   ],
   "source": [
    "df_accounts.country_code.value_counts()\n",
    "#16.5k DACH / 17k in total"
   ]
  },
  {
   "cell_type": "code",
   "execution_count": 18,
   "metadata": {},
   "outputs": [
    {
     "data": {
      "image/png": "[encoded data removed]",
      "text/plain": [
       "<Figure size 640x480 with 1 Axes>"
      ]
     },
     "metadata": {},
     "output_type": "display_data"
    }
   ],
   "source": [
    "df_accounts.country_code.value_counts().plot(kind='pie');"
   ]
  },
  {
   "cell_type": "code",
   "execution_count": 19,
   "metadata": {},
   "outputs": [
    {
     "data": {
      "text/plain": [
       "4"
      ]
     },
     "metadata": {},
     "output_type": "display_data"
    },
    {
     "data": {
      "text/plain": [
       "array(['de', 'fr', 'en', nan, 'nl'], dtype=object)"
      ]
     },
     "metadata": {},
     "output_type": "display_data"
    },
    {
     "data": {
      "text/plain": [
       "de    10942\n",
       "fr     4286\n",
       "en     1794\n",
       "nl        1\n",
       "Name: language, dtype: int64"
      ]
     },
     "metadata": {},
     "output_type": "display_data"
    }
   ],
   "source": [
    "display(df_accounts.language.nunique())\n",
    "display(df_accounts.language.unique())\n",
    "display(df_accounts.language.value_counts())"
   ]
  },
  {
   "cell_type": "code",
   "execution_count": 20,
   "metadata": {},
   "outputs": [
    {
     "data": {
      "text/plain": [
       "array([  0,   1,   8,   2,  10,   3,  12,  23,   4,   6,  15,   5,  14,\n",
       "         7,  11,  29,  16,   9,  22,  17,  39,  26,  19,  13,  27,  47,\n",
       "        18,  37,  20,  24,  32,  53,  21,  28,  25,  31, 106,  52,  48,\n",
       "        44,  51,  35,  30,  65,  45,  38,  61,  57,  79])"
      ]
     },
     "execution_count": 20,
     "metadata": {},
     "output_type": "execute_result"
    }
   ],
   "source": [
    "df_accounts.onetime_rental_count.unique()"
   ]
  },
  {
   "cell_type": "code",
   "execution_count": 21,
   "metadata": {},
   "outputs": [
    {
     "data": {
      "text/plain": [
       "array([ 1,  0,  2,  3,  6,  4,  5,  7, 11,  8, 12,  9, 13])"
      ]
     },
     "metadata": {},
     "output_type": "display_data"
    },
    {
     "data": {
      "text/plain": [
       "0     8103\n",
       "1     6776\n",
       "2     1613\n",
       "3      412\n",
       "4       96\n",
       "5       36\n",
       "7       19\n",
       "6       13\n",
       "8        7\n",
       "11       1\n",
       "12       1\n",
       "9        1\n",
       "13       1\n",
       "Name: subscription_count, dtype: int64"
      ]
     },
     "metadata": {},
     "output_type": "display_data"
    }
   ],
   "source": [
    "display(df_accounts.subscription_count.unique())\n",
    "display(df_accounts.subscription_count.value_counts())\n",
    "#most have no subscription (assumption: onetime-viewer and gifted movie?)"
   ]
  },
  {
   "cell_type": "code",
   "execution_count": 22,
   "metadata": {},
   "outputs": [],
   "source": [
    "#df_accounts.subscription_count[\"0\"]"
   ]
  },
  {
   "cell_type": "markdown",
   "metadata": {},
   "source": [
    "# PLAYBACKS"
   ]
  },
  {
   "cell_type": "code",
   "execution_count": 23,
   "metadata": {},
   "outputs": [
    {
     "data": {
      "text/plain": [
       "(139569, 7)"
      ]
     },
     "metadata": {},
     "output_type": "display_data"
    },
    {
     "data": {
      "text/html": [
       "<div>\n",
       "<style scoped>\n",
       "    .dataframe tbody tr th:only-of-type {\n",
       "        vertical-align: middle;\n",
       "    }\n",
       "\n",
       "    .dataframe tbody tr th {\n",
       "        vertical-align: top;\n",
       "    }\n",
       "\n",
       "    .dataframe thead th {\n",
       "        text-align: right;\n",
       "    }\n",
       "</style>\n",
       "<table border=\"1\" class=\"dataframe\">\n",
       "  <thead>\n",
       "    <tr style=\"text-align: right;\">\n",
       "      <th></th>\n",
       "      <th>subscription_key</th>\n",
       "      <th>account_key</th>\n",
       "      <th>movie_id</th>\n",
       "      <th>date_start</th>\n",
       "      <th>playback_time</th>\n",
       "      <th>user_agent</th>\n",
       "      <th>ip_hash</th>\n",
       "    </tr>\n",
       "  </thead>\n",
       "  <tbody>\n",
       "    <tr>\n",
       "      <th>0</th>\n",
       "      <td>9679626b6cc1765f8bc8da98fda2d8e8f28f40736fd777...</td>\n",
       "      <td>024ebde74e23ca924cff0a3989e7f87efe2b2cbcd7ad2c...</td>\n",
       "      <td>1189</td>\n",
       "      <td>2022-09-30 23:55:31</td>\n",
       "      <td>12420</td>\n",
       "      <td>Mozilla/5.0 (Macintosh; Intel Mac OS X 10_15_7...</td>\n",
       "      <td>0b14aa31d5635ee899be928089fd810c655a7ec7785911...</td>\n",
       "    </tr>\n",
       "    <tr>\n",
       "      <th>1</th>\n",
       "      <td>513d006472c99ef047c64bafad57a39906ad5c618505b1...</td>\n",
       "      <td>8968e3851322a89c265a0ec4c81341361e3b0953502d65...</td>\n",
       "      <td>1327</td>\n",
       "      <td>2022-09-30 23:48:36</td>\n",
       "      <td>1440</td>\n",
       "      <td>Mozilla/5.0 (Macintosh; Intel Mac OS X 10_13_4...</td>\n",
       "      <td>c65100e7d48b9e06ca6d89ffe594066553ea63ddc70ee1...</td>\n",
       "    </tr>\n",
       "    <tr>\n",
       "      <th>2</th>\n",
       "      <td>cac0c77d3aedc55303b8dfea314052eba5dcf4817e4962...</td>\n",
       "      <td>8a2d7ac64595778ed5fe7edb2dd43f843f9879d773df1a...</td>\n",
       "      <td>212</td>\n",
       "      <td>2022-09-30 23:47:33</td>\n",
       "      <td>1080</td>\n",
       "      <td>Mozilla/5.0 (Windows NT 10.0; Win64; x64; rv:1...</td>\n",
       "      <td>db17d38bf724c377dcd463f7ad8df8279b6122c8890773...</td>\n",
       "    </tr>\n",
       "    <tr>\n",
       "      <th>3</th>\n",
       "      <td>a35503448084642ac8651a0f482db410ccdd7c7716df1d...</td>\n",
       "      <td>7f654ed491a8d1c5b6eb54ea98f6b30b0f9d9515aaad22...</td>\n",
       "      <td>108</td>\n",
       "      <td>2022-09-30 23:46:52</td>\n",
       "      <td>5400</td>\n",
       "      <td>Mozilla/5.0 (Windows NT 10.0; Win64; x64; rv:1...</td>\n",
       "      <td>69839531a94bf2468744c083a7bf4b78f39c8b1b299c34...</td>\n",
       "    </tr>\n",
       "    <tr>\n",
       "      <th>4</th>\n",
       "      <td>ff97a5e4ea0bb411f72e2e1750fb94b248ec2026406a3f...</td>\n",
       "      <td>6efdbec56858f25686797c974bfa67809a718408bd3631...</td>\n",
       "      <td>1314</td>\n",
       "      <td>2022-09-30 23:16:49</td>\n",
       "      <td>10380</td>\n",
       "      <td>filmingo v2.1 (83); iOS 15.6.1; iPad8,11</td>\n",
       "      <td>652d233c8526ebefb7a8e939ca546fe1a76498775b682a...</td>\n",
       "    </tr>\n",
       "  </tbody>\n",
       "</table>\n",
       "</div>"
      ],
      "text/plain": [
       "                                    subscription_key  \\\n",
       "0  9679626b6cc1765f8bc8da98fda2d8e8f28f40736fd777...   \n",
       "1  513d006472c99ef047c64bafad57a39906ad5c618505b1...   \n",
       "2  cac0c77d3aedc55303b8dfea314052eba5dcf4817e4962...   \n",
       "3  a35503448084642ac8651a0f482db410ccdd7c7716df1d...   \n",
       "4  ff97a5e4ea0bb411f72e2e1750fb94b248ec2026406a3f...   \n",
       "\n",
       "                                         account_key  movie_id  \\\n",
       "0  024ebde74e23ca924cff0a3989e7f87efe2b2cbcd7ad2c...      1189   \n",
       "1  8968e3851322a89c265a0ec4c81341361e3b0953502d65...      1327   \n",
       "2  8a2d7ac64595778ed5fe7edb2dd43f843f9879d773df1a...       212   \n",
       "3  7f654ed491a8d1c5b6eb54ea98f6b30b0f9d9515aaad22...       108   \n",
       "4  6efdbec56858f25686797c974bfa67809a718408bd3631...      1314   \n",
       "\n",
       "            date_start  playback_time  \\\n",
       "0  2022-09-30 23:55:31          12420   \n",
       "1  2022-09-30 23:48:36           1440   \n",
       "2  2022-09-30 23:47:33           1080   \n",
       "3  2022-09-30 23:46:52           5400   \n",
       "4  2022-09-30 23:16:49          10380   \n",
       "\n",
       "                                          user_agent  \\\n",
       "0  Mozilla/5.0 (Macintosh; Intel Mac OS X 10_15_7...   \n",
       "1  Mozilla/5.0 (Macintosh; Intel Mac OS X 10_13_4...   \n",
       "2  Mozilla/5.0 (Windows NT 10.0; Win64; x64; rv:1...   \n",
       "3  Mozilla/5.0 (Windows NT 10.0; Win64; x64; rv:1...   \n",
       "4           filmingo v2.1 (83); iOS 15.6.1; iPad8,11   \n",
       "\n",
       "                                             ip_hash  \n",
       "0  0b14aa31d5635ee899be928089fd810c655a7ec7785911...  \n",
       "1  c65100e7d48b9e06ca6d89ffe594066553ea63ddc70ee1...  \n",
       "2  db17d38bf724c377dcd463f7ad8df8279b6122c8890773...  \n",
       "3  69839531a94bf2468744c083a7bf4b78f39c8b1b299c34...  \n",
       "4  652d233c8526ebefb7a8e939ca546fe1a76498775b682a...  "
      ]
     },
     "metadata": {},
     "output_type": "display_data"
    }
   ],
   "source": [
    "# Read playbacks\n",
    "df_playbacks = pd.read_csv(playbacks)\n",
    "df_playbacks.columns = df_playbacks.columns.str.lower()\n",
    "display(df_playbacks.shape)\n",
    "display(df_playbacks.head())\n",
    "# one account can have multiple subscriptions\n",
    "# what about pausing the movie\n",
    "# IP + User_Agent-> check for multiple persons per subscriptions\n",
    "    # IP/Account\n",
    "# average playback duration\n",
    "# cancelled session?"
   ]
  },
  {
   "cell_type": "code",
   "execution_count": 24,
   "metadata": {},
   "outputs": [
    {
     "data": {
      "text/plain": [
       "subscription_key    fffe489d9291d575639f4ee57784bddc34a0dc30dc9218...\n",
       "account_key         ffed1fe66e00a95d26b05eca11694e4da34b241e3f65b9...\n",
       "movie_id                                                         1344\n",
       "date_start                                        2022-09-30 23:55:31\n",
       "playback_time                                                  472920\n",
       "user_agent                   filmingo v2.1 (83); iOS 16.1; iPhone14,4\n",
       "ip_hash             fffcf002d4b3f89687a26ad589d018359e7bff98cb9208...\n",
       "dtype: object"
      ]
     },
     "execution_count": 24,
     "metadata": {},
     "output_type": "execute_result"
    }
   ],
   "source": [
    "df_playbacks.max()\n",
    "# have a closer look at max playback times"
   ]
  },
  {
   "cell_type": "markdown",
   "metadata": {},
   "source": [
    "# SUBSCRIPTIONS"
   ]
  },
  {
   "cell_type": "code",
   "execution_count": 26,
   "metadata": {},
   "outputs": [
    {
     "data": {
      "text/plain": [
       "(12115, 9)"
      ]
     },
     "metadata": {},
     "output_type": "display_data"
    },
    {
     "data": {
      "text/html": [
       "<div>\n",
       "<style scoped>\n",
       "    .dataframe tbody tr th:only-of-type {\n",
       "        vertical-align: middle;\n",
       "    }\n",
       "\n",
       "    .dataframe tbody tr th {\n",
       "        vertical-align: top;\n",
       "    }\n",
       "\n",
       "    .dataframe thead th {\n",
       "        text-align: right;\n",
       "    }\n",
       "</style>\n",
       "<table border=\"1\" class=\"dataframe\">\n",
       "  <thead>\n",
       "    <tr style=\"text-align: right;\">\n",
       "      <th></th>\n",
       "      <th>subscription_key</th>\n",
       "      <th>account_key</th>\n",
       "      <th>currency</th>\n",
       "      <th>price</th>\n",
       "      <th>subscription_type</th>\n",
       "      <th>subscription_monthly</th>\n",
       "      <th>subscription_start</th>\n",
       "      <th>subscription_end</th>\n",
       "      <th>gift_subscription</th>\n",
       "    </tr>\n",
       "  </thead>\n",
       "  <tbody>\n",
       "    <tr>\n",
       "      <th>0</th>\n",
       "      <td>1b82b2308dcae546ad0194d03b9d23edd5d2781109de28...</td>\n",
       "      <td>ab1bcf2c1b8d4eb422079becc0c59b1c7db2fd009235d2...</td>\n",
       "      <td>chf</td>\n",
       "      <td>90.0</td>\n",
       "      <td>BASIC</td>\n",
       "      <td>0</td>\n",
       "      <td>2017-02-24</td>\n",
       "      <td>2021-02-23</td>\n",
       "      <td>False</td>\n",
       "    </tr>\n",
       "    <tr>\n",
       "      <th>1</th>\n",
       "      <td>4cb9f67d44d60eca0485270d73b3028143021296081847...</td>\n",
       "      <td>ee1a45a439dc6968f1cfc2b9840264deeada4c0d93f389...</td>\n",
       "      <td>chf</td>\n",
       "      <td>90.0</td>\n",
       "      <td>BASIC</td>\n",
       "      <td>0</td>\n",
       "      <td>2017-08-21</td>\n",
       "      <td>2023-08-20</td>\n",
       "      <td>False</td>\n",
       "    </tr>\n",
       "    <tr>\n",
       "      <th>2</th>\n",
       "      <td>40f9e218b70a6f482ecfcde0011305d93fa6059f624a50...</td>\n",
       "      <td>8bf8f58e615549df5f05b717b6e914da80e213edab3dba...</td>\n",
       "      <td>chf</td>\n",
       "      <td>9.0</td>\n",
       "      <td>BASIC</td>\n",
       "      <td>1</td>\n",
       "      <td>2017-09-26</td>\n",
       "      <td>2022-10-08</td>\n",
       "      <td>False</td>\n",
       "    </tr>\n",
       "    <tr>\n",
       "      <th>3</th>\n",
       "      <td>69d21e601612cc97fc7df9bd17a281879f785358d1c681...</td>\n",
       "      <td>cf914aa939499e8e18fdd9494fce5297b9dce2e1f909ea...</td>\n",
       "      <td>chf</td>\n",
       "      <td>90.0</td>\n",
       "      <td>BASIC</td>\n",
       "      <td>0</td>\n",
       "      <td>2017-09-28</td>\n",
       "      <td>2021-09-27</td>\n",
       "      <td>False</td>\n",
       "    </tr>\n",
       "    <tr>\n",
       "      <th>4</th>\n",
       "      <td>29f98a3154a679f2fe953b1f3b148ddffcb28e60fff719...</td>\n",
       "      <td>8759ab0e44c1cf688770220cf1b87efac2726baca6bfcb...</td>\n",
       "      <td>eur</td>\n",
       "      <td>11.0</td>\n",
       "      <td>STANDARD</td>\n",
       "      <td>1</td>\n",
       "      <td>2017-10-13</td>\n",
       "      <td>2021-10-12</td>\n",
       "      <td>False</td>\n",
       "    </tr>\n",
       "    <tr>\n",
       "      <th>5</th>\n",
       "      <td>f5627e4ef66f219cfbcfb507a056bf1a0629f085a46e92...</td>\n",
       "      <td>c5511d59d31159ecb87ca1d7cfb3e44a6c4a4b96e5632a...</td>\n",
       "      <td>chf</td>\n",
       "      <td>240.0</td>\n",
       "      <td>PATRON</td>\n",
       "      <td>0</td>\n",
       "      <td>2017-11-18</td>\n",
       "      <td>2020-11-17</td>\n",
       "      <td>False</td>\n",
       "    </tr>\n",
       "    <tr>\n",
       "      <th>6</th>\n",
       "      <td>8e42bc7151b4b0dd29e362b95fec4aa3b8e53c532d40ba...</td>\n",
       "      <td>7f1182ed60acb48e4a55eb54b91bca7f20c55c066d8848...</td>\n",
       "      <td>chf</td>\n",
       "      <td>150.0</td>\n",
       "      <td>STANDARD</td>\n",
       "      <td>0</td>\n",
       "      <td>2017-12-20</td>\n",
       "      <td>2021-12-19</td>\n",
       "      <td>False</td>\n",
       "    </tr>\n",
       "    <tr>\n",
       "      <th>7</th>\n",
       "      <td>9f22270608209a507f93f3a74448a78a82f9741bc36ea3...</td>\n",
       "      <td>2c2621bf34f1cc419c0868f27ffece66dc1fb4f5ec665c...</td>\n",
       "      <td>chf</td>\n",
       "      <td>9.0</td>\n",
       "      <td>BASIC</td>\n",
       "      <td>1</td>\n",
       "      <td>2017-12-21</td>\n",
       "      <td>2020-11-08</td>\n",
       "      <td>False</td>\n",
       "    </tr>\n",
       "    <tr>\n",
       "      <th>8</th>\n",
       "      <td>03411f3ad7d86f2e1df3db5a337c3025ba35159eb9b41e...</td>\n",
       "      <td>163db260041d30a58540a19312d416c9fc7cc696754108...</td>\n",
       "      <td>chf</td>\n",
       "      <td>9.0</td>\n",
       "      <td>BASIC</td>\n",
       "      <td>1</td>\n",
       "      <td>2017-12-22</td>\n",
       "      <td>2020-10-08</td>\n",
       "      <td>False</td>\n",
       "    </tr>\n",
       "    <tr>\n",
       "      <th>9</th>\n",
       "      <td>c254cee83dfc67c794b843a0ad622456cb36fdfe5143c4...</td>\n",
       "      <td>47e795383bff3d37a251be1d911ffc0a7ca6f0da8b70a4...</td>\n",
       "      <td>chf</td>\n",
       "      <td>240.0</td>\n",
       "      <td>PATRON</td>\n",
       "      <td>0</td>\n",
       "      <td>2017-12-31</td>\n",
       "      <td>2022-12-30</td>\n",
       "      <td>False</td>\n",
       "    </tr>\n",
       "  </tbody>\n",
       "</table>\n",
       "</div>"
      ],
      "text/plain": [
       "                                    subscription_key  \\\n",
       "0  1b82b2308dcae546ad0194d03b9d23edd5d2781109de28...   \n",
       "1  4cb9f67d44d60eca0485270d73b3028143021296081847...   \n",
       "2  40f9e218b70a6f482ecfcde0011305d93fa6059f624a50...   \n",
       "3  69d21e601612cc97fc7df9bd17a281879f785358d1c681...   \n",
       "4  29f98a3154a679f2fe953b1f3b148ddffcb28e60fff719...   \n",
       "5  f5627e4ef66f219cfbcfb507a056bf1a0629f085a46e92...   \n",
       "6  8e42bc7151b4b0dd29e362b95fec4aa3b8e53c532d40ba...   \n",
       "7  9f22270608209a507f93f3a74448a78a82f9741bc36ea3...   \n",
       "8  03411f3ad7d86f2e1df3db5a337c3025ba35159eb9b41e...   \n",
       "9  c254cee83dfc67c794b843a0ad622456cb36fdfe5143c4...   \n",
       "\n",
       "                                         account_key currency  price  \\\n",
       "0  ab1bcf2c1b8d4eb422079becc0c59b1c7db2fd009235d2...      chf   90.0   \n",
       "1  ee1a45a439dc6968f1cfc2b9840264deeada4c0d93f389...      chf   90.0   \n",
       "2  8bf8f58e615549df5f05b717b6e914da80e213edab3dba...      chf    9.0   \n",
       "3  cf914aa939499e8e18fdd9494fce5297b9dce2e1f909ea...      chf   90.0   \n",
       "4  8759ab0e44c1cf688770220cf1b87efac2726baca6bfcb...      eur   11.0   \n",
       "5  c5511d59d31159ecb87ca1d7cfb3e44a6c4a4b96e5632a...      chf  240.0   \n",
       "6  7f1182ed60acb48e4a55eb54b91bca7f20c55c066d8848...      chf  150.0   \n",
       "7  2c2621bf34f1cc419c0868f27ffece66dc1fb4f5ec665c...      chf    9.0   \n",
       "8  163db260041d30a58540a19312d416c9fc7cc696754108...      chf    9.0   \n",
       "9  47e795383bff3d37a251be1d911ffc0a7ca6f0da8b70a4...      chf  240.0   \n",
       "\n",
       "  subscription_type  subscription_monthly subscription_start subscription_end  \\\n",
       "0             BASIC                     0         2017-02-24       2021-02-23   \n",
       "1             BASIC                     0         2017-08-21       2023-08-20   \n",
       "2             BASIC                     1         2017-09-26       2022-10-08   \n",
       "3             BASIC                     0         2017-09-28       2021-09-27   \n",
       "4          STANDARD                     1         2017-10-13       2021-10-12   \n",
       "5            PATRON                     0         2017-11-18       2020-11-17   \n",
       "6          STANDARD                     0         2017-12-20       2021-12-19   \n",
       "7             BASIC                     1         2017-12-21       2020-11-08   \n",
       "8             BASIC                     1         2017-12-22       2020-10-08   \n",
       "9            PATRON                     0         2017-12-31       2022-12-30   \n",
       "\n",
       "   gift_subscription  \n",
       "0              False  \n",
       "1              False  \n",
       "2              False  \n",
       "3              False  \n",
       "4              False  \n",
       "5              False  \n",
       "6              False  \n",
       "7              False  \n",
       "8              False  \n",
       "9              False  "
      ]
     },
     "metadata": {},
     "output_type": "display_data"
    }
   ],
   "source": [
    "# Read subscriptions\n",
    "df_subscriptions = pd.read_csv(subscriptions)\n",
    "df_subscriptions.columns = df_subscriptions.columns.str.lower()\n",
    "\n",
    "display(df_subscriptions.shape)\n",
    "display(df_subscriptions.head(10))"
   ]
  },
  {
   "cell_type": "code",
   "execution_count": 27,
   "metadata": {},
   "outputs": [
    {
     "data": {
      "text/plain": [
       "array(['BASIC', 'STANDARD', 'PATRON', 'FULLACCESS'], dtype=object)"
      ]
     },
     "execution_count": 27,
     "metadata": {},
     "output_type": "execute_result"
    }
   ],
   "source": [
    "df_subscriptions.subscription_type.unique()"
   ]
  },
  {
   "cell_type": "code",
   "execution_count": 29,
   "metadata": {},
   "outputs": [
    {
     "data": {
      "text/plain": [
       "array([ 90. ,   9. ,  11. , 240. , 150. , 110. ,  15. ,   6. ,  60. ,\n",
       "        12.5,   7.5,   nan, 125. ,  75. , 200. ,  82. , 220. , 210. ,\n",
       "         0. , 172.5,  67.5, 102.5, 192. ,  27. , 195. ])"
      ]
     },
     "metadata": {},
     "output_type": "display_data"
    },
    {
     "data": {
      "text/plain": [
       "9.0      2917\n",
       "90.0     2535\n",
       "15.0     2118\n",
       "150.0    1146\n",
       "240.0    1052\n",
       "7.5       272\n",
       "12.5      166\n",
       "75.0      141\n",
       "200.0      50\n",
       "125.0      46\n",
       "0.0        18\n",
       "60.0        3\n",
       "110.0       2\n",
       "11.0        2\n",
       "102.5       2\n",
       "6.0         1\n",
       "82.0        1\n",
       "220.0       1\n",
       "210.0       1\n",
       "172.5       1\n",
       "67.5        1\n",
       "192.0       1\n",
       "27.0        1\n",
       "195.0       1\n",
       "Name: price, dtype: int64"
      ]
     },
     "metadata": {},
     "output_type": "display_data"
    }
   ],
   "source": [
    "display(df_subscriptions.price.unique())\n",
    "display(df_subscriptions.price.value_counts())"
   ]
  },
  {
   "cell_type": "code",
   "execution_count": null,
   "metadata": {},
   "outputs": [],
   "source": [
    "# Create two columns for chf and eur based on the subscription_type and prices from the filmingo website\n",
    "\n",
    "# create a list of our conditions\n",
    "conditions = [\n",
    "    (df_subscriptions['subscription_type'] = 'BASIC'),\n",
    "    (df_subscriptions['subscription_type'] = 'STANDARD'),\n",
    "    (df_subscriptions['subscription_type'] = 'PATRON'),\n",
    "    (df_subscriptions['subscription_type'] = 'FULLACCESS')\n",
    "]\n",
    "\n",
    "# create a list of the values we want to assign for each condition\n",
    "values_chf = ['tier_4', 'tier_3', 'tier_2', 'tier_1']\n",
    "values_eur = ['tier_4', 'tier_3', 'tier_2', 'tier_1']\n",
    "\n",
    "# create a new column and use np.select to assign values to it using our lists as arguments\n",
    "df['price_chf'] = np.select(conditions, values_chf)\n",
    "df['price_eur'] = np.select(conditions, values_eur)\n",
    "\n",
    "# display updated DataFrame\n",
    "df.head()\n"
   ]
  },
  {
   "cell_type": "code",
   "execution_count": null,
   "metadata": {},
   "outputs": [],
   "source": [
    "# drop currency and old price column"
   ]
  },
  {
   "cell_type": "code",
   "execution_count": null,
   "metadata": {},
   "outputs": [],
   "source": []
  }
 ],
 "metadata": {
  "kernelspec": {
   "display_name": "Python 3.9.13 ('nf_base')",
   "language": "python",
   "name": "python3"
  },
  "language_info": {
   "codemirror_mode": {
    "name": "ipython",
    "version": 3
   },
   "file_extension": ".py",
   "mimetype": "text/x-python",
   "name": "python",
   "nbconvert_exporter": "python",
   "pygments_lexer": "ipython3",
   "version": "3.9.13"
  },
  "orig_nbformat": 4,
  "vscode": {
   "interpreter": {
    "hash": "ab3d85a18739f6fff6a9c8c504adc2ff9340867b576dede986e2ee74c099e4e5"
   }
  }
 },
 "nbformat": 4,
 "nbformat_minor": 2
}
