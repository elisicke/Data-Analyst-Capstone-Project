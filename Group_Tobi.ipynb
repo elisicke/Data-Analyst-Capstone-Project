{
 "cells": [
  {
   "cell_type": "code",
   "execution_count": 12,
   "metadata": {},
   "outputs": [],
   "source": [
    "import pandas as pd\n",
    "import numpy as np\n"
   ]
  },
  {
   "cell_type": "code",
   "execution_count": 13,
   "metadata": {},
   "outputs": [],
   "source": [
    "# define the name of the csv file you want to read in\n",
    "accounts = './data/accounts.csv'\n",
    "playbacks = './data/playbacks.csv'\n",
    "subscriptions = './data/subscriptions.csv'"
   ]
  },
  {
   "cell_type": "markdown",
   "metadata": {},
   "source": [
    "# PLAYBACKS"
   ]
  },
  {
   "cell_type": "markdown",
   "metadata": {},
   "source": [
    "learnings:\n",
    "- one account can have multiple subscriptions\n",
    "- playback time is in seconds\n",
    "- no null values present\n",
    "\n",
    "questions:\n",
    "- what about pausing the movie?\n",
    "- IP + User_Agent -> check for multiple persons per subscriptions -> IP/Account\n",
    "- cancelled session?"
   ]
  },
  {
   "cell_type": "code",
   "execution_count": 36,
   "metadata": {},
   "outputs": [
    {
     "data": {
      "text/plain": [
       "(139569, 7)"
      ]
     },
     "metadata": {},
     "output_type": "display_data"
    },
    {
     "data": {
      "text/html": [
       "<div>\n",
       "<style scoped>\n",
       "    .dataframe tbody tr th:only-of-type {\n",
       "        vertical-align: middle;\n",
       "    }\n",
       "\n",
       "    .dataframe tbody tr th {\n",
       "        vertical-align: top;\n",
       "    }\n",
       "\n",
       "    .dataframe thead th {\n",
       "        text-align: right;\n",
       "    }\n",
       "</style>\n",
       "<table border=\"1\" class=\"dataframe\">\n",
       "  <thead>\n",
       "    <tr style=\"text-align: right;\">\n",
       "      <th></th>\n",
       "      <th>subscription_key</th>\n",
       "      <th>account_key</th>\n",
       "      <th>movie_id</th>\n",
       "      <th>date_start</th>\n",
       "      <th>playback_time</th>\n",
       "      <th>user_agent</th>\n",
       "      <th>ip_hash</th>\n",
       "    </tr>\n",
       "  </thead>\n",
       "  <tbody>\n",
       "    <tr>\n",
       "      <th>0</th>\n",
       "      <td>9679626b6cc1765f8bc8da98fda2d8e8f28f40736fd777...</td>\n",
       "      <td>024ebde74e23ca924cff0a3989e7f87efe2b2cbcd7ad2c...</td>\n",
       "      <td>1189</td>\n",
       "      <td>2022-09-30 23:55:31</td>\n",
       "      <td>12420</td>\n",
       "      <td>Mozilla/5.0 (Macintosh; Intel Mac OS X 10_15_7...</td>\n",
       "      <td>0b14aa31d5635ee899be928089fd810c655a7ec7785911...</td>\n",
       "    </tr>\n",
       "    <tr>\n",
       "      <th>1</th>\n",
       "      <td>513d006472c99ef047c64bafad57a39906ad5c618505b1...</td>\n",
       "      <td>8968e3851322a89c265a0ec4c81341361e3b0953502d65...</td>\n",
       "      <td>1327</td>\n",
       "      <td>2022-09-30 23:48:36</td>\n",
       "      <td>1440</td>\n",
       "      <td>Mozilla/5.0 (Macintosh; Intel Mac OS X 10_13_4...</td>\n",
       "      <td>c65100e7d48b9e06ca6d89ffe594066553ea63ddc70ee1...</td>\n",
       "    </tr>\n",
       "    <tr>\n",
       "      <th>2</th>\n",
       "      <td>cac0c77d3aedc55303b8dfea314052eba5dcf4817e4962...</td>\n",
       "      <td>8a2d7ac64595778ed5fe7edb2dd43f843f9879d773df1a...</td>\n",
       "      <td>212</td>\n",
       "      <td>2022-09-30 23:47:33</td>\n",
       "      <td>1080</td>\n",
       "      <td>Mozilla/5.0 (Windows NT 10.0; Win64; x64; rv:1...</td>\n",
       "      <td>db17d38bf724c377dcd463f7ad8df8279b6122c8890773...</td>\n",
       "    </tr>\n",
       "    <tr>\n",
       "      <th>3</th>\n",
       "      <td>a35503448084642ac8651a0f482db410ccdd7c7716df1d...</td>\n",
       "      <td>7f654ed491a8d1c5b6eb54ea98f6b30b0f9d9515aaad22...</td>\n",
       "      <td>108</td>\n",
       "      <td>2022-09-30 23:46:52</td>\n",
       "      <td>5400</td>\n",
       "      <td>Mozilla/5.0 (Windows NT 10.0; Win64; x64; rv:1...</td>\n",
       "      <td>69839531a94bf2468744c083a7bf4b78f39c8b1b299c34...</td>\n",
       "    </tr>\n",
       "    <tr>\n",
       "      <th>4</th>\n",
       "      <td>ff97a5e4ea0bb411f72e2e1750fb94b248ec2026406a3f...</td>\n",
       "      <td>6efdbec56858f25686797c974bfa67809a718408bd3631...</td>\n",
       "      <td>1314</td>\n",
       "      <td>2022-09-30 23:16:49</td>\n",
       "      <td>10380</td>\n",
       "      <td>filmingo v2.1 (83); iOS 15.6.1; iPad8,11</td>\n",
       "      <td>652d233c8526ebefb7a8e939ca546fe1a76498775b682a...</td>\n",
       "    </tr>\n",
       "  </tbody>\n",
       "</table>\n",
       "</div>"
      ],
      "text/plain": [
       "                                    subscription_key  \\\n",
       "0  9679626b6cc1765f8bc8da98fda2d8e8f28f40736fd777...   \n",
       "1  513d006472c99ef047c64bafad57a39906ad5c618505b1...   \n",
       "2  cac0c77d3aedc55303b8dfea314052eba5dcf4817e4962...   \n",
       "3  a35503448084642ac8651a0f482db410ccdd7c7716df1d...   \n",
       "4  ff97a5e4ea0bb411f72e2e1750fb94b248ec2026406a3f...   \n",
       "\n",
       "                                         account_key  movie_id  \\\n",
       "0  024ebde74e23ca924cff0a3989e7f87efe2b2cbcd7ad2c...      1189   \n",
       "1  8968e3851322a89c265a0ec4c81341361e3b0953502d65...      1327   \n",
       "2  8a2d7ac64595778ed5fe7edb2dd43f843f9879d773df1a...       212   \n",
       "3  7f654ed491a8d1c5b6eb54ea98f6b30b0f9d9515aaad22...       108   \n",
       "4  6efdbec56858f25686797c974bfa67809a718408bd3631...      1314   \n",
       "\n",
       "            date_start  playback_time  \\\n",
       "0  2022-09-30 23:55:31          12420   \n",
       "1  2022-09-30 23:48:36           1440   \n",
       "2  2022-09-30 23:47:33           1080   \n",
       "3  2022-09-30 23:46:52           5400   \n",
       "4  2022-09-30 23:16:49          10380   \n",
       "\n",
       "                                          user_agent  \\\n",
       "0  Mozilla/5.0 (Macintosh; Intel Mac OS X 10_15_7...   \n",
       "1  Mozilla/5.0 (Macintosh; Intel Mac OS X 10_13_4...   \n",
       "2  Mozilla/5.0 (Windows NT 10.0; Win64; x64; rv:1...   \n",
       "3  Mozilla/5.0 (Windows NT 10.0; Win64; x64; rv:1...   \n",
       "4           filmingo v2.1 (83); iOS 15.6.1; iPad8,11   \n",
       "\n",
       "                                             ip_hash  \n",
       "0  0b14aa31d5635ee899be928089fd810c655a7ec7785911...  \n",
       "1  c65100e7d48b9e06ca6d89ffe594066553ea63ddc70ee1...  \n",
       "2  db17d38bf724c377dcd463f7ad8df8279b6122c8890773...  \n",
       "3  69839531a94bf2468744c083a7bf4b78f39c8b1b299c34...  \n",
       "4  652d233c8526ebefb7a8e939ca546fe1a76498775b682a...  "
      ]
     },
     "metadata": {},
     "output_type": "display_data"
    },
    {
     "data": {
      "text/html": [
       "<div>\n",
       "<style scoped>\n",
       "    .dataframe tbody tr th:only-of-type {\n",
       "        vertical-align: middle;\n",
       "    }\n",
       "\n",
       "    .dataframe tbody tr th {\n",
       "        vertical-align: top;\n",
       "    }\n",
       "\n",
       "    .dataframe thead th {\n",
       "        text-align: right;\n",
       "    }\n",
       "</style>\n",
       "<table border=\"1\" class=\"dataframe\">\n",
       "  <thead>\n",
       "    <tr style=\"text-align: right;\">\n",
       "      <th></th>\n",
       "      <th>subscription_key</th>\n",
       "      <th>account_key</th>\n",
       "      <th>movie_id</th>\n",
       "      <th>date_start</th>\n",
       "      <th>playback_time</th>\n",
       "      <th>user_agent</th>\n",
       "      <th>ip_hash</th>\n",
       "    </tr>\n",
       "  </thead>\n",
       "  <tbody>\n",
       "    <tr>\n",
       "      <th>139564</th>\n",
       "      <td>a65f6bc32daef67bffa2c9331e79996788f91d8fe38a4e...</td>\n",
       "      <td>317d66bd448ae49f28467a40dfc3ff47503235a43fe507...</td>\n",
       "      <td>609</td>\n",
       "      <td>2020-10-21 13:21:30</td>\n",
       "      <td>1200</td>\n",
       "      <td>Filmingo/1.1 (Linux;Android 10) ExoPlayerLib/2...</td>\n",
       "      <td>f690e176c05ff5f272735dbafa8a1013bd871c66e98165...</td>\n",
       "    </tr>\n",
       "    <tr>\n",
       "      <th>139565</th>\n",
       "      <td>6a103d5d482c49e8e55cb81d6f75b1c580f6e312aca4e2...</td>\n",
       "      <td>7ecfed7a32f4770b9726f2d200a05a2fde094aab659382...</td>\n",
       "      <td>139</td>\n",
       "      <td>2020-10-21 12:35:04</td>\n",
       "      <td>3240</td>\n",
       "      <td>Mozilla/5.0 (Windows NT 10.0; Win64; x64) Appl...</td>\n",
       "      <td>15322ce85668435d1645f7cd9e7d2342af926ffa249ddc...</td>\n",
       "    </tr>\n",
       "    <tr>\n",
       "      <th>139566</th>\n",
       "      <td>30875a5011507a20ae8aa71801d6b15d82c3295ce601e1...</td>\n",
       "      <td>b29e413fe81689fc08c8f39293ff521ebdb33e941d95c9...</td>\n",
       "      <td>583</td>\n",
       "      <td>2020-10-21 12:05:14</td>\n",
       "      <td>2520</td>\n",
       "      <td>$%28PRODUCT_NAME%29/62 CFNetwork/1197 Darwin/2...</td>\n",
       "      <td>f610c90a7ef70a1a77d72859053bf2077eb9d59d71552b...</td>\n",
       "    </tr>\n",
       "    <tr>\n",
       "      <th>139567</th>\n",
       "      <td>89bb48176fb3a441f2d17add250af92254fdd224107ce0...</td>\n",
       "      <td>e5b6d4186bbcf2dc2c2fe51a2e05245d35bb0317316d53...</td>\n",
       "      <td>249</td>\n",
       "      <td>2020-10-21 11:46:11</td>\n",
       "      <td>5940</td>\n",
       "      <td>Mozilla/5.0 (Windows NT 10.0; Win64; x64; rv:8...</td>\n",
       "      <td>bac3b09f898da0ae545e411dfae5a16c6bef03894525e4...</td>\n",
       "    </tr>\n",
       "    <tr>\n",
       "      <th>139568</th>\n",
       "      <td>a8518065e312f61ebacd8554e7192ce35a450703307d9e...</td>\n",
       "      <td>515bcc582d06e25080a39a75d76317cbaf468bba7a2d72...</td>\n",
       "      <td>263</td>\n",
       "      <td>2020-10-21 11:18:58</td>\n",
       "      <td>12480</td>\n",
       "      <td>$%28PRODUCT_NAME%29/62 CFNetwork/1197 Darwin/2...</td>\n",
       "      <td>4791352045209ac737d660872d9ef2f67c6e16f386518c...</td>\n",
       "    </tr>\n",
       "  </tbody>\n",
       "</table>\n",
       "</div>"
      ],
      "text/plain": [
       "                                         subscription_key  \\\n",
       "139564  a65f6bc32daef67bffa2c9331e79996788f91d8fe38a4e...   \n",
       "139565  6a103d5d482c49e8e55cb81d6f75b1c580f6e312aca4e2...   \n",
       "139566  30875a5011507a20ae8aa71801d6b15d82c3295ce601e1...   \n",
       "139567  89bb48176fb3a441f2d17add250af92254fdd224107ce0...   \n",
       "139568  a8518065e312f61ebacd8554e7192ce35a450703307d9e...   \n",
       "\n",
       "                                              account_key  movie_id  \\\n",
       "139564  317d66bd448ae49f28467a40dfc3ff47503235a43fe507...       609   \n",
       "139565  7ecfed7a32f4770b9726f2d200a05a2fde094aab659382...       139   \n",
       "139566  b29e413fe81689fc08c8f39293ff521ebdb33e941d95c9...       583   \n",
       "139567  e5b6d4186bbcf2dc2c2fe51a2e05245d35bb0317316d53...       249   \n",
       "139568  515bcc582d06e25080a39a75d76317cbaf468bba7a2d72...       263   \n",
       "\n",
       "                 date_start  playback_time  \\\n",
       "139564  2020-10-21 13:21:30           1200   \n",
       "139565  2020-10-21 12:35:04           3240   \n",
       "139566  2020-10-21 12:05:14           2520   \n",
       "139567  2020-10-21 11:46:11           5940   \n",
       "139568  2020-10-21 11:18:58          12480   \n",
       "\n",
       "                                               user_agent  \\\n",
       "139564  Filmingo/1.1 (Linux;Android 10) ExoPlayerLib/2...   \n",
       "139565  Mozilla/5.0 (Windows NT 10.0; Win64; x64) Appl...   \n",
       "139566  $%28PRODUCT_NAME%29/62 CFNetwork/1197 Darwin/2...   \n",
       "139567  Mozilla/5.0 (Windows NT 10.0; Win64; x64; rv:8...   \n",
       "139568  $%28PRODUCT_NAME%29/62 CFNetwork/1197 Darwin/2...   \n",
       "\n",
       "                                                  ip_hash  \n",
       "139564  f690e176c05ff5f272735dbafa8a1013bd871c66e98165...  \n",
       "139565  15322ce85668435d1645f7cd9e7d2342af926ffa249ddc...  \n",
       "139566  f610c90a7ef70a1a77d72859053bf2077eb9d59d71552b...  \n",
       "139567  bac3b09f898da0ae545e411dfae5a16c6bef03894525e4...  \n",
       "139568  4791352045209ac737d660872d9ef2f67c6e16f386518c...  "
      ]
     },
     "metadata": {},
     "output_type": "display_data"
    }
   ],
   "source": [
    "# Read playbacks\n",
    "df_playbacks = pd.read_csv(playbacks)\n",
    "# make column names lowercase\n",
    "df_playbacks.columns = df_playbacks.columns.str.lower()\n",
    "display(df_playbacks.shape)\n",
    "display(df_playbacks.head())\n",
    "display(df_playbacks.tail())\n"
   ]
  },
  {
   "cell_type": "code",
   "execution_count": 15,
   "metadata": {},
   "outputs": [
    {
     "data": {
      "text/plain": [
       "subscription_key    0\n",
       "account_key         0\n",
       "movie_id            0\n",
       "date_start          0\n",
       "playback_time       0\n",
       "user_agent          0\n",
       "ip_hash             0\n",
       "dtype: int64"
      ]
     },
     "execution_count": 15,
     "metadata": {},
     "output_type": "execute_result"
    }
   ],
   "source": [
    "df_playbacks.isna().sum()"
   ]
  },
  {
   "cell_type": "code",
   "execution_count": 21,
   "metadata": {},
   "outputs": [
    {
     "data": {
      "text/plain": [
       "960"
      ]
     },
     "execution_count": 21,
     "metadata": {},
     "output_type": "execute_result"
    }
   ],
   "source": [
    "#min playback time\n",
    "df_playbacks.playback_time.min()"
   ]
  },
  {
   "cell_type": "code",
   "execution_count": 19,
   "metadata": {},
   "outputs": [
    {
     "data": {
      "text/plain": [
       "472920"
      ]
     },
     "execution_count": 19,
     "metadata": {},
     "output_type": "execute_result"
    }
   ],
   "source": [
    "#max playback time\n",
    "df_playbacks.playback_time.max()\n"
   ]
  },
  {
   "cell_type": "code",
   "execution_count": 20,
   "metadata": {},
   "outputs": [
    {
     "data": {
      "text/plain": [
       "6442.576789974851"
      ]
     },
     "execution_count": 20,
     "metadata": {},
     "output_type": "execute_result"
    }
   ],
   "source": [
    "#avg playback time\n",
    "df_playbacks.playback_time.mean()"
   ]
  },
  {
   "cell_type": "code",
   "execution_count": 17,
   "metadata": {},
   "outputs": [
    {
     "data": {
      "text/plain": [
       "1202"
      ]
     },
     "execution_count": 17,
     "metadata": {},
     "output_type": "execute_result"
    }
   ],
   "source": [
    "#nr of movies\n",
    "df_playbacks.movie_id.nunique()"
   ]
  },
  {
   "cell_type": "code",
   "execution_count": 32,
   "metadata": {},
   "outputs": [
    {
     "data": {
      "text/plain": [
       "playback_ID                  int64\n",
       "subscription_key            object\n",
       "account_key                 object\n",
       "movie_id                     int64\n",
       "date_start          datetime64[ns]\n",
       "playback_time                int64\n",
       "user_agent                  object\n",
       "ip_hash                     object\n",
       "dtype: object"
      ]
     },
     "execution_count": 32,
     "metadata": {},
     "output_type": "execute_result"
    }
   ],
   "source": [
    "df_playbacks.dtypes"
   ]
  },
  {
   "cell_type": "code",
   "execution_count": 27,
   "metadata": {},
   "outputs": [],
   "source": [
    "# changing datatype to datetime\n",
    "df_playbacks['date_start'] = pd.to_datetime(df_playbacks['date_start'])"
   ]
  },
  {
   "cell_type": "code",
   "execution_count": 29,
   "metadata": {},
   "outputs": [],
   "source": [
    "# adding playback_ID column and adding incremental nr as playback_ID to every row starting from 1, ascending\n",
    "# range([start, stop, step) \n",
    "df_playbacks.insert(0, 'playback_ID', range(1, 1 + len(df_playbacks)))"
   ]
  },
  {
   "cell_type": "code",
   "execution_count": null,
   "metadata": {},
   "outputs": [],
   "source": [
    "# adding playback_ID column and adding incremental nr as playback_ID to every row starting from 1, descending\n",
    "df_playbacks.insert(0, 'playback_ID', reversed(range(1, 1 + len(df_playbacks))))"
   ]
  },
  {
   "cell_type": "code",
   "execution_count": 33,
   "metadata": {},
   "outputs": [
    {
     "data": {
      "text/html": [
       "<div>\n",
       "<style scoped>\n",
       "    .dataframe tbody tr th:only-of-type {\n",
       "        vertical-align: middle;\n",
       "    }\n",
       "\n",
       "    .dataframe tbody tr th {\n",
       "        vertical-align: top;\n",
       "    }\n",
       "\n",
       "    .dataframe thead th {\n",
       "        text-align: right;\n",
       "    }\n",
       "</style>\n",
       "<table border=\"1\" class=\"dataframe\">\n",
       "  <thead>\n",
       "    <tr style=\"text-align: right;\">\n",
       "      <th></th>\n",
       "      <th>playback_ID</th>\n",
       "      <th>subscription_key</th>\n",
       "      <th>account_key</th>\n",
       "      <th>movie_id</th>\n",
       "      <th>date_start</th>\n",
       "      <th>playback_time</th>\n",
       "      <th>user_agent</th>\n",
       "      <th>ip_hash</th>\n",
       "    </tr>\n",
       "  </thead>\n",
       "  <tbody>\n",
       "    <tr>\n",
       "      <th>0</th>\n",
       "      <td>1</td>\n",
       "      <td>9679626b6cc1765f8bc8da98fda2d8e8f28f40736fd777...</td>\n",
       "      <td>024ebde74e23ca924cff0a3989e7f87efe2b2cbcd7ad2c...</td>\n",
       "      <td>1189</td>\n",
       "      <td>2022-09-30 23:55:31</td>\n",
       "      <td>12420</td>\n",
       "      <td>Mozilla/5.0 (Macintosh; Intel Mac OS X 10_15_7...</td>\n",
       "      <td>0b14aa31d5635ee899be928089fd810c655a7ec7785911...</td>\n",
       "    </tr>\n",
       "    <tr>\n",
       "      <th>1</th>\n",
       "      <td>2</td>\n",
       "      <td>513d006472c99ef047c64bafad57a39906ad5c618505b1...</td>\n",
       "      <td>8968e3851322a89c265a0ec4c81341361e3b0953502d65...</td>\n",
       "      <td>1327</td>\n",
       "      <td>2022-09-30 23:48:36</td>\n",
       "      <td>1440</td>\n",
       "      <td>Mozilla/5.0 (Macintosh; Intel Mac OS X 10_13_4...</td>\n",
       "      <td>c65100e7d48b9e06ca6d89ffe594066553ea63ddc70ee1...</td>\n",
       "    </tr>\n",
       "    <tr>\n",
       "      <th>2</th>\n",
       "      <td>3</td>\n",
       "      <td>cac0c77d3aedc55303b8dfea314052eba5dcf4817e4962...</td>\n",
       "      <td>8a2d7ac64595778ed5fe7edb2dd43f843f9879d773df1a...</td>\n",
       "      <td>212</td>\n",
       "      <td>2022-09-30 23:47:33</td>\n",
       "      <td>1080</td>\n",
       "      <td>Mozilla/5.0 (Windows NT 10.0; Win64; x64; rv:1...</td>\n",
       "      <td>db17d38bf724c377dcd463f7ad8df8279b6122c8890773...</td>\n",
       "    </tr>\n",
       "    <tr>\n",
       "      <th>3</th>\n",
       "      <td>4</td>\n",
       "      <td>a35503448084642ac8651a0f482db410ccdd7c7716df1d...</td>\n",
       "      <td>7f654ed491a8d1c5b6eb54ea98f6b30b0f9d9515aaad22...</td>\n",
       "      <td>108</td>\n",
       "      <td>2022-09-30 23:46:52</td>\n",
       "      <td>5400</td>\n",
       "      <td>Mozilla/5.0 (Windows NT 10.0; Win64; x64; rv:1...</td>\n",
       "      <td>69839531a94bf2468744c083a7bf4b78f39c8b1b299c34...</td>\n",
       "    </tr>\n",
       "    <tr>\n",
       "      <th>4</th>\n",
       "      <td>5</td>\n",
       "      <td>ff97a5e4ea0bb411f72e2e1750fb94b248ec2026406a3f...</td>\n",
       "      <td>6efdbec56858f25686797c974bfa67809a718408bd3631...</td>\n",
       "      <td>1314</td>\n",
       "      <td>2022-09-30 23:16:49</td>\n",
       "      <td>10380</td>\n",
       "      <td>filmingo v2.1 (83); iOS 15.6.1; iPad8,11</td>\n",
       "      <td>652d233c8526ebefb7a8e939ca546fe1a76498775b682a...</td>\n",
       "    </tr>\n",
       "  </tbody>\n",
       "</table>\n",
       "</div>"
      ],
      "text/plain": [
       "   playback_ID                                   subscription_key  \\\n",
       "0            1  9679626b6cc1765f8bc8da98fda2d8e8f28f40736fd777...   \n",
       "1            2  513d006472c99ef047c64bafad57a39906ad5c618505b1...   \n",
       "2            3  cac0c77d3aedc55303b8dfea314052eba5dcf4817e4962...   \n",
       "3            4  a35503448084642ac8651a0f482db410ccdd7c7716df1d...   \n",
       "4            5  ff97a5e4ea0bb411f72e2e1750fb94b248ec2026406a3f...   \n",
       "\n",
       "                                         account_key  movie_id  \\\n",
       "0  024ebde74e23ca924cff0a3989e7f87efe2b2cbcd7ad2c...      1189   \n",
       "1  8968e3851322a89c265a0ec4c81341361e3b0953502d65...      1327   \n",
       "2  8a2d7ac64595778ed5fe7edb2dd43f843f9879d773df1a...       212   \n",
       "3  7f654ed491a8d1c5b6eb54ea98f6b30b0f9d9515aaad22...       108   \n",
       "4  6efdbec56858f25686797c974bfa67809a718408bd3631...      1314   \n",
       "\n",
       "           date_start  playback_time  \\\n",
       "0 2022-09-30 23:55:31          12420   \n",
       "1 2022-09-30 23:48:36           1440   \n",
       "2 2022-09-30 23:47:33           1080   \n",
       "3 2022-09-30 23:46:52           5400   \n",
       "4 2022-09-30 23:16:49          10380   \n",
       "\n",
       "                                          user_agent  \\\n",
       "0  Mozilla/5.0 (Macintosh; Intel Mac OS X 10_15_7...   \n",
       "1  Mozilla/5.0 (Macintosh; Intel Mac OS X 10_13_4...   \n",
       "2  Mozilla/5.0 (Windows NT 10.0; Win64; x64; rv:1...   \n",
       "3  Mozilla/5.0 (Windows NT 10.0; Win64; x64; rv:1...   \n",
       "4           filmingo v2.1 (83); iOS 15.6.1; iPad8,11   \n",
       "\n",
       "                                             ip_hash  \n",
       "0  0b14aa31d5635ee899be928089fd810c655a7ec7785911...  \n",
       "1  c65100e7d48b9e06ca6d89ffe594066553ea63ddc70ee1...  \n",
       "2  db17d38bf724c377dcd463f7ad8df8279b6122c8890773...  \n",
       "3  69839531a94bf2468744c083a7bf4b78f39c8b1b299c34...  \n",
       "4  652d233c8526ebefb7a8e939ca546fe1a76498775b682a...  "
      ]
     },
     "metadata": {},
     "output_type": "display_data"
    },
    {
     "data": {
      "text/html": [
       "<div>\n",
       "<style scoped>\n",
       "    .dataframe tbody tr th:only-of-type {\n",
       "        vertical-align: middle;\n",
       "    }\n",
       "\n",
       "    .dataframe tbody tr th {\n",
       "        vertical-align: top;\n",
       "    }\n",
       "\n",
       "    .dataframe thead th {\n",
       "        text-align: right;\n",
       "    }\n",
       "</style>\n",
       "<table border=\"1\" class=\"dataframe\">\n",
       "  <thead>\n",
       "    <tr style=\"text-align: right;\">\n",
       "      <th></th>\n",
       "      <th>playback_ID</th>\n",
       "      <th>subscription_key</th>\n",
       "      <th>account_key</th>\n",
       "      <th>movie_id</th>\n",
       "      <th>date_start</th>\n",
       "      <th>playback_time</th>\n",
       "      <th>user_agent</th>\n",
       "      <th>ip_hash</th>\n",
       "    </tr>\n",
       "  </thead>\n",
       "  <tbody>\n",
       "    <tr>\n",
       "      <th>139564</th>\n",
       "      <td>139565</td>\n",
       "      <td>a65f6bc32daef67bffa2c9331e79996788f91d8fe38a4e...</td>\n",
       "      <td>317d66bd448ae49f28467a40dfc3ff47503235a43fe507...</td>\n",
       "      <td>609</td>\n",
       "      <td>2020-10-21 13:21:30</td>\n",
       "      <td>1200</td>\n",
       "      <td>Filmingo/1.1 (Linux;Android 10) ExoPlayerLib/2...</td>\n",
       "      <td>f690e176c05ff5f272735dbafa8a1013bd871c66e98165...</td>\n",
       "    </tr>\n",
       "    <tr>\n",
       "      <th>139565</th>\n",
       "      <td>139566</td>\n",
       "      <td>6a103d5d482c49e8e55cb81d6f75b1c580f6e312aca4e2...</td>\n",
       "      <td>7ecfed7a32f4770b9726f2d200a05a2fde094aab659382...</td>\n",
       "      <td>139</td>\n",
       "      <td>2020-10-21 12:35:04</td>\n",
       "      <td>3240</td>\n",
       "      <td>Mozilla/5.0 (Windows NT 10.0; Win64; x64) Appl...</td>\n",
       "      <td>15322ce85668435d1645f7cd9e7d2342af926ffa249ddc...</td>\n",
       "    </tr>\n",
       "    <tr>\n",
       "      <th>139566</th>\n",
       "      <td>139567</td>\n",
       "      <td>30875a5011507a20ae8aa71801d6b15d82c3295ce601e1...</td>\n",
       "      <td>b29e413fe81689fc08c8f39293ff521ebdb33e941d95c9...</td>\n",
       "      <td>583</td>\n",
       "      <td>2020-10-21 12:05:14</td>\n",
       "      <td>2520</td>\n",
       "      <td>$%28PRODUCT_NAME%29/62 CFNetwork/1197 Darwin/2...</td>\n",
       "      <td>f610c90a7ef70a1a77d72859053bf2077eb9d59d71552b...</td>\n",
       "    </tr>\n",
       "    <tr>\n",
       "      <th>139567</th>\n",
       "      <td>139568</td>\n",
       "      <td>89bb48176fb3a441f2d17add250af92254fdd224107ce0...</td>\n",
       "      <td>e5b6d4186bbcf2dc2c2fe51a2e05245d35bb0317316d53...</td>\n",
       "      <td>249</td>\n",
       "      <td>2020-10-21 11:46:11</td>\n",
       "      <td>5940</td>\n",
       "      <td>Mozilla/5.0 (Windows NT 10.0; Win64; x64; rv:8...</td>\n",
       "      <td>bac3b09f898da0ae545e411dfae5a16c6bef03894525e4...</td>\n",
       "    </tr>\n",
       "    <tr>\n",
       "      <th>139568</th>\n",
       "      <td>139569</td>\n",
       "      <td>a8518065e312f61ebacd8554e7192ce35a450703307d9e...</td>\n",
       "      <td>515bcc582d06e25080a39a75d76317cbaf468bba7a2d72...</td>\n",
       "      <td>263</td>\n",
       "      <td>2020-10-21 11:18:58</td>\n",
       "      <td>12480</td>\n",
       "      <td>$%28PRODUCT_NAME%29/62 CFNetwork/1197 Darwin/2...</td>\n",
       "      <td>4791352045209ac737d660872d9ef2f67c6e16f386518c...</td>\n",
       "    </tr>\n",
       "  </tbody>\n",
       "</table>\n",
       "</div>"
      ],
      "text/plain": [
       "        playback_ID                                   subscription_key  \\\n",
       "139564       139565  a65f6bc32daef67bffa2c9331e79996788f91d8fe38a4e...   \n",
       "139565       139566  6a103d5d482c49e8e55cb81d6f75b1c580f6e312aca4e2...   \n",
       "139566       139567  30875a5011507a20ae8aa71801d6b15d82c3295ce601e1...   \n",
       "139567       139568  89bb48176fb3a441f2d17add250af92254fdd224107ce0...   \n",
       "139568       139569  a8518065e312f61ebacd8554e7192ce35a450703307d9e...   \n",
       "\n",
       "                                              account_key  movie_id  \\\n",
       "139564  317d66bd448ae49f28467a40dfc3ff47503235a43fe507...       609   \n",
       "139565  7ecfed7a32f4770b9726f2d200a05a2fde094aab659382...       139   \n",
       "139566  b29e413fe81689fc08c8f39293ff521ebdb33e941d95c9...       583   \n",
       "139567  e5b6d4186bbcf2dc2c2fe51a2e05245d35bb0317316d53...       249   \n",
       "139568  515bcc582d06e25080a39a75d76317cbaf468bba7a2d72...       263   \n",
       "\n",
       "                date_start  playback_time  \\\n",
       "139564 2020-10-21 13:21:30           1200   \n",
       "139565 2020-10-21 12:35:04           3240   \n",
       "139566 2020-10-21 12:05:14           2520   \n",
       "139567 2020-10-21 11:46:11           5940   \n",
       "139568 2020-10-21 11:18:58          12480   \n",
       "\n",
       "                                               user_agent  \\\n",
       "139564  Filmingo/1.1 (Linux;Android 10) ExoPlayerLib/2...   \n",
       "139565  Mozilla/5.0 (Windows NT 10.0; Win64; x64) Appl...   \n",
       "139566  $%28PRODUCT_NAME%29/62 CFNetwork/1197 Darwin/2...   \n",
       "139567  Mozilla/5.0 (Windows NT 10.0; Win64; x64; rv:8...   \n",
       "139568  $%28PRODUCT_NAME%29/62 CFNetwork/1197 Darwin/2...   \n",
       "\n",
       "                                                  ip_hash  \n",
       "139564  f690e176c05ff5f272735dbafa8a1013bd871c66e98165...  \n",
       "139565  15322ce85668435d1645f7cd9e7d2342af926ffa249ddc...  \n",
       "139566  f610c90a7ef70a1a77d72859053bf2077eb9d59d71552b...  \n",
       "139567  bac3b09f898da0ae545e411dfae5a16c6bef03894525e4...  \n",
       "139568  4791352045209ac737d660872d9ef2f67c6e16f386518c...  "
      ]
     },
     "metadata": {},
     "output_type": "display_data"
    }
   ],
   "source": [
    "display(df_playbacks.head())\n",
    "display(df_playbacks.tail())"
   ]
  },
  {
   "cell_type": "code",
   "execution_count": 35,
   "metadata": {},
   "outputs": [
    {
     "data": {
      "text/plain": [
       "Mozilla/5.0 (Macintosh; Intel Mac OS X 10_13_6) AppleWebKit/605.1.15 (KHTML, like Gecko) Version/13.1.2 Safari/605.1.15                       3861\n",
       "Mozilla/5.0 (Macintosh; Intel Mac OS X 10_15_6) AppleWebKit/605.1.15 (KHTML, like Gecko) Version/14.0.3 Safari/605.1.15                       2538\n",
       "$%28PRODUCT_NAME%29/62 CFNetwork/1220.1 Darwin/20.3.0                                                                                         2001\n",
       "Mozilla/5.0 (Macintosh; Intel Mac OS X 10.11; rv:78.0) Gecko/20100101 Firefox/78.0                                                            1646\n",
       "Mozilla/5.0 (Macintosh; Intel Mac OS X 10_15_7) AppleWebKit/605.1.15 (KHTML, like Gecko) Version/14.1.2 Safari/605.1.15                       1438\n",
       "                                                                                                                                              ... \n",
       "Mozilla/5.0 (Macintosh; Intel Mac OS X 11_1_0) AppleWebKit/537.36 (KHTML, like Gecko) Chrome/89.0.4389.114 Safari/537.36 OPR/75.0.3969.171       1\n",
       "Mozilla/5.0 (Linux; Android 11; SM-G398FN) AppleWebKit/537.36 (KHTML, like Gecko) Chrome/97.0.4692.87 Mobile Safari/537.36                       1\n",
       "filmingo v2.1 (83); iOS 15.2; iPad11,6                                                                                                           1\n",
       "Mozilla/5.0 (iPad; CPU OS 15_2 like Mac OS X) AppleWebKit/605.1.15 (KHTML, like Gecko) GSA/194.0.419363360 Mobile/15E148 Safari/604.1            1\n",
       "Mozilla/5.0 (Macintosh; Intel Mac OS X 10_15_3) AppleWebKit/537.36 (KHTML, like Gecko) Chrome/86.0.4240.80 Safari/537.36                         1\n",
       "Name: user_agent, Length: 5387, dtype: int64"
      ]
     },
     "execution_count": 35,
     "metadata": {},
     "output_type": "execute_result"
    }
   ],
   "source": [
    "df_playbacks['user_agent'].value_counts()\n"
   ]
  }
 ],
 "metadata": {
  "kernelspec": {
   "display_name": "Python 3.9.13 ('nf_base')",
   "language": "python",
   "name": "python3"
  },
  "language_info": {
   "codemirror_mode": {
    "name": "ipython",
    "version": 3
   },
   "file_extension": ".py",
   "mimetype": "text/x-python",
   "name": "python",
   "nbconvert_exporter": "python",
   "pygments_lexer": "ipython3",
   "version": "3.9.13"
  },
  "orig_nbformat": 4,
  "vscode": {
   "interpreter": {
    "hash": "ab3d85a18739f6fff6a9c8c504adc2ff9340867b576dede986e2ee74c099e4e5"
   }
  }
 },
 "nbformat": 4,
 "nbformat_minor": 2
}
