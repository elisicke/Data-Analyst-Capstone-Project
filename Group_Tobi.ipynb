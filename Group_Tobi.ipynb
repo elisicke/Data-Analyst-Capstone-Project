{
 "cells": [
  {
   "cell_type": "code",
   "execution_count": 12,
   "metadata": {},
   "outputs": [],
   "source": [
    "import pandas as pd\n",
    "import numpy as np\n"
   ]
  },
  {
   "cell_type": "code",
   "execution_count": 13,
   "metadata": {},
   "outputs": [],
   "source": [
    "# define the name of the csv file you want to read in\n",
    "accounts = './data/accounts.csv'\n",
    "playbacks = './data/playbacks.csv'\n",
    "subscriptions = './data/subscriptions.csv'"
   ]
  },
  {
   "cell_type": "markdown",
   "metadata": {},
   "source": [
    "# PLAYBACKS"
   ]
  },
  {
   "cell_type": "code",
   "execution_count": 14,
   "metadata": {},
   "outputs": [
    {
     "data": {
      "text/plain": [
       "(139569, 7)"
      ]
     },
     "metadata": {},
     "output_type": "display_data"
    },
    {
     "data": {
      "text/html": [
       "<div>\n",
       "<style scoped>\n",
       "    .dataframe tbody tr th:only-of-type {\n",
       "        vertical-align: middle;\n",
       "    }\n",
       "\n",
       "    .dataframe tbody tr th {\n",
       "        vertical-align: top;\n",
       "    }\n",
       "\n",
       "    .dataframe thead th {\n",
       "        text-align: right;\n",
       "    }\n",
       "</style>\n",
       "<table border=\"1\" class=\"dataframe\">\n",
       "  <thead>\n",
       "    <tr style=\"text-align: right;\">\n",
       "      <th></th>\n",
       "      <th>subscription_key</th>\n",
       "      <th>account_key</th>\n",
       "      <th>movie_id</th>\n",
       "      <th>date_start</th>\n",
       "      <th>playback_time</th>\n",
       "      <th>user_agent</th>\n",
       "      <th>ip_hash</th>\n",
       "    </tr>\n",
       "  </thead>\n",
       "  <tbody>\n",
       "    <tr>\n",
       "      <th>0</th>\n",
       "      <td>9679626b6cc1765f8bc8da98fda2d8e8f28f40736fd777...</td>\n",
       "      <td>024ebde74e23ca924cff0a3989e7f87efe2b2cbcd7ad2c...</td>\n",
       "      <td>1189</td>\n",
       "      <td>2022-09-30 23:55:31</td>\n",
       "      <td>12420</td>\n",
       "      <td>Mozilla/5.0 (Macintosh; Intel Mac OS X 10_15_7...</td>\n",
       "      <td>0b14aa31d5635ee899be928089fd810c655a7ec7785911...</td>\n",
       "    </tr>\n",
       "    <tr>\n",
       "      <th>1</th>\n",
       "      <td>513d006472c99ef047c64bafad57a39906ad5c618505b1...</td>\n",
       "      <td>8968e3851322a89c265a0ec4c81341361e3b0953502d65...</td>\n",
       "      <td>1327</td>\n",
       "      <td>2022-09-30 23:48:36</td>\n",
       "      <td>1440</td>\n",
       "      <td>Mozilla/5.0 (Macintosh; Intel Mac OS X 10_13_4...</td>\n",
       "      <td>c65100e7d48b9e06ca6d89ffe594066553ea63ddc70ee1...</td>\n",
       "    </tr>\n",
       "    <tr>\n",
       "      <th>2</th>\n",
       "      <td>cac0c77d3aedc55303b8dfea314052eba5dcf4817e4962...</td>\n",
       "      <td>8a2d7ac64595778ed5fe7edb2dd43f843f9879d773df1a...</td>\n",
       "      <td>212</td>\n",
       "      <td>2022-09-30 23:47:33</td>\n",
       "      <td>1080</td>\n",
       "      <td>Mozilla/5.0 (Windows NT 10.0; Win64; x64; rv:1...</td>\n",
       "      <td>db17d38bf724c377dcd463f7ad8df8279b6122c8890773...</td>\n",
       "    </tr>\n",
       "    <tr>\n",
       "      <th>3</th>\n",
       "      <td>a35503448084642ac8651a0f482db410ccdd7c7716df1d...</td>\n",
       "      <td>7f654ed491a8d1c5b6eb54ea98f6b30b0f9d9515aaad22...</td>\n",
       "      <td>108</td>\n",
       "      <td>2022-09-30 23:46:52</td>\n",
       "      <td>5400</td>\n",
       "      <td>Mozilla/5.0 (Windows NT 10.0; Win64; x64; rv:1...</td>\n",
       "      <td>69839531a94bf2468744c083a7bf4b78f39c8b1b299c34...</td>\n",
       "    </tr>\n",
       "    <tr>\n",
       "      <th>4</th>\n",
       "      <td>ff97a5e4ea0bb411f72e2e1750fb94b248ec2026406a3f...</td>\n",
       "      <td>6efdbec56858f25686797c974bfa67809a718408bd3631...</td>\n",
       "      <td>1314</td>\n",
       "      <td>2022-09-30 23:16:49</td>\n",
       "      <td>10380</td>\n",
       "      <td>filmingo v2.1 (83); iOS 15.6.1; iPad8,11</td>\n",
       "      <td>652d233c8526ebefb7a8e939ca546fe1a76498775b682a...</td>\n",
       "    </tr>\n",
       "  </tbody>\n",
       "</table>\n",
       "</div>"
      ],
      "text/plain": [
       "                                    subscription_key  \\\n",
       "0  9679626b6cc1765f8bc8da98fda2d8e8f28f40736fd777...   \n",
       "1  513d006472c99ef047c64bafad57a39906ad5c618505b1...   \n",
       "2  cac0c77d3aedc55303b8dfea314052eba5dcf4817e4962...   \n",
       "3  a35503448084642ac8651a0f482db410ccdd7c7716df1d...   \n",
       "4  ff97a5e4ea0bb411f72e2e1750fb94b248ec2026406a3f...   \n",
       "\n",
       "                                         account_key  movie_id  \\\n",
       "0  024ebde74e23ca924cff0a3989e7f87efe2b2cbcd7ad2c...      1189   \n",
       "1  8968e3851322a89c265a0ec4c81341361e3b0953502d65...      1327   \n",
       "2  8a2d7ac64595778ed5fe7edb2dd43f843f9879d773df1a...       212   \n",
       "3  7f654ed491a8d1c5b6eb54ea98f6b30b0f9d9515aaad22...       108   \n",
       "4  6efdbec56858f25686797c974bfa67809a718408bd3631...      1314   \n",
       "\n",
       "            date_start  playback_time  \\\n",
       "0  2022-09-30 23:55:31          12420   \n",
       "1  2022-09-30 23:48:36           1440   \n",
       "2  2022-09-30 23:47:33           1080   \n",
       "3  2022-09-30 23:46:52           5400   \n",
       "4  2022-09-30 23:16:49          10380   \n",
       "\n",
       "                                          user_agent  \\\n",
       "0  Mozilla/5.0 (Macintosh; Intel Mac OS X 10_15_7...   \n",
       "1  Mozilla/5.0 (Macintosh; Intel Mac OS X 10_13_4...   \n",
       "2  Mozilla/5.0 (Windows NT 10.0; Win64; x64; rv:1...   \n",
       "3  Mozilla/5.0 (Windows NT 10.0; Win64; x64; rv:1...   \n",
       "4           filmingo v2.1 (83); iOS 15.6.1; iPad8,11   \n",
       "\n",
       "                                             ip_hash  \n",
       "0  0b14aa31d5635ee899be928089fd810c655a7ec7785911...  \n",
       "1  c65100e7d48b9e06ca6d89ffe594066553ea63ddc70ee1...  \n",
       "2  db17d38bf724c377dcd463f7ad8df8279b6122c8890773...  \n",
       "3  69839531a94bf2468744c083a7bf4b78f39c8b1b299c34...  \n",
       "4  652d233c8526ebefb7a8e939ca546fe1a76498775b682a...  "
      ]
     },
     "metadata": {},
     "output_type": "display_data"
    }
   ],
   "source": [
    "# Read playbacks\n",
    "df_playbacks = pd.read_csv(playbacks)\n",
    "df_playbacks.columns = df_playbacks.columns.str.lower()\n",
    "display(df_playbacks.shape)\n",
    "display(df_playbacks.head())\n",
    "# one account can have multiple subscriptions\n",
    "# what about pausing the movie\n",
    "# IP + User_Agent-> check for multiple persons per subscriptions\n",
    "    # IP/Account\n",
    "# average playback duration\n",
    "# cancelled session?"
   ]
  },
  {
   "cell_type": "code",
   "execution_count": 15,
   "metadata": {},
   "outputs": [
    {
     "data": {
      "text/plain": [
       "subscription_key    0\n",
       "account_key         0\n",
       "movie_id            0\n",
       "date_start          0\n",
       "playback_time       0\n",
       "user_agent          0\n",
       "ip_hash             0\n",
       "dtype: int64"
      ]
     },
     "execution_count": 15,
     "metadata": {},
     "output_type": "execute_result"
    }
   ],
   "source": [
    "df_playbacks.isna().sum()"
   ]
  },
  {
   "cell_type": "code",
   "execution_count": 19,
   "metadata": {},
   "outputs": [
    {
     "data": {
      "text/plain": [
       "472920"
      ]
     },
     "execution_count": 19,
     "metadata": {},
     "output_type": "execute_result"
    }
   ],
   "source": [
    "#max playback time\n",
    "df_playbacks.playback_time.max()\n"
   ]
  },
  {
   "cell_type": "code",
   "execution_count": 17,
   "metadata": {},
   "outputs": [
    {
     "data": {
      "text/plain": [
       "1202"
      ]
     },
     "execution_count": 17,
     "metadata": {},
     "output_type": "execute_result"
    }
   ],
   "source": [
    "#nr of movies\n",
    "df_playbacks.movie_id.nunique()"
   ]
  },
  {
   "cell_type": "code",
   "execution_count": 18,
   "metadata": {},
   "outputs": [
    {
     "data": {
      "text/plain": [
       "Mozilla/5.0 (Linux; Android 10; ELS-NX9; HMSCore 5.2.0.324) AppleWebKit/537.36 (KHTML, like Gecko) Chrome/83.0.4103.106 HuaweiBrowser/11.0.6.305 Mobile Safari/537.36    1\n",
       "Mozilla/5.0 (Linux; Android 10; CLT-L29) AppleWebKit/537.36 (KHTML, like Gecko) Chrome/90.0.4430.82 Mobile Safari/537.36                                                 1\n",
       "Mozilla/5.0 (Linux; Android 9; SM-T820) AppleWebKit/537.36 (KHTML, like Gecko) Chrome/90.0.4430.82 Safari/537.36                                                         1\n",
       "Mozilla/5.0 (Macintosh; Intel Mac OS X 10_15_3) AppleWebKit/537.36 (KHTML, like Gecko) Chrome/89.0.4389.128 Safari/537.36                                                1\n",
       "Mozilla/5.0 (Linux; Android 10; SM-T720) AppleWebKit/537.36 (KHTML, like Gecko) Chrome/90.0.4430.82 Safari/537.36                                                        1\n",
       "Mozilla/5.0 (Linux; Android 5.1.1) AppleWebKit/537.36 (KHTML, like Gecko) Version/4.0 Focus/4.8 Chrome/87.0.4280.101 Mobile Safari/537.36                                1\n",
       "Mozilla/5.0 (Linux; Android 10; FP3) AppleWebKit/537.36 (KHTML, like Gecko) Chrome/89.0.4389.105 Mobile Safari/537.36                                                    1\n",
       "Mozilla/5.0 (Linux; Android 9; SHT-W09) AppleWebKit/537.36 (KHTML, like Gecko) Chrome/90.0.4430.82 Mobile Safari/537.36                                                  1\n",
       "filmingo v2.1 (83); iOS 15.0; iPad12,1                                                                                                                                   1\n",
       "Mozilla/5.0 (Linux; Android 7.1.2; AFTMM) AppleWebKit/537.36 (KHTML, like Gecko) Silk/94.4.4 like Chrome/94.0.4606.128 Safari/537.36                                     1\n",
       "Mozilla/5.0 (iPhone; CPU iPhone OS 15_1 like Mac OS X) AppleWebKit/605.1.15 (KHTML, like Gecko) Mobile/15E148 Safari/605.1.15                                            1\n",
       "Filmingo/1.1 (Linux;Android 10) ExoPlayerLib/2.11.3 samsung/SM-T290                                                                                                      1\n",
       "Mozilla/5.0 (X11; Linux x86_64) AppleWebKit/537.36 (KHTML, like Gecko) Chrome/90.0.4430.82 Safari/537.36                                                                 1\n",
       "Mozilla/5.0 (Windows NT 6.1; rv:87.0) Gecko/20100101 Firefox/87.0                                                                                                        1\n",
       "Filmingo/1.2 (Linux;Android 8.0.0) ExoPlayerLib/2.11.3 samsung/SM-G935F                                                                                                  1\n",
       "Mozilla/5.0 (Macintosh; Intel Mac OS X 11_1_0) AppleWebKit/537.36 (KHTML, like Gecko) Chrome/89.0.4389.114 Safari/537.36 OPR/75.0.3969.171                               1\n",
       "Mozilla/5.0 (Linux; Android 11; SM-G398FN) AppleWebKit/537.36 (KHTML, like Gecko) Chrome/97.0.4692.87 Mobile Safari/537.36                                               1\n",
       "filmingo v2.1 (83); iOS 15.2; iPad11,6                                                                                                                                   1\n",
       "Mozilla/5.0 (iPad; CPU OS 15_2 like Mac OS X) AppleWebKit/605.1.15 (KHTML, like Gecko) GSA/194.0.419363360 Mobile/15E148 Safari/604.1                                    1\n",
       "Mozilla/5.0 (Macintosh; Intel Mac OS X 10_15_3) AppleWebKit/537.36 (KHTML, like Gecko) Chrome/86.0.4240.80 Safari/537.36                                                 1\n",
       "Name: user_agent, dtype: int64"
      ]
     },
     "execution_count": 18,
     "metadata": {},
     "output_type": "execute_result"
    }
   ],
   "source": [
    "df_playbacks['user_agent'].value_counts().tail(20)\n"
   ]
  }
 ],
 "metadata": {
  "kernelspec": {
   "display_name": "Python 3.9.13 ('nf_base')",
   "language": "python",
   "name": "python3"
  },
  "language_info": {
   "codemirror_mode": {
    "name": "ipython",
    "version": 3
   },
   "file_extension": ".py",
   "mimetype": "text/x-python",
   "name": "python",
   "nbconvert_exporter": "python",
   "pygments_lexer": "ipython3",
   "version": "3.9.13"
  },
  "orig_nbformat": 4,
  "vscode": {
   "interpreter": {
    "hash": "ab3d85a18739f6fff6a9c8c504adc2ff9340867b576dede986e2ee74c099e4e5"
   }
  }
 },
 "nbformat": 4,
 "nbformat_minor": 2
}
